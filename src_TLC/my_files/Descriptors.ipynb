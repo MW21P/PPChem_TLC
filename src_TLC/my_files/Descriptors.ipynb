{
 "cells": [
  {
   "cell_type": "code",
   "execution_count": 4,
   "metadata": {},
   "outputs": [],
   "source": [
    "from rdkit import Chem\n",
    "from rdkit.Chem import Fragments\n",
    "from rdkit.Chem import Draw\n",
    "import pandas as pd"
   ]
  },
  {
   "cell_type": "markdown",
   "metadata": {},
   "source": [
    "The descriptors should describe the molecuel as good as possible. Because we are looking for the Rf value of a compound in a certain solvent ration it seems rational to finde descriptors which are related to solubility and polarity of a molecuel. \n",
    "The overall polarity depends on the polarity of singel functional groups but also on the symmtery of a molecuel. As a start the number of some polarity influenzing functional groups seems like a good descriptor."
   ]
  },
  {
   "cell_type": "code",
   "execution_count": 8,
   "metadata": {},
   "outputs": [],
   "source": [
    "\n",
    "def polar_groups(Dataframe: pd.DataFrame):\n",
    "\n",
    "    # isocyanates\n",
    "    Dataframe['Isocyanates'] = Dataframe['productSmiles'].apply(lambda x: Chem.Fragments.fr_isocyanate(Chem.MolFromSmiles(x)))\n",
    "    # sulfones\n",
    "    Dataframe['Sulfones'] = Dataframe['productSmiles'].apply(lambda x: Chem.Fragments.fr_sulfone(Chem.MolFromSmiles(x)))\n",
    "    # nitriles\n",
    "    Dataframe['Nitriles'] = Dataframe['productSmiles'].apply(lambda x: Chem.Fragments.fr_nitrile(Chem.MolFromSmiles(x)))\n",
    "    # nitro groups\n",
    "    Dataframe['Isocyanates'] = Dataframe['productSmiles'].apply(lambda x: Chem.Fragments.fr_nitro(Chem.MolFromSmiles(x))) \n",
    "    # halogens\n",
    "    Dataframe['Halogens'] = Dataframe['productSmiles'].apply(lambda x: Chem.Fragments.fr_halogen(Chem.MolFromSmiles(x)))\n",
    "    # amides\n",
    "    Dataframe['Amides'] = Dataframe['productSmiles'].apply(lambda x: Chem.Fragments.fr_amide(Chem.MolFromSmiles(x))) \n",
    "\n",
    "    return Dataframe"
   ]
  },
  {
   "cell_type": "code",
   "execution_count": 11,
   "metadata": {},
   "outputs": [],
   "source": [
    "def low_polar_groups(Dataframe: pd.DataFrame):\n",
    "\n",
    "    # hydroxyl groups\n",
    "    Dataframe['Halogens'] = Dataframe['productSmiles'].apply(lambda x: Chem.Fragments.fr_OH(Chem.MolFromSmiles(x)))\n",
    "    # carboxylic acids\n",
    "    Dataframe['Carboxylic_acids'] = Dataframe['productSmiles'].apply(lambda x: Chem.Fragments.fr_COO2(Chem.MolFromSmiles(x)))\n",
    "    # thiols\n",
    "    Dataframe['Thiols'] = Dataframe['productSmiles'].apply(lambda x: Chem.Fragments.fr_SH(Chem.MolFromSmiles(x)))\n",
    "    # aldehydes\n",
    "    Dataframe['Aldehydes'] = Dataframe['productSmiles'].apply(lambda x: Chem.Fragments.fr_aldehyde(Chem.MolFromSmiles(x)))\n",
    "    # ketones\n",
    "    Dataframe['Ketones'] = Dataframe['productSmiles'].apply(lambda x: Chem.Fragments.fr_ketone(Chem.MolFromSmiles(x)))\n",
    "    # esters\n",
    "    Dataframe['Esters'] = Dataframe['productSmiles'].apply(lambda x: Chem.Fragments.fr_ester(Chem.MolFromSmiles(x)))\n",
    "    # secondary amines\n",
    "    Dataframe['Secondary_amines'] = Dataframe['productSmiles'].apply(lambda x: Chem.Fragments.fr_NH2(Chem.MolFromSmiles(x))) \n",
    "    # primary amines\n",
    "    Dataframe['Primary_amines'] = Dataframe['productSmiles'].apply(lambda x: Chem.Fragments.fr_NH1(Chem.MolFromSmiles(x))) \n",
    "\n",
    "    return Dataframe"
   ]
  },
  {
   "cell_type": "code",
   "execution_count": 12,
   "metadata": {},
   "outputs": [],
   "source": [
    "def unpolar_groups(Dataframe: pd.DataFrame):\n",
    "\n",
    "    # unbranched alkanes\n",
    "    Dataframe['Unbranched_alkanes'] = Dataframe['productSmiles'].apply(lambda x: Chem.Fragments.fr_unbrch_alkane(Chem.MolFromSmiles(x)))\n",
    "    # benzenes\n",
    "    Dataframe['Benzenes'] = Dataframe['productSmiles'].apply(lambda x: Chem.Fragments.fr_benzene(Chem.MolFromSmiles(x)))\n",
    "    # ethers\n",
    "    Dataframe['Ethers'] = Dataframe['productSmiles'].apply(lambda x: Chem.Fragments.fr_ether(Chem.MolFromSmiles(x)))\n",
    "    # tertiary amines\n",
    "    Dataframe['Tertiary_amines'] = Dataframe['productSmiles'].apply(lambda x: Chem.Fragments.fr_NH0(Chem.MolFromSmiles(x))) \n",
    "    # imines\n",
    "    Dataframe['Imines'] = Dataframe['productSmiles'].apply(lambda x: Chem.Fragments.fr_imine(Chem.MolFromSmiles(x)))\n",
    "\n",
    "    return Dataframe \n"
   ]
  },
  {
   "cell_type": "markdown",
   "metadata": {},
   "source": [
    "Moreover it is possible to use some predicted physical data like logP or the "
   ]
  },
  {
   "cell_type": "code",
   "execution_count": null,
   "metadata": {},
   "outputs": [],
   "source": [
    "Moreover it is "
   ]
  }
 ],
 "metadata": {
  "kernelspec": {
   "display_name": "ppchem_project",
   "language": "python",
   "name": "python3"
  },
  "language_info": {
   "codemirror_mode": {
    "name": "ipython",
    "version": 3
   },
   "file_extension": ".py",
   "mimetype": "text/x-python",
   "name": "python",
   "nbconvert_exporter": "python",
   "pygments_lexer": "ipython3",
   "version": "3.10.13"
  }
 },
 "nbformat": 4,
 "nbformat_minor": 2
}
