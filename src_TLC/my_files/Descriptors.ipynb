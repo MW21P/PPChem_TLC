{
 "cells": [
  {
   "cell_type": "code",
   "execution_count": 11,
   "metadata": {},
   "outputs": [],
   "source": [
    "from rdkit import Chem\n",
    "from rdkit.Chem import Fragments\n",
    "from rdkit.Chem import Draw\n",
    "from rdkit.Chem import Descriptors\n",
    "import pandas as pd"
   ]
  },
  {
   "cell_type": "markdown",
   "metadata": {},
   "source": [
    "The descriptors should describe the molecuel as good as possible. Because we are looking for the Rf value of a compound in a certain solvent ration it seems rational to finde descriptors which are related to solubility and polarity of a molecuel. \n",
    "The overall polarity depends on the polarity of singel functional groups but also on the symmtery of a molecuel. As a start the number of some polarity influenzing functional groups seems like a good descriptor."
   ]
  },
  {
   "cell_type": "code",
   "execution_count": 3,
   "metadata": {},
   "outputs": [],
   "source": [
    "\n",
    "def polar_groups(Dataframe: pd.DataFrame):\n",
    "\n",
    "    # isocyanates\n",
    "    Dataframe['Isocyanates'] = Dataframe['productSmiles'].apply(lambda x: Chem.Fragments.fr_isocyanate(Chem.MolFromSmiles(x)))\n",
    "    # sulfones\n",
    "    Dataframe['Sulfones'] = Dataframe['productSmiles'].apply(lambda x: Chem.Fragments.fr_sulfone(Chem.MolFromSmiles(x)))\n",
    "    # nitriles\n",
    "    Dataframe['Nitriles'] = Dataframe['productSmiles'].apply(lambda x: Chem.Fragments.fr_nitrile(Chem.MolFromSmiles(x)))\n",
    "    # nitro groups\n",
    "    Dataframe['Isocyanates'] = Dataframe['productSmiles'].apply(lambda x: Chem.Fragments.fr_nitro(Chem.MolFromSmiles(x))) \n",
    "    # halogens\n",
    "    Dataframe['Halogens'] = Dataframe['productSmiles'].apply(lambda x: Chem.Fragments.fr_halogen(Chem.MolFromSmiles(x)))\n",
    "    # amides\n",
    "    Dataframe['Amides'] = Dataframe['productSmiles'].apply(lambda x: Chem.Fragments.fr_amide(Chem.MolFromSmiles(x))) \n",
    "\n",
    "    return Dataframe"
   ]
  },
  {
   "cell_type": "code",
   "execution_count": 4,
   "metadata": {},
   "outputs": [],
   "source": [
    "def low_polar_groups(Dataframe: pd.DataFrame):\n",
    "\n",
    "    # hydroxyl groups\n",
    "    Dataframe['Halogens'] = Dataframe['productSmiles'].apply(lambda x: Chem.Fragments.fr_OH(Chem.MolFromSmiles(x)))\n",
    "    # carboxylic acids\n",
    "    Dataframe['Carboxylic_acids'] = Dataframe['productSmiles'].apply(lambda x: Chem.Fragments.fr_COO2(Chem.MolFromSmiles(x)))\n",
    "    # thiols\n",
    "    Dataframe['Thiols'] = Dataframe['productSmiles'].apply(lambda x: Chem.Fragments.fr_SH(Chem.MolFromSmiles(x)))\n",
    "    # aldehydes\n",
    "    Dataframe['Aldehydes'] = Dataframe['productSmiles'].apply(lambda x: Chem.Fragments.fr_aldehyde(Chem.MolFromSmiles(x)))\n",
    "    # ketones\n",
    "    Dataframe['Ketones'] = Dataframe['productSmiles'].apply(lambda x: Chem.Fragments.fr_ketone(Chem.MolFromSmiles(x)))\n",
    "    # esters\n",
    "    Dataframe['Esters'] = Dataframe['productSmiles'].apply(lambda x: Chem.Fragments.fr_ester(Chem.MolFromSmiles(x)))\n",
    "    # secondary amines\n",
    "    Dataframe['Secondary_amines'] = Dataframe['productSmiles'].apply(lambda x: Chem.Fragments.fr_NH2(Chem.MolFromSmiles(x))) \n",
    "    # primary amines\n",
    "    Dataframe['Primary_amines'] = Dataframe['productSmiles'].apply(lambda x: Chem.Fragments.fr_NH1(Chem.MolFromSmiles(x))) \n",
    "\n",
    "    return Dataframe"
   ]
  },
  {
   "cell_type": "code",
   "execution_count": 5,
   "metadata": {},
   "outputs": [],
   "source": [
    "def unpolar_groups(Dataframe: pd.DataFrame):\n",
    "\n",
    "    # unbranched alkanes\n",
    "    Dataframe['Unbranched_alkanes'] = Dataframe['productSmiles'].apply(lambda x: Chem.Fragments.fr_unbrch_alkane(Chem.MolFromSmiles(x)))\n",
    "    # benzenes\n",
    "    Dataframe['Benzenes'] = Dataframe['productSmiles'].apply(lambda x: Chem.Fragments.fr_benzene(Chem.MolFromSmiles(x)))\n",
    "    # ethers\n",
    "    Dataframe['Ethers'] = Dataframe['productSmiles'].apply(lambda x: Chem.Fragments.fr_ether(Chem.MolFromSmiles(x)))\n",
    "    # tertiary amines\n",
    "    Dataframe['Tertiary_amines'] = Dataframe['productSmiles'].apply(lambda x: Chem.Fragments.fr_NH0(Chem.MolFromSmiles(x))) \n",
    "    # imines\n",
    "    Dataframe['Imines'] = Dataframe['productSmiles'].apply(lambda x: Chem.Fragments.fr_imine(Chem.MolFromSmiles(x)))\n",
    "\n",
    "    return Dataframe \n"
   ]
  },
  {
   "cell_type": "markdown",
   "metadata": {},
   "source": [
    "Moreover it is possible to use some predicted physical data like logP or the topological polar surface area (TPSA)."
   ]
  },
  {
   "cell_type": "code",
   "execution_count": 6,
   "metadata": {},
   "outputs": [],
   "source": [
    "def physcial_desc(Dataƒrame: pd.DataFrame):\n",
    "\n",
    "    # molecular weight\n",
    "    Dataframe['Molecular_weight'] = Dataframe['productSmiles'].apply(lambda x: Chem.Descriptors.MolWt(Chem.MolFromSmiles(x)))\n",
    "    # logP\n",
    "    Dataframe['LogP'] = Dataframe['productSmiles'].apply(lambda x: Chem.Descriptors.MolLogP(Chem.MolFromSmiles(x)))\n",
    "   # topological polar surface area\n",
    "    Dataframe['TPSA'] = Dataframe['productSmiles'].apply(lambda x: Chem.Descriptors.TPSA(Chem.MolFromSmiles(x)))\n",
    "    # topological polar surface area (inculde S and P)\n",
    "    Dataframe['TPSA_including_S_and_P'] = Dataframe['productSmiles'].apply(lambda x: Chem.MolSurf.TPSA(Chem.MolFromSmiles(x, inculdeSandP=True)))\n",
    "\n",
    "    return Dataframe"
   ]
  },
  {
   "cell_type": "markdown",
   "metadata": {},
   "source": [
    "Some Solvents like water, Methanole, Ethanole, Carboxylic acids are able to develope H-Bonds with \n",
    "the compounds and improve theire solubility and change theire polarity. Therfore it would be intersting to know if the molecule is able to develop H-Bonds. We can test this by chekcing if it has any H-acceptors or H-donors."
   ]
  },
  {
   "cell_type": "code",
   "execution_count": 8,
   "metadata": {},
   "outputs": [],
   "source": [
    "def H_Bonds(Dataframe: pd.DataFrame):\n",
    "\n",
    "    # number of hydrogen bond donors\n",
    "    Dataframe['HBD'] = Dataframe['productSmiles'].apply(lambda x: Chem.Descriptors.NumHDonors(Chem.MolFromSmiles(x)))\n",
    "    # number of hydrogen bond acceptors\n",
    "    Dataframe['HBA'] = Dataframe['productSmiles'].apply(lambda x: Chem.Descriptors.NumHAcceptors(Chem.MolFromSmiles(x)))\n",
    "    \n",
    "\n",
    "    return Dataframe"
   ]
  },
  {
   "cell_type": "markdown",
   "metadata": {},
   "source": [
    "Or we just use every descriptor rdkit offers:"
   ]
  },
  {
   "cell_type": "code",
   "execution_count": 115,
   "metadata": {},
   "outputs": [],
   "source": [
    "\n",
    "def all_descriptors(Dataframe: pd.DataFrame):\n",
    "\n",
    "   descriptors = pd.DataFrame()\n",
    "\n",
    "   for index, row in Dataframe.iterrows():\n",
    "          \n",
    "         row = pd.DataFrame(Chem.Descriptors.CalcMolDescriptors(Chem.MolFromSmiles(row['Smiles'])), index=[0])\n",
    "          \n",
    "         descriptors = pd.concat([descriptors, row], axis=0)\n",
    "   \n",
    "   Dataframe = pd.concat([Dataframe, descriptors.reset_index(drop=True)], axis=1)\n",
    "   \n",
    "   return Dataframe\n"
   ]
  }
 ],
 "metadata": {
  "kernelspec": {
   "display_name": "ppchem_project",
   "language": "python",
   "name": "python3"
  },
  "language_info": {
   "codemirror_mode": {
    "name": "ipython",
    "version": 3
   },
   "file_extension": ".py",
   "mimetype": "text/x-python",
   "name": "python",
   "nbconvert_exporter": "python",
   "pygments_lexer": "ipython3",
   "version": "3.10.13"
  }
 },
 "nbformat": 4,
 "nbformat_minor": 2
}
