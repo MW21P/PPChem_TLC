{
 "cells": [
  {
   "cell_type": "markdown",
   "metadata": {},
   "source": [
    "# Pre-processing of data\n",
    "The first thing to do is extracting the data we are interested in from the XML file (XML files are used from a dataset of US patent applications from 2001 to 2016. This dataset can be found here: https://figshare.com/articles/dataset/Chemical_reactions_from_US_patents_1976-Sep2016_/5104873). We are interested in the title, the general experimental procedure, the reaction SMILES, but most importantly the product SMILES.\n",
    "Therefore, using xml.Etree in the following we iterate through the child elements of the root of the file. \n"
   ]
  },
  {
   "cell_type": "code",
   "execution_count": null,
   "metadata": {},
   "outputs": [],
   "source": [
    "# First we import the necessary libraries\n",
    "\n",
    "import xml.etree.cElementTree as et     # for parsing the XML file\n",
    "import pandas as pd\n",
    "import numpy as np"
   ]
  },
  {
   "cell_type": "code",
   "execution_count": 1,
   "metadata": {},
   "outputs": [
    {
     "name": "stdout",
     "output_type": "stream",
     "text": [
      "{http://www.xml-cml.org/schema}reactionList\n",
      "38\n",
      "{http://www.xml-cml.org/schema}reaction\n",
      "6\n"
     ]
    }
   ],
   "source": [
    "# define path to access first XML file in the folder 2001 of applications\n",
    "\n",
    "tree = et.parse(r\"C:\\Users\\milen\\git\\ppChem\\project\\test\\data\\applications\\2001\\20010315.xml\")\n",
    "\n",
    "# define root of the XML file to iterate through the file\n",
    "root = tree.getroot()\n",
    "\n",
    "# get familiar with the root of the XML file\n",
    "\n",
    "print(root.tag) \n",
    "print(len(root))\n",
    "print(root[0].tag)\n",
    "print(len(root[0]))"
   ]
  },
  {
   "cell_type": "code",
   "execution_count": 3,
   "metadata": {},
   "outputs": [
    {
     "name": "stdout",
     "output_type": "stream",
     "text": [
      "{http://bitbucket.org/dan2097}documentId\n",
      "{http://bitbucket.org/dan2097}documentId\n",
      "{http://bitbucket.org/dan2097}documentId\n",
      "{http://bitbucket.org/dan2097}documentId\n",
      "{http://bitbucket.org/dan2097}documentId\n",
      "{http://bitbucket.org/dan2097}documentId\n",
      "{http://bitbucket.org/dan2097}documentId\n",
      "{http://bitbucket.org/dan2097}documentId\n",
      "{http://bitbucket.org/dan2097}documentId\n",
      "{http://bitbucket.org/dan2097}documentId\n",
      "{http://bitbucket.org/dan2097}documentId\n",
      "{http://bitbucket.org/dan2097}documentId\n",
      "{http://bitbucket.org/dan2097}documentId\n",
      "{http://bitbucket.org/dan2097}documentId\n",
      "{http://bitbucket.org/dan2097}documentId\n",
      "{http://bitbucket.org/dan2097}documentId\n",
      "{http://bitbucket.org/dan2097}documentId\n",
      "{http://bitbucket.org/dan2097}documentId\n",
      "{http://bitbucket.org/dan2097}documentId\n",
      "{http://bitbucket.org/dan2097}documentId\n",
      "{http://bitbucket.org/dan2097}documentId\n",
      "{http://bitbucket.org/dan2097}documentId\n",
      "{http://bitbucket.org/dan2097}documentId\n",
      "{http://bitbucket.org/dan2097}documentId\n",
      "{http://bitbucket.org/dan2097}documentId\n",
      "{http://bitbucket.org/dan2097}documentId\n",
      "{http://bitbucket.org/dan2097}documentId\n",
      "{http://bitbucket.org/dan2097}documentId\n",
      "{http://bitbucket.org/dan2097}documentId\n",
      "{http://bitbucket.org/dan2097}documentId\n",
      "{http://bitbucket.org/dan2097}documentId\n",
      "{http://bitbucket.org/dan2097}documentId\n",
      "{http://bitbucket.org/dan2097}documentId\n",
      "{http://bitbucket.org/dan2097}documentId\n",
      "{http://bitbucket.org/dan2097}documentId\n",
      "{http://bitbucket.org/dan2097}documentId\n",
      "{http://bitbucket.org/dan2097}documentId\n",
      "{http://bitbucket.org/dan2097}documentId\n",
      "38\n"
     ]
    }
   ],
   "source": [
    "# Get more familiar with the data and with how you can iterate through an XML file.\n",
    "count = 0\n",
    "for title in root:\n",
    "    print(title[0][0].tag)\n",
    "    count += 1\n",
    "print(count)"
   ]
  },
  {
   "cell_type": "markdown",
   "metadata": {},
   "source": [
    "## Collect first values\n",
    "Now that we are more familiar with the XML file and how we can iterate or access the different children of the root, we try to create a list with the values of interest."
   ]
  },
  {
   "cell_type": "code",
   "execution_count": 16,
   "metadata": {},
   "outputs": [
    {
     "name": "stdout",
     "output_type": "stream",
     "text": [
      "Step h: 4-Chloro-1-(4-isopropyl-phenyl)-butan-1-one\n",
      "Step d: 4-Chloro-1-(4-methyl-phenyl)-butan-1-one\n",
      "1-[4-(1-Bromo-1-methyl-ethyl)-phenyl]-4-chloro-butan-1-one\n",
      "1-[4-(1-Bromo-1-methyl-ethyl)-phenyl]-4-chloro-butan-1-one\n",
      "1-[4-(1-Bromo-1-methyl-ethyl)-phenyl]-4-chloro-butan-1-one\n",
      "(4-Bromomethyl-phenyl)-cyclopropyl-methanone\n",
      "Step 1: (4-Cyclopropanecarbonyl-phenyl)-acetonitrile\n",
      "Step d: [4-(4-Chloro-butyryl)-phenyl]-acetic acid, 2-ethylhexyl ester\n",
      "Step h: 2-[4-(4-Chloro-butyryl)-phenyl]-2-methyl-propionic acid, N-methoxy-N-methylamide\n",
      "Step h: 2-[4-(4-Chloro-butyryl)-phenyl]-2-methyl-propionic acid, dimethylamide\n",
      "Step h: 2-[4-(4-Chloro-butyryl)-phenyl]-2-methyl-propionic acid pyrrolidineamide\n",
      "(4-cyclopropanecarbonyl-phenyl)-acetic acid, dimethylamide;\n",
      "2-(4-Cyclopropanecarbonyl-phenyl)-proprionic acid, dimethylamide;\n",
      "2-(4-Cyclopropanecarbonyl-phenyl)-2-methyl-proprionic acid. dimethylamide;\n",
      "[4-(4-Chloro-butyryl)-phenyl]-acetic acid, dimethylamide;\n",
      "2-[4-(4-Chloro-butyryl)-phenyl]-propionic acid, dimethylamide;\n",
      "2-[4-(4-Chloro-butyryl)-phenyl]-2-methyl-propionic acid dimethylamide;\n",
      "Step d: 2-[4-(4-Chloro-butyryl)-phenyl]-2-methyl-propionic acid, ethyl ester\n",
      "Step d: 2-[4-(4-Chloro-butyryl)-phenyl]-2-methyl-propionic acid, methyl ester\n",
      "Step d: 2-[4-(4-Chloro-butyryl)-phenyl]-2-methyl-propionic acid, methyl ester\n",
      "Step h: 2-[4-(4-Chloro-butyryl)-phenyl]-2-methyl-propionic acid\n",
      "Step h: 2-[4-(4-Chloro-butyryl)-phenyl]-2-methyl-propionic acid\n",
      "Step m: 2-(4-Cyclopropanecarbonyl-phenyl)-2-methyl-propionamide\n",
      "Step t: 2-(4-Cyclopropanecarbonyl-phenyl)-2-methyl-propionic acid, ethyl ester\n",
      "Step k and step g: 2-[4-(4-Bromo-butyryl)-phenyl]-2-methyl-propionic acid\n",
      "Step c: 4-[4-[4-(Hydroxydiphenylmethyl)-1-piperidinyl]-1-hydroxybutyl]-α,α-dimethylbenzeneacetic acid\n",
      "Step c: (S)-4-[4-[4-(Hydroxydiphenylmethyl)-1-piperidinyl]-1-hydroxybutyl]-α,α-dimethylbenzeneacetic acid, ethyl ester\n",
      "Step a: 4-[4-[4-(Hydroxydiphenylmethyl)-1-piperidinyl]-1-oxobutyl]-α,α-dimethylbenzeneacetic acid, ethyl ester hydrochloride\n",
      "Step a: 4-[4-[4-(Hydroxydiphenylmethyl)-1-piperidinyl]-1-oxobutyl]-α,α-dimethylbenzeneacetic acid, methyl ester hydrochloride\n",
      "Step c: 4-[4-[4-(Hydroxydiphenylmethyl)-1-piperidinyl]-1-hydroxybutyl]-α,α-dimethylbenzeneacetic acid, methyl ester hydrochloride\n",
      "Step c: 2-(4-(1-Hydroxy-4-(4-(hydroxydiphenylmethyl)-1-piperidinyl)-butyl)-phenyl)-2-methyl-propanol\n",
      "Step g: 4-[4-[4-(Hydroxydiphenylmethyl)-1-piperidinyl]-1-oxobutyl]-α,α-dimethylbenzeneacetic acid hydrochloride\n",
      "32\n"
     ]
    }
   ],
   "source": [
    "# Extract the title of the reactions\n",
    "Title = []\n",
    "for title in root.iter('{http://bitbucket.org/dan2097}headingText'):\n",
    "    print(title.text)   # print the title of the reactions to see what they are like\n",
    "    Title.append(title.text)\n",
    "print(len(Title))"
   ]
  },
  {
   "cell_type": "markdown",
   "metadata": {},
   "source": [
    "OOps! Already we encounter the first problem here: the list of titles only counts up to 32 instead of the 38 reactions we could previously extract from this first XML file! Therefore, it will not be possible to zip the different lists we will create in the following, as we would loose the information of the matching. Stay tuned for the solution to this problem!"
   ]
  },
  {
   "cell_type": "code",
   "execution_count": 10,
   "metadata": {},
   "outputs": [
    {
     "name": "stdout",
     "output_type": "stream",
     "text": [
      "38\n"
     ]
    }
   ],
   "source": [
    "# Extract the experimental procedure\n",
    "ExpProcedure = []\n",
    "for expprocedure in root.iter('{http://bitbucket.org/dan2097}paragraphText'):\n",
    "    # print(title.text)\n",
    "    ExpProcedure.append(expprocedure.text)\n",
    "print(len(ExpProcedure))"
   ]
  },
  {
   "cell_type": "code",
   "execution_count": 11,
   "metadata": {},
   "outputs": [
    {
     "name": "stdout",
     "output_type": "stream",
     "text": [
      "38\n"
     ]
    }
   ],
   "source": [
    "# Extract the reaction SMILES\n",
    "RxnSmiles = []\n",
    "for smiles in root.iter('{http://bitbucket.org/dan2097}reactionSmiles'):\n",
    "    # print(title.text)\n",
    "    RxnSmiles.append(smiles.text)\n",
    "print(len(RxnSmiles))"
   ]
  },
  {
   "cell_type": "markdown",
   "metadata": {},
   "source": [
    "Here we had a problem:\n",
    "while in the other tags, the value we wanted to extract was directly linked, in the product tag there are different values and we only want to extract the product smiles identifier. Here we need to be very specific to prevent extracting other identifier smiles from the reactants or spectators tags. "
   ]
  },
  {
   "cell_type": "code",
   "execution_count": 7,
   "metadata": {},
   "outputs": [
    {
     "name": "stdout",
     "output_type": "stream",
     "text": [
      "Product SMILES: ['C(C)(C)(C)C1CCC(CC1)O', 'ClCCCC(=O)C1=CC=C(C=C1)C(C)C', 'ClCCCC(=O)C1=CC=C(C=C1)C', 'BrC(C)(C)C1=CC=C(C=C1)C(CCCCl)=O', 'BrC(C)(C)C1=CC=C(C=C1)C(CCCCl)=O', 'BrC(C)(C)C1=CC=C(C=C1)C(CCCCl)=O', 'BrCC1=CC=C(C=C1)C(=O)C1CC1', 'C1(CC1)C(=O)C1=CC=C(C=C1)CC#N', 'C1(=CC=CC=C1)CC(=O)O', 'ClCCCC(=O)C1=CC=C(C=C1)CC(=O)OCC(CCCC)CC', 'C1(=CC=CC=C1)C(C(=O)OCC)C', 'CON(C(C(C)(C1=CC=CC=C1)C)=O)C', 'CON(C(C(C)(C)C1=CC=C(C=C1)C(CCCCl)=O)=O)C', 'CN(C(C(C)(C1=CC=CC=C1)C)=O)C', 'CN(C(C(C)(C)C1=CC=C(C=C1)C(CCCCl)=O)=O)C', 'N1(CCCC1)C(=O)N.ClCCCC(=O)C1=CC=C(C=C1)C(C(=O)O)(C)C', 'CN(C(CC1=CC=C(C=C1)C(=O)C1CC1)=O)C', 'CN(C(C(C)C1=CC=C(C=C1)C(=O)C1CC1)=O)C', 'CN(C(C(C)(C)C1=CC=C(C=C1)C(=O)C1CC1)=O)C', 'CN(C(CC1=CC=C(C=C1)C(CCCCl)=O)=O)C', 'CN(C(C(C)C1=CC=C(C=C1)C(CCCCl)=O)=O)C', 'CN(C(C(C)(C)C1=CC=C(C=C1)C(CCCCl)=O)=O)C', 'ClCCCC(=O)C1=CC=C(C=C1)C(C(=O)OCC)(C)C', 'ClCCCC(=O)C1=CC=C(C=C1)C(C(=O)OC)(C)C', 'ClCCCC(=O)C1=CC=C(C=C1)C(C(=O)OC)(C)C', 'ClCCCC(=O)C1=CC=C(C=C1)C(C(=O)O)(C)C', 'ClCCCC(=O)C1=CC=C(C=C1)C(C(=O)O)(C)C', 'C1(CC1)C(=O)C1=CC=C(C=C1)C(C(=O)N)(C)C', 'C1(CC1)C(=O)C1=CC=C(C=C1)C(C(=O)OCC)(C)C', 'BrCCCC(=O)C1=CC=C(C=C1)C(C(=O)O)(C)C', 'C(C)(=O)OCC(C)(C)C1=CC=CC=C1', 'OC(C1CCN(CC1)CCCC(O)C1=CC=C(C=C1)C(C(=O)O)(C)C)(C1=CC=CC=C1)C1=CC=CC=C1', 'OC(C1CCN(CC1)CCC[C@H](O)C1=CC=C(C=C1)C(C(=O)OCC)(C)C)(C1=CC=CC=C1)C1=CC=CC=C1', 'Cl.OC(C1CCN(CC1)CCCC(=O)C1=CC=C(C=C1)C(C(=O)OCC)(C)C)(C1=CC=CC=C1)C1=CC=CC=C1', 'Cl.OC(C1CCN(CC1)CCCC(=O)C1=CC=C(C=C1)C(C(=O)OC)(C)C)(C1=CC=CC=C1)C1=CC=CC=C1', 'Cl.OC(C1CCN(CC1)CCCC(O)C1=CC=C(C=C1)C(C(=O)OC)(C)C)(C1=CC=CC=C1)C1=CC=CC=C1', 'OC(CCCN1CCC(CC1)C(C1=CC=CC=C1)(C1=CC=CC=C1)O)C1=CC=C(C=C1)C(CO)(C)C', 'Cl.OC(C1CCN(CC1)CCCC(=O)C1=CC=C(C=C1)C(C(=O)O)(C)C)(C1=CC=CC=C1)C1=CC=CC=C1']\n"
     ]
    }
   ],
   "source": [
    "# Define the namespace\n",
    "ns = {'cml': 'http://www.xml-cml.org/schema'}\n",
    "\n",
    "# Find all <reaction> elements\n",
    "reaction_elements = root.findall('.//cml:reaction', ns)\n",
    "\n",
    "# Iterate over each <reaction> element\n",
    "for reaction_element in reaction_elements:\n",
    "    # Find all <product> elements within the current <reaction> element\n",
    "    product_elements = reaction_element.findall('.//cml:product', ns)\n",
    "    # Iterate over each <product> element\n",
    "    for product_element in product_elements:\n",
    "        # Find all <identifier> elements within the current <product> element\n",
    "        identifier_elements = product_element.findall('.//cml:identifier[@dictRef=\"cml:smiles\"]', ns)\n",
    "        # Iterate over each <identifier> element\n",
    "        for identifier_element in identifier_elements:\n",
    "            # Extract the value attribute (SMILES value)\n",
    "            smiles_value = identifier_element.attrib.get('value')\n",
    "            if smiles_value is not None:\n",
    "                # Append the SMILES value to the list or process it as needed\n",
    "                PrdSmiles.append(smiles_value)\n",
    "\n",
    "# Check if any values were extracted\n",
    "print(\"Product SMILES:\", PrdSmiles)"
   ]
  },
  {
   "cell_type": "code",
   "execution_count": 8,
   "metadata": {},
   "outputs": [
    {
     "name": "stdout",
     "output_type": "stream",
     "text": [
      "38\n"
     ]
    }
   ],
   "source": [
    "print(len(PrdSmiles))"
   ]
  },
  {
   "cell_type": "markdown",
   "metadata": {},
   "source": [
    "Now, to prevent mismatching through handling of lists of different lengths, the best is to create a dictionnary for every reaction containing the values of interest as keys. After that, we can build a dataframe where every dictionnary is one entry in the df."
   ]
  },
  {
   "cell_type": "code",
   "execution_count": 12,
   "metadata": {},
   "outputs": [
    {
     "name": "stdout",
     "output_type": "stream",
     "text": [
      "Reaction List: [{'paragraphText': 'PL 137,526 describes the hydrogenation of p-tert-butylphenol to form p-tert-butylcyclohexanol using a nickel catalyst.', 'reactionSmiles': '[C:1]([C:5]1[CH:10]=[CH:9][C:8]([OH:11])=[CH:7][CH:6]=1)([CH3:4])([CH3:3])[CH3:2]>[Ni]>[C:1]([CH:5]1[CH2:6][CH2:7][CH:8]([OH:11])[CH2:9][CH2:10]1)([CH3:4])([CH3:2])[CH3:3]', 'productSmiles': ['C(C)(C)(C)C1CCC(CC1)O']}, {'title': 'Step h: 4-Chloro-1-(4-isopropyl-phenyl)-butan-1-one', 'paragraphText': 'Slurry aluminum chloride (140.9 g, 1.075 mol) and 4-chlorobutyryl chloride (148 g, 1.05 mol) in methylene chloride (1.0 L) add, by dropwise addition, cumene (125 g, 1.04 mol) over a thirty minute period under a nitrogen atmosphere while maintaining the internal temperature between 5-8° C. with an ice bath. Allow the stirred solution to come to room temperature and continue stirring under nitrogen for 14 hours. Cautiously add the methylene chloride solution to 1 L of crushed ice with stirring and add additional methylene chloride (400 mL). Separate the organic phase and wash with 10% hydrochloric acid (3×300 mL), water (3×300 mL), 10% sodium bicarbonate (3×300 mL) and water (3×300 mL). Dry (MgSO4), filter and wash with methylene chloride (150 mL). Evaporate the solvent to give the title compound (203 g, 86%) as a clear oil which crystallizes on standing; mp 35-37° C.', 'reactionSmiles': '[Cl-].[Al+3].[Cl-].[Cl-].[Cl:5][CH2:6][CH2:7][CH2:8][C:9](Cl)=[O:10].[C:12]1([CH:18]([CH3:20])[CH3:19])[CH:17]=[CH:16][CH:15]=[CH:14][CH:13]=1>C(Cl)Cl>[Cl:5][CH2:6][CH2:7][CH2:8][C:9]([C:15]1[CH:16]=[CH:17][C:12]([CH:18]([CH3:20])[CH3:19])=[CH:13][CH:14]=1)=[O:10] |f:0.1.2.3|', 'productSmiles': ['ClCCCC(=O)C1=CC=C(C=C1)C(C)C']}, {'title': 'Step d: 4-Chloro-1-(4-methyl-phenyl)-butan-1-one', 'paragraphText': 'Suspend anhydrous AlCl3 (156 g, 1.15 mol) in toluene (1500 mL) and cool to 2-4° C. Add, by slow addition, a solution of 4-chlorobutyryl chloride (165.5 g, 1.15 mol) in toluene (300 mL). Stir for 15 minutes and pour into stirring ice-water (2.5 L). Stir for 30 hours, decant the toluene and extract the aqueous phase with toluene (700 mL). Combine the organic layers and wash three times with water (1 L, 1 L, 500 mL). Evaporate the solvent in vacuo to give the title compound as a pale yellow oil (292.3 g, 95%).', 'reactionSmiles': '[Al+3].[Cl-].[Cl-].[Cl-].[Cl:5][CH2:6][CH2:7][CH2:8][C:9](Cl)=[O:10].[C:12]1([CH3:18])[CH:17]=[CH:16][CH:15]=[CH:14][CH:13]=1>>[Cl:5][CH2:6][CH2:7][CH2:8][C:9]([C:15]1[CH:16]=[CH:17][C:12]([CH3:18])=[CH:13][CH:14]=1)=[O:10] |f:0.1.2.3|', 'productSmiles': ['ClCCCC(=O)C1=CC=C(C=C1)C']}, {'title': '1-[4-(1-Bromo-1-methyl-ethyl)-phenyl]-4-chloro-butan-1-one', 'paragraphText': 'Dissolve 4-chloro-1-(4-isopropyl-phenyl)-butan-1-one (2.10 g, 9.35 mmol) in carbontetrachloride (30 mL), add N-bromosuccinimide (1.75 g, 9.83 mmol) and benzoylperoxide (3 mg) and stir at reflux for 1 hour. Cool the reaction mixture, filter, wash with water and brine. Dry (MgSO4), filter and evaporate the solvent in vacuo to give the title compound as an amber oil.', 'reactionSmiles': '[Cl:1][CH2:2][CH2:3][CH2:4][C:5]([C:7]1[CH:12]=[CH:11][C:10]([CH:13]([CH3:15])[CH3:14])=[CH:9][CH:8]=1)=[O:6].[Br:16]N1C(=O)CCC1=O.C(OOC(=O)C1C=CC=CC=1)(=O)C1C=CC=CC=1>C(Cl)(Cl)(Cl)Cl>[Br:16][C:13]([C:10]1[CH:9]=[CH:8][C:7]([C:5](=[O:6])[CH2:4][CH2:3][CH2:2][Cl:1])=[CH:12][CH:11]=1)([CH3:15])[CH3:14]', 'productSmiles': ['BrC(C)(C)C1=CC=C(C=C1)C(CCCCl)=O']}, {'title': '1-[4-(1-Bromo-1-methyl-ethyl)-phenyl]-4-chloro-butan-1-one', 'paragraphText': 'Dissolve 4-chloro-1-(4-isopropyl-phenyl)-butan-1-one (5.00 g, 22.2 mmol) and N-bromosuccinimide (4.1 g, 23.0 mmol) in carbon tetrachloride (25 mL) and add AIBN radical initiator (300 mg). Stir and maintain under a nitrogen atmosphere at 80-90° C. or optionally irradiate with a sunlamp until a vigorous exotherm occurs at which point momentarily remove until reflux subsides and then reapply the heat. Reflux for 30 minutes and add another potion of N-bromosuccinimide (100 mg) while maintaining reflux and reflux an additional 15 minutes. Cool to room temperature and precipitate the succinimide from the solution by allowing to stand overnight. Filter and wash the succinimide (2.25 g) with carbon tetrachloride (20 mL). Combine the filtrates and evaporate the solvent in vacuo to give the title compound as a yellow oil (6.80 g, 100%).', 'reactionSmiles': '[Cl:1][CH2:2][CH2:3][CH2:4][C:5]([C:7]1[CH:12]=[CH:11][C:10]([CH:13]([CH3:15])[CH3:14])=[CH:9][CH:8]=1)=[O:6].[Br:16]N1C(=O)CCC1=O>C(Cl)(Cl)(Cl)Cl.CC(N=NC(C#N)(C)C)(C#N)C>[Br:16][C:13]([C:10]1[CH:9]=[CH:8][C:7]([C:5](=[O:6])[CH2:4][CH2:3][CH2:2][Cl:1])=[CH:12][CH:11]=1)([CH3:15])[CH3:14]', 'productSmiles': ['BrC(C)(C)C1=CC=C(C=C1)C(CCCCl)=O']}, {'title': '1-[4-(1-Bromo-1-methyl-ethyl)-phenyl]-4-chloro-butan-1-one', 'paragraphText': 'Dissolve 4-chloro-1-(4-isopropyl-phenyl)-butan-1-one (74.7 g, 333 mmol) in methylene chloride (250 mL) and add sodium bromate (17.6 g, 117 mmol) in water (75 mL) in a three-necked Morton flask equipped with an overhead stirrer. Cool the solution to 10° C. and irradiate with two 150 W incandescent flood lamps. Add, by dropwise addition, a solution of sodium bromide (24 g, 233 mmol) and stir for 2 hours. Illuminate for another 30 minutes, add sodium dithionate.(2.0 g), separate the organic phase, dry (MgSO4) and evaporate the solvent in vacuo to give the title compound (100 g, 99%).', 'reactionSmiles': '[Cl:1][CH2:2][CH2:3][CH2:4][C:5]([C:7]1[CH:12]=[CH:11][C:10]([CH:13]([CH3:15])[CH3:14])=[CH:9][CH:8]=1)=[O:6].[Br:16]([O-])(=O)=O.[Na+].[Br-].[Na+].S(S([O-])(=O)=O)([O-])(=O)=O.[Na+].[Na+]>C(Cl)Cl.O>[Br:16][C:13]([C:10]1[CH:9]=[CH:8][C:7]([C:5](=[O:6])[CH2:4][CH2:3][CH2:2][Cl:1])=[CH:12][CH:11]=1)([CH3:15])[CH3:14] |f:1.2,3.4,5.6.7|', 'productSmiles': ['BrC(C)(C)C1=CC=C(C=C1)C(CCCCl)=O']}, {'title': '(4-Bromomethyl-phenyl)-cyclopropyl-methanone', 'paragraphText': 'Dissolve 4-chloro-1-(4-isopropyl-phenyl)-butan-1-one (20 g, 124 mmol) and 2,2′-Azolons (2-methylpropionitrile) (0.5 g) in methylene chloride (100 mL) and cool to 5° C. Add a suspension of N-bromosuccinimide (12 g) in methylene chloride (50 mL) and irradiate with light (150 Watt lamp), maintaining the temperature at 5° C. After 2, 3 and 7 hour time periods, add additional N-bromosuccinimide (6 g, 6 g, 2.8 g) and continue stirring. After 7.5 hours, wash with water (200 mL) and with 0.4M sodium hydrogen carbonate (2×200 mL). Dry (Na2SO4), evaporate the solvent in vacuo and recrystallize (hexane) to give the title compound as a crystalline solid (26.7 g).', 'reactionSmiles': 'Cl[CH2:2][CH2:3][CH2:4][C:5]([C:7]1[CH:12]=[CH:11][C:10]([CH:13](C)C)=[CH:9][CH:8]=1)=[O:6].[Br:16]N1C(=O)CCC1=O>C(Cl)Cl>[Br:16][CH2:13][C:10]1[CH:9]=[CH:8][C:7]([C:5]([CH:4]2[CH2:3][CH2:2]2)=[O:6])=[CH:12][CH:11]=1', 'productSmiles': ['BrCC1=CC=C(C=C1)C(=O)C1CC1']}, {'title': 'Step 1: (4-Cyclopropanecarbonyl-phenyl)-acetonitrile', 'paragraphText': 'Mix (4-bromomethyl-phenyl)-cyclopropyl-methanone (5.0 g, 21 mmol), potassium cyanide (2.0 g, 30 mmol), tetra-butylammonium bromide (150 mg), water (5 mL) and acetonitrile (50 mL). Mechanically stir at room temperature for 3 hours, pour into water (450 mL) and stir overnight. Collect by filtration and recrystallize (hexane) to give the title compound as a white crystalline solid; mp 86-87° C.', 'reactionSmiles': 'Br[CH2:2][C:3]1[CH:8]=[CH:7][C:6]([C:9]([CH:11]2[CH2:13][CH2:12]2)=[O:10])=[CH:5][CH:4]=1.[C-]#N.[K+].[C:17](#[N:19])C>[Br-].C([N+](CCCC)(CCCC)CCCC)CCC.O>[CH:11]1([C:9]([C:6]2[CH:7]=[CH:8][C:3]([CH2:2][C:17]#[N:19])=[CH:4][CH:5]=2)=[O:10])[CH2:13][CH2:12]1 |f:1.2,4.5|', 'productSmiles': ['C1(CC1)C(=O)C1=CC=C(C=C1)CC#N']}, {'paragraphText': 'Mix 2-ethyl-1-hexanol (6.5 g, 5 mol), triethylamine (50.5 g, 0.5 mol) and methylene chloride (50 mL). Add, by dropwise addition, 2-phenylacetyl chloride (5 mol) and warm to 50° C. Stir at room temperature overnight, filter and wash the filtercake with methylene chloride (50 mL). Combine the organic phases and wash with 5% aqueous hydrochloric acid (50 mL) and water. Dry (MgSO4), evaporate the solvent in vacuo and purify by distillation to give 2-phenylacetic acid, 2-(2-ethylhexy)l ester.', 'reactionSmiles': 'C(C(CCCC)C[OH:5])C.C(N(CC)CC)C.[C:17]1([CH2:23][C:24](Cl)=[O:25])[CH:22]=[CH:21][CH:20]=[CH:19][CH:18]=1>C(Cl)Cl>[C:17]1([CH2:23][C:24]([OH:25])=[O:5])[CH:22]=[CH:21][CH:20]=[CH:19][CH:18]=1', 'productSmiles': ['C1(=CC=CC=C1)CC(=O)O']}, {'title': 'Step d: [4-(4-Chloro-butyryl)-phenyl]-acetic acid, 2-ethylhexyl ester', 'paragraphText': 'Mix chlorobutyryl chloride (16.9 g) and AlCl3 (29.3 g) at room temperature. Add 2-phenylacetic acid, 2-ethylhexyl ester (27.6 g), keeping the temperature below 10° C. Heat at 35° C. for 24 hours, quench in ice water (200 g). Separate the organic phase, dry (MgSO4) and evaporate the solvent in vacuo. Dilute the residue with ethanol (150 mL), add hydrogen chloride (5 g) and heat to 75° C. After 2.5 hours, add another 5 g of hydrogen chloride and stir at 75° C. for 24 hours. Evaporate the solvent in vacuo to give the title compound.', 'reactionSmiles': '[Cl:1][CH2:2][CH2:3][CH2:4][C:5](Cl)=[O:6].[Al+3].[Cl-].[Cl-].[Cl-].[C:12]1([CH2:18][C:19]([O:21][CH2:22][CH:23]([CH2:28][CH3:29])[CH2:24][CH2:25][CH2:26][CH3:27])=[O:20])[CH:17]=[CH:16][CH:15]=[CH:14][CH:13]=1>>[Cl:1][CH2:2][CH2:3][CH2:4][C:5]([C:15]1[CH:16]=[CH:17][C:12]([CH2:18][C:19]([O:21][CH2:22][CH:23]([CH2:28][CH3:29])[CH2:24][CH2:25][CH2:26][CH3:27])=[O:20])=[CH:13][CH:14]=1)=[O:6] |f:1.2.3.4|', 'productSmiles': ['ClCCCC(=O)C1=CC=C(C=C1)CC(=O)OCC(CCCC)CC']}, {'paragraphText': 'Dissolve 2-phenylpropionic acid (30 g) in 2B ethanol (100 mL and add anhydrous HCl (10 g). Allow to sit for 48-72 hours, evaporate the solvent in vacuo and purify by distillation to give ethyl 2-phenylpropionate (31 g); bp 100 C. at 6 mmm.', 'reactionSmiles': '[C:1]1([CH:7]([CH3:11])[C:8]([OH:10])=[O:9])[CH:6]=[CH:5][CH:4]=[CH:3][CH:2]=1.Cl.[CH2:13](O)[CH3:14]>>[C:1]1([CH:7]([CH3:11])[C:8]([O:10][CH2:13][CH3:14])=[O:9])[CH:6]=[CH:5][CH:4]=[CH:3][CH:2]=1', 'productSmiles': ['C1(=CC=CC=C1)C(C(=O)OCC)C']}, {'paragraphText': 'Dissolve 2-methyl-2-phenyl-propionic acid (15.0 g, 91.2 mmol) in toluene (80 mL) and add, by dropwise addition over 5 minutes, thionyl chloride (15 mL, 206 mmol). Stir at room temperature overnight, add additional thionyl chloride (3 mL, 41.1 mmol) and heat to reflux for 1 hour. Remove excess thionyl chloride by azeotropic distillation with toluene (40 mL). Add toluene (20 mL) to the reaction mixture along with a solution of potassium carbonate (28.0 g, 203 mmol) in water (40 mL). Add, by dropwise addition, a solution of N,O-dimethylhydroxylamine hydrochloride (8.9 g, 91.2 mmol) in water (20 mL) without cooling and stir for 2 hours. Add tert-butylmethyl ether (75 mL) following by slow addition of aqueous HCl (2N, 75 mL) with vigorous stirring. Separate the organic layer and wash with aqueous HCl (2N, 75 mL), saturated sodium hydrogen carbonate (25 mL) and brine (50 mL). Dry the organic layer over (Na2SO4), filter, evaporate the filtrate in vacuo and purify by vacuum distillation to give 2-methyl-2-phenyl-propionic acid, N-methoxy-N-methylamide (18.0 g, 95%); bp 91-103° C./5 mm Hg. MS (CI, CH4) m/e 208 (M++1, 100), 119.', 'reactionSmiles': '[CH3:1][C:2]([C:7]1[CH:12]=[CH:11][CH:10]=[CH:9][CH:8]=1)([CH3:6])[C:3](O)=[O:4].S(Cl)(Cl)=O.C(=O)([O-])[O-].[K+].[K+].Cl.[CH3:24][NH:25][O:26][CH3:27].Cl>C1(C)C=CC=CC=1.O.C(OC)(C)(C)C>[CH3:27][O:26][N:25]([CH3:24])[C:3](=[O:4])[C:2]([CH3:6])([C:7]1[CH:12]=[CH:11][CH:10]=[CH:9][CH:8]=1)[CH3:1] |f:2.3.4,5.6|', 'productSmiles': ['CON(C(C(C)(C1=CC=CC=C1)C)=O)C']}, {'title': 'Step h: 2-[4-(4-Chloro-butyryl)-phenyl]-2-methyl-propionic acid, N-methoxy-N-methylamide', 'paragraphText': 'Slurry AlCl3 (10.15 g, 76.1 mmol) and methylene chloride (45 mL) under a nitrogen atmosphere at room temperature. Add 4-chlorobutyryl chloride (4.27 mL, 38.1 mmol), stir for 20 minutes and add, by dropwise addition over 10 minutes, a solution of 2-methyl-2-phenyl-propionic acid, N-methoxy-N-methylamide (6.58 g, 31.7 mmol) in methylene chloride (15 mL). Stir at room temperature for 45 minutes, then heat at 30- 35° C. for 7 hours. Pour into ice water (150 mL) and separate the layers. Wash the aqueous layer with water (3×75 mL), combine the aqueous layers and extract with methylene chloride (2×75 mL). Combine the organic layers and dry (Na2SO4). Filter, evaporate the filtrate in vacuo and purify by silica gel chromatography (3:1 hexane/ethyl acetate) give the title compound (6.19 g, 63%) as a light yellow oil.', 'reactionSmiles': '[Al+3].[Cl-].[Cl-].[Cl-].[Cl:5][CH2:6][CH2:7][CH2:8][C:9](Cl)=[O:10].[CH3:12][O:13][N:14]([CH3:26])[C:15](=[O:25])[C:16]([CH3:24])([C:18]1[CH:23]=[CH:22][CH:21]=[CH:20][CH:19]=1)[CH3:17]>C(Cl)Cl>[CH3:12][O:13][N:14]([CH3:26])[C:15](=[O:25])[C:16]([C:18]1[CH:23]=[CH:22][C:21]([C:9](=[O:10])[CH2:8][CH2:7][CH2:6][Cl:5])=[CH:20][CH:19]=1)([CH3:24])[CH3:17] |f:0.1.2.3|', 'productSmiles': ['CON(C(C(C)(C)C1=CC=C(C=C1)C(CCCCl)=O)=O)C']}, {'paragraphText': 'Dissolve 2-methyl-2-phenyl-propionic acid (15.0 g, 91.2 mmol) in toluene (80 mL) and add, by dropwise addition over 5 minutes, thionyl chloride (15 mL, 206 mmol). Stir at room temperature overnight, add additional thionyl chloride (3 mL, 41.1 mmol) and heat to reflux for 1 hour. Remove excess thionyl chloride by azeotropic distillation with toluene (40 mL). Add toluene (20 mL) to the reaction mixture along with a solution of potassium carbonate (28.0 g, 203 mmol) in water (40 mL). Add, by dropwise addition, a 40% aqueous solution of dimethylamine hydrochloride (20 mL, 0.18 mol) without cooling and stir for 2 hours. Add tert-butylmethyl ether (75 mL) following by slow addition of aqueous HCl (2N, 75 mL) with vigorous stirring. Separate the organic layer and wash with aqueous HCl (2N, 75 mL), saturated sodium hydrogen carbonate (25 mL) and brine (50 mL). Dry the organic layer over (Na2SO4), filter, evaporate the filtrate in vacuo and purify by crystallization to give 2-methyl-2-phenyl-propionic acid, dimethylamide (15.35 g, 88%) as a white solid; mp 57-59° C.', 'reactionSmiles': '[CH3:1][C:2]([C:7]1[CH:12]=[CH:11][CH:10]=[CH:9][CH:8]=1)([CH3:6])[C:3](O)=[O:4].S(Cl)(Cl)=O.C(=O)([O-])[O-].[K+].[K+].Cl.[CH3:24][NH:25][CH3:26].Cl>C1(C)C=CC=CC=1.O.C(OC)(C)(C)C>[CH3:24][N:25]([CH3:26])[C:3](=[O:4])[C:2]([CH3:6])([C:7]1[CH:12]=[CH:11][CH:10]=[CH:9][CH:8]=1)[CH3:1] |f:2.3.4,5.6|', 'productSmiles': ['CN(C(C(C)(C1=CC=CC=C1)C)=O)C']}, {'title': 'Step h: 2-[4-(4-Chloro-butyryl)-phenyl]-2-methyl-propionic acid, dimethylamide', 'paragraphText': 'Add AlCl3 (1.12 g, 8.40 mmol) to carbon tetrachloride (6 mL) under a nitrogen atmosphere at room temperature. Add 4-chlorobutyryl chloride (0.49 mL, 4.37 mmol), stir for 15 minutes and add, by dropwise addition over 3 minutes, a solution of 2-methyl-2-phenyl-propionic acid, dimethylamide (0.64 g, 3.36 mmol) in carbon tetrachloride (6 mL). Stir at room temperature for 17 hours, dilute with methylene chloride (10 mL), pour into ice water (50 mL) and separate the layers. Wash the aqueous layer with methylene chloride (2×70 mL), 5% aqueous sodium hydrogen carbonate, combine the organic layers and dry (Na2SO4). Filter, evaporate the filtrate in vacuo and purify by silica gel chromatography (5:2 hexane/ethyl acetate) to give the title compound (0.72 g, 72%) as a light yellow oil.', 'reactionSmiles': '[Al+3].[Cl-].[Cl-].[Cl-].[Cl:5][CH2:6][CH2:7][CH2:8][C:9](Cl)=[O:10].[CH3:12][N:13]([CH3:25])[C:14](=[O:24])[C:15]([CH3:23])([C:17]1[CH:22]=[CH:21][CH:20]=[CH:19][CH:18]=1)[CH3:16]>C(Cl)(Cl)(Cl)Cl.C(Cl)Cl>[CH3:25][N:13]([CH3:12])[C:14](=[O:24])[C:15]([C:17]1[CH:18]=[CH:19][C:20]([C:9](=[O:10])[CH2:8][CH2:7][CH2:6][Cl:5])=[CH:21][CH:22]=1)([CH3:23])[CH3:16] |f:0.1.2.3|', 'productSmiles': ['CN(C(C(C)(C)C1=CC=C(C=C1)C(CCCCl)=O)=O)C']}, {'title': 'Step h: 2-[4-(4-Chloro-butyryl)-phenyl]-2-methyl-propionic acid pyrrolidineamide', 'paragraphText': 'Add AlCl3 (8.31 g, 62.3 mmol) to carbon tetrachloride (65 mL) under a nitrogen atmosphere at room temperature. Add 4-chlorobutyryl chloride (03.5 mL, 31.2 mmol), stir for 15 minutes and add, by dropwise addition over 15 minutes, a solution of 2-methyl-2-phenyl-propionic acid, pyrrolidineamide (5.64 g, 26.0 mmol) in carbon tetrachloride (60 mL). Stir at room temperature for 17 hours, pour into ice water (100 mL) and separate the layers. Wash the aqueous layer with methylene chloride (2×70 mL), 5% aqueous sodium hydrogen carbonate, combine the organic layers and dry (Na2SO4). Filter, evaporate the filtrate in vacuo and purify by silica gel chromatography (5:2 hexane/ethyl acetate) to give the title compound (6.55 g, 78%) as a light yellow oil.', 'reactionSmiles': '[Al+3].[Cl-].[Cl-].[Cl-].[Cl:5][CH2:6][CH2:7][CH2:8][C:9](Cl)=[O:10].[CH3:12][C:13]([C:18]1[CH:23]=[CH:22][CH:21]=[CH:20][CH:19]=1)([CH3:17])[C:14]([OH:16])=[O:15].[N:24]1([C:29]([NH2:31])=[O:30])[CH2:28][CH2:27][CH2:26][CH2:25]1>C(Cl)(Cl)(Cl)Cl>[N:24]1([C:29]([NH2:31])=[O:30])[CH2:28][CH2:27][CH2:26][CH2:25]1.[Cl:5][CH2:6][CH2:7][CH2:8][C:9]([C:21]1[CH:22]=[CH:23][C:18]([C:13]([CH3:17])([CH3:12])[C:14]([OH:16])=[O:15])=[CH:19][CH:20]=1)=[O:10] |f:0.1.2.3,8.9|', 'productSmiles': ['N1(CCCC1)C(=O)N.ClCCCC(=O)C1=CC=C(C=C1)C(C(=O)O)(C)C']}, {'title': '(4-cyclopropanecarbonyl-phenyl)-acetic acid, dimethylamide;', 'paragraphText': '(4-cyclopropanecarbonyl-phenyl)-acetic acid, pyrrolidineamide;', 'reactionSmiles': '[CH:1]1([C:4]([C:6]2[CH:11]=[CH:10][C:9]([CH2:12][C:13]([OH:15])=O)=[CH:8][CH:7]=2)=[O:5])[CH2:3][CH2:2]1.[N:16]1(C(N)=O)[CH2:20]CC[CH2:17]1>>[CH3:17][N:16]([CH3:20])[C:13](=[O:15])[CH2:12][C:9]1[CH:10]=[CH:11][C:6]([C:4]([CH:1]2[CH2:3][CH2:2]2)=[O:5])=[CH:7][CH:8]=1', 'productSmiles': ['CN(C(CC1=CC=C(C=C1)C(=O)C1CC1)=O)C']}, {'title': '2-(4-Cyclopropanecarbonyl-phenyl)-proprionic acid, dimethylamide;', 'paragraphText': '2-(4-Cyclopropanecarbonyl-phenyl)-proprionic acid, pyrrolidineamide;', 'reactionSmiles': '[CH:1]1([C:4]([C:6]2[CH:11]=[CH:10][C:9]([CH:12]([CH3:16])[C:13](O)=[O:14])=[CH:8][CH:7]=2)=[O:5])[CH2:3][CH2:2]1.[N:17]1(C(N)=O)[CH2:21]CC[CH2:18]1>>[CH3:18][N:17]([CH3:21])[C:13](=[O:14])[CH:12]([C:9]1[CH:10]=[CH:11][C:6]([C:4]([CH:1]2[CH2:3][CH2:2]2)=[O:5])=[CH:7][CH:8]=1)[CH3:16]', 'productSmiles': ['CN(C(C(C)C1=CC=C(C=C1)C(=O)C1CC1)=O)C']}, {'title': '2-(4-Cyclopropanecarbonyl-phenyl)-2-methyl-proprionic acid. dimethylamide;', 'paragraphText': '2-(4-Cyclopropanecarbonyl-phenyl)-2-methyl-proprionic acid, pyrrolidineamide;', 'reactionSmiles': '[CH:1]1([C:4]([C:6]2[CH:11]=[CH:10][C:9]([C:12]([CH3:17])([CH3:16])[C:13](O)=[O:14])=[CH:8][CH:7]=2)=[O:5])[CH2:3][CH2:2]1.[N:18]1(C(N)=O)[CH2:22]CC[CH2:19]1>>[CH3:19][N:18]([CH3:22])[C:13](=[O:14])[C:12]([C:9]1[CH:10]=[CH:11][C:6]([C:4]([CH:1]2[CH2:3][CH2:2]2)=[O:5])=[CH:7][CH:8]=1)([CH3:17])[CH3:16]', 'productSmiles': ['CN(C(C(C)(C)C1=CC=C(C=C1)C(=O)C1CC1)=O)C']}, {'title': '[4-(4-Chloro-butyryl)-phenyl]-acetic acid, dimethylamide;', 'paragraphText': '[4-(4-Chloro-butyryl)-phenyl]-acetic acid, pyrroldineamide;', 'reactionSmiles': '[Cl:1][CH2:2][CH2:3][CH2:4][C:5]([C:7]1[CH:12]=[CH:11][C:10]([CH2:13][C:14]([OH:16])=O)=[CH:9][CH:8]=1)=[O:6].[N:17]1(C(N)=O)[CH2:21]CC[CH2:18]1>>[CH3:18][N:17]([CH3:21])[C:14](=[O:16])[CH2:13][C:10]1[CH:11]=[CH:12][C:7]([C:5](=[O:6])[CH2:4][CH2:3][CH2:2][Cl:1])=[CH:8][CH:9]=1', 'productSmiles': ['CN(C(CC1=CC=C(C=C1)C(CCCCl)=O)=O)C']}, {'title': '2-[4-(4-Chloro-butyryl)-phenyl]-propionic acid, dimethylamide;', 'paragraphText': '2-[4-(4-Chloro-butyryl)-phenyl]-propionic acid, pyrroldineamide;', 'reactionSmiles': '[Cl:1][CH2:2][CH2:3][CH2:4][C:5]([C:7]1[CH:12]=[CH:11][C:10]([CH:13]([CH3:17])[C:14](O)=[O:15])=[CH:9][CH:8]=1)=[O:6].[N:18]1(C(N)=O)[CH2:22]CC[CH2:19]1>>[CH3:19][N:18]([CH3:22])[C:14](=[O:15])[CH:13]([C:10]1[CH:11]=[CH:12][C:7]([C:5](=[O:6])[CH2:4][CH2:3][CH2:2][Cl:1])=[CH:8][CH:9]=1)[CH3:17]', 'productSmiles': ['CN(C(C(C)C1=CC=C(C=C1)C(CCCCl)=O)=O)C']}, {'title': '2-[4-(4-Chloro-butyryl)-phenyl]-2-methyl-propionic acid dimethylamide;', 'paragraphText': '2-[4-(4-Chloro-butyryl)-phenyl]-2-methyl-propionic acid, pyrroldineamide;', 'reactionSmiles': '[Cl:1][CH2:2][CH2:3][CH2:4][C:5]([C:7]1[CH:12]=[CH:11][C:10]([C:13]([CH3:18])([CH3:17])[C:14](O)=[O:15])=[CH:9][CH:8]=1)=[O:6].[N:19]1(C(N)=O)[CH2:23]CC[CH2:20]1>>[CH3:20][N:19]([CH3:23])[C:14](=[O:15])[C:13]([C:10]1[CH:11]=[CH:12][C:7]([C:5](=[O:6])[CH2:4][CH2:3][CH2:2][Cl:1])=[CH:8][CH:9]=1)([CH3:18])[CH3:17]', 'productSmiles': ['CN(C(C(C)(C)C1=CC=C(C=C1)C(CCCCl)=O)=O)C']}, {'title': 'Step d: 2-[4-(4-Chloro-butyryl)-phenyl]-2-methyl-propionic acid, ethyl ester', 'paragraphText': 'Add anhydrous hydrogen chloride gas (18.0 g) to anhydrous ethanol DB (210 g) by purging the solution. Add this hot solution (60° C.) to a solution of 2-[4-(4-chloro-butyryl)-phenyl)-2-methyl-propionic acid (31 g, 115.6 mmol) and reflux under a nitrogen atmosphere for 2.5 hours. Evaporate the solvent in vacuo, dissolve the residue in methylene chloride (150 mL) and wash with water (2×100 mL). Dry (MgSO4), filter through silica gel, washing the gel with methylene chloride (250 mL). Combine the organic washings and evaporate the solvent in vacuo to give the title compound as a colorless oil (33.3 g, 97%).', 'reactionSmiles': 'Cl.[Cl:2][CH2:3][CH2:4][CH2:5][C:6]([C:8]1[CH:13]=[CH:12][C:11]([C:14]([CH3:19])([CH3:18])[C:15]([OH:17])=[O:16])=[CH:10][CH:9]=1)=[O:7].[CH2:20](O)[CH3:21]>>[Cl:2][CH2:3][CH2:4][CH2:5][C:6]([C:8]1[CH:13]=[CH:12][C:11]([C:14]([CH3:19])([CH3:18])[C:15]([O:17][CH2:20][CH3:21])=[O:16])=[CH:10][CH:9]=1)=[O:7]', 'productSmiles': ['ClCCCC(=O)C1=CC=C(C=C1)C(C(=O)OCC)(C)C']}, {'title': 'Step d: 2-[4-(4-Chloro-butyryl)-phenyl]-2-methyl-propionic acid, methyl ester', 'paragraphText': 'Dissolve 2-[4-(4-chloro-butyryl)-phenyl]-2-methyl-propionic acid (6.2 g, 23.1 mmol) in hot methanolic solution of anhydrous hydrogen chloride (42 mL of a methanol containing 3.2 g of anhydrous hydrogen chloride). Reflux for 42 minutes, evaporate the solvent in vacuo, dissolve the residue in methylene chloride and wash with water. Dry (MgSO4), filter through silica gel, washing the gel with methylene chloride. Combine the organic washings and evaporate the solvent in vacuo to give the title compound as a clear oil (6.21 g, 94%).', 'reactionSmiles': '[Cl:1][CH2:2][CH2:3][CH2:4][C:5]([C:7]1[CH:12]=[CH:11][C:10]([C:13]([CH3:18])([CH3:17])[C:14]([OH:16])=[O:15])=[CH:9][CH:8]=1)=[O:6].[CH3:19]O>Cl>[Cl:1][CH2:2][CH2:3][CH2:4][C:5]([C:7]1[CH:12]=[CH:11][C:10]([C:13]([CH3:18])([CH3:17])[C:14]([O:16][CH3:19])=[O:15])=[CH:9][CH:8]=1)=[O:6]', 'productSmiles': ['ClCCCC(=O)C1=CC=C(C=C1)C(C(=O)OC)(C)C']}, {'title': 'Step d: 2-[4-(4-Chloro-butyryl)-phenyl]-2-methyl-propionic acid, methyl ester', 'paragraphText': 'Mix 2-[4-(4-chloro-butyryl)-phenyl]-2-methyl-propionic acid (10.0 g, 37.3 mmol) and anhydrous potassium carbonate (3.5 g, 25.3 mmol). Heat to 40° C. in acetonitrile (100 mL) and stir under a nitrogen atmosphere. Add dimethyl sulfate (13.3 g, 105 mmol) and reflux for 45 minutes. Evaporate the solvent in vacuo, dissolve the residue in ethyl acetate (50 mL) and wash with water (4×50 mL). Dry (MgSO4), filter through silica gel and evaporate the solvent in vacuo to give the title compound (6.4 g, 89%).', 'reactionSmiles': '[Cl:1][CH2:2][CH2:3][CH2:4][C:5]([C:7]1[CH:12]=[CH:11][C:10]([C:13]([CH3:18])([CH3:17])[C:14]([OH:16])=[O:15])=[CH:9][CH:8]=1)=[O:6].[C:19](=O)([O-])[O-].[K+].[K+].S(OC)(OC)(=O)=O>C(#N)C>[Cl:1][CH2:2][CH2:3][CH2:4][C:5]([C:7]1[CH:12]=[CH:11][C:10]([C:13]([CH3:18])([CH3:17])[C:14]([O:16][CH3:19])=[O:15])=[CH:9][CH:8]=1)=[O:6] |f:1.2.3|', 'productSmiles': ['ClCCCC(=O)C1=CC=C(C=C1)C(C(=O)OC)(C)C']}, {'title': 'Step h: 2-[4-(4-Chloro-butyryl)-phenyl]-2-methyl-propionic acid', 'paragraphText': 'Fit a jacketed glass cell of about 50 mL capacity with an expanded silver mesh cathode (14 cm2 geometric area), a roughly concentric magnesium sacrificial anode, a tube to deliver carbon dioxide gas and a magnetic stir bar. Add a solution of hydrogen chloride remediated 1-[4-(1-bromo-1-methyl-ethyl)-phenyl]-4-chloro-butan-1-one and 1-[4-(1-chloro-1-methyl-ethyl)-phenyl]-4-chloro-butan-1-one (2.79 g, 89 mole %, 3:1 ratio of tertiary benzylic bromide to tertiary benzylic chloride by NMR, approximately 8.6 mmol total active tertiary benzylic halide) in acetonitrile (45 mL) and tetraethylammonium bromide (0.19 g). Close the cell and cool to −10° C. with a continuous carbon dioxide sparge for 169 minutes at an average current density of 13 mA cm−2. Warm to contents of the cell to ambient temperature, drain the contents, acidify with chilled aqueous 6M hydrochloric acid, extract and evaporate the solvent in vacuo to give the title compound (1.53 g, 66%).', 'reactionSmiles': '[Mg].[C:2](=[O:4])=[O:3].Cl.Br[C:7]([C:10]1[CH:15]=[CH:14][C:13]([C:16](=[O:21])[CH2:17][CH2:18][CH2:19][Cl:20])=[CH:12][CH:11]=1)([CH3:9])[CH3:8].ClC(C1C=CC(C(=O)CCCCl)=CC=1)(C)C>C(#N)C.[Br-].C([N+](CC)(CC)CC)C.[Ag]>[Cl:20][CH2:19][CH2:18][CH2:17][C:16]([C:13]1[CH:12]=[CH:11][C:10]([C:7]([CH3:9])([CH3:8])[C:2]([OH:4])=[O:3])=[CH:15][CH:14]=1)=[O:21] |f:6.7|', 'productSmiles': ['ClCCCC(=O)C1=CC=C(C=C1)C(C(=O)O)(C)C']}, {'title': 'Step h: 2-[4-(4-Chloro-butyryl)-phenyl]-2-methyl-propionic acid', 'paragraphText': 'Fit a jacketed glass cell of 50 mL capacity with an expanded silver mesh cathode (14 cm2 geometric area), a roughly concentric magnesium sacrificial anode, a tube to deliver carbon dioxide gas, and a magnetic stir bar. Cool the cell to −10° C. under carbon dioxide. Add a solution of tetraethylammonium chloride (40 mL of a 0.02M solution in dimethylformamide) and 1-[4-(1-chloro-1-methyl-ethyl)-phenyl]-4-chloro-butan-1-one (2.91 g, 85% pure by NMR, 9.81 mmol) and carry out electrolysis for 178 minutes at an average current density of 12.4 mA cm-2: the total charge passed is equal to 98% of the calculated theoretical two electron value. Warm the contents of the cell to ambient temperature, drain the contents, acidify with chilled aqueous 6M hydrochloric acid, extract and evaporate the solvent in vacuo to give the title compound (1.89 g, 72%).', 'reactionSmiles': '[Mg].[C:2](=[O:4])=[O:3].Cl[C:6]([C:9]1[CH:14]=[CH:13][C:12]([C:15](=[O:20])[CH2:16][CH2:17][CH2:18][Cl:19])=[CH:11][CH:10]=1)([CH3:8])[CH3:7].Cl>[Cl-].C([N+](CC)(CC)CC)C.CN(C)C=O.[Ag]>[Cl:19][CH2:18][CH2:17][CH2:16][C:15]([C:12]1[CH:11]=[CH:10][C:9]([C:6]([CH3:8])([CH3:7])[C:2]([OH:4])=[O:3])=[CH:14][CH:13]=1)=[O:20] |f:4.5|', 'productSmiles': ['ClCCCC(=O)C1=CC=C(C=C1)C(C(=O)O)(C)C']}, {'title': 'Step m: 2-(4-Cyclopropanecarbonyl-phenyl)-2-methyl-propionamide', 'paragraphText': 'Dissolve 2-(4-cyclopropanecarbonyl-phenyl)-2-methyl-propionitrile (100 mg) in aqueous ethanolic potassium hydroxide (2 mL) (prepared from ethanol (5 mL), water (5 mL) and solid potassium hydroxide (1.5 g). Stir overnight at room temperature, then heat at reflux for 6 hours. Cool and evaporate the solvent in vacuo to give the title compound.', 'reactionSmiles': '[CH:1]1([C:4]([C:6]2[CH:11]=[CH:10][C:9]([C:12]([CH3:16])([CH3:15])[C:13]#[N:14])=[CH:8][CH:7]=2)=[O:5])[CH2:3][CH2:2]1.C([OH:19])C.O>[OH-].[K+]>[CH:1]1([C:4]([C:6]2[CH:7]=[CH:8][C:9]([C:12]([CH3:16])([CH3:15])[C:13]([NH2:14])=[O:19])=[CH:10][CH:11]=2)=[O:5])[CH2:2][CH2:3]1 |f:3.4|', 'productSmiles': ['C1(CC1)C(=O)C1=CC=C(C=C1)C(C(=O)N)(C)C']}, {'title': 'Step t: 2-(4-Cyclopropanecarbonyl-phenyl)-2-methyl-propionic acid, ethyl ester', 'paragraphText': 'Dissolve 2-(4-cyclopropanecarbonyl-phenyl)-2-methyl-propionamide (100 mg) in ethanol and bubble in hydrochloride gas for 5 minutes while stirring. Reflux for 10 hours, distill off the ethanol and extract into ethyl acetate. Evaporate the solvent in vacuo to give the title compound as an oil (50 mg).', 'reactionSmiles': '[CH:1]1([C:4]([C:6]2[CH:11]=[CH:10][C:9]([C:12]([CH3:17])([CH3:16])[C:13](N)=[O:14])=[CH:8][CH:7]=2)=[O:5])[CH2:3][CH2:2]1.[CH2:18]([OH:20])[CH3:19]>>[CH:1]1([C:4]([C:6]2[CH:11]=[CH:10][C:9]([C:12]([CH3:17])([CH3:16])[C:13]([O:20][CH2:18][CH3:19])=[O:14])=[CH:8][CH:7]=2)=[O:5])[CH2:3][CH2:2]1', 'productSmiles': ['C1(CC1)C(=O)C1=CC=C(C=C1)C(C(=O)OCC)(C)C']}, {'title': 'Step k and step g: 2-[4-(4-Bromo-butyryl)-phenyl]-2-methyl-propionic acid', 'paragraphText': 'Treat 2-(4-cyclopropanecarbonyl-phenyl)-2-methyl-N-methyl-N-methoxy-propionamide (0.15 g, 0.53 mmol) with 48% HBr (1 mL) for 2 hours at 80° C. Cool to room temperature, dilute with water (5 mL) and neutralize with aqueous sodium hydrogen carbonate until pH 7. Extract with methylene chloride (3×15 mL), dry (Na2SO4), filter and evaporate the solvent in vacuo. Purify by silica gel chromatography (3:1 hexane/ethyl acetate) to give the title compound (0.15 g, 95%).', 'reactionSmiles': '[CH:1]1([C:4]([C:6]2[CH:11]=[CH:10][C:9]([C:12]([CH3:20])(C)[C:13](N(C)OC)=O)=[CH:8][CH:7]=2)=[O:5])[CH2:3][CH2:2]1.[BrH:21].[C:22](=[O:25])([O-])[OH:23].[Na+]>O>[Br:21][CH2:3][CH2:2][CH2:1][C:4]([C:6]1[CH:11]=[CH:10][C:9]([C:12]([CH3:20])([CH3:13])[C:22]([OH:23])=[O:25])=[CH:8][CH:7]=1)=[O:5] |f:2.3|', 'productSmiles': ['BrCCCC(=O)C1=CC=C(C=C1)C(C(=O)O)(C)C']}, {'paragraphText': 'Mix methallyl acetate (228 g, 2.0 mol) and benzene (1 L) and cool to 5° C. Add aluminum chloride (266 g, 2.0 mol) over approximately 30 minutes while maintaining the temperature below 10° C. Add, in portions of 50 mL to 80 mL each, to a 50 C. mixture of aluminum chloride (15 g) in benzene (600 mL). After addition is complete, stir at 0-3° C. for ½hour, pour onto ice (2kg) and separate the organic layer. Wash with water (2×300 mL), dry (Na2SO4), and distill to give neophyl acetate.', 'reactionSmiles': '[C:1]([O:4][CH2:5][C:6](=[CH2:8])[CH3:7])(=[O:3])[CH3:2].[Cl-].[Al+3].[Cl-].[Cl-].[CH:13]1[CH:18]=[CH:17][CH:16]=[CH:15][CH:14]=1>>[C:1]([O:4][CH2:5][C:6]([C:13]1[CH:18]=[CH:17][CH:16]=[CH:15][CH:14]=1)([CH3:7])[CH3:8])(=[O:3])[CH3:2] |f:1.2.3.4|', 'productSmiles': ['C(C)(=O)OCC(C)(C)C1=CC=CC=C1']}, {'title': 'Step c: 4-[4-[4-(Hydroxydiphenylmethyl)-1-piperidinyl]-1-hydroxybutyl]-α,α-dimethylbenzeneacetic acid', 'paragraphText': 'Add sodium borohydride (0.105 g, 2.77 mmol) to a solution of sodium hydroxide (0.053 g, 1.33 mmol) in deionized water (2 mL) and add, by dropwise addition, to a solution of 4-[4-[4-(hydroxydiphenylmethyl)-1-piperidinyl]-1-oxobutyl]-α,α-dimethylbenzeneacetic acid hydrochloride (0.70 g, 1.31 mmol) in ethanol (30 mL). Stir at room temperature for 3.5 hours at pH 7-8. Evaporate the solvent in vacuo and stir the residue with methylene chloride (15 mL) and deionized water (15 mL). Dry (MgSO4), acidify to pH 3 with gaseous hydrogen chloride and evaporate the solvent. Add ether with stirring, filter the white solid and wash with additional ether. Dry to give the title compound.', 'reactionSmiles': '[BH4-].[Na+].[OH-].[Na+].Cl.[OH:6][C:7]([C:37]1[CH:42]=[CH:41][CH:40]=[CH:39][CH:38]=1)([C:31]1[CH:36]=[CH:35][CH:34]=[CH:33][CH:32]=1)[CH:8]1[CH2:13][CH2:12][N:11]([CH2:14][CH2:15][CH2:16][C:17]([C:19]2[CH:24]=[CH:23][C:22]([C:25]([CH3:30])([CH3:29])[C:26]([OH:28])=[O:27])=[CH:21][CH:20]=2)=[O:18])[CH2:10][CH2:9]1>O.C(O)C>[OH:6][C:7]([C:37]1[CH:38]=[CH:39][CH:40]=[CH:41][CH:42]=1)([C:31]1[CH:32]=[CH:33][CH:34]=[CH:35][CH:36]=1)[CH:8]1[CH2:13][CH2:12][N:11]([CH2:14][CH2:15][CH2:16][CH:17]([C:19]2[CH:24]=[CH:23][C:22]([C:25]([CH3:30])([CH3:29])[C:26]([OH:28])=[O:27])=[CH:21][CH:20]=2)[OH:18])[CH2:10][CH2:9]1 |f:0.1,2.3,4.5|', 'productSmiles': ['OC(C1CCN(CC1)CCCC(O)C1=CC=C(C=C1)C(C(=O)O)(C)C)(C1=CC=CC=C1)C1=CC=CC=C1']}, {'title': 'Step c: (S)-4-[4-[4-(Hydroxydiphenylmethyl)-1-piperidinyl]-1-hydroxybutyl]-α,α-dimethylbenzeneacetic acid, ethyl ester', 'paragraphText': 'Dissolve (−)-B-chlorodiisopinocamphenylborane (2.5 g, 7.8 mmol) in anhydrous tetrahydrofuran (5 mL). Add a solution of 4-[4-[4-(hydroxydiphenylmethyl)-1-piperidinyl]-1-oxobutyl]-α,α-dimethylbenzeneacetic acid, methyl ester (3.54 mmol) in anhydrous tetrahydrofuran (5 mL). Stir at room temperature for 3 days and cool to 0° C. Add water (1 mL) and 30% hydrogen peroxide (2 mL) and stir for 20 minutes. Add methylene chloride (30 mL) and wash with brine (30 mL), then aqueous sodium hydrogen carbonate (30 mL), then brine (30 mL). Dry (MgSO4), evaporate the solvent in vacuo and purify by chromatography to give the title compound.', 'reactionSmiles': 'B(Cl)([C@H]1[C@H](C)[C@H]2C(C)(C)[C@@H](C2)C1)[C@H:2]1[C@H](C)[C@@H]2C(C)(C)[C@@H](C2)C1.[OH:23][C:24]([C:55]1[CH:60]=[CH:59][CH:58]=[CH:57][CH:56]=1)([C:49]1[CH:54]=[CH:53][CH:52]=[CH:51][CH:50]=1)[CH:25]1[CH2:30][CH2:29][N:28]([CH2:31][CH2:32][CH2:33][C:34]([C:36]2[CH:41]=[CH:40][C:39]([C:42]([CH3:48])([CH3:47])[C:43]([O:45][CH3:46])=[O:44])=[CH:38][CH:37]=2)=[O:35])[CH2:27][CH2:26]1.O.OO>O1CCCC1>[OH:23][C:24]([C:55]1[CH:60]=[CH:59][CH:58]=[CH:57][CH:56]=1)([C:49]1[CH:54]=[CH:53][CH:52]=[CH:51][CH:50]=1)[CH:25]1[CH2:30][CH2:29][N:28]([CH2:31][CH2:32][CH2:33][C@@H:34]([C:36]2[CH:41]=[CH:40][C:39]([C:42]([CH3:48])([CH3:47])[C:43]([O:45][CH2:46][CH3:2])=[O:44])=[CH:38][CH:37]=2)[OH:35])[CH2:27][CH2:26]1', 'productSmiles': ['OC(C1CCN(CC1)CCC[C@H](O)C1=CC=C(C=C1)C(C(=O)OCC)(C)C)(C1=CC=CC=C1)C1=CC=CC=C1']}, {'title': 'Step a: 4-[4-[4-(Hydroxydiphenylmethyl)-1-piperidinyl]-1-oxobutyl]-α,α-dimethylbenzeneacetic acid, ethyl ester hydrochloride', 'paragraphText': 'Dissolve 2-[4-(4-chloro-butyryl)-phenyl]-2-methyl-propionic acid, ethyl ester (15.0 g, 49.53 mmol) and α,α-diphenyl-4-piperidinemethanol (29.66 g, 106.4 mmol) in xylene (60 mL). Reflux for 5.5 hours, cool in an ice bath, filter and wash with cold xylenes (25 mL). Filter the filtrate though silica gel (20 g) and wash the gel with xylenes (40 mL). Add xylene (60 mL) and concentrated hydrochloric acid (6.45 g, 65.6 mmol) with stirring. Add additional xylenes (40 mL) and stir for 2 hour. Filter, wash with xylene (50 mL), vacuum dry and slurry with a mixture of ethanol (60 mL) and hexane (120 mL) at 70-72° C. for 30 minutes. Filter, wash with 3:1 v/v solution of n-heptane/ethanol (30 mL) and dry to give the title compound as a light white solid (19.7 g, 70%); mp 206-208° C.', 'reactionSmiles': '[Cl:1][CH2:2][CH2:3][CH2:4][C:5]([C:7]1[CH:12]=[CH:11][C:10]([C:13]([CH3:20])([CH3:19])[C:14]([O:16][CH2:17][CH3:18])=[O:15])=[CH:9][CH:8]=1)=[O:6].[C:21]1([C:27]([C:35]2[CH:40]=[CH:39][CH:38]=[CH:37][CH:36]=2)([CH:29]2[CH2:34][CH2:33][NH:32][CH2:31][CH2:30]2)[OH:28])[CH:26]=[CH:25][CH:24]=[CH:23][CH:22]=1.Cl>C1(C)C(C)=CC=CC=1>[ClH:1].[OH:28][C:27]([C:35]1[CH:40]=[CH:39][CH:38]=[CH:37][CH:36]=1)([C:21]1[CH:22]=[CH:23][CH:24]=[CH:25][CH:26]=1)[CH:29]1[CH2:34][CH2:33][N:32]([CH2:2][CH2:3][CH2:4][C:5]([C:7]2[CH:12]=[CH:11][C:10]([C:13]([CH3:20])([CH3:19])[C:14]([O:16][CH2:17][CH3:18])=[O:15])=[CH:9][CH:8]=2)=[O:6])[CH2:31][CH2:30]1 |f:4.5|', 'productSmiles': ['Cl.OC(C1CCN(CC1)CCCC(=O)C1=CC=C(C=C1)C(C(=O)OCC)(C)C)(C1=CC=CC=C1)C1=CC=CC=C1']}, {'title': 'Step a: 4-[4-[4-(Hydroxydiphenylmethyl)-1-piperidinyl]-1-oxobutyl]-α,α-dimethylbenzeneacetic acid, methyl ester hydrochloride', 'paragraphText': 'Dissolve 2-[4-(4-chloro-butyryl)-phenyl]-2-methyl-propionic acid, methyl ester (2.82 g, 10.0 mmol) and α,α-diphenyl-4-piperidinemethanol (5.58 g, 21.0 mmol) in toluene (20 mL). Reflux for 29 hours, cool in an ice bath, filter, filter the filtrate though silica gel (5 g) and wash the gel with toluene (10 mL). Evaporate the solvent in vacuo and dissolve the residue in ethyl ether (100 mL). Add anhydrous hydrogen chloride and filter to give the title compound as an off-white powder (4.2 g, 76%); mp 165-175° C.', 'reactionSmiles': '[Cl:1][CH2:2][CH2:3][CH2:4][C:5]([C:7]1[CH:12]=[CH:11][C:10]([C:13]([CH3:19])([CH3:18])[C:14]([O:16][CH3:17])=[O:15])=[CH:9][CH:8]=1)=[O:6].[C:20]1([C:26]([C:34]2[CH:39]=[CH:38][CH:37]=[CH:36][CH:35]=2)([CH:28]2[CH2:33][CH2:32][NH:31][CH2:30][CH2:29]2)[OH:27])[CH:25]=[CH:24][CH:23]=[CH:22][CH:21]=1>C1(C)C=CC=CC=1>[ClH:1].[OH:27][C:26]([C:34]1[CH:39]=[CH:38][CH:37]=[CH:36][CH:35]=1)([C:20]1[CH:21]=[CH:22][CH:23]=[CH:24][CH:25]=1)[CH:28]1[CH2:33][CH2:32][N:31]([CH2:2][CH2:3][CH2:4][C:5]([C:7]2[CH:12]=[CH:11][C:10]([C:13]([CH3:19])([CH3:18])[C:14]([O:16][CH3:17])=[O:15])=[CH:9][CH:8]=2)=[O:6])[CH2:30][CH2:29]1 |f:3.4|', 'productSmiles': ['Cl.OC(C1CCN(CC1)CCCC(=O)C1=CC=C(C=C1)C(C(=O)OC)(C)C)(C1=CC=CC=C1)C1=CC=CC=C1']}, {'title': 'Step c: 4-[4-[4-(Hydroxydiphenylmethyl)-1-piperidinyl]-1-hydroxybutyl]-α,α-dimethylbenzeneacetic acid, methyl ester hydrochloride', 'paragraphText': 'Dissolve 4-[4-[4-(hydroxydiphenylmethyl)-1-piperidinyl]-1-oxobutyl]-α,α-dimethylbenzeneacetic acid, methyl ester hydrochloride (550 mg, 1.00 mmol) in methanol (5 mL) and add sodium borohydride (62.8 mg) in three batches. Stir for 1 hour, add 50% aqueous sodium hydroxide (800 mg) and heat to reflux with stirring. After 3 hours, cool to −10° C., add approximately 1.5 mL of 6N HCl over 10 minutes, filter the solid and wash with ice water (12 mL) such that the final filtrate is pH=5. Dry the resulting solid in vacuo (50-60° C., 10−1 mm) overnight to give the title compound (515 mg, 94%); mp 165-180° C.', 'reactionSmiles': '[ClH:1].[OH:2][C:3]([C:34]1[CH:39]=[CH:38][CH:37]=[CH:36][CH:35]=1)([C:28]1[CH:33]=[CH:32][CH:31]=[CH:30][CH:29]=1)[CH:4]1[CH2:9][CH2:8][N:7]([CH2:10][CH2:11][CH2:12][C:13]([C:15]2[CH:20]=[CH:19][C:18]([C:21]([CH3:27])([CH3:26])[C:22]([O:24][CH3:25])=[O:23])=[CH:17][CH:16]=2)=[O:14])[CH2:6][CH2:5]1.[BH4-].[Na+].[OH-].[Na+].Cl>CO>[ClH:1].[OH:2][C:3]([C:28]1[CH:33]=[CH:32][CH:31]=[CH:30][CH:29]=1)([C:34]1[CH:39]=[CH:38][CH:37]=[CH:36][CH:35]=1)[CH:4]1[CH2:9][CH2:8][N:7]([CH2:10][CH2:11][CH2:12][CH:13]([C:15]2[CH:20]=[CH:19][C:18]([C:21]([CH3:27])([CH3:26])[C:22]([O:24][CH3:25])=[O:23])=[CH:17][CH:16]=2)[OH:14])[CH2:6][CH2:5]1 |f:0.1,2.3,4.5,8.9|', 'productSmiles': ['Cl.OC(C1CCN(CC1)CCCC(O)C1=CC=C(C=C1)C(C(=O)OC)(C)C)(C1=CC=CC=C1)C1=CC=CC=C1']}, {'title': 'Step c: 2-(4-(1-Hydroxy-4-(4-(hydroxydiphenylmethyl)-1-piperidinyl)-butyl)-phenyl)-2-methyl-propanol', 'paragraphText': 'Dissolve 2-(4-(1-oxo-4-(4-(hydroxydiphenylmethyl)-1-piperidinyl)-butyl)-phenyl)-2-methylpropanol in methanol (450 mL) and stir for 15 minutes at room temperature. Add, by dropwise addition, a solution of sodium borohydride (2.259, 0.06 mol) in water (10 mL) over 15 minutes. Stir for another 30 minutes and cool in an ice-bath. Slowly add concentrated hydrochloric acid (4 mL) and water (8 mL) and stir for an additional 20 minutes. Evaporate the solvent in vacuo and partition the residue between methylene chloride (150 mL) and water (70 mL). Separate the organic phase and extract the aqueous phase with methylene chloride (25 mL). Wash the combined organic layers with water (2×50 mL), evaporate the solvent in vacuo and recrystallize (acetone) to give the title compound as white needles (9.53 g, 79%).', 'reactionSmiles': '[O:1]=[C:2]([C:26]1[CH:31]=[CH:30][C:29]([C:32]([CH3:36])([CH3:35])[CH2:33][OH:34])=[CH:28][CH:27]=1)[CH2:3][CH2:4][CH2:5][N:6]1[CH2:11][CH2:10][CH:9]([C:12]([OH:25])([C:19]2[CH:24]=[CH:23][CH:22]=[CH:21][CH:20]=2)[C:13]2[CH:18]=[CH:17][CH:16]=[CH:15][CH:14]=2)[CH2:8][CH2:7]1.[BH4-].[Na+].Cl>CO.O>[OH:1][CH:2]([C:26]1[CH:27]=[CH:28][C:29]([C:32]([CH3:36])([CH3:35])[CH2:33][OH:34])=[CH:30][CH:31]=1)[CH2:3][CH2:4][CH2:5][N:6]1[CH2:11][CH2:10][CH:9]([C:12]([OH:25])([C:13]2[CH:14]=[CH:15][CH:16]=[CH:17][CH:18]=2)[C:19]2[CH:24]=[CH:23][CH:22]=[CH:21][CH:20]=2)[CH2:8][CH2:7]1 |f:1.2|', 'productSmiles': ['OC(CCCN1CCC(CC1)C(C1=CC=CC=C1)(C1=CC=CC=C1)O)C1=CC=C(C=C1)C(CO)(C)C']}, {'title': 'Step g: 4-[4-[4-(Hydroxydiphenylmethyl)-1-piperidinyl]-1-oxobutyl]-α,α-dimethylbenzeneacetic acid hydrochloride', 'paragraphText': 'Dissolve 4-[4-[4-(hydroxydiphenylmethyl)-1-piperidinyl]-1-oxobutyl]-α,α-dimethylbenzeneacetic acid methyl ester (0.131 mol) in methanol (2.5 L) and add 10% sodium hydroxide (769 mL, 1.92 mol). Stir at reflux for 1.5 hours, cool to 68° C. and evaporate the solvent in vacuo to a residue. Add chloroform (1 L) and stir until the solids are dissolved. Separate the organic phase and extract the aqueous phase with chloroform (3×300 mL). Combine the organic phases, dry (MgSO4) and evaporate the solvent in vacuo to give a residue. Treat the residue with ethereal HCl, filter and dry to give the title compound.', 'reactionSmiles': 'C[O:2][C:3](=[O:38])[C:4]([CH3:37])([CH3:36])[C:5]1[CH:10]=[CH:9][C:8]([C:11](=[O:35])[CH2:12][CH2:13][CH2:14][N:15]2[CH2:20][CH2:19][CH:18]([C:21]([OH:34])([C:28]3[CH:33]=[CH:32][CH:31]=[CH:30][CH:29]=3)[C:22]3[CH:27]=[CH:26][CH:25]=[CH:24][CH:23]=3)[CH2:17][CH2:16]2)=[CH:7][CH:6]=1.[OH-].[Na+].[ClH:41]>CO>[ClH:41].[OH:34][C:21]([C:28]1[CH:33]=[CH:32][CH:31]=[CH:30][CH:29]=1)([C:22]1[CH:23]=[CH:24][CH:25]=[CH:26][CH:27]=1)[CH:18]1[CH2:19][CH2:20][N:15]([CH2:14][CH2:13][CH2:12][C:11]([C:8]2[CH:9]=[CH:10][C:5]([C:4]([CH3:37])([CH3:36])[C:3]([OH:38])=[O:2])=[CH:6][CH:7]=2)=[O:35])[CH2:16][CH2:17]1 |f:1.2,5.6|', 'productSmiles': ['Cl.OC(C1CCN(CC1)CCCC(=O)C1=CC=C(C=C1)C(C(=O)O)(C)C)(C1=CC=CC=C1)C1=CC=CC=C1']}]\n"
     ]
    }
   ],
   "source": [
    "# Define the namespace\n",
    "ns = {'cml': 'http://www.xml-cml.org/schema', 'dl': 'http://bitbucket.org/dan2097'}\n",
    "\n",
    "# Create lists to store extracted information\n",
    "reaction_list = []\n",
    "\n",
    "# Find all <reaction> elements\n",
    "reaction_elements = root.findall('.//cml:reaction', ns)\n",
    "\n",
    "# Iterate over each <reaction> element\n",
    "for reaction_element in reaction_elements:\n",
    "    # Create a dictionary to store information about the reaction\n",
    "    reaction_dict = {}\n",
    "\n",
    "    # Extract title\n",
    "    title = reaction_element.find('.//dl:headingText', ns)\n",
    "    if title is not None:\n",
    "        reaction_dict['title'] = title.text\n",
    "\n",
    "    # Extract paragraph text\n",
    "    paragraph_text = reaction_element.find('.//dl:paragraphText', ns)\n",
    "    if paragraph_text is not None:\n",
    "        reaction_dict['paragraphText'] = paragraph_text.text\n",
    "\n",
    "    # Extract reaction SMILES\n",
    "    reaction_smiles = reaction_element.find('.//dl:reactionSmiles', ns)\n",
    "    if reaction_smiles is not None:\n",
    "        reaction_dict['reactionSmiles'] = reaction_smiles.text\n",
    "\n",
    "    # Extract product SMILES\n",
    "    product_elements = reaction_element.findall('.//cml:product', ns)\n",
    "    product_smiles = []\n",
    "    for product_element in product_elements:\n",
    "        identifier_element = product_element.find('.//cml:identifier[@dictRef=\"cml:smiles\"]', ns)\n",
    "        if identifier_element is not None:\n",
    "            smiles_value = identifier_element.get('value')\n",
    "            if smiles_value is not None:\n",
    "                product_smiles.append(smiles_value)\n",
    "    if product_smiles:\n",
    "        reaction_dict['productSmiles'] = product_smiles\n",
    "\n",
    "    # Append the reaction dictionary to the reaction list\n",
    "    reaction_list.append(reaction_dict)\n",
    "\n",
    "# Check if any values were extracted\n",
    "print(\"Reaction List:\", reaction_list)\n"
   ]
  },
  {
   "cell_type": "code",
   "execution_count": 13,
   "metadata": {},
   "outputs": [
    {
     "name": "stdout",
     "output_type": "stream",
     "text": [
      "38\n"
     ]
    }
   ],
   "source": [
    "print(len(reaction_list))"
   ]
  },
  {
   "cell_type": "markdown",
   "metadata": {},
   "source": [
    "This seems to have worked out! Let's check out the daraframe."
   ]
  },
  {
   "cell_type": "code",
   "execution_count": 15,
   "metadata": {},
   "outputs": [
    {
     "data": {
      "text/html": [
       "<div>\n",
       "<style scoped>\n",
       "    .dataframe tbody tr th:only-of-type {\n",
       "        vertical-align: middle;\n",
       "    }\n",
       "\n",
       "    .dataframe tbody tr th {\n",
       "        vertical-align: top;\n",
       "    }\n",
       "\n",
       "    .dataframe thead th {\n",
       "        text-align: right;\n",
       "    }\n",
       "</style>\n",
       "<table border=\"1\" class=\"dataframe\">\n",
       "  <thead>\n",
       "    <tr style=\"text-align: right;\">\n",
       "      <th></th>\n",
       "      <th>paragraphText</th>\n",
       "      <th>reactionSmiles</th>\n",
       "      <th>productSmiles</th>\n",
       "      <th>title</th>\n",
       "    </tr>\n",
       "  </thead>\n",
       "  <tbody>\n",
       "    <tr>\n",
       "      <th>0</th>\n",
       "      <td>PL 137,526 describes the hydrogenation of p-te...</td>\n",
       "      <td>[C:1]([C:5]1[CH:10]=[CH:9][C:8]([OH:11])=[CH:7...</td>\n",
       "      <td>[C(C)(C)(C)C1CCC(CC1)O]</td>\n",
       "      <td>NaN</td>\n",
       "    </tr>\n",
       "    <tr>\n",
       "      <th>1</th>\n",
       "      <td>Slurry aluminum chloride (140.9 g, 1.075 mol) ...</td>\n",
       "      <td>[Cl-].[Al+3].[Cl-].[Cl-].[Cl:5][CH2:6][CH2:7][...</td>\n",
       "      <td>[ClCCCC(=O)C1=CC=C(C=C1)C(C)C]</td>\n",
       "      <td>Step h: 4-Chloro-1-(4-isopropyl-phenyl)-butan-...</td>\n",
       "    </tr>\n",
       "    <tr>\n",
       "      <th>2</th>\n",
       "      <td>Suspend anhydrous AlCl3 (156 g, 1.15 mol) in t...</td>\n",
       "      <td>[Al+3].[Cl-].[Cl-].[Cl-].[Cl:5][CH2:6][CH2:7][...</td>\n",
       "      <td>[ClCCCC(=O)C1=CC=C(C=C1)C]</td>\n",
       "      <td>Step d: 4-Chloro-1-(4-methyl-phenyl)-butan-1-one</td>\n",
       "    </tr>\n",
       "    <tr>\n",
       "      <th>3</th>\n",
       "      <td>Dissolve 4-chloro-1-(4-isopropyl-phenyl)-butan...</td>\n",
       "      <td>[Cl:1][CH2:2][CH2:3][CH2:4][C:5]([C:7]1[CH:12]...</td>\n",
       "      <td>[BrC(C)(C)C1=CC=C(C=C1)C(CCCCl)=O]</td>\n",
       "      <td>1-[4-(1-Bromo-1-methyl-ethyl)-phenyl]-4-chloro...</td>\n",
       "    </tr>\n",
       "    <tr>\n",
       "      <th>4</th>\n",
       "      <td>Dissolve 4-chloro-1-(4-isopropyl-phenyl)-butan...</td>\n",
       "      <td>[Cl:1][CH2:2][CH2:3][CH2:4][C:5]([C:7]1[CH:12]...</td>\n",
       "      <td>[BrC(C)(C)C1=CC=C(C=C1)C(CCCCl)=O]</td>\n",
       "      <td>1-[4-(1-Bromo-1-methyl-ethyl)-phenyl]-4-chloro...</td>\n",
       "    </tr>\n",
       "  </tbody>\n",
       "</table>\n",
       "</div>"
      ],
      "text/plain": [
       "                                       paragraphText  \\\n",
       "0  PL 137,526 describes the hydrogenation of p-te...   \n",
       "1  Slurry aluminum chloride (140.9 g, 1.075 mol) ...   \n",
       "2  Suspend anhydrous AlCl3 (156 g, 1.15 mol) in t...   \n",
       "3  Dissolve 4-chloro-1-(4-isopropyl-phenyl)-butan...   \n",
       "4  Dissolve 4-chloro-1-(4-isopropyl-phenyl)-butan...   \n",
       "\n",
       "                                      reactionSmiles  \\\n",
       "0  [C:1]([C:5]1[CH:10]=[CH:9][C:8]([OH:11])=[CH:7...   \n",
       "1  [Cl-].[Al+3].[Cl-].[Cl-].[Cl:5][CH2:6][CH2:7][...   \n",
       "2  [Al+3].[Cl-].[Cl-].[Cl-].[Cl:5][CH2:6][CH2:7][...   \n",
       "3  [Cl:1][CH2:2][CH2:3][CH2:4][C:5]([C:7]1[CH:12]...   \n",
       "4  [Cl:1][CH2:2][CH2:3][CH2:4][C:5]([C:7]1[CH:12]...   \n",
       "\n",
       "                        productSmiles  \\\n",
       "0             [C(C)(C)(C)C1CCC(CC1)O]   \n",
       "1      [ClCCCC(=O)C1=CC=C(C=C1)C(C)C]   \n",
       "2          [ClCCCC(=O)C1=CC=C(C=C1)C]   \n",
       "3  [BrC(C)(C)C1=CC=C(C=C1)C(CCCCl)=O]   \n",
       "4  [BrC(C)(C)C1=CC=C(C=C1)C(CCCCl)=O]   \n",
       "\n",
       "                                               title  \n",
       "0                                                NaN  \n",
       "1  Step h: 4-Chloro-1-(4-isopropyl-phenyl)-butan-...  \n",
       "2   Step d: 4-Chloro-1-(4-methyl-phenyl)-butan-1-one  \n",
       "3  1-[4-(1-Bromo-1-methyl-ethyl)-phenyl]-4-chloro...  \n",
       "4  1-[4-(1-Bromo-1-methyl-ethyl)-phenyl]-4-chloro...  "
      ]
     },
     "execution_count": 15,
     "metadata": {},
     "output_type": "execute_result"
    }
   ],
   "source": [
    "df = pd.DataFrame(reaction_list)\n",
    "df.head()"
   ]
  },
  {
   "cell_type": "code",
   "execution_count": null,
   "metadata": {},
   "outputs": [],
   "source": []
  }
 ],
 "metadata": {
  "kernelspec": {
   "display_name": "ppchem",
   "language": "python",
   "name": "python3"
  },
  "language_info": {
   "codemirror_mode": {
    "name": "ipython",
    "version": 3
   },
   "file_extension": ".py",
   "mimetype": "text/x-python",
   "name": "python",
   "nbconvert_exporter": "python",
   "pygments_lexer": "ipython3",
   "version": "3.10.13"
  }
 },
 "nbformat": 4,
 "nbformat_minor": 2
}
