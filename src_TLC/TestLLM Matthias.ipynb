{
 "cells": [
  {
   "cell_type": "code",
   "execution_count": 1,
   "id": "9d4c92f2-0b78-4cae-990b-dfffc153dd68",
   "metadata": {},
   "outputs": [],
   "source": [
    "import pandas as pd\n",
    "\n",
    "df = pd.read_csv('/Users/matthiasgalka/git/ppchem_project/data/AfterRFfilter(1).csv')"
   ]
  },
  {
   "cell_type": "code",
   "execution_count": 3,
   "id": "7ef6c6fa-ab5f-4e1f-8885-2bbc9bd9cd63",
   "metadata": {},
   "outputs": [
    {
     "data": {
      "text/plain": [
       "(9144, 4)"
      ]
     },
     "execution_count": 3,
     "metadata": {},
     "output_type": "execute_result"
    }
   ],
   "source": [
    "df.head()\n",
    "df.shape"
   ]
  },
  {
   "cell_type": "code",
   "execution_count": 4,
   "id": "a44dc0ee-e084-4b32-aca2-d7a06c63e179",
   "metadata": {},
   "outputs": [],
   "source": [
    "import re\n",
    "\n",
    "#Rf_check = r'( ?R[fF]?[ :=˜(]?)'\n",
    "Rf_check = r'( ?(R|r)[fF][ :=˜0(])'\n",
    "\n",
    "rows_to_drop = []\n",
    "\n",
    "for index, row in df.iterrows():\n",
    "    checkRf = re.findall(Rf_check, row['paragraphText'])\n",
    "    if not checkRf:\n",
    "        rows_to_drop.append(index)"
   ]
  },
  {
   "cell_type": "code",
   "execution_count": 6,
   "id": "53cc5d3e-43b3-4402-a9c4-4f834723b557",
   "metadata": {},
   "outputs": [
    {
     "data": {
      "text/plain": [
       "569"
      ]
     },
     "execution_count": 6,
     "metadata": {},
     "output_type": "execute_result"
    }
   ],
   "source": [
    "len(rows_to_drop)"
   ]
  },
  {
   "cell_type": "code",
   "execution_count": 6,
   "id": "7c63354a-7669-49c3-8d38-488ef3107ac5",
   "metadata": {},
   "outputs": [
    {
     "data": {
      "text/plain": [
       "(35634, 4)"
      ]
     },
     "execution_count": 6,
     "metadata": {},
     "output_type": "execute_result"
    }
   ],
   "source": [
    "#dropping all compounds without a Rf value\n",
    "df_filtered = df.drop(rows_to_drop)\n",
    "df_filtered.shape\n",
    "#df_filtered1.head(10)\n",
    "#df_short = df_filtered[:10] #making a small test dataframe\n",
    "#df_short.reset_index(drop=True, inplace=True)\n",
    "#df_short.shape"
   ]
  },
  {
   "cell_type": "code",
   "execution_count": 8,
   "id": "f1bf818e-d991-4284-a678-dbe825d72f6e",
   "metadata": {},
   "outputs": [
    {
     "data": {
      "text/plain": [
       "'0.25 g of 4-(3,4-dihydro-2H-quinolin-1-yl)-6-iodoquinazoline, 0.30 g of 2-methyl-6-(4,4,5,5-tetramethyl-1,3,2-dioxaborolan-2-yl)-3-(2-trimethylsilanyl-ethoxymethyl)-3H-imidazo[4,5-b]pyridine, 0.16 g of sodium hydrogencarbonate and 0.09 g of Pd(PPh3)2Cl2 in 5.00 ml of dioxane and 0.50 ml of water are heated at 90° C. under nitrogen in a flask until the reaction is complete (HPLC check, about 5 hours). The cooled reaction solution is diluted with EA and washed 3 times with water. The organic phase is dried over sodium sulfate and purified by means of column chromatography (gradient EA: methanol 0-40% in 20 min), giving 0.19 g of 4-(3,4-dihydro-2H-quinolin-1-yl)-6-[2-methyl-3-(2-trimethylsilanylethoxymethyl)-3H-imidazo[4,5-b]pyridin-6-yl]quinazoline as white powder (yield 50%, content 94%); MS-FAB (M+H+)=523.2; Rf (polar method): 2.54 min.'"
      ]
     },
     "execution_count": 8,
     "metadata": {},
     "output_type": "execute_result"
    }
   ],
   "source": [
    "#df.loc[701, 'paragraphText'].apply(lambda x: re.findall(Rf_check, x))\n",
    "#df.loc[164, 'paragraphText']\n",
    "df.loc[161, 'paragraphText']"
   ]
  },
  {
   "cell_type": "code",
   "execution_count": 16,
   "id": "85f37263-8214-41ec-b030-e9c2dc9db319",
   "metadata": {},
   "outputs": [
    {
     "ename": "GroqError",
     "evalue": "The api_key client option must be set either by passing api_key to the client or by setting the GROQ_API_KEY environment variable",
     "output_type": "error",
     "traceback": [
      "\u001b[0;31m---------------------------------------------------------------------------\u001b[0m",
      "\u001b[0;31mGroqError\u001b[0m                                 Traceback (most recent call last)",
      "Cell \u001b[0;32mIn[16], line 5\u001b[0m\n\u001b[1;32m      1\u001b[0m \u001b[38;5;28;01mimport\u001b[39;00m \u001b[38;5;21;01mos\u001b[39;00m\n\u001b[1;32m      3\u001b[0m \u001b[38;5;28;01mfrom\u001b[39;00m \u001b[38;5;21;01mgroq\u001b[39;00m \u001b[38;5;28;01mimport\u001b[39;00m Groq\n\u001b[0;32m----> 5\u001b[0m client \u001b[38;5;241m=\u001b[39m \u001b[43mGroq\u001b[49m\u001b[43m(\u001b[49m\n\u001b[1;32m      6\u001b[0m \u001b[43m    \u001b[49m\u001b[43mapi_key\u001b[49m\u001b[38;5;241;43m=\u001b[39;49m\u001b[43mos\u001b[49m\u001b[38;5;241;43m.\u001b[39;49m\u001b[43menviron\u001b[49m\u001b[38;5;241;43m.\u001b[39;49m\u001b[43mget\u001b[49m\u001b[43m(\u001b[49m\u001b[38;5;124;43m\"\u001b[39;49m\u001b[38;5;124;43mGROQ_API_KEY\u001b[39;49m\u001b[38;5;124;43m\"\u001b[39;49m\u001b[43m)\u001b[49m\u001b[43m,\u001b[49m\n\u001b[1;32m      7\u001b[0m \u001b[43m)\u001b[49m\n\u001b[1;32m      8\u001b[0m \u001b[38;5;66;03m#client = Groq(api_key='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')\u001b[39;00m\n\u001b[1;32m     10\u001b[0m instruction \u001b[38;5;241m=\u001b[39m \u001b[38;5;124m'\u001b[39m\u001b[38;5;124mextract the Rf values, the used for it and the solvent ratio from the following text:\u001b[39m\u001b[38;5;124m'\u001b[39m\n",
      "File \u001b[0;32m/opt/anaconda3/envs/ppchem_project/lib/python3.10/site-packages/groq/_client.py:86\u001b[0m, in \u001b[0;36mGroq.__init__\u001b[0;34m(self, api_key, base_url, timeout, max_retries, default_headers, default_query, http_client, _strict_response_validation)\u001b[0m\n\u001b[1;32m     84\u001b[0m     api_key \u001b[38;5;241m=\u001b[39m os\u001b[38;5;241m.\u001b[39menviron\u001b[38;5;241m.\u001b[39mget(\u001b[38;5;124m\"\u001b[39m\u001b[38;5;124mGROQ_API_KEY\u001b[39m\u001b[38;5;124m\"\u001b[39m)\n\u001b[1;32m     85\u001b[0m \u001b[38;5;28;01mif\u001b[39;00m api_key \u001b[38;5;129;01mis\u001b[39;00m \u001b[38;5;28;01mNone\u001b[39;00m:\n\u001b[0;32m---> 86\u001b[0m     \u001b[38;5;28;01mraise\u001b[39;00m GroqError(\n\u001b[1;32m     87\u001b[0m         \u001b[38;5;124m\"\u001b[39m\u001b[38;5;124mThe api_key client option must be set either by passing api_key to the client or by setting the GROQ_API_KEY environment variable\u001b[39m\u001b[38;5;124m\"\u001b[39m\n\u001b[1;32m     88\u001b[0m     )\n\u001b[1;32m     89\u001b[0m \u001b[38;5;28mself\u001b[39m\u001b[38;5;241m.\u001b[39mapi_key \u001b[38;5;241m=\u001b[39m api_key\n\u001b[1;32m     91\u001b[0m \u001b[38;5;28;01mif\u001b[39;00m base_url \u001b[38;5;129;01mis\u001b[39;00m \u001b[38;5;28;01mNone\u001b[39;00m:\n",
      "\u001b[0;31mGroqError\u001b[0m: The api_key client option must be set either by passing api_key to the client or by setting the GROQ_API_KEY environment variable"
     ]
    }
   ],
   "source": [
    "import os\n",
    "\n",
    "from groq import Groq\n",
    "\n",
    "client = Groq(\n",
    "    api_key=os.environ.get(\"GROQ_API_KEY\"),\n",
    ")\n",
    "#client = Groq(api_key='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')\n",
    "\n",
    "instruction = 'extract the Rf values, the used for it and the solvent ratio from the following text:'\n",
    "format = 'give me the data in the following format: Rf = x.xx  SolventA = nameA  SolventB = nameB  Solventratio: x:x (The first number should be the part of SolventA)'\n",
    "no_value = 'if you can not find a clear sign of Rf values or solvent informations just give me back: \"!x!\"'\n",
    "\n",
    "chat_completion = client.chat.completions.create(\n",
    "    messages=[\n",
    "        {\n",
    "            \"role\": \"user\",\n",
    "            \"content\": f\"{instruction} {df.loc[161, 'paragraphText']} {format} {no_value}\",\n",
    "        }\n",
    "    ],\n",
    "    model=\"mixtral-8x7b-32768\",\n",
    ")\n",
    "print(chat_completion.choices[0].message.content)"
   ]
  },
  {
   "cell_type": "code",
   "execution_count": 18,
   "id": "80a542ca-bd9a-4be6-8fd9-76ab83f7b617",
   "metadata": {},
   "outputs": [],
   "source": [
    "def LLM_find_values(text):\n",
    "\n",
    "    client = Groq(api_key='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')\n",
    "\n",
    "    instruction = 'extract the Rf values, the used for it and the solvent ratio from the following text:'\n",
    "    format = 'give me the data in the following format: Rf = x.xx  SolventA = AnameA  SolventB = BnameB  Solventratio: x:x (The first number should be the part of SolventA)'\n",
    "    no_value = 'if you can not find a clear sign of Rf values or solvent informations just give me back: \"!x!\"'\n",
    "\n",
    "    chat_completion = client.chat.completions.create(\n",
    "        messages=[\n",
    "            {   \n",
    "                \"role\": \"user\",\n",
    "                \"content\": f\"{instruction} {text} {format} {no_value}\",\n",
    "            }\n",
    "        ],\n",
    "        model=\"mixtral-8x7b-32768\",\n",
    "    )\n",
    "    return chat_completion.choices[0].message.content\n",
    "\n"
   ]
  },
  {
   "cell_type": "code",
   "execution_count": 20,
   "id": "4ca90b2e-64ca-4a0b-a86f-3558e4268faa",
   "metadata": {
    "scrolled": true
   },
   "outputs": [
    {
     "data": {
      "text/plain": [
       "'Based on the provided text, the extraction yields the compound ethyl (1-benzyl-piperidin-4-ylidene)cyanoacetate with an Rf value of 0.53 in a solvent mixture of hexane and acetone oxide (AcOEt) with a ratio of 1:1. Here is the data in the requested format:\\n\\nRf = 0.53\\nSolventA = hexane\\nSolventB = AcOEt\\nSolventratio: 1:1'"
      ]
     },
     "execution_count": 20,
     "metadata": {},
     "output_type": "execute_result"
    }
   ],
   "source": [
    "LLM_find_values(df_filtered.loc[25, 'paragraphText'])"
   ]
  },
  {
   "cell_type": "code",
   "execution_count": 196,
   "id": "203385c0-3a12-4dcc-b6b0-b49616d8782b",
   "metadata": {},
   "outputs": [
    {
     "name": "stderr",
     "output_type": "stream",
     "text": [
      "/var/folders/56/k5y5cj453pvcsblxlzlzn0340000gn/T/ipykernel_11161/4179265979.py:1: SettingWithCopyWarning: \n",
      "A value is trying to be set on a copy of a slice from a DataFrame.\n",
      "Try using .loc[row_indexer,col_indexer] = value instead\n",
      "\n",
      "See the caveats in the documentation: https://pandas.pydata.org/pandas-docs/stable/user_guide/indexing.html#returning-a-view-versus-a-copy\n",
      "  df_short['raw_data'] = df_short['paragraphText'].apply(lambda x: LLM_find_values(x))\n"
     ]
    }
   ],
   "source": [
    "df_short['raw_data'] = df_short['paragraphText'].apply(lambda x: LLM_find_values(x))"
   ]
  },
  {
   "cell_type": "code",
   "execution_count": 200,
   "id": "8601846b-2d7f-47da-a133-2b7a74cea419",
   "metadata": {},
   "outputs": [
    {
     "data": {
      "text/html": [
       "<div>\n",
       "<style scoped>\n",
       "    .dataframe tbody tr th:only-of-type {\n",
       "        vertical-align: middle;\n",
       "    }\n",
       "\n",
       "    .dataframe tbody tr th {\n",
       "        vertical-align: top;\n",
       "    }\n",
       "\n",
       "    .dataframe thead th {\n",
       "        text-align: right;\n",
       "    }\n",
       "</style>\n",
       "<table border=\"1\" class=\"dataframe\">\n",
       "  <thead>\n",
       "    <tr style=\"text-align: right;\">\n",
       "      <th></th>\n",
       "      <th>paragraphText</th>\n",
       "      <th>reactionSmiles</th>\n",
       "      <th>productSmiles</th>\n",
       "      <th>title</th>\n",
       "      <th>raw_data</th>\n",
       "    </tr>\n",
       "  </thead>\n",
       "  <tbody>\n",
       "    <tr>\n",
       "      <th>0</th>\n",
       "      <td>[A] Synthesis of 1-benzyl-piperidin-4-ylidene)...</td>\n",
       "      <td>C(CC([O-])=O)#N.[CH2:7]([N:14]1[CH2:19][CH2:18...</td>\n",
       "      <td>['C(C1=CC=CC=C1)N1CCC(CC1)=C(C(=O)OCC)C#N']</td>\n",
       "      <td>NaN</td>\n",
       "      <td>Rf = 0.53\\nSolventA = hexane\\nSolventB = AcOEt...</td>\n",
       "    </tr>\n",
       "    <tr>\n",
       "      <th>1</th>\n",
       "      <td>A solution of (S)-(+)-3-hydroxytetrahydrofuran...</td>\n",
       "      <td>O[C@H]1CCOC1.CC([O-])(C)C.[K+].[CH3:13][O:14][...</td>\n",
       "      <td>['COC(=O)C=1SC=CC1']</td>\n",
       "      <td>NaN</td>\n",
       "      <td>Based on the given text, the Rf value, the sol...</td>\n",
       "    </tr>\n",
       "    <tr>\n",
       "      <th>2</th>\n",
       "      <td>A solution of 4-{[(phenylmethoxy)carbonylamino...</td>\n",
       "      <td>[C:1]1([CH2:7][O:8][C:9]([NH:11][CH2:12][C:13]...</td>\n",
       "      <td>['CON(C(=O)C1=CC=C(C=C1)CNC(=O)OCC1=CC=CC=C1)C']</td>\n",
       "      <td>Preparation of N-methoxy-N-methyl(4-{[(phenylm...</td>\n",
       "      <td>Rf = 0.3\\nSolventA = hexanes\\nSolventB = EtOAc...</td>\n",
       "    </tr>\n",
       "    <tr>\n",
       "      <th>3</th>\n",
       "      <td>Putative nitrilase up-mutants were assayed in ...</td>\n",
       "      <td>[CH3:1][C:2]1(C)S[C@@H]2[C@H](NC([C@H](N)C3C=C...</td>\n",
       "      <td>['O[C@@H](CC(=O)O)CC#N']</td>\n",
       "      <td>NaN</td>\n",
       "      <td>Based on the text, the Rf value, the solvent u...</td>\n",
       "    </tr>\n",
       "    <tr>\n",
       "      <th>4</th>\n",
       "      <td>3.0 g N6-Benzoyl-5′-O-tert-butyldimethylsilyl-...</td>\n",
       "      <td>[C:1]([NH:9][C:10]1[C:11]2[N:12]=[CH:13][N:14]...</td>\n",
       "      <td>['C(C1=CC=CC=C1)(=O)NC=1C=2N=CN([C@H]3C[C@H](O...</td>\n",
       "      <td>NaN</td>\n",
       "      <td>Rf = 0.6\\nSolventA = EtOAc\\nSolventB = hex\\nSo...</td>\n",
       "    </tr>\n",
       "    <tr>\n",
       "      <th>5</th>\n",
       "      <td>To 0.4 g N6-benzoyl-3′-O-(methylthiomethyl)-5′...</td>\n",
       "      <td>[C:1]([NH:9][C:10]1[C:11]2[N:12]=[CH:13][N:14]...</td>\n",
       "      <td>['C(C1=CC=CC=C1)(=O)NC=1C=2N=CN([C@H]3C[C@H](O...</td>\n",
       "      <td>NaN</td>\n",
       "      <td>Rf = 0.3\\nSolventA = EtOAC\\nSolventB = Hex\\nSo...</td>\n",
       "    </tr>\n",
       "    <tr>\n",
       "      <th>6</th>\n",
       "      <td>3.5 g N4-benzoyl-5′-O-tert-butyldimethylsilyl-...</td>\n",
       "      <td>[C:1]([NH:9][C:10]1[CH:30]=[CH:29][N:13]([C@@H...</td>\n",
       "      <td>['C(C1=CC=CC=C1)(=O)NC1=NC(N([C@H]2C[C@H](OCSC...</td>\n",
       "      <td>NaN</td>\n",
       "      <td>Rf = 0.4 SolventA = EtOAc SolventB = hex Solve...</td>\n",
       "    </tr>\n",
       "    <tr>\n",
       "      <th>7</th>\n",
       "      <td>To 0.5580 g N4-benzoyl-3′-O-(methylthiomethyl)...</td>\n",
       "      <td>[C:1]([NH:9][C:10]1[CH:33]=[CH:32][N:13]([C@@H...</td>\n",
       "      <td>['C(C1=CC=CC=C1)(=O)NC1=NC(N([C@H]2C[C@H](OCN=...</td>\n",
       "      <td>NaN</td>\n",
       "      <td>Based on the given text, the Rf value, the sol...</td>\n",
       "    </tr>\n",
       "    <tr>\n",
       "      <th>8</th>\n",
       "      <td>To 786 mg 12 (1.1 mmol) dissolved in 8 mL dry ...</td>\n",
       "      <td>[C:1]([NH:6][C:7]1[N:8]=[C:9]([O:34][C:35](=[O...</td>\n",
       "      <td>['C(C(C)C)(=O)NC=1N=C(C=2N=CN([C@H]3C[C@H](OCN...</td>\n",
       "      <td>NaN</td>\n",
       "      <td>Rf = 0.3\\nSolventA = Hex (hexane)\\nSolventB = ...</td>\n",
       "    </tr>\n",
       "    <tr>\n",
       "      <th>9</th>\n",
       "      <td>Methyl (S)-2-[(2S,3S)-2-((3S,4S)-3-benzyloxyca...</td>\n",
       "      <td>[CH2:1]([O:8][C:9]([NH:11][C@H:12]([C@@H:33]([...</td>\n",
       "      <td>['N[C@H]([C@H](CC(=O)N[C@H](C(=O)N[C@H](C(=O)O...</td>\n",
       "      <td>NaN</td>\n",
       "      <td>Based on the text provided, the following info...</td>\n",
       "    </tr>\n",
       "  </tbody>\n",
       "</table>\n",
       "</div>"
      ],
      "text/plain": [
       "                                       paragraphText  \\\n",
       "0  [A] Synthesis of 1-benzyl-piperidin-4-ylidene)...   \n",
       "1  A solution of (S)-(+)-3-hydroxytetrahydrofuran...   \n",
       "2  A solution of 4-{[(phenylmethoxy)carbonylamino...   \n",
       "3  Putative nitrilase up-mutants were assayed in ...   \n",
       "4  3.0 g N6-Benzoyl-5′-O-tert-butyldimethylsilyl-...   \n",
       "5  To 0.4 g N6-benzoyl-3′-O-(methylthiomethyl)-5′...   \n",
       "6  3.5 g N4-benzoyl-5′-O-tert-butyldimethylsilyl-...   \n",
       "7  To 0.5580 g N4-benzoyl-3′-O-(methylthiomethyl)...   \n",
       "8  To 786 mg 12 (1.1 mmol) dissolved in 8 mL dry ...   \n",
       "9  Methyl (S)-2-[(2S,3S)-2-((3S,4S)-3-benzyloxyca...   \n",
       "\n",
       "                                      reactionSmiles  \\\n",
       "0  C(CC([O-])=O)#N.[CH2:7]([N:14]1[CH2:19][CH2:18...   \n",
       "1  O[C@H]1CCOC1.CC([O-])(C)C.[K+].[CH3:13][O:14][...   \n",
       "2  [C:1]1([CH2:7][O:8][C:9]([NH:11][CH2:12][C:13]...   \n",
       "3  [CH3:1][C:2]1(C)S[C@@H]2[C@H](NC([C@H](N)C3C=C...   \n",
       "4  [C:1]([NH:9][C:10]1[C:11]2[N:12]=[CH:13][N:14]...   \n",
       "5  [C:1]([NH:9][C:10]1[C:11]2[N:12]=[CH:13][N:14]...   \n",
       "6  [C:1]([NH:9][C:10]1[CH:30]=[CH:29][N:13]([C@@H...   \n",
       "7  [C:1]([NH:9][C:10]1[CH:33]=[CH:32][N:13]([C@@H...   \n",
       "8  [C:1]([NH:6][C:7]1[N:8]=[C:9]([O:34][C:35](=[O...   \n",
       "9  [CH2:1]([O:8][C:9]([NH:11][C@H:12]([C@@H:33]([...   \n",
       "\n",
       "                                       productSmiles  \\\n",
       "0        ['C(C1=CC=CC=C1)N1CCC(CC1)=C(C(=O)OCC)C#N']   \n",
       "1                               ['COC(=O)C=1SC=CC1']   \n",
       "2   ['CON(C(=O)C1=CC=C(C=C1)CNC(=O)OCC1=CC=CC=C1)C']   \n",
       "3                           ['O[C@@H](CC(=O)O)CC#N']   \n",
       "4  ['C(C1=CC=CC=C1)(=O)NC=1C=2N=CN([C@H]3C[C@H](O...   \n",
       "5  ['C(C1=CC=CC=C1)(=O)NC=1C=2N=CN([C@H]3C[C@H](O...   \n",
       "6  ['C(C1=CC=CC=C1)(=O)NC1=NC(N([C@H]2C[C@H](OCSC...   \n",
       "7  ['C(C1=CC=CC=C1)(=O)NC1=NC(N([C@H]2C[C@H](OCN=...   \n",
       "8  ['C(C(C)C)(=O)NC=1N=C(C=2N=CN([C@H]3C[C@H](OCN...   \n",
       "9  ['N[C@H]([C@H](CC(=O)N[C@H](C(=O)N[C@H](C(=O)O...   \n",
       "\n",
       "                                               title  \\\n",
       "0                                                NaN   \n",
       "1                                                NaN   \n",
       "2  Preparation of N-methoxy-N-methyl(4-{[(phenylm...   \n",
       "3                                                NaN   \n",
       "4                                                NaN   \n",
       "5                                                NaN   \n",
       "6                                                NaN   \n",
       "7                                                NaN   \n",
       "8                                                NaN   \n",
       "9                                                NaN   \n",
       "\n",
       "                                            raw_data  \n",
       "0  Rf = 0.53\\nSolventA = hexane\\nSolventB = AcOEt...  \n",
       "1  Based on the given text, the Rf value, the sol...  \n",
       "2  Rf = 0.3\\nSolventA = hexanes\\nSolventB = EtOAc...  \n",
       "3  Based on the text, the Rf value, the solvent u...  \n",
       "4  Rf = 0.6\\nSolventA = EtOAc\\nSolventB = hex\\nSo...  \n",
       "5  Rf = 0.3\\nSolventA = EtOAC\\nSolventB = Hex\\nSo...  \n",
       "6  Rf = 0.4 SolventA = EtOAc SolventB = hex Solve...  \n",
       "7  Based on the given text, the Rf value, the sol...  \n",
       "8  Rf = 0.3\\nSolventA = Hex (hexane)\\nSolventB = ...  \n",
       "9  Based on the text provided, the following info...  "
      ]
     },
     "execution_count": 200,
     "metadata": {},
     "output_type": "execute_result"
    }
   ],
   "source": [
    "df_short.head(10)"
   ]
  },
  {
   "cell_type": "code",
   "execution_count": 24,
   "id": "1cc7532a-a1e3-41c6-ad96-9b2bf5d78a77",
   "metadata": {},
   "outputs": [
    {
     "data": {
      "text/plain": [
       "'[A] Synthesis of 1-benzyl-piperidin-4-ylidene)-cyanoacetate (2; FIG. 4). A solution of 1-benzyl-piperidin-4-one (75.1 g, 0.40 mol) in toluene (9400 mL), ethyl cyanoacetate (50.6 mL, 0.48 mol) and acetic acid (918.2 mL, 0.32 mol) was refluxed for 4 hr. The mixture was quenched with ice-water and extracted with diethyl ether. The combined extracts were washed with water, brine and dried over Na2SO4 to give ethyl (1-benzyl-piperidin-4-ylidene)cyanoacetate in quantitative yield. Rf=0.53 (hexane:AcOEt=1:1).'"
      ]
     },
     "execution_count": 24,
     "metadata": {},
     "output_type": "execute_result"
    }
   ],
   "source": [
    "df_short.loc[0, 'paragraphText']"
   ]
  },
  {
   "cell_type": "code",
   "execution_count": 216,
   "id": "89334aa0-1e41-4e25-bf25-71de0fc238a7",
   "metadata": {},
   "outputs": [
    {
     "name": "stderr",
     "output_type": "stream",
     "text": [
      "/var/folders/56/k5y5cj453pvcsblxlzlzn0340000gn/T/ipykernel_11161/2536720413.py:3: SettingWithCopyWarning: \n",
      "A value is trying to be set on a copy of a slice from a DataFrame.\n",
      "Try using .loc[row_indexer,col_indexer] = value instead\n",
      "\n",
      "See the caveats in the documentation: https://pandas.pydata.org/pandas-docs/stable/user_guide/indexing.html#returning-a-view-versus-a-copy\n",
      "  df_short['Rf_value'] = df_short['raw_data'].apply(lambda x: float(re.findall(pattern, x)[0]))\n"
     ]
    }
   ],
   "source": [
    "pattern_rf = r'\\d\\.\\d\\d?'\n",
    "\n",
    "df_short['Rf_value'] = df_short['raw_data'].apply(lambda x: float(re.findall(pattern, x)[0]))\n",
    "# searching for pattern in raw_data and takes the first value in list and converts it to a float"
   ]
  },
  {
   "cell_type": "code",
   "execution_count": null,
   "id": "8a42aeda-7fb7-4da9-b132-3b970838b24c",
   "metadata": {},
   "outputs": [],
   "source": [
    "pattern_ratio\n",
    "\n",
    "df_short['Rf_value'] = df_short['raw_data'].apply(lambda x: float(re.findall(pattern_ratio, x)[0]))"
   ]
  },
  {
   "cell_type": "code",
   "execution_count": 217,
   "id": "e2862275-56c1-4b72-906c-04ac2a95b5e4",
   "metadata": {},
   "outputs": [
    {
     "data": {
      "text/html": [
       "<div>\n",
       "<style scoped>\n",
       "    .dataframe tbody tr th:only-of-type {\n",
       "        vertical-align: middle;\n",
       "    }\n",
       "\n",
       "    .dataframe tbody tr th {\n",
       "        vertical-align: top;\n",
       "    }\n",
       "\n",
       "    .dataframe thead th {\n",
       "        text-align: right;\n",
       "    }\n",
       "</style>\n",
       "<table border=\"1\" class=\"dataframe\">\n",
       "  <thead>\n",
       "    <tr style=\"text-align: right;\">\n",
       "      <th></th>\n",
       "      <th>paragraphText</th>\n",
       "      <th>reactionSmiles</th>\n",
       "      <th>productSmiles</th>\n",
       "      <th>title</th>\n",
       "      <th>raw_data</th>\n",
       "      <th>Rf_value</th>\n",
       "    </tr>\n",
       "  </thead>\n",
       "  <tbody>\n",
       "    <tr>\n",
       "      <th>0</th>\n",
       "      <td>[A] Synthesis of 1-benzyl-piperidin-4-ylidene)...</td>\n",
       "      <td>C(CC([O-])=O)#N.[CH2:7]([N:14]1[CH2:19][CH2:18...</td>\n",
       "      <td>['C(C1=CC=CC=C1)N1CCC(CC1)=C(C(=O)OCC)C#N']</td>\n",
       "      <td>NaN</td>\n",
       "      <td>Rf = 0.53\\nSolventA = hexane\\nSolventB = AcOEt...</td>\n",
       "      <td>0.53</td>\n",
       "    </tr>\n",
       "    <tr>\n",
       "      <th>1</th>\n",
       "      <td>A solution of (S)-(+)-3-hydroxytetrahydrofuran...</td>\n",
       "      <td>O[C@H]1CCOC1.CC([O-])(C)C.[K+].[CH3:13][O:14][...</td>\n",
       "      <td>['COC(=O)C=1SC=CC1']</td>\n",
       "      <td>NaN</td>\n",
       "      <td>Based on the given text, the Rf value, the sol...</td>\n",
       "      <td>0.44</td>\n",
       "    </tr>\n",
       "    <tr>\n",
       "      <th>2</th>\n",
       "      <td>A solution of 4-{[(phenylmethoxy)carbonylamino...</td>\n",
       "      <td>[C:1]1([CH2:7][O:8][C:9]([NH:11][CH2:12][C:13]...</td>\n",
       "      <td>['CON(C(=O)C1=CC=C(C=C1)CNC(=O)OCC1=CC=CC=C1)C']</td>\n",
       "      <td>Preparation of N-methoxy-N-methyl(4-{[(phenylm...</td>\n",
       "      <td>Rf = 0.3\\nSolventA = hexanes\\nSolventB = EtOAc...</td>\n",
       "      <td>0.30</td>\n",
       "    </tr>\n",
       "    <tr>\n",
       "      <th>3</th>\n",
       "      <td>Putative nitrilase up-mutants were assayed in ...</td>\n",
       "      <td>[CH3:1][C:2]1(C)S[C@@H]2[C@H](NC([C@H](N)C3C=C...</td>\n",
       "      <td>['O[C@@H](CC(=O)O)CC#N']</td>\n",
       "      <td>NaN</td>\n",
       "      <td>Based on the text, the Rf value, the solvent u...</td>\n",
       "      <td>0.50</td>\n",
       "    </tr>\n",
       "    <tr>\n",
       "      <th>4</th>\n",
       "      <td>3.0 g N6-Benzoyl-5′-O-tert-butyldimethylsilyl-...</td>\n",
       "      <td>[C:1]([NH:9][C:10]1[C:11]2[N:12]=[CH:13][N:14]...</td>\n",
       "      <td>['C(C1=CC=CC=C1)(=O)NC=1C=2N=CN([C@H]3C[C@H](O...</td>\n",
       "      <td>NaN</td>\n",
       "      <td>Rf = 0.6\\nSolventA = EtOAc\\nSolventB = hex\\nSo...</td>\n",
       "      <td>0.60</td>\n",
       "    </tr>\n",
       "  </tbody>\n",
       "</table>\n",
       "</div>"
      ],
      "text/plain": [
       "                                       paragraphText  \\\n",
       "0  [A] Synthesis of 1-benzyl-piperidin-4-ylidene)...   \n",
       "1  A solution of (S)-(+)-3-hydroxytetrahydrofuran...   \n",
       "2  A solution of 4-{[(phenylmethoxy)carbonylamino...   \n",
       "3  Putative nitrilase up-mutants were assayed in ...   \n",
       "4  3.0 g N6-Benzoyl-5′-O-tert-butyldimethylsilyl-...   \n",
       "\n",
       "                                      reactionSmiles  \\\n",
       "0  C(CC([O-])=O)#N.[CH2:7]([N:14]1[CH2:19][CH2:18...   \n",
       "1  O[C@H]1CCOC1.CC([O-])(C)C.[K+].[CH3:13][O:14][...   \n",
       "2  [C:1]1([CH2:7][O:8][C:9]([NH:11][CH2:12][C:13]...   \n",
       "3  [CH3:1][C:2]1(C)S[C@@H]2[C@H](NC([C@H](N)C3C=C...   \n",
       "4  [C:1]([NH:9][C:10]1[C:11]2[N:12]=[CH:13][N:14]...   \n",
       "\n",
       "                                       productSmiles  \\\n",
       "0        ['C(C1=CC=CC=C1)N1CCC(CC1)=C(C(=O)OCC)C#N']   \n",
       "1                               ['COC(=O)C=1SC=CC1']   \n",
       "2   ['CON(C(=O)C1=CC=C(C=C1)CNC(=O)OCC1=CC=CC=C1)C']   \n",
       "3                           ['O[C@@H](CC(=O)O)CC#N']   \n",
       "4  ['C(C1=CC=CC=C1)(=O)NC=1C=2N=CN([C@H]3C[C@H](O...   \n",
       "\n",
       "                                               title  \\\n",
       "0                                                NaN   \n",
       "1                                                NaN   \n",
       "2  Preparation of N-methoxy-N-methyl(4-{[(phenylm...   \n",
       "3                                                NaN   \n",
       "4                                                NaN   \n",
       "\n",
       "                                            raw_data  Rf_value  \n",
       "0  Rf = 0.53\\nSolventA = hexane\\nSolventB = AcOEt...      0.53  \n",
       "1  Based on the given text, the Rf value, the sol...      0.44  \n",
       "2  Rf = 0.3\\nSolventA = hexanes\\nSolventB = EtOAc...      0.30  \n",
       "3  Based on the text, the Rf value, the solvent u...      0.50  \n",
       "4  Rf = 0.6\\nSolventA = EtOAc\\nSolventB = hex\\nSo...      0.60  "
      ]
     },
     "execution_count": 217,
     "metadata": {},
     "output_type": "execute_result"
    }
   ],
   "source": [
    "df_short.head()"
   ]
  },
  {
   "cell_type": "code",
   "execution_count": 1,
   "id": "9a691259-095a-4177-91ff-eb32aadda4b0",
   "metadata": {},
   "outputs": [
    {
     "ename": "NameError",
     "evalue": "name 'df_short' is not defined",
     "output_type": "error",
     "traceback": [
      "\u001b[0;31m---------------------------------------------------------------------------\u001b[0m",
      "\u001b[0;31mNameError\u001b[0m                                 Traceback (most recent call last)",
      "Cell \u001b[0;32mIn[1], line 4\u001b[0m\n\u001b[1;32m      1\u001b[0m pattern_solventA \u001b[38;5;241m=\u001b[39m \u001b[38;5;124mr\u001b[39m\u001b[38;5;124m'\u001b[39m\u001b[38;5;124mSolventA = (\u001b[39m\u001b[38;5;124m\\\u001b[39m\u001b[38;5;124mw+)\u001b[39m\u001b[38;5;124m'\u001b[39m\n\u001b[1;32m      2\u001b[0m pattern_solventB \u001b[38;5;241m=\u001b[39m \u001b[38;5;124mr\u001b[39m\u001b[38;5;124m'\u001b[39m\u001b[38;5;124mSolventB = (\u001b[39m\u001b[38;5;124m\\\u001b[39m\u001b[38;5;124mw+)\u001b[39m\u001b[38;5;124m'\u001b[39m\n\u001b[0;32m----> 4\u001b[0m df_short[\u001b[38;5;124m'\u001b[39m\u001b[38;5;124mSolventA\u001b[39m\u001b[38;5;124m'\u001b[39m] \u001b[38;5;241m=\u001b[39m \u001b[43mdf_short\u001b[49m[\u001b[38;5;124m'\u001b[39m\u001b[38;5;124mraw_data\u001b[39m\u001b[38;5;124m'\u001b[39m]\u001b[38;5;241m.\u001b[39mapply(\u001b[38;5;28;01mlambda\u001b[39;00m x: \u001b[38;5;28mstr\u001b[39m(re\u001b[38;5;241m.\u001b[39mfindall(pattern_solventA, x)))\n\u001b[1;32m      5\u001b[0m df_short[\u001b[38;5;124m'\u001b[39m\u001b[38;5;124mSolventB\u001b[39m\u001b[38;5;124m'\u001b[39m] \u001b[38;5;241m=\u001b[39m df_short[\u001b[38;5;124m'\u001b[39m\u001b[38;5;124mraw_data\u001b[39m\u001b[38;5;124m'\u001b[39m]\u001b[38;5;241m.\u001b[39mapply(\u001b[38;5;28;01mlambda\u001b[39;00m x: \u001b[38;5;28mstr\u001b[39m(re\u001b[38;5;241m.\u001b[39mfindall(pattern_solventB, x)))\n",
      "\u001b[0;31mNameError\u001b[0m: name 'df_short' is not defined"
     ]
    }
   ],
   "source": [
    "pattern_solventA = r'SolventA = (\\w+)'\n",
    "pattern_solventB = r'SolventB = (\\w+)'\n",
    "\n",
    "df_short['SolventA'] = df_short['raw_data'].apply(lambda x: str(re.findall(pattern_solventA, x)))\n",
    "df_short['SolventB'] = df_short['raw_data'].apply(lambda x: str(re.findall(pattern_solventB, x)))"
   ]
  },
  {
   "cell_type": "code",
   "execution_count": 229,
   "id": "1bf692d3-8782-48e6-a042-f8783144c240",
   "metadata": {},
   "outputs": [
    {
     "data": {
      "text/html": [
       "<div>\n",
       "<style scoped>\n",
       "    .dataframe tbody tr th:only-of-type {\n",
       "        vertical-align: middle;\n",
       "    }\n",
       "\n",
       "    .dataframe tbody tr th {\n",
       "        vertical-align: top;\n",
       "    }\n",
       "\n",
       "    .dataframe thead th {\n",
       "        text-align: right;\n",
       "    }\n",
       "</style>\n",
       "<table border=\"1\" class=\"dataframe\">\n",
       "  <thead>\n",
       "    <tr style=\"text-align: right;\">\n",
       "      <th></th>\n",
       "      <th>paragraphText</th>\n",
       "      <th>reactionSmiles</th>\n",
       "      <th>productSmiles</th>\n",
       "      <th>title</th>\n",
       "      <th>raw_data</th>\n",
       "      <th>Rf_value</th>\n",
       "      <th>SolventA</th>\n",
       "    </tr>\n",
       "  </thead>\n",
       "  <tbody>\n",
       "    <tr>\n",
       "      <th>0</th>\n",
       "      <td>[A] Synthesis of 1-benzyl-piperidin-4-ylidene)...</td>\n",
       "      <td>C(CC([O-])=O)#N.[CH2:7]([N:14]1[CH2:19][CH2:18...</td>\n",
       "      <td>['C(C1=CC=CC=C1)N1CCC(CC1)=C(C(=O)OCC)C#N']</td>\n",
       "      <td>NaN</td>\n",
       "      <td>Rf = 0.53\\nSolventA = hexane\\nSolventB = AcOEt...</td>\n",
       "      <td>0.53</td>\n",
       "      <td>['hexane']</td>\n",
       "    </tr>\n",
       "    <tr>\n",
       "      <th>1</th>\n",
       "      <td>A solution of (S)-(+)-3-hydroxytetrahydrofuran...</td>\n",
       "      <td>O[C@H]1CCOC1.CC([O-])(C)C.[K+].[CH3:13][O:14][...</td>\n",
       "      <td>['COC(=O)C=1SC=CC1']</td>\n",
       "      <td>NaN</td>\n",
       "      <td>Based on the given text, the Rf value, the sol...</td>\n",
       "      <td>0.44</td>\n",
       "      <td>['dichloromethane']</td>\n",
       "    </tr>\n",
       "    <tr>\n",
       "      <th>2</th>\n",
       "      <td>A solution of 4-{[(phenylmethoxy)carbonylamino...</td>\n",
       "      <td>[C:1]1([CH2:7][O:8][C:9]([NH:11][CH2:12][C:13]...</td>\n",
       "      <td>['CON(C(=O)C1=CC=C(C=C1)CNC(=O)OCC1=CC=CC=C1)C']</td>\n",
       "      <td>Preparation of N-methoxy-N-methyl(4-{[(phenylm...</td>\n",
       "      <td>Rf = 0.3\\nSolventA = hexanes\\nSolventB = EtOAc...</td>\n",
       "      <td>0.30</td>\n",
       "      <td>['hexanes']</td>\n",
       "    </tr>\n",
       "    <tr>\n",
       "      <th>3</th>\n",
       "      <td>Putative nitrilase up-mutants were assayed in ...</td>\n",
       "      <td>[CH3:1][C:2]1(C)S[C@@H]2[C@H](NC([C@H](N)C3C=C...</td>\n",
       "      <td>['O[C@@H](CC(=O)O)CC#N']</td>\n",
       "      <td>NaN</td>\n",
       "      <td>Based on the text, the Rf value, the solvent u...</td>\n",
       "      <td>0.50</td>\n",
       "      <td>['EtOAc']</td>\n",
       "    </tr>\n",
       "    <tr>\n",
       "      <th>4</th>\n",
       "      <td>3.0 g N6-Benzoyl-5′-O-tert-butyldimethylsilyl-...</td>\n",
       "      <td>[C:1]([NH:9][C:10]1[C:11]2[N:12]=[CH:13][N:14]...</td>\n",
       "      <td>['C(C1=CC=CC=C1)(=O)NC=1C=2N=CN([C@H]3C[C@H](O...</td>\n",
       "      <td>NaN</td>\n",
       "      <td>Rf = 0.6\\nSolventA = EtOAc\\nSolventB = hex\\nSo...</td>\n",
       "      <td>0.60</td>\n",
       "      <td>['EtOAc']</td>\n",
       "    </tr>\n",
       "  </tbody>\n",
       "</table>\n",
       "</div>"
      ],
      "text/plain": [
       "                                       paragraphText  \\\n",
       "0  [A] Synthesis of 1-benzyl-piperidin-4-ylidene)...   \n",
       "1  A solution of (S)-(+)-3-hydroxytetrahydrofuran...   \n",
       "2  A solution of 4-{[(phenylmethoxy)carbonylamino...   \n",
       "3  Putative nitrilase up-mutants were assayed in ...   \n",
       "4  3.0 g N6-Benzoyl-5′-O-tert-butyldimethylsilyl-...   \n",
       "\n",
       "                                      reactionSmiles  \\\n",
       "0  C(CC([O-])=O)#N.[CH2:7]([N:14]1[CH2:19][CH2:18...   \n",
       "1  O[C@H]1CCOC1.CC([O-])(C)C.[K+].[CH3:13][O:14][...   \n",
       "2  [C:1]1([CH2:7][O:8][C:9]([NH:11][CH2:12][C:13]...   \n",
       "3  [CH3:1][C:2]1(C)S[C@@H]2[C@H](NC([C@H](N)C3C=C...   \n",
       "4  [C:1]([NH:9][C:10]1[C:11]2[N:12]=[CH:13][N:14]...   \n",
       "\n",
       "                                       productSmiles  \\\n",
       "0        ['C(C1=CC=CC=C1)N1CCC(CC1)=C(C(=O)OCC)C#N']   \n",
       "1                               ['COC(=O)C=1SC=CC1']   \n",
       "2   ['CON(C(=O)C1=CC=C(C=C1)CNC(=O)OCC1=CC=CC=C1)C']   \n",
       "3                           ['O[C@@H](CC(=O)O)CC#N']   \n",
       "4  ['C(C1=CC=CC=C1)(=O)NC=1C=2N=CN([C@H]3C[C@H](O...   \n",
       "\n",
       "                                               title  \\\n",
       "0                                                NaN   \n",
       "1                                                NaN   \n",
       "2  Preparation of N-methoxy-N-methyl(4-{[(phenylm...   \n",
       "3                                                NaN   \n",
       "4                                                NaN   \n",
       "\n",
       "                                            raw_data  Rf_value  \\\n",
       "0  Rf = 0.53\\nSolventA = hexane\\nSolventB = AcOEt...      0.53   \n",
       "1  Based on the given text, the Rf value, the sol...      0.44   \n",
       "2  Rf = 0.3\\nSolventA = hexanes\\nSolventB = EtOAc...      0.30   \n",
       "3  Based on the text, the Rf value, the solvent u...      0.50   \n",
       "4  Rf = 0.6\\nSolventA = EtOAc\\nSolventB = hex\\nSo...      0.60   \n",
       "\n",
       "              SolventA  \n",
       "0           ['hexane']  \n",
       "1  ['dichloromethane']  \n",
       "2          ['hexanes']  \n",
       "3            ['EtOAc']  \n",
       "4            ['EtOAc']  "
      ]
     },
     "execution_count": 229,
     "metadata": {},
     "output_type": "execute_result"
    }
   ],
   "source": [
    "df_short.head()"
   ]
  },
  {
   "cell_type": "code",
   "execution_count": 26,
   "id": "c7e07aa7-06c9-4d65-9080-b6cf9c394e92",
   "metadata": {},
   "outputs": [
    {
     "data": {
      "text/plain": [
       "'A solution of (S)-(+)-3-hydroxytetrahydrofuran (259 mg, 2.94 mmol) in dry NMP (1 mL) was added to a solution of KOtBu (271 mg, 2.42 mmol) in dry NMP (1 mL). The reaction was stirred at room temperature for 15 min, then a solution of 5-(3,3-dimethyl-but-1-ynyl)-3-(1-oxa-spiro[2.5]oct-6-ylamino]-thiophene-2-carboxylic acid methyl ester (200 mg, 0.576 mmol) in dry NMP (4.0 mL) was added and the reaction heated in a 40° C. oil bath for 24 h. The reaction was poured into ice water, cooled to 0° C., neutralized with 5% citric acid to pH=5-6 and extracted with ethyl acetate. The organic layer was washed with 5% LiCl, brine, dried and concentrated to give a brown oil which was taken up in dichloromelhane/MeOH (5.0 mL/1.0 mL) and treated with the dropwise addition of TMSCH2N2 (0.35 mL, 0.692 mmol, 2M in hexane). After 20 min, volatiles were removed under vacuum and the crude residue was purified by column chromatography on silica gel (Teledyne Isco Redisep Rf Gold™) eluting with 100% dichloromethane to 20% ethyl acetate/dichloromethane to give 5-(3,3-dimethyl-but-1-ynyl)-344-hydroxy-4-(tetrahydro-furan-3-yloxymethy)-cyclohexylamino]-thiophene-2-carboxylic acid methyl ester (120 mg, 48%) as a colorless solid.'"
      ]
     },
     "execution_count": 26,
     "metadata": {},
     "output_type": "execute_result"
    }
   ],
   "source": [
    "df_short.loc[1, 'paragraphText']"
   ]
  },
  {
   "cell_type": "code",
   "execution_count": null,
   "id": "0f325304-0377-4310-b808-fad3e915f34c",
   "metadata": {},
   "outputs": [],
   "source": []
  }
 ],
 "metadata": {
  "kernelspec": {
   "display_name": "Python 3 (ipykernel)",
   "language": "python",
   "name": "python3"
  },
  "language_info": {
   "codemirror_mode": {
    "name": "ipython",
    "version": 3
   },
   "file_extension": ".py",
   "mimetype": "text/x-python",
   "name": "python",
   "nbconvert_exporter": "python",
   "pygments_lexer": "ipython3",
   "version": "3.10.13"
  }
 },
 "nbformat": 4,
 "nbformat_minor": 5
}
