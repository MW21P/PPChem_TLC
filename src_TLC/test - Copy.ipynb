{
 "cells": [
  {
   "cell_type": "markdown",
   "metadata": {},
   "source": [
    "# Pre-processing of data\n",
    "The first thing to do is extracting the data we are interested in from the XML files (XML files are used from a dataset of US patent applications from 2001 to 2016. This dataset can be found here: https://figshare.com/articles/dataset/Chemical_reactions_from_US_patents_1976-Sep2016_/5104873). We are interested in the title, the general experimental procedure, the reaction SMILES, but most importantly the product SMILES.\n",
    "Therefore, using xml.Etree in the following we iterate through the child elements of the root of the file. \n"
   ]
  },
  {
   "cell_type": "code",
   "execution_count": 1,
   "metadata": {},
   "outputs": [],
   "source": [
    "# First we import the necessary libraries\n",
    "\n",
    "import xml.etree.cElementTree as et     # for parsing the XML file\n",
    "import pandas as pd\n",
    "import numpy as np\n",
    "import os"
   ]
  },
  {
   "cell_type": "markdown",
   "metadata": {},
   "source": [
    "Now we use a function to iterate over all the XML files in the applications data from 2001. We collect the title, the paragraphText, mostly including the experimental procedures, the reaction SMILES and the product SMILES from it."
   ]
  },
  {
   "cell_type": "code",
   "execution_count": 18,
   "metadata": {},
   "outputs": [],
   "source": [
    "def extract_data(root_file):\n",
    "    \"\"\"function that extracts data from an XML file and returns a list of dictionaries containing the extracted information.\n",
    "        Information to be extracted includes the title of the reaction, the experimental procedure, the reaction SMILES, and the product SMILES.\n",
    "\n",
    "    Args:\n",
    "        root_file: root of the parsed XML file\n",
    "\n",
    "    Returns:\n",
    "        reaction_list: list of dictionaries containing the extracted information\n",
    "    \"\"\"\n",
    "    \n",
    "    # Define the namespace\n",
    "    ns = {'cml': 'http://www.xml-cml.org/schema', 'dl': 'http://bitbucket.org/dan2097'}\n",
    "\n",
    "    # Create lists to store extracted information\n",
    "    reaction_list = []\n",
    "\n",
    "    # Find all <reaction> elements\n",
    "    reaction_elements = root_file.findall('.//cml:reaction', ns)\n",
    "\n",
    "    # Iterate over each <reaction> element\n",
    "    for reaction_element in reaction_elements:\n",
    "        # Create a dictionary to store information about the reaction\n",
    "        reaction_dict = {}\n",
    "\n",
    "        # Extract title\n",
    "        title = reaction_element.find('.//dl:headingText', ns)\n",
    "        if title is not None:\n",
    "            reaction_dict['title'] = title.text\n",
    "\n",
    "        # Extract paragraph text\n",
    "        paragraph_text = reaction_element.find('.//dl:paragraphText', ns)\n",
    "        if paragraph_text is not None:\n",
    "            reaction_dict['paragraphText'] = paragraph_text.text\n",
    "\n",
    "        # Extract reaction SMILES\n",
    "        reaction_smiles = reaction_element.find('.//dl:reactionSmiles', ns)\n",
    "        if reaction_smiles is not None:\n",
    "            reaction_dict['reactionSmiles'] = reaction_smiles.text\n",
    "\n",
    "        # Extract product SMILES\n",
    "        product_elements = reaction_element.findall('.//cml:product', ns)\n",
    "        product_smiles = []\n",
    "        for product_element in product_elements:\n",
    "            identifier_element = product_element.find('.//cml:identifier[@dictRef=\"cml:smiles\"]', ns)\n",
    "            if identifier_element is not None:\n",
    "                smiles_value = identifier_element.get('value')\n",
    "                if smiles_value is not None:\n",
    "                    product_smiles.append(smiles_value)\n",
    "        if product_smiles:\n",
    "            reaction_dict['productSmiles'] = product_smiles\n",
    "\n",
    "        # Append the reaction dictionary to the reaction list\n",
    "        reaction_list.append(reaction_dict)\n",
    "\n",
    "    # Check if any values were extracted\n",
    "    #print(\"Reaction List:\", reaction_list)\n",
    "    return reaction_list\n"
   ]
  },
  {
   "cell_type": "code",
   "execution_count": 45,
   "metadata": {},
   "outputs": [
    {
     "name": "stdout",
     "output_type": "stream",
     "text": [
      "C:\\Users\\milen\\git\\ppChem\\PPChem_TLC\\data\\applications\\2001\n",
      "C:\\Users\\milen\\git\\ppChem\\PPChem_TLC\\data\\applications\\2002\n",
      "C:\\Users\\milen\\git\\ppChem\\PPChem_TLC\\data\\applications\\2003\n",
      "C:\\Users\\milen\\git\\ppChem\\PPChem_TLC\\data\\applications\\2004\n",
      "C:\\Users\\milen\\git\\ppChem\\PPChem_TLC\\data\\applications\\2005\n",
      "C:\\Users\\milen\\git\\ppChem\\PPChem_TLC\\data\\applications\\2006\n",
      "C:\\Users\\milen\\git\\ppChem\\PPChem_TLC\\data\\applications\\2007\n",
      "C:\\Users\\milen\\git\\ppChem\\PPChem_TLC\\data\\applications\\2008\n",
      "C:\\Users\\milen\\git\\ppChem\\PPChem_TLC\\data\\applications\\2009\n",
      "C:\\Users\\milen\\git\\ppChem\\PPChem_TLC\\data\\applications\\2010\n",
      "C:\\Users\\milen\\git\\ppChem\\PPChem_TLC\\data\\applications\\2011\n",
      "C:\\Users\\milen\\git\\ppChem\\PPChem_TLC\\data\\applications\\2012\n",
      "C:\\Users\\milen\\git\\ppChem\\PPChem_TLC\\data\\applications\\2013\n",
      "C:\\Users\\milen\\git\\ppChem\\PPChem_TLC\\data\\applications\\2014\n",
      "C:\\Users\\milen\\git\\ppChem\\PPChem_TLC\\data\\applications\\2015\n",
      "C:\\Users\\milen\\git\\ppChem\\PPChem_TLC\\data\\applications\\2016\n"
     ]
    }
   ],
   "source": [
    "Applications_list = []\n",
    "\n",
    "# define path to access first XML file in the folder 2001 of applications\n",
    "# Insert the path to the folder containing the XML files\n",
    "for folder in os.listdir(r'C:\\Users\\milen\\git\\ppChem\\PPChem_TLC\\data\\applications'):\n",
    "    folder = os.path.join(r'C:\\Users\\milen\\git\\ppChem\\PPChem_TLC\\data\\applications', folder)\n",
    "    print(folder) \n",
    "    for file in os.listdir(folder):\n",
    "        if file.endswith('.xml'):\n",
    "            file = os.path.join(folder, file)\n",
    "            tree = et.parse(file)\n",
    "         # define root of the XML file to iterate through the file\n",
    "            root = tree.getroot()\n",
    "            Applications_list.append(extract_data(root))    \n",
    "                  "
   ]
  },
  {
   "cell_type": "code",
   "execution_count": 30,
   "metadata": {},
   "outputs": [],
   "source": [
    "# Applications_list = []\n",
    "# # define path to access first XML file in the folder 2001 of applications\n",
    "# for path in os.listdir(r'C:\\Users\\milen\\git\\ppChem\\PPChem_TLC\\data\\applications\\2001'):\n",
    "#     if path.endswith('.xml'):\n",
    "#         path = os.path.join(r'C:\\Users\\milen\\git\\ppChem\\PPChem_TLC\\data\\applications\\2001', path)\n",
    "#         tree = et.parse(path)\n",
    "        \n",
    "#         # define root of the XML file to iterate through the file\n",
    "#         root = tree.getroot()\n",
    "#         Applications_list.append(extract_data(root))"
   ]
  },
  {
   "cell_type": "code",
   "execution_count": 29,
   "metadata": {},
   "outputs": [],
   "source": [
    "# # Get more familiar with the data and with how you can iterate through an XML file.\n",
    "# count = 0\n",
    "# for title in root:\n",
    "#     print(title[0][0].tag)\n",
    "#     count += 1\n",
    "# print(count)"
   ]
  },
  {
   "cell_type": "markdown",
   "metadata": {},
   "source": [
    "## Collect first values\n",
    "Now that we are more familiar with the XML file and how we can iterate or access the different children of the root, we try to create a list with the values of interest."
   ]
  },
  {
   "cell_type": "code",
   "execution_count": null,
   "metadata": {},
   "outputs": [],
   "source": [
    "# Extract the title of the reactions\n",
    "Title = []\n",
    "for title in root.iter('{http://bitbucket.org/dan2097}headingText'):\n",
    "    print(title.text)   # print the title of the reactions to see what they are like\n",
    "    Title.append(title.text)\n",
    "print(len(Title))"
   ]
  },
  {
   "cell_type": "markdown",
   "metadata": {},
   "source": [
    "OOps! Already we encounter the first problem here: the list of titles only counts up to 32 instead of the 38 reactions we could previously extract from this first XML file! Therefore, it will not be possible to zip the different lists we will create in the following, as we would loose the information of the matching. Stay tuned for the solution to this problem!"
   ]
  },
  {
   "cell_type": "code",
   "execution_count": null,
   "metadata": {},
   "outputs": [],
   "source": [
    "# Extract the experimental procedure\n",
    "ExpProcedure = []\n",
    "for expprocedure in root.iter('{http://bitbucket.org/dan2097}paragraphText'):\n",
    "    # print(title.text)\n",
    "    ExpProcedure.append(expprocedure.text)\n",
    "print(len(ExpProcedure))"
   ]
  },
  {
   "cell_type": "code",
   "execution_count": null,
   "metadata": {},
   "outputs": [],
   "source": [
    "# Extract the reaction SMILES\n",
    "RxnSmiles = []\n",
    "for smiles in root.iter('{http://bitbucket.org/dan2097}reactionSmiles'):\n",
    "    # print(title.text)\n",
    "    RxnSmiles.append(smiles.text)\n",
    "print(len(RxnSmiles))"
   ]
  },
  {
   "cell_type": "markdown",
   "metadata": {},
   "source": [
    "Here we had a problem:\n",
    "while in the other tags, the value we wanted to extract was directly linked, in the product tag there are different values and we only want to extract the product smiles identifier. Here we need to be very specific to prevent extracting other identifier smiles from the reactants or spectators tags. "
   ]
  },
  {
   "cell_type": "code",
   "execution_count": null,
   "metadata": {},
   "outputs": [],
   "source": [
    "PrdSmiles = []\n",
    "\n",
    "# Define the namespace\n",
    "ns = {'cml': 'http://www.xml-cml.org/schema'}\n",
    "\n",
    "# Find all <reaction> elements\n",
    "reaction_elements = root.findall('.//cml:reaction', ns)\n",
    "\n",
    "# Iterate over each <reaction> element\n",
    "for reaction_element in reaction_elements:\n",
    "    # Find all <product> elements within the current <reaction> element\n",
    "    product_elements = reaction_element.findall('.//cml:product', ns)\n",
    "    # Iterate over each <product> element\n",
    "    for product_element in product_elements:\n",
    "        # Find all <identifier> elements within the current <product> element\n",
    "        identifier_elements = product_element.findall('.//cml:identifier[@dictRef=\"cml:smiles\"]', ns)\n",
    "        # Iterate over each <identifier> element\n",
    "        for identifier_element in identifier_elements:\n",
    "            # Extract the value attribute (SMILES value)\n",
    "            smiles_value = identifier_element.attrib.get('value')\n",
    "            if smiles_value is not None:\n",
    "                # Append the SMILES value to the list or process it as needed\n",
    "                PrdSmiles.append(smiles_value)\n",
    "\n",
    "# Check if any values were extracted\n",
    "print(\"Product SMILES:\", PrdSmiles)"
   ]
  },
  {
   "cell_type": "code",
   "execution_count": null,
   "metadata": {},
   "outputs": [],
   "source": [
    "print(len(PrdSmiles))"
   ]
  },
  {
   "cell_type": "markdown",
   "metadata": {},
   "source": [
    "Now, to prevent mismatching through handling of lists of different lengths, the best is to create a dictionnary for every reaction containing the values of interest as keys. After that, we can build a dataframe where every dictionnary is one entry in the df."
   ]
  },
  {
   "cell_type": "code",
   "execution_count": 17,
   "metadata": {},
   "outputs": [
    {
     "name": "stdout",
     "output_type": "stream",
     "text": [
      "{'title': 'HDDA—1,6-hexanediol diacrylate (available from UCB Chemicals Corp., Augustana, S.C.)', 'paragraphText': 'HPA—an isometric mixture of 2-hydroxypropyl acrylate and 3-hydroxypropyl acrylate (available as ROCRYL 430 from Rohm and Haas, Philadelphia, Pa.)', 'reactionSmiles': '[C:1]([O:5][CH2:6][CH:7](O)[CH3:8])(=[O:4])[CH:2]=[CH2:3].[C:10]([O:14][CH2:15][CH2:16][CH2:17]O)(=[O:13])[CH:11]=[CH2:12]>>[CH2:12]=[CH:11][C:10]([O:14][CH2:15][CH2:16][CH2:17][CH2:8][CH2:7][CH2:6][O:5][C:1]([CH:2]=[CH2:3])=[O:4])=[O:13].[C:10]([O:14][CH2:15][CH2:16][CH2:17][CH2:8][CH2:7][CH2:6][O:5][C:1](=[O:4])[CH:2]=[CH2:3])(=[O:13])[CH:11]=[CH2:12] |f:2.3|', 'productSmiles': ['C=CC(=O)OCCCCCCOC(=O)C=C.C(C=C)(=O)OCCCCCCOC(C=C)=O']}\n"
     ]
    }
   ],
   "source": [
    "#reaction_list = extract_data(root)\n",
    "print(Applications_list[23][0])"
   ]
  },
  {
   "cell_type": "markdown",
   "metadata": {},
   "source": [
    "# Put extracted data into a dataframe.\n",
    "Now that we created a list of lists containing a dictionnary for every reaction that was extracted from the XML files, we put the lists into a dataframe."
   ]
  },
  {
   "cell_type": "code",
   "execution_count": 46,
   "metadata": {},
   "outputs": [
    {
     "name": "stdout",
     "output_type": "stream",
     "text": [
      "(1939253, 4)\n"
     ]
    },
    {
     "data": {
      "text/html": [
       "<div>\n",
       "<style scoped>\n",
       "    .dataframe tbody tr th:only-of-type {\n",
       "        vertical-align: middle;\n",
       "    }\n",
       "\n",
       "    .dataframe tbody tr th {\n",
       "        vertical-align: top;\n",
       "    }\n",
       "\n",
       "    .dataframe thead th {\n",
       "        text-align: right;\n",
       "    }\n",
       "</style>\n",
       "<table border=\"1\" class=\"dataframe\">\n",
       "  <thead>\n",
       "    <tr style=\"text-align: right;\">\n",
       "      <th></th>\n",
       "      <th>paragraphText</th>\n",
       "      <th>reactionSmiles</th>\n",
       "      <th>productSmiles</th>\n",
       "      <th>title</th>\n",
       "    </tr>\n",
       "  </thead>\n",
       "  <tbody>\n",
       "    <tr>\n",
       "      <th>0</th>\n",
       "      <td>PL 137,526 describes the hydrogenation of p-te...</td>\n",
       "      <td>[C:1]([C:5]1[CH:10]=[CH:9][C:8]([OH:11])=[CH:7...</td>\n",
       "      <td>[C(C)(C)(C)C1CCC(CC1)O]</td>\n",
       "      <td>NaN</td>\n",
       "    </tr>\n",
       "    <tr>\n",
       "      <th>1</th>\n",
       "      <td>Slurry aluminum chloride (140.9 g, 1.075 mol) ...</td>\n",
       "      <td>[Cl-].[Al+3].[Cl-].[Cl-].[Cl:5][CH2:6][CH2:7][...</td>\n",
       "      <td>[ClCCCC(=O)C1=CC=C(C=C1)C(C)C]</td>\n",
       "      <td>Step h: 4-Chloro-1-(4-isopropyl-phenyl)-butan-...</td>\n",
       "    </tr>\n",
       "    <tr>\n",
       "      <th>2</th>\n",
       "      <td>Suspend anhydrous AlCl3 (156 g, 1.15 mol) in t...</td>\n",
       "      <td>[Al+3].[Cl-].[Cl-].[Cl-].[Cl:5][CH2:6][CH2:7][...</td>\n",
       "      <td>[ClCCCC(=O)C1=CC=C(C=C1)C]</td>\n",
       "      <td>Step d: 4-Chloro-1-(4-methyl-phenyl)-butan-1-one</td>\n",
       "    </tr>\n",
       "    <tr>\n",
       "      <th>3</th>\n",
       "      <td>Dissolve 4-chloro-1-(4-isopropyl-phenyl)-butan...</td>\n",
       "      <td>[Cl:1][CH2:2][CH2:3][CH2:4][C:5]([C:7]1[CH:12]...</td>\n",
       "      <td>[BrC(C)(C)C1=CC=C(C=C1)C(CCCCl)=O]</td>\n",
       "      <td>1-[4-(1-Bromo-1-methyl-ethyl)-phenyl]-4-chloro...</td>\n",
       "    </tr>\n",
       "    <tr>\n",
       "      <th>4</th>\n",
       "      <td>Dissolve 4-chloro-1-(4-isopropyl-phenyl)-butan...</td>\n",
       "      <td>[Cl:1][CH2:2][CH2:3][CH2:4][C:5]([C:7]1[CH:12]...</td>\n",
       "      <td>[BrC(C)(C)C1=CC=C(C=C1)C(CCCCl)=O]</td>\n",
       "      <td>1-[4-(1-Bromo-1-methyl-ethyl)-phenyl]-4-chloro...</td>\n",
       "    </tr>\n",
       "  </tbody>\n",
       "</table>\n",
       "</div>"
      ],
      "text/plain": [
       "                                       paragraphText  \\\n",
       "0  PL 137,526 describes the hydrogenation of p-te...   \n",
       "1  Slurry aluminum chloride (140.9 g, 1.075 mol) ...   \n",
       "2  Suspend anhydrous AlCl3 (156 g, 1.15 mol) in t...   \n",
       "3  Dissolve 4-chloro-1-(4-isopropyl-phenyl)-butan...   \n",
       "4  Dissolve 4-chloro-1-(4-isopropyl-phenyl)-butan...   \n",
       "\n",
       "                                      reactionSmiles  \\\n",
       "0  [C:1]([C:5]1[CH:10]=[CH:9][C:8]([OH:11])=[CH:7...   \n",
       "1  [Cl-].[Al+3].[Cl-].[Cl-].[Cl:5][CH2:6][CH2:7][...   \n",
       "2  [Al+3].[Cl-].[Cl-].[Cl-].[Cl:5][CH2:6][CH2:7][...   \n",
       "3  [Cl:1][CH2:2][CH2:3][CH2:4][C:5]([C:7]1[CH:12]...   \n",
       "4  [Cl:1][CH2:2][CH2:3][CH2:4][C:5]([C:7]1[CH:12]...   \n",
       "\n",
       "                        productSmiles  \\\n",
       "0             [C(C)(C)(C)C1CCC(CC1)O]   \n",
       "1      [ClCCCC(=O)C1=CC=C(C=C1)C(C)C]   \n",
       "2          [ClCCCC(=O)C1=CC=C(C=C1)C]   \n",
       "3  [BrC(C)(C)C1=CC=C(C=C1)C(CCCCl)=O]   \n",
       "4  [BrC(C)(C)C1=CC=C(C=C1)C(CCCCl)=O]   \n",
       "\n",
       "                                               title  \n",
       "0                                                NaN  \n",
       "1  Step h: 4-Chloro-1-(4-isopropyl-phenyl)-butan-...  \n",
       "2   Step d: 4-Chloro-1-(4-methyl-phenyl)-butan-1-one  \n",
       "3  1-[4-(1-Bromo-1-methyl-ethyl)-phenyl]-4-chloro...  \n",
       "4  1-[4-(1-Bromo-1-methyl-ethyl)-phenyl]-4-chloro...  "
      ]
     },
     "execution_count": 46,
     "metadata": {},
     "output_type": "execute_result"
    }
   ],
   "source": [
    "# Create a DataFrame from the extracted data\n",
    "df_extracts = pd.DataFrame(Applications_list[0])\n",
    "\n",
    "# Iterate through the list of dictionaries and create a DataFrame\n",
    "for i in range(1, len(Applications_list)):\n",
    "    df = pd.DataFrame(Applications_list[i])\n",
    "    \n",
    "    # Concatenate the DataFrames\n",
    "    df_extracts = pd.concat([df_extracts, df], ignore_index=True)\n",
    "\n",
    "print(df_extracts.shape)\n",
    "df_extracts.head()\n"
   ]
  },
  {
   "cell_type": "code",
   "execution_count": 52,
   "metadata": {},
   "outputs": [],
   "source": [
    "df_extracts.to_csv(r'C:\\Users\\milen\\git\\ppChem\\PPChem_TLC\\extracted_data_raw_applications.csv', index=False)"
   ]
  },
  {
   "cell_type": "code",
   "execution_count": 60,
   "metadata": {},
   "outputs": [],
   "source": [
    "import re\n",
    "\n",
    "def extract_rf_eluent(text):\n",
    "    \n",
    "    \"\"\"function to generate a regex pattern for the extraction of Rf values, eluent ratios, and their nature from a given text.\n",
    "\n",
    "    Args:\n",
    "        text: paragraphText extracted from the XML file\n",
    "\n",
    "    Returns:\n",
    "        string: Found Rf values, eluent ratios, and their nature\n",
    "    \"\"\"\n",
    "    # Define regular expressions for matching Rf values, eluent ratios, and their nature\n",
    "    rf_pattern = r'Rf\\s*[:=]?\\s*(\\d+\\.\\d+)'\n",
    "    eluent_pattern = r'(?:\\d+\\.\\d+|[\\w\\s]+)\\s*(?:[:/-])\\s*(?:\\d+\\.\\d+|[\\w\\s]+)'\n",
    "    nature_pattern = r'[A-Za-z\\s]+(?=\\()'\n",
    "\n",
    "    # Search for Rf values, eluent ratios, and their nature in the text\n",
    "    rf_matches = re.findall(rf_pattern, text)\n",
    "    eluent_matches = re.findall(eluent_pattern, text)\n",
    "    nature_matches = re.findall(nature_pattern, text)\n",
    "\n",
    "    # Return the extracted information as a dictionary\n",
    "    return {\n",
    "        'Rf_values': rf_matches,\n",
    "        'Eluent_ratios': eluent_matches,\n",
    "        'Nature': nature_matches\n",
    "    }\n",
    "\n",
    "# The regex patterns are yet not very useful, as they are not able to extract the information from the text.\n",
    "\n",
    "\n",
    "# # Test the function with example text\n",
    "# example_text = \"\"\"\n",
    "# Thin layer chromatography on silica gel with 4:1 ethyl acetate/hexane gave an Rf value of 0.59.\n",
    "# Thin layer chromatography (TLC) showed a major spot at Rf=0.3 in 10% methylene chloride/hexane (with benzyl bromide at Rf=0.4).\n",
    "# The product was purified by column chromatography on silica gel (100 g) eluting with CHCl3-MeOH (3:1 ,v/v). Selected fractions, based on TLC (Rf 0.65) analysis, were combined and concentrated to give a 1.64 g (54.1%) of a tan-brown solid.\n",
    "# \"\"\"\n",
    "\n",
    "# result = extract_rf_eluent(example_text)\n",
    "# print(\"Rf values:\", result['Rf_values'])\n",
    "# print(\"Eluent ratios:\", result['Eluent_ratios'])\n",
    "# print(\"Nature:\", result['Nature'])\n"
   ]
  },
  {
   "cell_type": "code",
   "execution_count": 59,
   "metadata": {},
   "outputs": [],
   "source": [
    "# for i in df_extracts.index[:20]:\n",
    "#     rf_eluent_info = extract_rf_eluent(df_extracts.loc[i, 'paragraphText'])\n",
    "#     print(\"Length of Rf_values:\", len(rf_eluent_info['Rf_values']))\n",
    "#     print(\"Length of Eluent_ratios:\", len(rf_eluent_info['Eluent_ratios']), rf_eluent_info['Eluent_ratios'])\n",
    "#     print(\"Length of Nature:\", len(rf_eluent_info['Nature']))\n",
    "#     df_extracts.loc[i, 'Rf_values'] = rf_eluent_info['Rf_values']\n",
    "#     df_extracts.loc[i, 'Eluent_ratios'] = rf_eluent_info['Eluent_ratios']\n",
    "#     df_extracts.loc[i, 'Nature'] = rf_eluent_info['Nature']"
   ]
  },
  {
   "cell_type": "code",
   "execution_count": null,
   "metadata": {},
   "outputs": [],
   "source": []
  }
 ],
 "metadata": {
  "kernelspec": {
   "display_name": "ppchem",
   "language": "python",
   "name": "python3"
  },
  "language_info": {
   "codemirror_mode": {
    "name": "ipython",
    "version": 3
   },
   "file_extension": ".py",
   "mimetype": "text/x-python",
   "name": "python",
   "nbconvert_exporter": "python",
   "pygments_lexer": "ipython3",
   "version": "3.10.13"
  }
 },
 "nbformat": 4,
 "nbformat_minor": 2
}
