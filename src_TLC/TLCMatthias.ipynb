{
 "cells": [
  {
   "cell_type": "markdown",
   "metadata": {},
   "source": [
    "# Pre-processing of data\n",
    "The first thing to do is extracting the data we are interested in from the XML files (XML files are used from a dataset of US patent applications from 2001 to 2016. This dataset can be found here: https://figshare.com/articles/dataset/Chemical_reactions_from_US_patents_1976-Sep2016_/5104873). We are interested in the title, the general experimental procedure, the reaction SMILES, but most importantly the product SMILES.\n",
    "Therefore, using xml.Etree in the following we iterate through the child elements of the root of the file. \n"
   ]
  },
  {
   "cell_type": "code",
   "execution_count": 3,
   "metadata": {},
   "outputs": [],
   "source": [
    "# First we import the necessary libraries\n",
    "\n",
    "import xml.etree.cElementTree as et     # for parsing the XML file\n",
    "import pandas as pd\n",
    "import numpy as np\n",
    "import os\n",
    "import re\n",
    "from groq import Groq # for the LLM Groq queries (needs to be installed via pip)\n",
    "import json\n",
    "from tqdm import tqdm\n"
   ]
  },
  {
   "cell_type": "markdown",
   "metadata": {},
   "source": [
    "Now we use a function to iterate over all the XML files in the applications data from 2001. We collect the title, the paragraphText, mostly including the experimental procedures, the reaction SMILES and the product SMILES from it."
   ]
  },
  {
   "cell_type": "code",
   "execution_count": 2,
   "metadata": {},
   "outputs": [],
   "source": [
    "def extract_data(root_file):\n",
    "    \"\"\"function that extracts data from an XML file and returns a list of dictionaries containing the extracted information.\n",
    "        Information to be extracted includes the title of the reaction, the experimental procedure, the reaction SMILES, and the product SMILES.\n",
    "\n",
    "    Args:\n",
    "        root_file: root of the parsed XML file\n",
    "\n",
    "    Returns:\n",
    "        reaction_list: list of dictionaries containing the extracted information\n",
    "    \"\"\"\n",
    "    \n",
    "    # Define the namespace that prevents mismatching of tags in the XML file\n",
    "    ns = {'cml': 'http://www.xml-cml.org/schema', 'dl': 'http://bitbucket.org/dan2097'}\n",
    "\n",
    "    # Create lists to store extracted information\n",
    "    reaction_list = []\n",
    "\n",
    "    # Find all <reaction> elements\n",
    "    reaction_elements = root_file.findall('.//cml:reaction', ns)\n",
    "\n",
    "    # Iterate over each <reaction> element\n",
    "    for reaction_element in reaction_elements:\n",
    "        # Create a dictionary to store information about the reaction\n",
    "        reaction_dict = {}\n",
    "\n",
    "        # Extract title\n",
    "        title = reaction_element.find('.//dl:headingText', ns)\n",
    "        if title is not None:\n",
    "            reaction_dict['title'] = title.text\n",
    "\n",
    "        # Extract paragraph text\n",
    "        paragraph_text = reaction_element.find('.//dl:paragraphText', ns)\n",
    "        if paragraph_text is not None:\n",
    "            reaction_dict['paragraphText'] = paragraph_text.text\n",
    "\n",
    "        # Extract reaction SMILES\n",
    "        reaction_smiles = reaction_element.find('.//dl:reactionSmiles', ns)\n",
    "        if reaction_smiles is not None:\n",
    "            reaction_dict['reactionSmiles'] = reaction_smiles.text\n",
    "\n",
    "        # Extract product SMILES\n",
    "        product_elements = reaction_element.findall('.//cml:product', ns)\n",
    "        product_smiles = []\n",
    "        for product_element in product_elements:\n",
    "            identifier_element = product_element.find('.//cml:identifier[@dictRef=\"cml:smiles\"]', ns)\n",
    "            if identifier_element is not None:\n",
    "                smiles_value = identifier_element.get('value')\n",
    "                if smiles_value is not None:\n",
    "                    product_smiles.append(smiles_value)\n",
    "        if product_smiles:\n",
    "            reaction_dict['productSmiles'] = product_smiles\n",
    "\n",
    "        # Append the reaction dictionary to the reaction list\n",
    "        reaction_list.append(reaction_dict)\n",
    "\n",
    "    # Check if any values were extracted\n",
    "    #print(\"Reaction List:\", reaction_list)\n",
    "    return reaction_list\n"
   ]
  },
  {
   "cell_type": "markdown",
   "metadata": {},
   "source": [
    "In a second step, we iterate through all files in every folder of the application data of the dataset and extract the data with the function extract_data. This takes quite a bit, but you can see the progress whenever a new folder is treated. "
   ]
  },
  {
   "cell_type": "code",
   "execution_count": 69,
   "metadata": {},
   "outputs": [
    {
     "ename": "FileNotFoundError",
     "evalue": "[Errno 2] No such file or directory: 'C:\\\\Users\\\\milen\\\\git\\\\ppChem\\\\PPChem_TLC\\\\data\\\\applications'",
     "output_type": "error",
     "traceback": [
      "\u001b[0;31m---------------------------------------------------------------------------\u001b[0m",
      "\u001b[0;31mFileNotFoundError\u001b[0m                         Traceback (most recent call last)",
      "Cell \u001b[0;32mIn[69], line 5\u001b[0m\n\u001b[1;32m      1\u001b[0m Applications_list \u001b[38;5;241m=\u001b[39m []\n\u001b[1;32m      3\u001b[0m \u001b[38;5;66;03m# define path to access first XML file in the folder 2001 of applications\u001b[39;00m\n\u001b[1;32m      4\u001b[0m \u001b[38;5;66;03m# Insert the path to the folder containing the XML files\u001b[39;00m\n\u001b[0;32m----> 5\u001b[0m \u001b[38;5;28;01mfor\u001b[39;00m folder \u001b[38;5;129;01min\u001b[39;00m \u001b[43mos\u001b[49m\u001b[38;5;241;43m.\u001b[39;49m\u001b[43mlistdir\u001b[49m\u001b[43m(\u001b[49m\u001b[38;5;124;43mr\u001b[39;49m\u001b[38;5;124;43m'\u001b[39;49m\u001b[38;5;124;43mC:\u001b[39;49m\u001b[38;5;124;43m\\\u001b[39;49m\u001b[38;5;124;43mUsers\u001b[39;49m\u001b[38;5;124;43m\\\u001b[39;49m\u001b[38;5;124;43mmilen\u001b[39;49m\u001b[38;5;124;43m\\\u001b[39;49m\u001b[38;5;124;43mgit\u001b[39;49m\u001b[38;5;124;43m\\\u001b[39;49m\u001b[38;5;124;43mppChem\u001b[39;49m\u001b[38;5;124;43m\\\u001b[39;49m\u001b[38;5;124;43mPPChem_TLC\u001b[39;49m\u001b[38;5;124;43m\\\u001b[39;49m\u001b[38;5;124;43mdata\u001b[39;49m\u001b[38;5;124;43m\\\u001b[39;49m\u001b[38;5;124;43mapplications\u001b[39;49m\u001b[38;5;124;43m'\u001b[39;49m\u001b[43m)\u001b[49m:\n\u001b[1;32m      6\u001b[0m     folder \u001b[38;5;241m=\u001b[39m os\u001b[38;5;241m.\u001b[39mpath\u001b[38;5;241m.\u001b[39mjoin(\u001b[38;5;124mr\u001b[39m\u001b[38;5;124m'\u001b[39m\u001b[38;5;124mC:\u001b[39m\u001b[38;5;124m\\\u001b[39m\u001b[38;5;124mUsers\u001b[39m\u001b[38;5;124m\\\u001b[39m\u001b[38;5;124mmilen\u001b[39m\u001b[38;5;124m\\\u001b[39m\u001b[38;5;124mgit\u001b[39m\u001b[38;5;124m\\\u001b[39m\u001b[38;5;124mppChem\u001b[39m\u001b[38;5;124m\\\u001b[39m\u001b[38;5;124mPPChem_TLC\u001b[39m\u001b[38;5;124m\\\u001b[39m\u001b[38;5;124mdata\u001b[39m\u001b[38;5;124m\\\u001b[39m\u001b[38;5;124mapplications\u001b[39m\u001b[38;5;124m'\u001b[39m, folder)\n\u001b[1;32m      7\u001b[0m     \u001b[38;5;28mprint\u001b[39m(folder) \n",
      "\u001b[0;31mFileNotFoundError\u001b[0m: [Errno 2] No such file or directory: 'C:\\\\Users\\\\milen\\\\git\\\\ppChem\\\\PPChem_TLC\\\\data\\\\applications'"
     ]
    }
   ],
   "source": [
    "Applications_list = []\n",
    "\n",
    "# define path to access first XML file in the folder 2001 of applications\n",
    "# Insert the path to the folder containing the XML files\n",
    "for folder in os.listdir(r'C:\\Users\\milen\\git\\ppChem\\PPChem_TLC\\data\\applications'):\n",
    "    folder = os.path.join(r'C:\\Users\\milen\\git\\ppChem\\PPChem_TLC\\data\\applications', folder)\n",
    "    print(folder) \n",
    "    for file in os.listdir(folder):\n",
    "        if file.endswith('.xml'):\n",
    "            file = os.path.join(folder, file)\n",
    "            tree = et.parse(file)\n",
    "         # define root of the XML file to iterate through the file\n",
    "            root = tree.getroot()\n",
    "            Applications_list.append(extract_data(root))    \n",
    "                  "
   ]
  },
  {
   "cell_type": "markdown",
   "metadata": {},
   "source": [
    "# Put extracted data into a dataframe.\n",
    "Now that we created a list of lists containing a dictionnary for every reaction that was extracted from the XML files, we put the lists into a dataframe."
   ]
  },
  {
   "cell_type": "code",
   "execution_count": null,
   "metadata": {},
   "outputs": [
    {
     "name": "stdout",
     "output_type": "stream",
     "text": [
      "(1939253, 4)\n"
     ]
    },
    {
     "data": {
      "text/html": [
       "<div>\n",
       "<style scoped>\n",
       "    .dataframe tbody tr th:only-of-type {\n",
       "        vertical-align: middle;\n",
       "    }\n",
       "\n",
       "    .dataframe tbody tr th {\n",
       "        vertical-align: top;\n",
       "    }\n",
       "\n",
       "    .dataframe thead th {\n",
       "        text-align: right;\n",
       "    }\n",
       "</style>\n",
       "<table border=\"1\" class=\"dataframe\">\n",
       "  <thead>\n",
       "    <tr style=\"text-align: right;\">\n",
       "      <th></th>\n",
       "      <th>paragraphText</th>\n",
       "      <th>reactionSmiles</th>\n",
       "      <th>productSmiles</th>\n",
       "      <th>title</th>\n",
       "    </tr>\n",
       "  </thead>\n",
       "  <tbody>\n",
       "    <tr>\n",
       "      <th>0</th>\n",
       "      <td>PL 137,526 describes the hydrogenation of p-te...</td>\n",
       "      <td>[C:1]([C:5]1[CH:10]=[CH:9][C:8]([OH:11])=[CH:7...</td>\n",
       "      <td>[C(C)(C)(C)C1CCC(CC1)O]</td>\n",
       "      <td>NaN</td>\n",
       "    </tr>\n",
       "    <tr>\n",
       "      <th>1</th>\n",
       "      <td>Slurry aluminum chloride (140.9 g, 1.075 mol) ...</td>\n",
       "      <td>[Cl-].[Al+3].[Cl-].[Cl-].[Cl:5][CH2:6][CH2:7][...</td>\n",
       "      <td>[ClCCCC(=O)C1=CC=C(C=C1)C(C)C]</td>\n",
       "      <td>Step h: 4-Chloro-1-(4-isopropyl-phenyl)-butan-...</td>\n",
       "    </tr>\n",
       "    <tr>\n",
       "      <th>2</th>\n",
       "      <td>Suspend anhydrous AlCl3 (156 g, 1.15 mol) in t...</td>\n",
       "      <td>[Al+3].[Cl-].[Cl-].[Cl-].[Cl:5][CH2:6][CH2:7][...</td>\n",
       "      <td>[ClCCCC(=O)C1=CC=C(C=C1)C]</td>\n",
       "      <td>Step d: 4-Chloro-1-(4-methyl-phenyl)-butan-1-one</td>\n",
       "    </tr>\n",
       "    <tr>\n",
       "      <th>3</th>\n",
       "      <td>Dissolve 4-chloro-1-(4-isopropyl-phenyl)-butan...</td>\n",
       "      <td>[Cl:1][CH2:2][CH2:3][CH2:4][C:5]([C:7]1[CH:12]...</td>\n",
       "      <td>[BrC(C)(C)C1=CC=C(C=C1)C(CCCCl)=O]</td>\n",
       "      <td>1-[4-(1-Bromo-1-methyl-ethyl)-phenyl]-4-chloro...</td>\n",
       "    </tr>\n",
       "    <tr>\n",
       "      <th>4</th>\n",
       "      <td>Dissolve 4-chloro-1-(4-isopropyl-phenyl)-butan...</td>\n",
       "      <td>[Cl:1][CH2:2][CH2:3][CH2:4][C:5]([C:7]1[CH:12]...</td>\n",
       "      <td>[BrC(C)(C)C1=CC=C(C=C1)C(CCCCl)=O]</td>\n",
       "      <td>1-[4-(1-Bromo-1-methyl-ethyl)-phenyl]-4-chloro...</td>\n",
       "    </tr>\n",
       "  </tbody>\n",
       "</table>\n",
       "</div>"
      ],
      "text/plain": [
       "                                       paragraphText  \\\n",
       "0  PL 137,526 describes the hydrogenation of p-te...   \n",
       "1  Slurry aluminum chloride (140.9 g, 1.075 mol) ...   \n",
       "2  Suspend anhydrous AlCl3 (156 g, 1.15 mol) in t...   \n",
       "3  Dissolve 4-chloro-1-(4-isopropyl-phenyl)-butan...   \n",
       "4  Dissolve 4-chloro-1-(4-isopropyl-phenyl)-butan...   \n",
       "\n",
       "                                      reactionSmiles  \\\n",
       "0  [C:1]([C:5]1[CH:10]=[CH:9][C:8]([OH:11])=[CH:7...   \n",
       "1  [Cl-].[Al+3].[Cl-].[Cl-].[Cl:5][CH2:6][CH2:7][...   \n",
       "2  [Al+3].[Cl-].[Cl-].[Cl-].[Cl:5][CH2:6][CH2:7][...   \n",
       "3  [Cl:1][CH2:2][CH2:3][CH2:4][C:5]([C:7]1[CH:12]...   \n",
       "4  [Cl:1][CH2:2][CH2:3][CH2:4][C:5]([C:7]1[CH:12]...   \n",
       "\n",
       "                        productSmiles  \\\n",
       "0             [C(C)(C)(C)C1CCC(CC1)O]   \n",
       "1      [ClCCCC(=O)C1=CC=C(C=C1)C(C)C]   \n",
       "2          [ClCCCC(=O)C1=CC=C(C=C1)C]   \n",
       "3  [BrC(C)(C)C1=CC=C(C=C1)C(CCCCl)=O]   \n",
       "4  [BrC(C)(C)C1=CC=C(C=C1)C(CCCCl)=O]   \n",
       "\n",
       "                                               title  \n",
       "0                                                NaN  \n",
       "1  Step h: 4-Chloro-1-(4-isopropyl-phenyl)-butan-...  \n",
       "2   Step d: 4-Chloro-1-(4-methyl-phenyl)-butan-1-one  \n",
       "3  1-[4-(1-Bromo-1-methyl-ethyl)-phenyl]-4-chloro...  \n",
       "4  1-[4-(1-Bromo-1-methyl-ethyl)-phenyl]-4-chloro...  "
      ]
     },
     "execution_count": 14,
     "metadata": {},
     "output_type": "execute_result"
    }
   ],
   "source": [
    "# Create a DataFrame from the extracted data\n",
    "df_extracts = pd.DataFrame(Applications_list[0])\n",
    "\n",
    "# Iterate through the list of dictionaries and create a DataFrame\n",
    "for i in range(1, len(Applications_list)):\n",
    "    df = pd.DataFrame(Applications_list[i])\n",
    "    \n",
    "    # Concatenate the DataFrames\n",
    "    df_extracts = pd.concat([df_extracts, df], ignore_index=True)\n",
    "\n",
    "print(df_extracts.shape)\n",
    "df_extracts.head()\n"
   ]
  },
  {
   "cell_type": "markdown",
   "metadata": {},
   "source": [
    "That Dataframe is huge! Finally, save all the extracted data into a csv file on the local device."
   ]
  },
  {
   "cell_type": "code",
   "execution_count": null,
   "metadata": {},
   "outputs": [],
   "source": [
    "df_extracts.to_csv(r'C:\\Users\\milen\\git\\ppChem\\PPChem_TLC\\extracted_data_raw_applications.csv', index=False)"
   ]
  },
  {
   "cell_type": "markdown",
   "metadata": {},
   "source": [
    "# Further Processing of the Data using Regex and LLM\n",
    "Of course, not all entries in the data frame can be used for our model. Many of the experimental procedures do not include any information about the Rf value. Thus, we need to find the entries with Rf values. As all experimental procedures are written differently, we will try to find the value of interest by using Regex (Regular Expressions)."
   ]
  },
  {
   "cell_type": "markdown",
   "metadata": {},
   "source": [
    "First, we load the extracted data into a new dataframe."
   ]
  },
  {
   "cell_type": "code",
   "execution_count": 4,
   "metadata": {},
   "outputs": [],
   "source": [
    "#df_new = pd.read_csv(r'C:\\Users\\milen\\git\\ppChem\\PPChem_TLC\\extracted_data_raw_applications.csv')\n",
    "\n",
    "df_new = pd.read_csv(r'/Users/matthiasgalka/git/ppchem_project/data/extracted_data_raw_applications.csv')\n",
    "            "
   ]
  },
  {
   "cell_type": "markdown",
   "metadata": {},
   "source": [
    "And we create another dataframe, which only includes the first 1000 rows of the dataframe to reduce the cost of executing the test code below."
   ]
  },
  {
   "cell_type": "code",
   "execution_count": 5,
   "metadata": {},
   "outputs": [
    {
     "data": {
      "text/plain": [
       "(1939253, 4)"
      ]
     },
     "execution_count": 5,
     "metadata": {},
     "output_type": "execute_result"
    }
   ],
   "source": [
    "df_new.shape\n",
    "#df_new = df_new.iloc[0:1000]\n",
    "#df_new.head()"
   ]
  },
  {
   "cell_type": "markdown",
   "metadata": {},
   "source": [
    "Seems to have worked! Now let's take a closer look at how we will try to extract the Rf values. \n",
    "Throughout different testing until now, we found several criteria that need to be defined in the Regex pattern for the Rf value: it should be a number following the general pattern 0.XY with Y not being obligatory and X being some digit between 2 and 8 (this is to exclude as many other matches as possible and as Rf values should ideally be around 0.5, we thought this would be optimal). Furthermore, the pattern should not be followed by other digits (e.g. 0.45005) nor include special signs (0.5:0.4) or temperature values. The last remaining problem is, to distinguish between information about quantity and the Rf value (e.g. 0.56 vs. 0.56 mg)."
   ]
  },
  {
   "cell_type": "code",
   "execution_count": 3,
   "metadata": {},
   "outputs": [],
   "source": [
    "def extract_rf_eluent(Dataframe: pd.DataFrame):\n",
    "    \"\"\"Function that applies defined regex patterns to data in a dataframe and creates \n",
    "    the following new columns: \n",
    "    Rf value, solvent A, solvent B, % solvent A, % solvent B. If no Rf value can be found, all columns\n",
    "    are filled with NaN. \n",
    "\n",
    "    Args:\n",
    "        Dataframe (_type_): Dataframe containing the extracted data from the US patents\n",
    "    \"\"\"\n",
    "    # copy the dataframe to leave old dataframe unchanged\n",
    "    df = Dataframe.copy()\n",
    "    \n",
    "    # Define the regex patterns\n",
    "    Rf_check = r'( ?R[fF]?[ :=(]?)'\n",
    "    Rf_pattern = r'(0\\.(?!0|9)\\d{1,2})\\b(?! *mg\\b| *mL\\b| *g\\b)' # exclude decimals that start by 0.0x, this yet seems not to work though, try to specifiy that digit after . cannot start with 0.\n",
    "    #Rf_pattern = r'[ =:]?(0\\.[^0][0-9])[^\\dmglL](?! mg)' # exclude decimals that start by 0.0x, this yet seems not to work though, try to specifiy that digit after . cannot start with 0.\n",
    "    \n",
    "    #set a count to see how many multiple Rf values are found in the dataframe, how many NaN values are found\n",
    "    count = 0\n",
    "    count_nan = 0\n",
    "    \n",
    "    # Extract the Rf values from the paragraphText and put them into a new column\n",
    "    for index, row in df.iterrows():\n",
    "        checkRf = re.findall(Rf_check, row['paragraphText'])\n",
    "        \n",
    "        #check if Rf value can be found in the paragraphText column\n",
    "        if checkRf:\n",
    "             #try to find the Rf value in the paragraphText column\n",
    "            match = re.findall(Rf_pattern, row['paragraphText'])\n",
    "            if match:\n",
    "                df.at[index, 'Rf_value'] = match[0] # df['paragraphText'].str.extract(Rf_pattern)\n",
    "            \n",
    "                # Check if multiple Rf values were found (potential error source)\n",
    "                if len(match) > 1:\n",
    "                   # print('Multiple Rf values found in paragraphText:', match, 'at index:', index)\n",
    "                    count += 1\n",
    "       \n",
    "        else:\n",
    "            df.at[index, 'Rf_value'] = np.nan\n",
    "            count_nan += 1\n",
    "            \n",
    "    print(\"Number of entries with multiple Rf values:\", count)\n",
    "    print(\"Number of entries with no Rf values found:\", count_nan)\n",
    "    print(\"Number of entries with Rf values found:\", df['Rf_value'].count())\n",
    "    return df\n",
    "    "
   ]
  },
  {
   "cell_type": "markdown",
   "metadata": {},
   "source": [
    "Turns out it would be very painful to do all this with regex. Not the best idea. Instead, we will try to use a LLM in the following. To still reduce the cost of computation, we will pre-filter the dataframe with the subsequent function to only get back data where an Rf value can be found in the experimental procedure. "
   ]
  },
  {
   "cell_type": "code",
   "execution_count": 4,
   "metadata": {},
   "outputs": [],
   "source": [
    "def extract_rows_with_rf(Dataframe: pd.DataFrame):\n",
    "    \"\"\"Function that extracts rows with Rf values from a dataframe and returns a new dataframe containing only these rows. \n",
    "\n",
    "    Args:\n",
    "        Dataframe (_type_): Dataframe containing the extracted data from the US patents\n",
    "    \"\"\"\n",
    "    # copy the dataframe to leave old dataframe unchanged\n",
    "    df = Dataframe.copy()\n",
    "    \n",
    "    # Define the regex patterns\n",
    "    Rf_check = r'( ?R[fF][ :=(]?)'\n",
    "    \n",
    "    # List to store indices of rows without Rf values\n",
    "    rows_to_drop = []\n",
    "    \n",
    "    # Search for rows with Rf values in the paragraphText column\n",
    "    for index, row in df.iterrows():\n",
    "        checkRf = re.findall(Rf_check, row['paragraphText'])\n",
    "\n",
    "        if not checkRf:\n",
    "            rows_to_drop.append(index)\n",
    "               \n",
    "    # Drop rows without Rf values\n",
    "    df = df.drop(rows_to_drop)\n",
    "            \n",
    "    return df\n",
    "    "
   ]
  },
  {
   "cell_type": "markdown",
   "metadata": {},
   "source": [
    "That is still applying the first function and one can clearly see the mess. Won't be possible to extract the exact Rf value in the multiple detected rows."
   ]
  },
  {
   "cell_type": "code",
   "execution_count": 8,
   "metadata": {},
   "outputs": [
    {
     "name": "stderr",
     "output_type": "stream",
     "text": [
      "/var/folders/56/k5y5cj453pvcsblxlzlzn0340000gn/T/ipykernel_27451/2240843275.py:31: FutureWarning: Setting an item of incompatible dtype is deprecated and will raise an error in a future version of pandas. Value '0.40' has dtype incompatible with float64, please explicitly cast to a compatible dtype first.\n",
      "  df.at[index, 'Rf_value'] = match[0] # df['paragraphText'].str.extract(Rf_pattern)\n"
     ]
    },
    {
     "ename": "KeyboardInterrupt",
     "evalue": "",
     "output_type": "error",
     "traceback": [
      "\u001b[0;31m---------------------------------------------------------------------------\u001b[0m",
      "\u001b[0;31mKeyboardInterrupt\u001b[0m                         Traceback (most recent call last)",
      "Cell \u001b[0;32mIn[8], line 2\u001b[0m\n\u001b[1;32m      1\u001b[0m \u001b[38;5;66;03m#df_new.head()\u001b[39;00m\n\u001b[0;32m----> 2\u001b[0m df_processed_first_try \u001b[38;5;241m=\u001b[39m \u001b[43mextract_rf_eluent\u001b[49m\u001b[43m(\u001b[49m\u001b[43mdf_new\u001b[49m\u001b[43m)\u001b[49m\n\u001b[1;32m      3\u001b[0m df_processed_first_try\u001b[38;5;241m.\u001b[39mshape\n",
      "Cell \u001b[0;32mIn[6], line 23\u001b[0m, in \u001b[0;36mextract_rf_eluent\u001b[0;34m(Dataframe)\u001b[0m\n\u001b[1;32m     20\u001b[0m count_nan \u001b[38;5;241m=\u001b[39m \u001b[38;5;241m0\u001b[39m\n\u001b[1;32m     22\u001b[0m \u001b[38;5;66;03m# Extract the Rf values from the paragraphText and put them into a new column\u001b[39;00m\n\u001b[0;32m---> 23\u001b[0m \u001b[38;5;28;01mfor\u001b[39;00m index, row \u001b[38;5;129;01min\u001b[39;00m df\u001b[38;5;241m.\u001b[39miterrows():\n\u001b[1;32m     24\u001b[0m     checkRf \u001b[38;5;241m=\u001b[39m re\u001b[38;5;241m.\u001b[39mfindall(Rf_check, row[\u001b[38;5;124m'\u001b[39m\u001b[38;5;124mparagraphText\u001b[39m\u001b[38;5;124m'\u001b[39m])\n\u001b[1;32m     26\u001b[0m     \u001b[38;5;66;03m#check if Rf value can be found in the paragraphText column\u001b[39;00m\n",
      "File \u001b[0;32m/opt/anaconda3/envs/ppchem_project/lib/python3.10/site-packages/pandas/core/frame.py:1554\u001b[0m, in \u001b[0;36mDataFrame.iterrows\u001b[0;34m(self)\u001b[0m\n\u001b[1;32m   1552\u001b[0m using_cow \u001b[38;5;241m=\u001b[39m using_copy_on_write()\n\u001b[1;32m   1553\u001b[0m \u001b[38;5;28;01mfor\u001b[39;00m k, v \u001b[38;5;129;01min\u001b[39;00m \u001b[38;5;28mzip\u001b[39m(\u001b[38;5;28mself\u001b[39m\u001b[38;5;241m.\u001b[39mindex, \u001b[38;5;28mself\u001b[39m\u001b[38;5;241m.\u001b[39mvalues):\n\u001b[0;32m-> 1554\u001b[0m     s \u001b[38;5;241m=\u001b[39m \u001b[43mklass\u001b[49m\u001b[43m(\u001b[49m\u001b[43mv\u001b[49m\u001b[43m,\u001b[49m\u001b[43m \u001b[49m\u001b[43mindex\u001b[49m\u001b[38;5;241;43m=\u001b[39;49m\u001b[43mcolumns\u001b[49m\u001b[43m,\u001b[49m\u001b[43m \u001b[49m\u001b[43mname\u001b[49m\u001b[38;5;241;43m=\u001b[39;49m\u001b[43mk\u001b[49m\u001b[43m)\u001b[49m\u001b[38;5;241m.\u001b[39m__finalize__(\u001b[38;5;28mself\u001b[39m)\n\u001b[1;32m   1555\u001b[0m     \u001b[38;5;28;01mif\u001b[39;00m using_cow \u001b[38;5;129;01mand\u001b[39;00m \u001b[38;5;28mself\u001b[39m\u001b[38;5;241m.\u001b[39m_mgr\u001b[38;5;241m.\u001b[39mis_single_block:\n\u001b[1;32m   1556\u001b[0m         s\u001b[38;5;241m.\u001b[39m_mgr\u001b[38;5;241m.\u001b[39madd_references(\u001b[38;5;28mself\u001b[39m\u001b[38;5;241m.\u001b[39m_mgr)  \u001b[38;5;66;03m# type: ignore[arg-type]\u001b[39;00m\n",
      "File \u001b[0;32m/opt/anaconda3/envs/ppchem_project/lib/python3.10/site-packages/pandas/core/series.py:593\u001b[0m, in \u001b[0;36mSeries.__init__\u001b[0;34m(self, data, index, dtype, name, copy, fastpath)\u001b[0m\n\u001b[1;32m    590\u001b[0m         data \u001b[38;5;241m=\u001b[39m SingleArrayManager\u001b[38;5;241m.\u001b[39mfrom_array(data, index)\n\u001b[1;32m    592\u001b[0m NDFrame\u001b[38;5;241m.\u001b[39m\u001b[38;5;21m__init__\u001b[39m(\u001b[38;5;28mself\u001b[39m, data)\n\u001b[0;32m--> 593\u001b[0m \u001b[38;5;28mself\u001b[39m\u001b[38;5;241m.\u001b[39mname \u001b[38;5;241m=\u001b[39m name\n\u001b[1;32m    594\u001b[0m \u001b[38;5;28mself\u001b[39m\u001b[38;5;241m.\u001b[39m_set_axis(\u001b[38;5;241m0\u001b[39m, index)\n\u001b[1;32m    596\u001b[0m \u001b[38;5;28;01mif\u001b[39;00m original_dtype \u001b[38;5;129;01mis\u001b[39;00m \u001b[38;5;28;01mNone\u001b[39;00m \u001b[38;5;129;01mand\u001b[39;00m is_pandas_object \u001b[38;5;129;01mand\u001b[39;00m data_dtype \u001b[38;5;241m==\u001b[39m np\u001b[38;5;241m.\u001b[39mobject_:\n",
      "File \u001b[0;32m/opt/anaconda3/envs/ppchem_project/lib/python3.10/site-packages/pandas/core/generic.py:6312\u001b[0m, in \u001b[0;36mNDFrame.__setattr__\u001b[0;34m(self, name, value)\u001b[0m\n\u001b[1;32m   6307\u001b[0m \u001b[38;5;66;03m# first try regular attribute access via __getattribute__, so that\u001b[39;00m\n\u001b[1;32m   6308\u001b[0m \u001b[38;5;66;03m# e.g. ``obj.x`` and ``obj.x = 4`` will always reference/modify\u001b[39;00m\n\u001b[1;32m   6309\u001b[0m \u001b[38;5;66;03m# the same attribute.\u001b[39;00m\n\u001b[1;32m   6311\u001b[0m \u001b[38;5;28;01mtry\u001b[39;00m:\n\u001b[0;32m-> 6312\u001b[0m     \u001b[38;5;28;43mobject\u001b[39;49m\u001b[38;5;241;43m.\u001b[39;49m\u001b[38;5;21;43m__getattribute__\u001b[39;49m\u001b[43m(\u001b[49m\u001b[38;5;28;43mself\u001b[39;49m\u001b[43m,\u001b[49m\u001b[43m \u001b[49m\u001b[43mname\u001b[49m\u001b[43m)\u001b[49m\n\u001b[1;32m   6313\u001b[0m     \u001b[38;5;28;01mreturn\u001b[39;00m \u001b[38;5;28mobject\u001b[39m\u001b[38;5;241m.\u001b[39m\u001b[38;5;21m__setattr__\u001b[39m(\u001b[38;5;28mself\u001b[39m, name, value)\n\u001b[1;32m   6314\u001b[0m \u001b[38;5;28;01mexcept\u001b[39;00m \u001b[38;5;167;01mAttributeError\u001b[39;00m:\n",
      "File \u001b[0;32m/opt/anaconda3/envs/ppchem_project/lib/python3.10/site-packages/pandas/core/series.py:734\u001b[0m, in \u001b[0;36mSeries.name\u001b[0;34m(self)\u001b[0m\n\u001b[1;32m    731\u001b[0m     \u001b[38;5;66;03m# DataFrame compatibility\u001b[39;00m\n\u001b[1;32m    732\u001b[0m     \u001b[38;5;28;01mreturn\u001b[39;00m \u001b[38;5;28mself\u001b[39m\u001b[38;5;241m.\u001b[39mdtype\n\u001b[0;32m--> 734\u001b[0m \u001b[38;5;129m@property\u001b[39m\n\u001b[1;32m    735\u001b[0m \u001b[38;5;28;01mdef\u001b[39;00m \u001b[38;5;21mname\u001b[39m(\u001b[38;5;28mself\u001b[39m) \u001b[38;5;241m-\u001b[39m\u001b[38;5;241m>\u001b[39m Hashable:\n\u001b[1;32m    736\u001b[0m \u001b[38;5;250m    \u001b[39m\u001b[38;5;124;03m\"\"\"\u001b[39;00m\n\u001b[1;32m    737\u001b[0m \u001b[38;5;124;03m    Return the name of the Series.\u001b[39;00m\n\u001b[1;32m    738\u001b[0m \n\u001b[0;32m   (...)\u001b[0m\n\u001b[1;32m    780\u001b[0m \u001b[38;5;124;03m    'Even Numbers'\u001b[39;00m\n\u001b[1;32m    781\u001b[0m \u001b[38;5;124;03m    \"\"\"\u001b[39;00m\n\u001b[1;32m    782\u001b[0m     \u001b[38;5;28;01mreturn\u001b[39;00m \u001b[38;5;28mself\u001b[39m\u001b[38;5;241m.\u001b[39m_name\n",
      "\u001b[0;31mKeyboardInterrupt\u001b[0m: "
     ]
    }
   ],
   "source": [
    "#df_new.head()\n",
    "df_processed_first_try = extract_rf_eluent(df_new)\n",
    "df_processed_first_try.shape\n",
    "#df_processed_first_try.to_csv(r'C:\\Users\\milen\\git\\ppChem\\PPChem_TLC\\extracted_data_first_processing_rf_values.csv', index=False)"
   ]
  },
  {
   "cell_type": "markdown",
   "metadata": {},
   "source": [
    "Now the second function: already the dataframe size cut down from 1000 entries to 246 which we can hopefully treat with a LLM."
   ]
  },
  {
   "cell_type": "code",
   "execution_count": null,
   "metadata": {},
   "outputs": [],
   "source": []
  },
  {
   "cell_type": "code",
   "execution_count": 183,
   "metadata": {},
   "outputs": [
    {
     "data": {
      "text/plain": [
       "(36579, 4)"
      ]
     },
     "execution_count": 183,
     "metadata": {},
     "output_type": "execute_result"
    }
   ],
   "source": [
    "df_processed_second_try = extract_rows_with_rf(df_new)\n",
    "df_processed_second_try.head()\n",
    "df_processed_second_try.shape"
   ]
  },
  {
   "cell_type": "code",
   "execution_count": 187,
   "metadata": {},
   "outputs": [],
   "source": [
    "df_processed_second_try.to_csv(r'/Users/matthiasgalka/git/ppchem_project/data/AfterRFfilter.csv', index=False)"
   ]
  },
  {
   "cell_type": "code",
   "execution_count": 46,
   "metadata": {},
   "outputs": [],
   "source": [
    "df_filtered = pd.read_csv(r'/Users/matthiasgalka/git/ppchem_project/data/AfterRFfilter.csv')"
   ]
  },
  {
   "cell_type": "code",
   "execution_count": 47,
   "metadata": {},
   "outputs": [
    {
     "data": {
      "text/plain": [
       "(36579, 4)"
      ]
     },
     "execution_count": 47,
     "metadata": {},
     "output_type": "execute_result"
    }
   ],
   "source": [
    "df_filtered.head()\n",
    "df_filtered.shape"
   ]
  },
  {
   "cell_type": "code",
   "execution_count": 42,
   "metadata": {},
   "outputs": [],
   "source": [
    "df_short = df_filtered.loc[:1000]"
   ]
  },
  {
   "cell_type": "markdown",
   "metadata": {},
   "source": [
    "For the LLM we use the API of the open source model offered by Groq Clouds (https://console.groq.com/docs/quickstart). Different models can be tested out."
   ]
  },
  {
   "cell_type": "code",
   "execution_count": 4,
   "metadata": {},
   "outputs": [
    {
     "name": "stdout",
     "output_type": "stream",
     "text": [
      "Rf = 0.22,\n",
      "Solvent A (DCM) =,\n",
      "Solvent B (EtOAc) =,\n",
      "Percent A = 95%,\n",
      "Percent B = 5%,\n",
      "Additive C (Hydroxylammonium) = 0.4%.\n"
     ]
    },
    {
     "data": {
      "text/plain": [
       "str"
      ]
     },
     "execution_count": 4,
     "metadata": {},
     "output_type": "execute_result"
    }
   ],
   "source": [
    "#Access token croq: \n",
    "import json\n",
    "\n",
    "# Create a Groq client (it is recommended to use the following Quickstart: https://console.groq.com/docs/quickstart)\n",
    "# However, this did not work in our case and we had to use the following code to create a client \n",
    "\n",
    "with open('../API_KEY.txt', 'r') as file:\n",
    "    API_KEY = file.read().strip()\n",
    "\n",
    "\n",
    "client = Groq(\n",
    "    api_key=API_KEY, # insert your API key here\n",
    ")\n",
    "user_prompt =  \"Give me the Rf value, the solvent mixture and their ratio of the following procedure in the following format of only: Rf= , solvent A= , solvent B= , percent A= , percent B= . If there is a third solvent, please provide the information in the same format, call it additive C = and percent C = . Only give the information requested as output, no additional notes or information!!!\" # \"Give me the Rf value, the solvent mixture and their ratio of the following procedure in the following format of a dictionary only: Rf= , solvent A= , solvent B= , percent A= , percent B= . If there is a third solvent, please provide the information in the same format, call it additive C and percent additive C = . Only give the dictionnary as output, no additional notes or information!!!\"\n",
    "procedure = \"An Rf value of 0.22 was found using DCM/EtOAc 20:1 and 0.4% Hydroxylammonium. \"#\"Rf(Hex/EtOAc 1:20):0.22\"\n",
    "user_prompt_procedure = user_prompt + procedure\n",
    "chat_completion = client.chat.completions.create(\n",
    "    messages=[\n",
    "        {\n",
    "            \"role\": \"user\",\n",
    "            \"content\": user_prompt_procedure\n",
    "        }\n",
    "    ],\n",
    "    model=\"mixtral-8x7b-32768\", # other models: LlaMA3 70 b (llama3-70b-8192) can be found here: https://console.groq.com/docs/models\n",
    ")\n",
    "\n",
    "response_str = chat_completion.choices[0].message.content\n",
    "\n",
    "print(response_str)\n",
    "type(response_str)\n",
    "\n",
    "# response_dict = json.loads(response_str)\n",
    "#type(response_dict)\n",
    "#print(response_dict[\"Rf\"])\n"
   ]
  },
  {
   "cell_type": "code",
   "execution_count": 55,
   "metadata": {},
   "outputs": [],
   "source": [
    "def parse_response(response: str):\n",
    "    \"\"\"Function that extracts the Rf value, solvent A, solvent B, % solvent A, and % solvent B from a LLM response.\n",
    "\n",
    "    Args:\n",
    "        response (str): response from the LLM model \n",
    "\n",
    "    Returns:\n",
    "        rf_value (str)\n",
    "        solvent_a (str) \n",
    "        solvent_b (str) \n",
    "        percent_a (str)\n",
    "        percent_b (str)\n",
    "        additive_c (str)\n",
    "        percent_c (str)\n",
    "    \"\"\"\n",
    "    try: \n",
    "        \n",
    "        # Convert the response string to a dictionary\n",
    "        # response_dict = json.loads(response)\n",
    "        \n",
    "        #extracts values from the response dictionary\n",
    "        \n",
    "        #rf_value = response_dict[\"Rf\"]\n",
    "        #solvent_a = response_dict[\"solvent A\"]\n",
    "        #solvent_b = response_dict[\"solvent B\"]\n",
    "        #percent_a = response_dict[\"percent A\"]\n",
    "        #percent_b = response_dict[\"percent B\"]\n",
    "        #additive_c = response_dict[\"additive C\"]\n",
    "        #percent_c = response_dict[\"percent C\"]\n",
    "        \n",
    "        \n",
    "    # search for Rf value in the response using regex\n",
    "        rf_value_match = re.search(r\"Rf\\s*=\\s*(\\d+\\.\\d+)\", response)\n",
    "        solvent_a_match = re.search(r\"solvent\\s+A\\s*=\\s*([^,]+)\", response)\n",
    "        solvent_b_match = re.search(r\"solvent\\s+B\\s*=\\s*([^,]+)\", response)\n",
    "        additive_c_match = re.search(r\"additive\\s+C\\s*=\\s*([^,]+)\", response)\n",
    "        percent_a_match = re.search(r\"percent\\s+A\\s*=\\s*(\\d+)\", response)\n",
    "        percent_b_match = re.search(r\"percent\\s+B\\s*=\\s*(\\d+)\", response)\n",
    "        percent_c_match = re.search(r\"percent\\s+C\\s*=\\s*(\\d+\\.\\d+|\\d+)\", response)\n",
    "        \n",
    "    except KeyError:\n",
    "        raise KeyError(f\"Error extracting values from the response: {response_str}\")\n",
    "    \n",
    "    \n",
    "    \n",
    "    # Extract values from regex matches\n",
    "    rf_value = rf_value_match.group(1) if rf_value_match else None\n",
    "    solvent_a = solvent_a_match.group(1) if solvent_a_match else None\n",
    "    solvent_b = solvent_b_match.group(1) if solvent_b_match else None\n",
    "    percent_a = percent_a_match.group(1) if percent_a_match else None\n",
    "    percent_b = percent_b_match.group(1) if percent_b_match else None\n",
    "    additive_c = additive_c_match.group(1) if additive_c_match else None\n",
    "    percent_c = percent_c_match.group(1) if percent_c_match else None\n",
    "\n",
    "    # Return the extracted values\n",
    "    return rf_value, solvent_a, solvent_b, percent_a, percent_b, additive_c, percent_c"
   ]
  },
  {
   "cell_type": "code",
   "execution_count": 6,
   "metadata": {},
   "outputs": [],
   "source": [
    "def get_values(Dataframe: pd.DataFrame):\n",
    "    \"\"\"Function that extracts the Rf value from a row in a Dataframe using LLM and returns it.\n",
    "\n",
    "    Args:\n",
    "        DataFrame (_type_): DataFrame containing the extracted data from the US patents\n",
    "    \"\"\"\n",
    "\n",
    "    with open('../API_KEY.txt', 'r') as file:\n",
    "        API_KEY = file.read().strip()\n",
    "\n",
    "    \n",
    "    client = Groq(\n",
    "        api_key=API_KEY \n",
    "    ) # insert your API key here # we have to add a file containing the API key to upload it to github.\n",
    "    \n",
    "    \n",
    "    \n",
    "    for index, row in tqdm(Dataframe.iterrows(),total = len(Dataframe), leave = True):\n",
    "        user_prompt = f\"Give me the Rf value, the solvent mixture and the ratio of the solvents in percent for each solvent of this procedure: {row['paragraphText']} in the following format only: Rf= , solvent A= , solvent B= , percent A= , percent B= . If there is a third solvent, please provide the information in the same format, call it additive C = and percent C = . If no information is given for one of the categories, put None for this category. Only give the information requested as output, no additional notes or information!!!\" # f\"Please only provide the Rf value, solvents A and B, additives C (if applicable), and their ratios in percent as a Python dictionary only (without 'Here is the python dictionary') with keys 'Rf', 'solvent A', 'solvent B', 'additive C', 'percent A', 'percent B', and 'percent C' of this procedure: {row['paragraphText']}. If there is no information for one category, put 'Nan'. Do not provide any additional notes or information except for the dictionary!!! Always use this format!!\" # \"Give me the Rf value, the solvent A, B and additive C if applied and their ratios in percent as a python dictionary calling the keys Rf (should be a number), solvent A (should be a solvent only), solvent B (solvent only), percent A (number), percent B (number), additive C (solvent), percent C (number) of this procedure:\" + row['paragraphText'] + \"If there is no information for one category of solvent, put Nan. Do not put any other notes or information except for the dictionary!!! Always use this format!!\"  # \"Give me the Rf value, the solvent mixture and their ratio of the following procedure\" + row['paragraphText'] +  \"in the following format of a dictionary only: Rf= , solvent A= , solvent B= , percent A= , percent B= . If there is a third solvent, please provide the information in the same format, call it additive C and percent C = . Only give the values requested as output, no additional notes or information!!!\"        \n",
    "        \n",
    "        try:             \n",
    "            # Call the LLM model to extract the Rf value\n",
    "            chat_completion = client.chat.completions.create(\n",
    "                messages=[\n",
    "                    {\n",
    "                        \"role\": \"user\",\n",
    "                        \"content\": user_prompt,\n",
    "                    }\n",
    "                ],\n",
    "                model=\"mixtral-8x7b-32768\", # other models: LlaMA3 70 b (llama3-70b-8192), mixtral (mixtral-8x7b-32768) can be found here: https://console.groq.com/docs/models\n",
    "            )\n",
    "            \n",
    "            # Extract the Rf value from the response\n",
    "            response = chat_completion.choices[0].message.content\n",
    "            #print(response)\n",
    "            \n",
    "            # Parse the response to extract the Rf value, solvent A, solvent B, % solvent A, and % solvent B using the parse_response function\n",
    "            rf_value, solvent_a, solvent_b, percent_a, percent_b, additive_c, percent_c = parse_response(response)\n",
    "            \n",
    "            # Add extracted values to new columns in the dataframe row\n",
    "            Dataframe.at[index, 'Rf'] = rf_value\n",
    "            Dataframe.at[index, 'Solvent_A'] = solvent_a\n",
    "            Dataframe.at[index, 'Solvent_B'] = solvent_b\n",
    "            Dataframe.at[index, 'Percent_A'] = percent_a\n",
    "            Dataframe.at[index, 'Percent_B'] = percent_b\n",
    "            Dataframe.at[index, 'Additive_C'] = additive_c\n",
    "            Dataframe.at[index, 'Percent_C'] = percent_c\n",
    "            \n",
    "        except Exception as e:\n",
    "            # Print the error message and the index of the row where the error occurred\n",
    "            #print(e)\n",
    "            #print(\"Error at index:\", index)\n",
    "            continue\n",
    "        \n",
    "    return Dataframe\n",
    "        \n",
    "\n",
    "        \n",
    "    "
   ]
  },
  {
   "cell_type": "code",
   "execution_count": null,
   "metadata": {},
   "outputs": [],
   "source": [
    "df_short_LLM = get_values(df_short)"
   ]
  },
  {
   "cell_type": "code",
   "execution_count": 31,
   "metadata": {},
   "outputs": [
    {
     "ename": "NameError",
     "evalue": "name 'df_processed_second_try' is not defined",
     "output_type": "error",
     "traceback": [
      "\u001b[0;31m---------------------------------------------------------------------------\u001b[0m",
      "\u001b[0;31mNameError\u001b[0m                                 Traceback (most recent call last)",
      "Cell \u001b[0;32mIn[31], line 1\u001b[0m\n\u001b[0;32m----> 1\u001b[0m \u001b[43mdf_processed_second_try\u001b[49m\u001b[38;5;241m.\u001b[39mhead(\u001b[38;5;241m20\u001b[39m)\n",
      "\u001b[0;31mNameError\u001b[0m: name 'df_processed_second_try' is not defined"
     ]
    }
   ],
   "source": [
    "df_short_LLM.head(20)"
   ]
  },
  {
   "cell_type": "code",
   "execution_count": 76,
   "metadata": {},
   "outputs": [],
   "source": [
    "def canonicalise_smiles(Smiles: str):\n",
    "    '''\n",
    "       Converts Smile to a Mol file and back to a Smiles again to create\n",
    "       a consistent Smiles string.\n",
    "\n",
    "       Args: Smiles string\n",
    "    '''\n",
    "    mol = Chem.MolFromSmiles(Smiles)\n",
    "    can_Smiles = Chem.MolToSmiles(mol)\n",
    "\n",
    "    return can_Smiles"
   ]
  },
  {
   "cell_type": "code",
   "execution_count": 77,
   "metadata": {},
   "outputs": [],
   "source": [
    "def clean_up(Dataframe: pd.DataFrame):\n",
    "    \"\"\"Delets all row whitout a Rf value or Rf value over 1.0 and Solvent information.\n",
    "       Converts \n",
    "       Converts Rf values and percentage of solvents in a Dataframe from str to float.\n",
    "       Strips productSMILES str to a usable SMILES str.\n",
    "\n",
    "    Args: \n",
    "        Dataframe (_type_): Dataframe containing the extracted data from the US patents.\n",
    "        Dataframe needs to have following columns: 'productSmiles,' 'Rf', 'Percent_A', 'Percent_B' !!!\n",
    "\n",
    "    \"\"\"\n",
    "    entries_raw = len(Dataframe)\n",
    "    \n",
    "    before_Rf_drop = len(Dataframe)\n",
    "    Dataframe.dropna(subset=['Rf'], inplace = True) #drops rows without Rf\n",
    "    after_Rf_drop_1 = len(Dataframe)\n",
    "    print(f\"Amount of Rows dropped because of missing Rf value: {before_Rf_drop-after_Rf_drop_1}\")\n",
    "    \n",
    "    Dataframe['Rf'] = Dataframe['Rf'].apply(lambda x: float(x)) # converts Percentage to float\n",
    "    \n",
    "    indices_false_Rf = Dataframe[Dataframe[\"Rf\"] > 1].index #finds indicies with Rf values over 1.0\n",
    "    Dataframe.drop(indices_false_Rf,inplace = True)\n",
    "    after_Rf_drop_2 = len(Dataframe)\n",
    "    print(f'Amount of Rows dropped because of invalid Rf value {after_Rf_drop_1-after_Rf_drop_2}')\n",
    "         \n",
    "    Dataframe['Percent_A'] = Dataframe['Percent_A'].apply(lambda x: 0 if x is None else x)#converts 'None' entry to 0\n",
    "    \n",
    "    Dataframe['Percent_B'] = Dataframe['Percent_B'].apply(lambda x: 0 if x is None else x)#converts 'None' entry to 0\n",
    "    \n",
    "    Dataframe['Percent_A'] = Dataframe['Percent_A'].apply(lambda x: float(x)) # converts Percentage to float\n",
    "    \n",
    "    Dataframe['Percent_B'] = Dataframe['Percent_B'].apply(lambda x: float(x)) #converts Percantage to float\n",
    "    \n",
    "    Dataframe['productSmiles'] = Dataframe['productSmiles'].apply(lambda x: x[2:-2]) # removes [' and '] from the productSimles\n",
    "\n",
    "    Dataframe['productSmiles'] = Dataframe['productSmiles'].apply(lambda x: canonicalise_smiles(x)) # cannonicalises Smiles\n",
    "    \n",
    "    Dataframe.reset_index(drop=True, inplace=True) # sets the index new from 1 to end\n",
    "\n",
    "    entries_after = len(Dataframe)\n",
    "    \n",
    "    print(f'After the clean up {entries_after} entries are left and {entries_raw-entries_after} are removed')\n",
    "\n",
    "    return Dataframe\n"
   ]
  },
  {
   "cell_type": "code",
   "execution_count": 36,
   "metadata": {},
   "outputs": [
    {
     "ename": "NameError",
     "evalue": "name 'df_processed_second_try' is not defined",
     "output_type": "error",
     "traceback": [
      "\u001b[0;31m---------------------------------------------------------------------------\u001b[0m",
      "\u001b[0;31mNameError\u001b[0m                                 Traceback (most recent call last)",
      "Cell \u001b[0;32mIn[36], line 1\u001b[0m\n\u001b[0;32m----> 1\u001b[0m df1 \u001b[38;5;241m=\u001b[39m clean_up(\u001b[43mdf_processed_second_try\u001b[49m)\n",
      "\u001b[0;31mNameError\u001b[0m: name 'df_processed_second_try' is not defined"
     ]
    }
   ],
   "source": [
    "df1 = clean_up(df_processed_second_try)\n"
   ]
  },
  {
   "cell_type": "code",
   "execution_count": 33,
   "metadata": {},
   "outputs": [
    {
     "ename": "NameError",
     "evalue": "name 'df1' is not defined",
     "output_type": "error",
     "traceback": [
      "\u001b[0;31m---------------------------------------------------------------------------\u001b[0m",
      "\u001b[0;31mNameError\u001b[0m                                 Traceback (most recent call last)",
      "Cell \u001b[0;32mIn[33], line 1\u001b[0m\n\u001b[0;32m----> 1\u001b[0m \u001b[43mdf1\u001b[49m\u001b[38;5;241m.\u001b[39mhead(\u001b[38;5;241m20\u001b[39m)\n",
      "\u001b[0;31mNameError\u001b[0m: name 'df1' is not defined"
     ]
    }
   ],
   "source": [
    "df1.head(20)"
   ]
  },
  {
   "cell_type": "code",
   "execution_count": 32,
   "metadata": {},
   "outputs": [
    {
     "ename": "NameError",
     "evalue": "name 'df1' is not defined",
     "output_type": "error",
     "traceback": [
      "\u001b[0;31m---------------------------------------------------------------------------\u001b[0m",
      "\u001b[0;31mNameError\u001b[0m                                 Traceback (most recent call last)",
      "Cell \u001b[0;32mIn[32], line 1\u001b[0m\n\u001b[0;32m----> 1\u001b[0m Solvent_A \u001b[38;5;241m=\u001b[39m \u001b[38;5;28mset\u001b[39m(\u001b[43mdf1\u001b[49m[\u001b[38;5;124m'\u001b[39m\u001b[38;5;124mSolvent_A\u001b[39m\u001b[38;5;124m'\u001b[39m]\u001b[38;5;241m.\u001b[39mtolist())\n\u001b[1;32m      2\u001b[0m Solvent_B \u001b[38;5;241m=\u001b[39m \u001b[38;5;28mset\u001b[39m(df1[\u001b[38;5;124m'\u001b[39m\u001b[38;5;124mSolvent_B\u001b[39m\u001b[38;5;124m'\u001b[39m]\u001b[38;5;241m.\u001b[39mtolist())\n",
      "\u001b[0;31mNameError\u001b[0m: name 'df1' is not defined"
     ]
    }
   ],
   "source": [
    "Solvent_A = set(df1['Solvent_A'].tolist())\n",
    "Solvent_B = set(df1['Solvent_B'].tolist())"
   ]
  },
  {
   "cell_type": "code",
   "execution_count": 49,
   "metadata": {},
   "outputs": [],
   "source": [
    "def split_dataframe(df):\n",
    "    # Anzahl der Zeilen im DataFrame\n",
    "    num_rows = len(df)\n",
    "\n",
    "    # Berechne die Anzahl der Zeilen für jeden Teil\n",
    "    chunk_size = num_rows // 4\n",
    "\n",
    "    # Teile den DataFrame in vier Teile auf\n",
    "    parts = []\n",
    "    for i in range(0, num_rows, chunk_size):\n",
    "        part = df.iloc[i:i+chunk_size]\n",
    "        parts.append(part)\n",
    "\n",
    "    return parts"
   ]
  },
  {
   "cell_type": "code",
   "execution_count": 53,
   "metadata": {},
   "outputs": [
    {
     "data": {
      "text/plain": [
       "(36579, 4)"
      ]
     },
     "execution_count": 53,
     "metadata": {},
     "output_type": "execute_result"
    }
   ],
   "source": [
    "for i, teil in enumerate(teile):\n",
    "    print(f'Teil {i+1}:')\n",
    "    print(teil)"
   ]
  },
  {
   "cell_type": "code",
   "execution_count": 87,
   "metadata": {},
   "outputs": [],
   "source": [
    "df1 = df_filtered.iloc[:9144]\n",
    "df2 = df_filtered.iloc[9144:18288]\n",
    "df3 = df_filtered.iloc[18288:27432]\n",
    "df4 = df_filtered.iloc[27432:36579]"
   ]
  },
  {
   "cell_type": "code",
   "execution_count": 86,
   "metadata": {},
   "outputs": [
    {
     "data": {
      "text/plain": [
       "paragraphText     Under nitrogen a dry 1,000 mL flask is charged...\n",
       "reactionSmiles    C1C=C2C=CC(O)=C(C3C4C(=CC=CC=4)C=CC=3O)C2=CC=1...\n",
       "productSmiles     ['C(C)OC(CC(C[C@@H](\\\\C=C\\\\C=1C(=NC2=CC=CC=C2C...\n",
       "title                                                           NaN\n",
       "Name: 36578, dtype: object"
      ]
     },
     "execution_count": 86,
     "metadata": {},
     "output_type": "execute_result"
    }
   ],
   "source": [
    "df_filtered.iloc[-1]"
   ]
  },
  {
   "cell_type": "code",
   "execution_count": 88,
   "metadata": {},
   "outputs": [],
   "source": [
    "df1.to_csv(r'/Users/matthiasgalka/git/ppchem_project/data/AfterRFfilter(1).csv', index=False)\n",
    "df2.to_csv(r'/Users/matthiasgalka/git/ppchem_project/data/AfterRFfilter(2).csv', index=False)\n",
    "df3.to_csv(r'/Users/matthiasgalka/git/ppchem_project/data/AfterRFfilter(3).csv', index=False)\n",
    "df4.to_csv(r'/Users/matthiasgalka/git/ppchem_project/data/AfterRFfilter(4).csv', index=False)"
   ]
  },
  {
   "cell_type": "code",
   "execution_count": 69,
   "metadata": {},
   "outputs": [
    {
     "data": {
      "text/plain": [
       "paragraphText     To a stirring solution of (2S,3R)-1-azido-3-be...\n",
       "reactionSmiles    [N:1]([CH2:4][C@H:5]([OH:17])[C@H:6]([O:9][CH2...\n",
       "productSmiles     ['N(=[N+]=[N-])C[C@@H]([C@@H](C=C)OCC1=CC=CC=C...\n",
       "title                                                           NaN\n",
       "Name: 9144, dtype: object"
      ]
     },
     "execution_count": 69,
     "metadata": {},
     "output_type": "execute_result"
    }
   ],
   "source": [
    "df2.iloc[0]"
   ]
  },
  {
   "cell_type": "code",
   "execution_count": 66,
   "metadata": {},
   "outputs": [
    {
     "data": {
      "text/plain": [
       "paragraphText     About 15 ml of a solution of diazomethane (abo...\n",
       "reactionSmiles    [N+](=[CH2:3])=[N-].[CH3:4][O:5][CH2:6][CH2:7]...\n",
       "productSmiles     ['COCCOCC1=CC=C(C=C1)[C@H]1C[C@H](N(C[C@@H]1OC...\n",
       "title             b) Methyl 3-[(2S,4R,5R)-4-[4-(2-methoxyethoxym...\n",
       "Name: 18288, dtype: object"
      ]
     },
     "execution_count": 66,
     "metadata": {},
     "output_type": "execute_result"
    }
   ],
   "source": [
    "df3.iloc[0]"
   ]
  },
  {
   "cell_type": "code",
   "execution_count": 70,
   "metadata": {},
   "outputs": [
    {
     "data": {
      "text/html": [
       "<div>\n",
       "<style scoped>\n",
       "    .dataframe tbody tr th:only-of-type {\n",
       "        vertical-align: middle;\n",
       "    }\n",
       "\n",
       "    .dataframe tbody tr th {\n",
       "        vertical-align: top;\n",
       "    }\n",
       "\n",
       "    .dataframe thead th {\n",
       "        text-align: right;\n",
       "    }\n",
       "</style>\n",
       "<table border=\"1\" class=\"dataframe\">\n",
       "  <thead>\n",
       "    <tr style=\"text-align: right;\">\n",
       "      <th></th>\n",
       "      <th>paragraphText</th>\n",
       "      <th>reactionSmiles</th>\n",
       "      <th>productSmiles</th>\n",
       "      <th>title</th>\n",
       "    </tr>\n",
       "  </thead>\n",
       "  <tbody>\n",
       "    <tr>\n",
       "      <th>9142</th>\n",
       "      <td>A mixture of ethyl 2-chlorobenzo[d]thiazole-6-...</td>\n",
       "      <td>Cl[C:2]1[S:3][C:4]2[CH:10]=[C:9]([C:11]([O:13]...</td>\n",
       "      <td>['N1(CCCCC1)[C@H]1CN(CC1)C=1SC2=C(N1)C=CC(=C2)...</td>\n",
       "      <td>(R)-ethyl 2-(3-(piperidin-1-yl)pyrrolidin-1-yl...</td>\n",
       "    </tr>\n",
       "    <tr>\n",
       "      <th>9143</th>\n",
       "      <td>A solution of (R)-ethyl 2-(3-(piperidin-1-yl)p...</td>\n",
       "      <td>[N:1]1([C@@H:7]2[CH2:11][CH2:10][N:9]([C:12]3[...</td>\n",
       "      <td>['N1(CCCCC1)[C@H]1CN(CC1)C=1SC2=C(N1)C=CC(=C2)...</td>\n",
       "      <td>(R)-2-(3-(piperidin-1-yl)pyrrolidin-1-yl)benzo...</td>\n",
       "    </tr>\n",
       "    <tr>\n",
       "      <th>9144</th>\n",
       "      <td>To a stirring solution of (2S,3R)-1-azido-3-be...</td>\n",
       "      <td>[N:1]([CH2:4][C@H:5]([OH:17])[C@H:6]([O:9][CH2...</td>\n",
       "      <td>['N(=[N+]=[N-])C[C@@H]([C@@H](C=C)OCC1=CC=CC=C...</td>\n",
       "      <td>NaN</td>\n",
       "    </tr>\n",
       "    <tr>\n",
       "      <th>9145</th>\n",
       "      <td>To a solution of 2,5-dihydro-1H-pyrrole (30 g,...</td>\n",
       "      <td>[NH:1]1[CH2:5][CH:4]=[CH:3][CH2:2]1.[C:6](ON1C...</td>\n",
       "      <td>['N1(CC=CC1)C(=O)OCC1=CC=CC=C1']</td>\n",
       "      <td>NaN</td>\n",
       "    </tr>\n",
       "  </tbody>\n",
       "</table>\n",
       "</div>"
      ],
      "text/plain": [
       "                                          paragraphText  \\\n",
       "9142  A mixture of ethyl 2-chlorobenzo[d]thiazole-6-...   \n",
       "9143  A solution of (R)-ethyl 2-(3-(piperidin-1-yl)p...   \n",
       "9144  To a stirring solution of (2S,3R)-1-azido-3-be...   \n",
       "9145  To a solution of 2,5-dihydro-1H-pyrrole (30 g,...   \n",
       "\n",
       "                                         reactionSmiles  \\\n",
       "9142  Cl[C:2]1[S:3][C:4]2[CH:10]=[C:9]([C:11]([O:13]...   \n",
       "9143  [N:1]1([C@@H:7]2[CH2:11][CH2:10][N:9]([C:12]3[...   \n",
       "9144  [N:1]([CH2:4][C@H:5]([OH:17])[C@H:6]([O:9][CH2...   \n",
       "9145  [NH:1]1[CH2:5][CH:4]=[CH:3][CH2:2]1.[C:6](ON1C...   \n",
       "\n",
       "                                          productSmiles  \\\n",
       "9142  ['N1(CCCCC1)[C@H]1CN(CC1)C=1SC2=C(N1)C=CC(=C2)...   \n",
       "9143  ['N1(CCCCC1)[C@H]1CN(CC1)C=1SC2=C(N1)C=CC(=C2)...   \n",
       "9144  ['N(=[N+]=[N-])C[C@@H]([C@@H](C=C)OCC1=CC=CC=C...   \n",
       "9145                   ['N1(CC=CC1)C(=O)OCC1=CC=CC=C1']   \n",
       "\n",
       "                                                  title  \n",
       "9142  (R)-ethyl 2-(3-(piperidin-1-yl)pyrrolidin-1-yl...  \n",
       "9143  (R)-2-(3-(piperidin-1-yl)pyrrolidin-1-yl)benzo...  \n",
       "9144                                                NaN  \n",
       "9145                                                NaN  "
      ]
     },
     "execution_count": 70,
     "metadata": {},
     "output_type": "execute_result"
    }
   ],
   "source": [
    "df_filtered.iloc[9142:9146]"
   ]
  },
  {
   "cell_type": "code",
   "execution_count": 81,
   "metadata": {},
   "outputs": [
    {
     "data": {
      "text/plain": [
       "9144"
      ]
     },
     "execution_count": 81,
     "metadata": {},
     "output_type": "execute_result"
    }
   ],
   "source": [
    "df1 = pd.read_csv(r'/Users/matthiasgalka/git/ppchem_project/data/LLM_processed(1).csv')\n",
    "len(df1)"
   ]
  },
  {
   "cell_type": "code",
   "execution_count": 80,
   "metadata": {},
   "outputs": [
    {
     "name": "stdout",
     "output_type": "stream",
     "text": [
      "Amount of Rows dropped because of missing Rf value: 0\n",
      "Amount of Rows dropped because of invalid Rf value 0\n"
     ]
    },
    {
     "ename": "NameError",
     "evalue": "name 'Chem' is not defined",
     "output_type": "error",
     "traceback": [
      "\u001b[0;31m---------------------------------------------------------------------------\u001b[0m",
      "\u001b[0;31mNameError\u001b[0m                                 Traceback (most recent call last)",
      "Cell \u001b[0;32mIn[80], line 1\u001b[0m\n\u001b[0;32m----> 1\u001b[0m \u001b[43mclean_up\u001b[49m\u001b[43m(\u001b[49m\u001b[43mdf1\u001b[49m\u001b[43m)\u001b[49m\n",
      "Cell \u001b[0;32mIn[77], line 36\u001b[0m, in \u001b[0;36mclean_up\u001b[0;34m(Dataframe)\u001b[0m\n\u001b[1;32m     32\u001b[0m Dataframe[\u001b[38;5;124m'\u001b[39m\u001b[38;5;124mPercent_B\u001b[39m\u001b[38;5;124m'\u001b[39m] \u001b[38;5;241m=\u001b[39m Dataframe[\u001b[38;5;124m'\u001b[39m\u001b[38;5;124mPercent_B\u001b[39m\u001b[38;5;124m'\u001b[39m]\u001b[38;5;241m.\u001b[39mapply(\u001b[38;5;28;01mlambda\u001b[39;00m x: \u001b[38;5;28mfloat\u001b[39m(x)) \u001b[38;5;66;03m#converts Percantage to float\u001b[39;00m\n\u001b[1;32m     34\u001b[0m Dataframe[\u001b[38;5;124m'\u001b[39m\u001b[38;5;124mproductSmiles\u001b[39m\u001b[38;5;124m'\u001b[39m] \u001b[38;5;241m=\u001b[39m Dataframe[\u001b[38;5;124m'\u001b[39m\u001b[38;5;124mproductSmiles\u001b[39m\u001b[38;5;124m'\u001b[39m]\u001b[38;5;241m.\u001b[39mapply(\u001b[38;5;28;01mlambda\u001b[39;00m x: x[\u001b[38;5;241m2\u001b[39m:\u001b[38;5;241m-\u001b[39m\u001b[38;5;241m2\u001b[39m]) \u001b[38;5;66;03m# removes [' and '] from the productSimles\u001b[39;00m\n\u001b[0;32m---> 36\u001b[0m Dataframe[\u001b[38;5;124m'\u001b[39m\u001b[38;5;124mproductSmiles\u001b[39m\u001b[38;5;124m'\u001b[39m] \u001b[38;5;241m=\u001b[39m \u001b[43mDataframe\u001b[49m\u001b[43m[\u001b[49m\u001b[38;5;124;43m'\u001b[39;49m\u001b[38;5;124;43mproductSmiles\u001b[39;49m\u001b[38;5;124;43m'\u001b[39;49m\u001b[43m]\u001b[49m\u001b[38;5;241;43m.\u001b[39;49m\u001b[43mapply\u001b[49m\u001b[43m(\u001b[49m\u001b[38;5;28;43;01mlambda\u001b[39;49;00m\u001b[43m \u001b[49m\u001b[43mx\u001b[49m\u001b[43m:\u001b[49m\u001b[43m \u001b[49m\u001b[43mcanonicalise_smiles\u001b[49m\u001b[43m(\u001b[49m\u001b[43mx\u001b[49m\u001b[43m)\u001b[49m\u001b[43m)\u001b[49m \u001b[38;5;66;03m# cannonicalises Smiles\u001b[39;00m\n\u001b[1;32m     38\u001b[0m Dataframe\u001b[38;5;241m.\u001b[39mreset_index(drop\u001b[38;5;241m=\u001b[39m\u001b[38;5;28;01mTrue\u001b[39;00m, inplace\u001b[38;5;241m=\u001b[39m\u001b[38;5;28;01mTrue\u001b[39;00m) \u001b[38;5;66;03m# sets the index new from 1 to end\u001b[39;00m\n\u001b[1;32m     40\u001b[0m entries_after \u001b[38;5;241m=\u001b[39m \u001b[38;5;28mlen\u001b[39m(Dataframe)\n",
      "File \u001b[0;32m/opt/anaconda3/envs/ppchem_project/lib/python3.10/site-packages/pandas/core/series.py:4924\u001b[0m, in \u001b[0;36mSeries.apply\u001b[0;34m(self, func, convert_dtype, args, by_row, **kwargs)\u001b[0m\n\u001b[1;32m   4789\u001b[0m \u001b[38;5;28;01mdef\u001b[39;00m \u001b[38;5;21mapply\u001b[39m(\n\u001b[1;32m   4790\u001b[0m     \u001b[38;5;28mself\u001b[39m,\n\u001b[1;32m   4791\u001b[0m     func: AggFuncType,\n\u001b[0;32m   (...)\u001b[0m\n\u001b[1;32m   4796\u001b[0m     \u001b[38;5;241m*\u001b[39m\u001b[38;5;241m*\u001b[39mkwargs,\n\u001b[1;32m   4797\u001b[0m ) \u001b[38;5;241m-\u001b[39m\u001b[38;5;241m>\u001b[39m DataFrame \u001b[38;5;241m|\u001b[39m Series:\n\u001b[1;32m   4798\u001b[0m \u001b[38;5;250m    \u001b[39m\u001b[38;5;124;03m\"\"\"\u001b[39;00m\n\u001b[1;32m   4799\u001b[0m \u001b[38;5;124;03m    Invoke function on values of Series.\u001b[39;00m\n\u001b[1;32m   4800\u001b[0m \n\u001b[0;32m   (...)\u001b[0m\n\u001b[1;32m   4915\u001b[0m \u001b[38;5;124;03m    dtype: float64\u001b[39;00m\n\u001b[1;32m   4916\u001b[0m \u001b[38;5;124;03m    \"\"\"\u001b[39;00m\n\u001b[1;32m   4917\u001b[0m     \u001b[38;5;28;01mreturn\u001b[39;00m \u001b[43mSeriesApply\u001b[49m\u001b[43m(\u001b[49m\n\u001b[1;32m   4918\u001b[0m \u001b[43m        \u001b[49m\u001b[38;5;28;43mself\u001b[39;49m\u001b[43m,\u001b[49m\n\u001b[1;32m   4919\u001b[0m \u001b[43m        \u001b[49m\u001b[43mfunc\u001b[49m\u001b[43m,\u001b[49m\n\u001b[1;32m   4920\u001b[0m \u001b[43m        \u001b[49m\u001b[43mconvert_dtype\u001b[49m\u001b[38;5;241;43m=\u001b[39;49m\u001b[43mconvert_dtype\u001b[49m\u001b[43m,\u001b[49m\n\u001b[1;32m   4921\u001b[0m \u001b[43m        \u001b[49m\u001b[43mby_row\u001b[49m\u001b[38;5;241;43m=\u001b[39;49m\u001b[43mby_row\u001b[49m\u001b[43m,\u001b[49m\n\u001b[1;32m   4922\u001b[0m \u001b[43m        \u001b[49m\u001b[43margs\u001b[49m\u001b[38;5;241;43m=\u001b[39;49m\u001b[43margs\u001b[49m\u001b[43m,\u001b[49m\n\u001b[1;32m   4923\u001b[0m \u001b[43m        \u001b[49m\u001b[43mkwargs\u001b[49m\u001b[38;5;241;43m=\u001b[39;49m\u001b[43mkwargs\u001b[49m\u001b[43m,\u001b[49m\n\u001b[0;32m-> 4924\u001b[0m \u001b[43m    \u001b[49m\u001b[43m)\u001b[49m\u001b[38;5;241;43m.\u001b[39;49m\u001b[43mapply\u001b[49m\u001b[43m(\u001b[49m\u001b[43m)\u001b[49m\n",
      "File \u001b[0;32m/opt/anaconda3/envs/ppchem_project/lib/python3.10/site-packages/pandas/core/apply.py:1427\u001b[0m, in \u001b[0;36mSeriesApply.apply\u001b[0;34m(self)\u001b[0m\n\u001b[1;32m   1424\u001b[0m     \u001b[38;5;28;01mreturn\u001b[39;00m \u001b[38;5;28mself\u001b[39m\u001b[38;5;241m.\u001b[39mapply_compat()\n\u001b[1;32m   1426\u001b[0m \u001b[38;5;66;03m# self.func is Callable\u001b[39;00m\n\u001b[0;32m-> 1427\u001b[0m \u001b[38;5;28;01mreturn\u001b[39;00m \u001b[38;5;28;43mself\u001b[39;49m\u001b[38;5;241;43m.\u001b[39;49m\u001b[43mapply_standard\u001b[49m\u001b[43m(\u001b[49m\u001b[43m)\u001b[49m\n",
      "File \u001b[0;32m/opt/anaconda3/envs/ppchem_project/lib/python3.10/site-packages/pandas/core/apply.py:1507\u001b[0m, in \u001b[0;36mSeriesApply.apply_standard\u001b[0;34m(self)\u001b[0m\n\u001b[1;32m   1501\u001b[0m \u001b[38;5;66;03m# row-wise access\u001b[39;00m\n\u001b[1;32m   1502\u001b[0m \u001b[38;5;66;03m# apply doesn't have a `na_action` keyword and for backward compat reasons\u001b[39;00m\n\u001b[1;32m   1503\u001b[0m \u001b[38;5;66;03m# we need to give `na_action=\"ignore\"` for categorical data.\u001b[39;00m\n\u001b[1;32m   1504\u001b[0m \u001b[38;5;66;03m# TODO: remove the `na_action=\"ignore\"` when that default has been changed in\u001b[39;00m\n\u001b[1;32m   1505\u001b[0m \u001b[38;5;66;03m#  Categorical (GH51645).\u001b[39;00m\n\u001b[1;32m   1506\u001b[0m action \u001b[38;5;241m=\u001b[39m \u001b[38;5;124m\"\u001b[39m\u001b[38;5;124mignore\u001b[39m\u001b[38;5;124m\"\u001b[39m \u001b[38;5;28;01mif\u001b[39;00m \u001b[38;5;28misinstance\u001b[39m(obj\u001b[38;5;241m.\u001b[39mdtype, CategoricalDtype) \u001b[38;5;28;01melse\u001b[39;00m \u001b[38;5;28;01mNone\u001b[39;00m\n\u001b[0;32m-> 1507\u001b[0m mapped \u001b[38;5;241m=\u001b[39m \u001b[43mobj\u001b[49m\u001b[38;5;241;43m.\u001b[39;49m\u001b[43m_map_values\u001b[49m\u001b[43m(\u001b[49m\n\u001b[1;32m   1508\u001b[0m \u001b[43m    \u001b[49m\u001b[43mmapper\u001b[49m\u001b[38;5;241;43m=\u001b[39;49m\u001b[43mcurried\u001b[49m\u001b[43m,\u001b[49m\u001b[43m \u001b[49m\u001b[43mna_action\u001b[49m\u001b[38;5;241;43m=\u001b[39;49m\u001b[43maction\u001b[49m\u001b[43m,\u001b[49m\u001b[43m \u001b[49m\u001b[43mconvert\u001b[49m\u001b[38;5;241;43m=\u001b[39;49m\u001b[38;5;28;43mself\u001b[39;49m\u001b[38;5;241;43m.\u001b[39;49m\u001b[43mconvert_dtype\u001b[49m\n\u001b[1;32m   1509\u001b[0m \u001b[43m\u001b[49m\u001b[43m)\u001b[49m\n\u001b[1;32m   1511\u001b[0m \u001b[38;5;28;01mif\u001b[39;00m \u001b[38;5;28mlen\u001b[39m(mapped) \u001b[38;5;129;01mand\u001b[39;00m \u001b[38;5;28misinstance\u001b[39m(mapped[\u001b[38;5;241m0\u001b[39m], ABCSeries):\n\u001b[1;32m   1512\u001b[0m     \u001b[38;5;66;03m# GH#43986 Need to do list(mapped) in order to get treated as nested\u001b[39;00m\n\u001b[1;32m   1513\u001b[0m     \u001b[38;5;66;03m#  See also GH#25959 regarding EA support\u001b[39;00m\n\u001b[1;32m   1514\u001b[0m     \u001b[38;5;28;01mreturn\u001b[39;00m obj\u001b[38;5;241m.\u001b[39m_constructor_expanddim(\u001b[38;5;28mlist\u001b[39m(mapped), index\u001b[38;5;241m=\u001b[39mobj\u001b[38;5;241m.\u001b[39mindex)\n",
      "File \u001b[0;32m/opt/anaconda3/envs/ppchem_project/lib/python3.10/site-packages/pandas/core/base.py:921\u001b[0m, in \u001b[0;36mIndexOpsMixin._map_values\u001b[0;34m(self, mapper, na_action, convert)\u001b[0m\n\u001b[1;32m    918\u001b[0m \u001b[38;5;28;01mif\u001b[39;00m \u001b[38;5;28misinstance\u001b[39m(arr, ExtensionArray):\n\u001b[1;32m    919\u001b[0m     \u001b[38;5;28;01mreturn\u001b[39;00m arr\u001b[38;5;241m.\u001b[39mmap(mapper, na_action\u001b[38;5;241m=\u001b[39mna_action)\n\u001b[0;32m--> 921\u001b[0m \u001b[38;5;28;01mreturn\u001b[39;00m \u001b[43malgorithms\u001b[49m\u001b[38;5;241;43m.\u001b[39;49m\u001b[43mmap_array\u001b[49m\u001b[43m(\u001b[49m\u001b[43marr\u001b[49m\u001b[43m,\u001b[49m\u001b[43m \u001b[49m\u001b[43mmapper\u001b[49m\u001b[43m,\u001b[49m\u001b[43m \u001b[49m\u001b[43mna_action\u001b[49m\u001b[38;5;241;43m=\u001b[39;49m\u001b[43mna_action\u001b[49m\u001b[43m,\u001b[49m\u001b[43m \u001b[49m\u001b[43mconvert\u001b[49m\u001b[38;5;241;43m=\u001b[39;49m\u001b[43mconvert\u001b[49m\u001b[43m)\u001b[49m\n",
      "File \u001b[0;32m/opt/anaconda3/envs/ppchem_project/lib/python3.10/site-packages/pandas/core/algorithms.py:1743\u001b[0m, in \u001b[0;36mmap_array\u001b[0;34m(arr, mapper, na_action, convert)\u001b[0m\n\u001b[1;32m   1741\u001b[0m values \u001b[38;5;241m=\u001b[39m arr\u001b[38;5;241m.\u001b[39mastype(\u001b[38;5;28mobject\u001b[39m, copy\u001b[38;5;241m=\u001b[39m\u001b[38;5;28;01mFalse\u001b[39;00m)\n\u001b[1;32m   1742\u001b[0m \u001b[38;5;28;01mif\u001b[39;00m na_action \u001b[38;5;129;01mis\u001b[39;00m \u001b[38;5;28;01mNone\u001b[39;00m:\n\u001b[0;32m-> 1743\u001b[0m     \u001b[38;5;28;01mreturn\u001b[39;00m \u001b[43mlib\u001b[49m\u001b[38;5;241;43m.\u001b[39;49m\u001b[43mmap_infer\u001b[49m\u001b[43m(\u001b[49m\u001b[43mvalues\u001b[49m\u001b[43m,\u001b[49m\u001b[43m \u001b[49m\u001b[43mmapper\u001b[49m\u001b[43m,\u001b[49m\u001b[43m \u001b[49m\u001b[43mconvert\u001b[49m\u001b[38;5;241;43m=\u001b[39;49m\u001b[43mconvert\u001b[49m\u001b[43m)\u001b[49m\n\u001b[1;32m   1744\u001b[0m \u001b[38;5;28;01melse\u001b[39;00m:\n\u001b[1;32m   1745\u001b[0m     \u001b[38;5;28;01mreturn\u001b[39;00m lib\u001b[38;5;241m.\u001b[39mmap_infer_mask(\n\u001b[1;32m   1746\u001b[0m         values, mapper, mask\u001b[38;5;241m=\u001b[39misna(values)\u001b[38;5;241m.\u001b[39mview(np\u001b[38;5;241m.\u001b[39muint8), convert\u001b[38;5;241m=\u001b[39mconvert\n\u001b[1;32m   1747\u001b[0m     )\n",
      "File \u001b[0;32mlib.pyx:2972\u001b[0m, in \u001b[0;36mpandas._libs.lib.map_infer\u001b[0;34m()\u001b[0m\n",
      "Cell \u001b[0;32mIn[77], line 36\u001b[0m, in \u001b[0;36mclean_up.<locals>.<lambda>\u001b[0;34m(x)\u001b[0m\n\u001b[1;32m     32\u001b[0m Dataframe[\u001b[38;5;124m'\u001b[39m\u001b[38;5;124mPercent_B\u001b[39m\u001b[38;5;124m'\u001b[39m] \u001b[38;5;241m=\u001b[39m Dataframe[\u001b[38;5;124m'\u001b[39m\u001b[38;5;124mPercent_B\u001b[39m\u001b[38;5;124m'\u001b[39m]\u001b[38;5;241m.\u001b[39mapply(\u001b[38;5;28;01mlambda\u001b[39;00m x: \u001b[38;5;28mfloat\u001b[39m(x)) \u001b[38;5;66;03m#converts Percantage to float\u001b[39;00m\n\u001b[1;32m     34\u001b[0m Dataframe[\u001b[38;5;124m'\u001b[39m\u001b[38;5;124mproductSmiles\u001b[39m\u001b[38;5;124m'\u001b[39m] \u001b[38;5;241m=\u001b[39m Dataframe[\u001b[38;5;124m'\u001b[39m\u001b[38;5;124mproductSmiles\u001b[39m\u001b[38;5;124m'\u001b[39m]\u001b[38;5;241m.\u001b[39mapply(\u001b[38;5;28;01mlambda\u001b[39;00m x: x[\u001b[38;5;241m2\u001b[39m:\u001b[38;5;241m-\u001b[39m\u001b[38;5;241m2\u001b[39m]) \u001b[38;5;66;03m# removes [' and '] from the productSimles\u001b[39;00m\n\u001b[0;32m---> 36\u001b[0m Dataframe[\u001b[38;5;124m'\u001b[39m\u001b[38;5;124mproductSmiles\u001b[39m\u001b[38;5;124m'\u001b[39m] \u001b[38;5;241m=\u001b[39m Dataframe[\u001b[38;5;124m'\u001b[39m\u001b[38;5;124mproductSmiles\u001b[39m\u001b[38;5;124m'\u001b[39m]\u001b[38;5;241m.\u001b[39mapply(\u001b[38;5;28;01mlambda\u001b[39;00m x: \u001b[43mcanonicalise_smiles\u001b[49m\u001b[43m(\u001b[49m\u001b[43mx\u001b[49m\u001b[43m)\u001b[49m) \u001b[38;5;66;03m# cannonicalises Smiles\u001b[39;00m\n\u001b[1;32m     38\u001b[0m Dataframe\u001b[38;5;241m.\u001b[39mreset_index(drop\u001b[38;5;241m=\u001b[39m\u001b[38;5;28;01mTrue\u001b[39;00m, inplace\u001b[38;5;241m=\u001b[39m\u001b[38;5;28;01mTrue\u001b[39;00m) \u001b[38;5;66;03m# sets the index new from 1 to end\u001b[39;00m\n\u001b[1;32m     40\u001b[0m entries_after \u001b[38;5;241m=\u001b[39m \u001b[38;5;28mlen\u001b[39m(Dataframe)\n",
      "Cell \u001b[0;32mIn[76], line 8\u001b[0m, in \u001b[0;36mcanonicalise_smiles\u001b[0;34m(Smiles)\u001b[0m\n\u001b[1;32m      1\u001b[0m \u001b[38;5;28;01mdef\u001b[39;00m \u001b[38;5;21mcanonicalise_smiles\u001b[39m(Smiles: \u001b[38;5;28mstr\u001b[39m):\n\u001b[1;32m      2\u001b[0m \u001b[38;5;250m    \u001b[39m\u001b[38;5;124;03m'''\u001b[39;00m\n\u001b[1;32m      3\u001b[0m \u001b[38;5;124;03m       Converts Smile to a Mol file and back to a Smiles again to create\u001b[39;00m\n\u001b[1;32m      4\u001b[0m \u001b[38;5;124;03m       a consistent Smiles string.\u001b[39;00m\n\u001b[1;32m      5\u001b[0m \n\u001b[1;32m      6\u001b[0m \u001b[38;5;124;03m       Args: Smiles string\u001b[39;00m\n\u001b[1;32m      7\u001b[0m \u001b[38;5;124;03m    '''\u001b[39;00m\n\u001b[0;32m----> 8\u001b[0m     mol \u001b[38;5;241m=\u001b[39m \u001b[43mChem\u001b[49m\u001b[38;5;241m.\u001b[39mMolFromSmiles(Smiles)\n\u001b[1;32m      9\u001b[0m     can_Smiles \u001b[38;5;241m=\u001b[39m Chem\u001b[38;5;241m.\u001b[39mMolToSmiles(mol)\n\u001b[1;32m     11\u001b[0m     \u001b[38;5;28;01mreturn\u001b[39;00m can_Smiles\n",
      "\u001b[0;31mNameError\u001b[0m: name 'Chem' is not defined"
     ]
    }
   ],
   "source": [
    "clean_up(df1)"
   ]
  },
  {
   "cell_type": "code",
   "execution_count": 58,
   "metadata": {},
   "outputs": [
    {
     "name": "stderr",
     "output_type": "stream",
     "text": [
      "100%|██████████| 9147/9147 [50:17:04<00:00, 19.79s/it]      \n"
     ]
    }
   ],
   "source": [
    "df32_LLM = get_values(df4)"
   ]
  },
  {
   "cell_type": "code",
   "execution_count": 59,
   "metadata": {},
   "outputs": [],
   "source": [
    "df4_LLM.to_csv(r'/Users/matthiasgalka/git/ppchem_project/data/LLM_processed(4).csv')"
   ]
  },
  {
   "cell_type": "code",
   "execution_count": 62,
   "metadata": {},
   "outputs": [
    {
     "data": {
      "text/plain": [
       "(9147, 11)"
      ]
     },
     "execution_count": 62,
     "metadata": {},
     "output_type": "execute_result"
    }
   ],
   "source": [
    "df4_LLM.shape"
   ]
  },
  {
   "cell_type": "code",
   "execution_count": 23,
   "metadata": {},
   "outputs": [
    {
     "data": {
      "text/plain": [
       "'A mixture of ethyl 2-chlorobenzo[d]thiazole-6-carboxylate (1.62 g, 6.72 mmol), (R)-1-(pyrrolidin-3-yl)piperidine dihydrochloride (Reference Example 5c, 1.80 g, 7.94 mmol), and triethylamine (5.11 mL, 36.66 mmol) in N,N-dimethylformamide (19 mL) was stirred at ambient temperature for 17 hours. According to TLC (100% ethyl acetate) the spot for starting chloride was replaced by a much lower Rf, ninhydrin-positive spot. The reaction mixture was diluted with water (400 mL) and extracted with ethyl acetate (3×75 mL). The combined organic extracts were washed with brine (2×200 mL) then dried (MgSO4) and filtered. The filtrate was concentrated under reduced pressure. The residue was purified by column chromatography on an Analogix IF-280 (Analogix SF40-120 g, 99:1 ethyl acetate/methanol). Fractions containing product were combined and concentrated under reduced pressure to provide the title compound. 1H NMR (300 MHz, CD3OD) δ ppm 8.34 (d, J=1.7 Hz, 1H), 7.96 (dd, J=1.7 Hz, 8.5, 1H), 7.49 (d, J=8.6 Hz, 1H), 4.36 (q, J=7.1 Hz, 2H), 3.82 (dt, J=8.8, 18.3 Hz, 2H), 3.63-3.50 (m, 1H), 3.41 (t, J=9.3 Hz, 1H), 3.16-3.02 (m, 1H), 2.67-2.43 (m, 4H), 2.43-2.30 (m, 1H), 2.11-1.93 (m, 1H), 1.72-1.59 (m, 4H), 1.58-1.45 (m, 2H), 1.39 (t, J=7.1 Hz, 3H); MS (DCI/NH3) m/z 360 (M+H)+.'"
      ]
     },
     "execution_count": 23,
     "metadata": {},
     "output_type": "execute_result"
    }
   ],
   "source": [
    "df1.loc[9142, \"paragraphText\"]"
   ]
  },
  {
   "cell_type": "code",
   "execution_count": 24,
   "metadata": {},
   "outputs": [],
   "source": [
    "df1.to_csv(r'/Users/matthiasgalka/git/ppchem_project/Data/LLM_processed(1)')"
   ]
  },
  {
   "cell_type": "code",
   "execution_count": 10,
   "metadata": {},
   "outputs": [],
   "source": [
    "df1_cleaned = clean_up(df1)"
   ]
  },
  {
   "cell_type": "code",
   "execution_count": 12,
   "metadata": {},
   "outputs": [
    {
     "data": {
      "text/plain": [
       "(4239, 12)"
      ]
     },
     "execution_count": 12,
     "metadata": {},
     "output_type": "execute_result"
    }
   ],
   "source": [
    "df1_cleaned.shape"
   ]
  },
  {
   "cell_type": "code",
   "execution_count": 36,
   "metadata": {},
   "outputs": [
    {
     "data": {
      "text/html": [
       "<div>\n",
       "<style scoped>\n",
       "    .dataframe tbody tr th:only-of-type {\n",
       "        vertical-align: middle;\n",
       "    }\n",
       "\n",
       "    .dataframe tbody tr th {\n",
       "        vertical-align: top;\n",
       "    }\n",
       "\n",
       "    .dataframe thead th {\n",
       "        text-align: right;\n",
       "    }\n",
       "</style>\n",
       "<table border=\"1\" class=\"dataframe\">\n",
       "  <thead>\n",
       "    <tr style=\"text-align: right;\">\n",
       "      <th></th>\n",
       "      <th>paragraphText</th>\n",
       "      <th>reactionSmiles</th>\n",
       "      <th>productSmiles</th>\n",
       "      <th>title</th>\n",
       "      <th>Rf</th>\n",
       "      <th>Solvent_A</th>\n",
       "      <th>Solvent_B</th>\n",
       "      <th>Percent_A</th>\n",
       "      <th>Percent_B</th>\n",
       "      <th>Additive_C</th>\n",
       "      <th>Percent_C</th>\n",
       "    </tr>\n",
       "  </thead>\n",
       "  <tbody>\n",
       "    <tr>\n",
       "      <th>0</th>\n",
       "      <td>[A] Synthesis of 1-benzyl-piperidin-4-ylidene)...</td>\n",
       "      <td>C(CC([O-])=O)#N.[CH2:7]([N:14]1[CH2:19][CH2:18...</td>\n",
       "      <td>C(C1=CC=CC=C1)N1CCC(CC1)=C(C(=O)OCC)C#N</td>\n",
       "      <td>NaN</td>\n",
       "      <td>0.53</td>\n",
       "      <td>None</td>\n",
       "      <td>None</td>\n",
       "      <td>0.0</td>\n",
       "      <td>0.0</td>\n",
       "      <td>None</td>\n",
       "      <td>None</td>\n",
       "    </tr>\n",
       "    <tr>\n",
       "      <th>1</th>\n",
       "      <td>A solution of (S)-(+)-3-hydroxytetrahydrofuran...</td>\n",
       "      <td>O[C@H]1CCOC1.CC([O-])(C)C.[K+].[CH3:13][O:14][...</td>\n",
       "      <td>COC(=O)C=1SC=CC1</td>\n",
       "      <td>NaN</td>\n",
       "      <td>0.30</td>\n",
       "      <td>dichloromethane</td>\n",
       "      <td>ethyl acetate</td>\n",
       "      <td>100.0</td>\n",
       "      <td>20.0</td>\n",
       "      <td>None</td>\n",
       "      <td>1</td>\n",
       "    </tr>\n",
       "    <tr>\n",
       "      <th>2</th>\n",
       "      <td>A solution of 4-{[(phenylmethoxy)carbonylamino...</td>\n",
       "      <td>[C:1]1([CH2:7][O:8][C:9]([NH:11][CH2:12][C:13]...</td>\n",
       "      <td>CON(C(=O)C1=CC=C(C=C1)CNC(=O)OCC1=CC=CC=C1)C</td>\n",
       "      <td>Preparation of N-methoxy-N-methyl(4-{[(phenylm...</td>\n",
       "      <td>0.30</td>\n",
       "      <td>pentane</td>\n",
       "      <td>EtOAc</td>\n",
       "      <td>50.0</td>\n",
       "      <td>50.0</td>\n",
       "      <td>None</td>\n",
       "      <td>None</td>\n",
       "    </tr>\n",
       "    <tr>\n",
       "      <th>3</th>\n",
       "      <td>Putative nitrilase up-mutants were assayed in ...</td>\n",
       "      <td>[CH3:1][C:2]1(C)S[C@@H]2[C@H](NC([C@H](N)C3C=C...</td>\n",
       "      <td>O[C@@H](CC(=O)O)CC#N</td>\n",
       "      <td>NaN</td>\n",
       "      <td>0.50</td>\n",
       "      <td>EtOAc</td>\n",
       "      <td>Hexanes</td>\n",
       "      <td>50.0</td>\n",
       "      <td>50.0</td>\n",
       "      <td>None</td>\n",
       "      <td>None</td>\n",
       "    </tr>\n",
       "    <tr>\n",
       "      <th>4</th>\n",
       "      <td>3.0 g N6-Benzoyl-5′-O-tert-butyldimethylsilyl-...</td>\n",
       "      <td>[C:1]([NH:9][C:10]1[C:11]2[N:12]=[CH:13][N:14]...</td>\n",
       "      <td>C(C1=CC=CC=C1)(=O)NC=1C=2N=CN([C@H]3C[C@H](OCS...</td>\n",
       "      <td>NaN</td>\n",
       "      <td>0.60</td>\n",
       "      <td>None</td>\n",
       "      <td>None</td>\n",
       "      <td>0.0</td>\n",
       "      <td>0.0</td>\n",
       "      <td>None</td>\n",
       "      <td>None</td>\n",
       "    </tr>\n",
       "  </tbody>\n",
       "</table>\n",
       "</div>"
      ],
      "text/plain": [
       "                                       paragraphText  \\\n",
       "0  [A] Synthesis of 1-benzyl-piperidin-4-ylidene)...   \n",
       "1  A solution of (S)-(+)-3-hydroxytetrahydrofuran...   \n",
       "2  A solution of 4-{[(phenylmethoxy)carbonylamino...   \n",
       "3  Putative nitrilase up-mutants were assayed in ...   \n",
       "4  3.0 g N6-Benzoyl-5′-O-tert-butyldimethylsilyl-...   \n",
       "\n",
       "                                      reactionSmiles  \\\n",
       "0  C(CC([O-])=O)#N.[CH2:7]([N:14]1[CH2:19][CH2:18...   \n",
       "1  O[C@H]1CCOC1.CC([O-])(C)C.[K+].[CH3:13][O:14][...   \n",
       "2  [C:1]1([CH2:7][O:8][C:9]([NH:11][CH2:12][C:13]...   \n",
       "3  [CH3:1][C:2]1(C)S[C@@H]2[C@H](NC([C@H](N)C3C=C...   \n",
       "4  [C:1]([NH:9][C:10]1[C:11]2[N:12]=[CH:13][N:14]...   \n",
       "\n",
       "                                       productSmiles  \\\n",
       "0            C(C1=CC=CC=C1)N1CCC(CC1)=C(C(=O)OCC)C#N   \n",
       "1                                   COC(=O)C=1SC=CC1   \n",
       "2       CON(C(=O)C1=CC=C(C=C1)CNC(=O)OCC1=CC=CC=C1)C   \n",
       "3                               O[C@@H](CC(=O)O)CC#N   \n",
       "4  C(C1=CC=CC=C1)(=O)NC=1C=2N=CN([C@H]3C[C@H](OCS...   \n",
       "\n",
       "                                               title    Rf        Solvent_A  \\\n",
       "0                                                NaN  0.53             None   \n",
       "1                                                NaN  0.30  dichloromethane   \n",
       "2  Preparation of N-methoxy-N-methyl(4-{[(phenylm...  0.30          pentane   \n",
       "3                                                NaN  0.50            EtOAc   \n",
       "4                                                NaN  0.60             None   \n",
       "\n",
       "       Solvent_B  Percent_A  Percent_B Additive_C Percent_C  \n",
       "0           None        0.0        0.0       None      None  \n",
       "1  ethyl acetate      100.0       20.0       None         1  \n",
       "2          EtOAc       50.0       50.0       None      None  \n",
       "3        Hexanes       50.0       50.0       None      None  \n",
       "4           None        0.0        0.0       None      None  "
      ]
     },
     "execution_count": 36,
     "metadata": {},
     "output_type": "execute_result"
    }
   ],
   "source": [
    "df1_cleaned.head()"
   ]
  },
  {
   "cell_type": "code",
   "execution_count": 23,
   "metadata": {},
   "outputs": [],
   "source": [
    "indices_Additive = df1_cleaned[df1_cleaned[\"Additive_C\"].notna()].index \n",
    "   # df1_cleaned.drop(indices_Additive,inplace = True)"
   ]
  },
  {
   "cell_type": "code",
   "execution_count": 41,
   "metadata": {},
   "outputs": [
    {
     "data": {
      "text/plain": [
       "Index([0, 4, 9, 15, 18, 20, 21, 22, 24, 28], dtype='int64')"
      ]
     },
     "execution_count": 41,
     "metadata": {},
     "output_type": "execute_result"
    }
   ],
   "source": [
    "indices_noSolvent = df1_cleaned[df1_cleaned['Solvent_A'].isna() | df1_cleaned['Solvent_B'].isna()].index\n",
    "indices_noSolvent [0:10]"
   ]
  },
  {
   "cell_type": "code",
   "execution_count": 45,
   "metadata": {},
   "outputs": [
    {
     "data": {
      "text/plain": [
       "'NBS (1.926 mmol) was added to a mixture of 5-(3-chloro-2-fluoro-phenyl)-6-(4-chloro-2-methyl-phenyl)-1-isopropyl-5,6-dihydro-1H-pyrrolo[3,4-b]pyrrol-4-one (Step A1) (1.965 mmol) in CCl4 (65 mL). After 1.5 h, the reaction mixture was diluted with EtOAc and successively washed with a saturated aqueous solution of NaHCO3, water and brine, dried (Na2SO4), filtered and concentrated. The residue was purified using a RediSep® silica gel column to afford the title compound as a white solid. tR: 5.69 min (HPLC 1); ESI-MS: tR=1.39 min, [M+H]+ 495/497/499 (LC-MS 1); TLC: Rf=0.12 (CH2Cl2).'"
      ]
     },
     "execution_count": 45,
     "metadata": {},
     "output_type": "execute_result"
    }
   ],
   "source": [
    "len(indices_Additive)\n",
    "#indices_Additive[0:10]\n",
    "df1_cleaned.loc[15, 'paragraphText']"
   ]
  },
  {
   "cell_type": "code",
   "execution_count": 8,
   "metadata": {},
   "outputs": [],
   "source": [
    "df32 = pd.read_csv(r'/Users/matthiasgalka/git/ppchem_project/data/AfterRFfilter(3.2).csv')"
   ]
  },
  {
   "cell_type": "code",
   "execution_count": 9,
   "metadata": {},
   "outputs": [
    {
     "name": "stderr",
     "output_type": "stream",
     "text": [
      "  9%|▊         | 398/4572 [1:36:24<24:41:47, 21.30s/it]"
     ]
    }
   ],
   "source": [
    "df = get_values(df32)"
   ]
  },
  {
   "cell_type": "code",
   "execution_count": 7,
   "metadata": {},
   "outputs": [
    {
     "data": {
      "text/plain": [
       "(4572, 4)"
      ]
     },
     "execution_count": 7,
     "metadata": {},
     "output_type": "execute_result"
    }
   ],
   "source": [
    "df32.shape"
   ]
  }
 ],
 "metadata": {
  "kernelspec": {
   "display_name": "Python 3 (ipykernel)",
   "language": "python",
   "name": "python3"
  },
  "language_info": {
   "codemirror_mode": {
    "name": "ipython",
    "version": 3
   },
   "file_extension": ".py",
   "mimetype": "text/x-python",
   "name": "python",
   "nbconvert_exporter": "python",
   "pygments_lexer": "ipython3",
   "version": "3.10.13"
  }
 },
 "nbformat": 4,
 "nbformat_minor": 4
}
