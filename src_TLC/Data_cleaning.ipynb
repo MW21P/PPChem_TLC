{
 "cells": [
  {
   "cell_type": "code",
   "execution_count": 2,
   "metadata": {},
   "outputs": [],
   "source": [
    "import pandas as pd\n",
    "import numpy as np\n",
    "from rdkit import Chem\n",
    "from rdkit.Chem import Draw"
   ]
  },
  {
   "cell_type": "code",
   "execution_count": 3,
   "metadata": {},
   "outputs": [],
   "source": [
    "df_LLM1 = pd.read_csv(r'/Users/matthiasgalka/git/ppchem_project/data/LLM_processed/LLM_processed(1).csv')\n",
    "df_LLM2 = pd.read_csv(r'/Users/matthiasgalka/git/ppchem_project/data/LLM_processed/LLM_processed(2).csv')\n",
    "df_LLM31 = pd.read_csv(r'/Users/matthiasgalka/git/ppchem_project/data/LLM_processed/LLM_processed(3.1).csv')\n",
    "df_LLM32 = pd.read_csv(r'/Users/matthiasgalka/git/ppchem_project/data/LLM_processed/LLM_processed(3.2).csv')\n",
    "df_LLM4 = pd.read_csv(r'/Users/matthiasgalka/git/ppchem_project/data/LLM_processed/LLM_processed(4).csv')"
   ]
  },
  {
   "cell_type": "code",
   "execution_count": 4,
   "metadata": {},
   "outputs": [
    {
     "data": {
      "text/plain": [
       "(9147, 11)"
      ]
     },
     "execution_count": 4,
     "metadata": {},
     "output_type": "execute_result"
    }
   ],
   "source": [
    "df_LLM1.head() \n",
    "df_LLM2.head() \n",
    "df_LLM31.shape \n",
    "df_LLM32.head() #dataframe is too small just 4116 instead of 4572!!\n",
    "df_LLM4.shape "
   ]
  },
  {
   "cell_type": "code",
   "execution_count": 127,
   "metadata": {},
   "outputs": [],
   "source": [
    "def clean_up(Dataframe: pd.DataFrame, tolerance: float = 1):\n",
    "    \"\"\"1. Delets all row whitout Rf value or Rf value over 1.0 and without solvent information.\n",
    "       2. Converts percentage of solvents in a Dataframe from str to float and check if they add up to 100, else drop them.\n",
    "       3. Strips productSMILES str to a usable SMILES str.\n",
    "\n",
    "    Args: \n",
    "        Dataframe (_type_): Dataframe containing the processed data from the get_value function.\n",
    "        Dataframe needs to have following columns: 'productSmiles,' 'Rf', 'Percent_A', 'Percent_B'\n",
    "        tolerance (_type_): float, default = 1, tolerance for the sum of the percentages of the solvents (default is 100% +- 1%)\n",
    "\n",
    "    \"\"\"\n",
    "    size_pre_cleaning = Dataframe.shape[0]  # get the size of the dataframe\n",
    "    # Drop rows without Rf values\n",
    "    Dataframe.dropna(subset=['Rf'], inplace = True) \n",
    "    \n",
    "    # Convert Rf value to float\n",
    "    Dataframe['Rf'] = Dataframe['Rf'].astype(float)\n",
    "    \n",
    "    #finds indicies with Rf values over 1.0\n",
    "    indices_false_Rf = Dataframe[Dataframe[\"Rf\"] > 1].index \n",
    "    Dataframe.drop(indices_false_Rf,inplace = True) #drops rows with false Rf values\n",
    "    \n",
    "    #check if at least one solvent (either solvent A or solvent B) is given (so check that solvent A and solvent B are not None)\n",
    "    Dataframe = Dataframe[Dataframe['Solvent_A'].notnull() & Dataframe['Solvent_B'].notnull()].copy()\n",
    "    \n",
    "    #convert 'None' entry to 0\n",
    "    Dataframe.loc[:, 'Percent_A'] = Dataframe['Percent_A'].apply(lambda x: 0 if x is None else x)\n",
    "    \n",
    "    #convert 'None' entry to 0\n",
    "    Dataframe.loc[:, 'Percent_B'] = Dataframe['Percent_B'].apply(lambda x: 0 if x is None else x)\n",
    "    \n",
    "    # convert Percentage to float\n",
    "    Dataframe.loc[:, 'Percent_A'] = Dataframe['Percent_A'].apply(lambda x: float(x)) \n",
    "    \n",
    "    #convert Percantage to float\n",
    "    Dataframe.loc[:, 'Percent_B'] = Dataframe['Percent_B'].apply(lambda x: float(x)) \n",
    "    \n",
    "    # Drop rows where 'additive_C' is not None\n",
    "    Dataframe = Dataframe[Dataframe['Additive_C'].isnull()].copy()\n",
    "    \n",
    "    # remove [' and '] from the productSimles\n",
    "    Dataframe.loc[:, 'productSmiles'] = Dataframe['productSmiles'].apply(lambda x: x[2:-2]) \n",
    "    \n",
    "    # check if the sum of the percentages is 100, this at the same time kicks out entries with additives C (+ consider limitations of floating-point arithmetic)\n",
    "    Dataframe.loc[:, 'sum'] = Dataframe['Percent_A'] + Dataframe['Percent_B']\n",
    "    Dataframe = Dataframe[(Dataframe['sum'] >= 100 - tolerance) & (Dataframe['sum'] <= 100 + tolerance)].copy()\n",
    "    \n",
    "    Dataframe.reset_index(drop=True, inplace=True) # sets the index new from 1 to end\n",
    "\n",
    "    size_post_cleaning = Dataframe.shape[0]  # get the size of the dataframe after cleaning\n",
    "    print(f\"Size of the dataframe before cleaning: {size_pre_cleaning}\")\n",
    "    print(f\"Size of the dataframe after cleaning: {size_post_cleaning}\")\n",
    "    print(f\"Number of rows dropped: {size_pre_cleaning - size_post_cleaning}\")\n",
    "    print(f\"Percentage of rows dropped: {(size_pre_cleaning - size_post_cleaning) / size_pre_cleaning * 100}%\")\n",
    "    return Dataframe\n"
   ]
  },
  {
   "cell_type": "code",
   "execution_count": 128,
   "metadata": {},
   "outputs": [],
   "source": [
    "# connecting all the Datarfames to one and make a csv file\n",
    "\n",
    "df_LLM = pd.concat([df_LLM1, df_LLM2, df_LLM31, df_LLM32, df_LLM4], axis=0, ignore_index=True)\n",
    "\n",
    "#needs to be repeated with df_LLM32 with original size"
   ]
  },
  {
   "cell_type": "code",
   "execution_count": 105,
   "metadata": {},
   "outputs": [],
   "source": [
    "df_LLM.to_csv(r'/Users/matthiasgalka/git/ppchem_project/data/After_LLM.csv')"
   ]
  },
  {
   "cell_type": "code",
   "execution_count": 129,
   "metadata": {},
   "outputs": [
    {
     "name": "stdout",
     "output_type": "stream",
     "text": [
      "Size of the dataframe before cleaning: 36123\n",
      "Size of the dataframe after cleaning: 16617\n",
      "Number of rows dropped: 19506\n",
      "Percentage of rows dropped: 53.998837305871604%\n"
     ]
    }
   ],
   "source": [
    "df_LLM_clean = clean_up(df_LLM)"
   ]
  },
  {
   "cell_type": "code",
   "execution_count": 99,
   "metadata": {},
   "outputs": [],
   "source": [
    "\n",
    "def remove_salts(Dataframe: pd.DataFrame):\n",
    "\n",
    "    indices_false_Rf = Dataframe[Dataframe[\"productSmiles\"].str.contains('\\.')].index \n",
    "    Dataframe.drop(indices_false_Rf,inplace = True)\n",
    "\n",
    "    return Dataframe"
   ]
  },
  {
   "cell_type": "code",
   "execution_count": 130,
   "metadata": {},
   "outputs": [],
   "source": [
    "df_no_salt = remove_salts(df_LLM_clean)"
   ]
  },
  {
   "cell_type": "markdown",
   "metadata": {},
   "source": [
    "Now I will try some things to solve the Smiles problem (two product Smiles, Salts, Enatiomers)"
   ]
  },
  {
   "cell_type": "code",
   "execution_count": null,
   "metadata": {},
   "outputs": [],
   "source": [
    "\n",
    "def find_rows_with_dot(Dataframe: pd.DataFrame):\n",
    "    \n",
    "    ''' Finds all entries with product Smiles which are salts, complexes or Molecuels sperated by a '.' and puts them into a\n",
    "        new Dataframe.\n",
    "\n",
    "    Args: \n",
    "        Datafarme which contains a column called 'productSmiles' with Smiles.\n",
    "    '''\n",
    "    df_salts = pd.DataFrame(columns=df.columns)\n",
    "    \n",
    "    # Iteriere über jede Zeile im DataFrame\n",
    "    for index, row in Dataframe.iterrows():\n",
    "        # Überprüfe, ob der Wert in der Spalte \"productSmiles\" einen Punkt enthält\n",
    "        if '.' in row['productSmiles']:\n",
    "            # Füge die Zeile zum DataFrame df_salts hinzu\n",
    "            df_salts = pd.concat([df_salts,pd.DataFrame([row])], ignore_index =False)\n",
    "    \n",
    "    return df_salts"
   ]
  },
  {
   "cell_type": "code",
   "execution_count": null,
   "metadata": {},
   "outputs": [
    {
     "name": "stderr",
     "output_type": "stream",
     "text": [
      "/var/folders/56/k5y5cj453pvcsblxlzlzn0340000gn/T/ipykernel_3571/408940893.py:10: FutureWarning: The behavior of DataFrame concatenation with empty or all-NA entries is deprecated. In a future version, this will no longer exclude empty or all-NA columns when determining the result dtypes. To retain the old behavior, exclude the relevant entries before the concat operation.\n",
      "  df_salts = pd.concat([df_salts,pd.DataFrame([row])], ignore_index =False)\n"
     ]
    }
   ],
   "source": [
    "df_salt = find_rows_with_dot(df_LLM_clean)"
   ]
  },
  {
   "cell_type": "code",
   "execution_count": null,
   "metadata": {},
   "outputs": [],
   "source": [
    "\n",
    "def remove_salts(Dataframe: pd.DataFrame):\n",
    "    '''Removes all rows which contain a '.' in the productSmiles. \n",
    "\n",
    "    Args: \n",
    "       Dataframes with a column called 'productSmiles' containing Smiles.\n",
    "    \n",
    "    '''\n",
    "\n",
    "    indices_false_Rf = Dataframe[Dataframe[\"productSmiles\"].str.contains('\\.')].index \n",
    "    Dataframe.drop(indices_false_Rf,inplace = True)\n",
    "\n",
    "    return Dataframe"
   ]
  },
  {
   "cell_type": "code",
   "execution_count": 67,
   "metadata": {},
   "outputs": [],
   "source": [
    "def canonicalize_smiles(Dataframe: pd.DataFrame, column_name: str):\n",
    "    \"\"\"Function that canonicalizes the SMILES strings in the dataframe.\n",
    "\n",
    "    Args:\n",
    "        Dataframe (pd.DataFrame): Dataframe containing the extracted data from the US patents, \n",
    "                                preprocessed with the get_values, clean_up, and convert_solvents function.\n",
    "                                \n",
    "        column_name (str): name of the column that needs to be canonicalized e.g. productSmiles or Solvent_A_Smiles etc.\n",
    "    \"\"\"\n",
    "    for index, row in Dataframe.iterrows():\n",
    "        try: \n",
    "            smiles_to_canon = row[column_name]\n",
    "            if smiles_to_canon is not None:\n",
    "                p_mol = Chem.MolFromSmiles(smiles_to_canon)\n",
    "                if p_mol is not None:\n",
    "                    smiles_to_canon = Chem.MolToSmiles(p_mol)\n",
    "                    Dataframe.at[index, 'productSmiles'] = smiles_to_canon\n",
    "                else:\n",
    "                    print(f\"Could not canonicalize SMILES for product at index {index}, value is {smiles_to_canon}\")\n",
    "        except Exception as e:\n",
    "            print(e)\n",
    "            print(f\"Error at index {index}, smiles value is {smiles_to_canon}\")\n",
    "        \n",
    "    return Dataframe"
   ]
  },
  {
   "cell_type": "code",
   "execution_count": 54,
   "metadata": {},
   "outputs": [],
   "source": [
    "# Example Strigs (Smiles)\n",
    "\n",
    "S_a_k = \"COC1=CC=C(C=C1)[C@@H]1C[C@H](C1)C(=O)OC',\"\n",
    "a_S_k_a = \"'COC1=CC=C(C=C1)[C@@H]1C[C@H](C1)C(=O)OC',\"\n",
    "a_S_a_k_a = \"'COC1=CC=C(C=C1)[C@@H]1C[C@H](C1)C(=O)OC','\"\n",
    "a_S_a_k_w_a = \"'COC1=CC=C(C=C1)[C@@H]1C[C@H](C1)C(=O)OC', '\"\n",
    "S_k_a_w_a_S = \"C(=O)(C(F)(F)F)O', 'O=C(CN1N=C(C2=CC=CC=C12)C(=O)N)N1[C@@H]2C[C@@H]2C[C@H]1C(NC1=NN(C=C1)CC(F)(F)F)=O\"\n",
    "En_ = \"[Si](C)(C)(C(C)(C)C)O[C@H]1C[C@H](C[C@H]([C@@H]1O[Si](C)(C)C(C)(C)C)C)C1=C(C=NC=C1)N', '[Si](C)(C)(C(C)(C)C)O[C@@H]1C[C@@H](C[C@@H]([C@H]1O[Si](C)(C)C(C)(C)C)C)C1=C(C=NC=C1)N\"\n",
    "\n",
    "test_1 = [S_a_k, a_S_k_a, a_S_a_k_a, a_S_a_k_w_a]\n",
    "\n",
    "test_2 = [S_a_k, a_S_k_a, a_S_a_k_a, a_S_a_k_w_a, S_k_a_w_a_S, En_]\n",
    "\n",
    "dic_test_2 = {'productSmiles': test_2}\n",
    "\n",
    "df_test = pd.DataFrame(dic_test_2)\n"
   ]
  },
  {
   "cell_type": "markdown",
   "metadata": {},
   "source": [
    "Lets find a function which removes all komma, apostroph or whitespace from a Smiles. If there is a second Smiles it should seperate them and put it in another column"
   ]
  },
  {
   "cell_type": "code",
   "execution_count": 55,
   "metadata": {},
   "outputs": [
    {
     "data": {
      "text/html": [
       "<div>\n",
       "<style scoped>\n",
       "    .dataframe tbody tr th:only-of-type {\n",
       "        vertical-align: middle;\n",
       "    }\n",
       "\n",
       "    .dataframe tbody tr th {\n",
       "        vertical-align: top;\n",
       "    }\n",
       "\n",
       "    .dataframe thead th {\n",
       "        text-align: right;\n",
       "    }\n",
       "</style>\n",
       "<table border=\"1\" class=\"dataframe\">\n",
       "  <thead>\n",
       "    <tr style=\"text-align: right;\">\n",
       "      <th></th>\n",
       "      <th>productSmiles</th>\n",
       "    </tr>\n",
       "  </thead>\n",
       "  <tbody>\n",
       "    <tr>\n",
       "      <th>0</th>\n",
       "      <td>COC1=CC=C(C=C1)[C@@H]1C[C@H](C1)C(=O)OC',</td>\n",
       "    </tr>\n",
       "    <tr>\n",
       "      <th>1</th>\n",
       "      <td>'COC1=CC=C(C=C1)[C@@H]1C[C@H](C1)C(=O)OC',</td>\n",
       "    </tr>\n",
       "    <tr>\n",
       "      <th>2</th>\n",
       "      <td>'COC1=CC=C(C=C1)[C@@H]1C[C@H](C1)C(=O)OC','</td>\n",
       "    </tr>\n",
       "    <tr>\n",
       "      <th>3</th>\n",
       "      <td>'COC1=CC=C(C=C1)[C@@H]1C[C@H](C1)C(=O)OC', '</td>\n",
       "    </tr>\n",
       "    <tr>\n",
       "      <th>4</th>\n",
       "      <td>C(=O)(C(F)(F)F)O', 'O=C(CN1N=C(C2=CC=CC=C12)C(...</td>\n",
       "    </tr>\n",
       "    <tr>\n",
       "      <th>5</th>\n",
       "      <td>[Si](C)(C)(C(C)(C)C)O[C@H]1C[C@H](C[C@H]([C@@H...</td>\n",
       "    </tr>\n",
       "  </tbody>\n",
       "</table>\n",
       "</div>"
      ],
      "text/plain": [
       "                                       productSmiles\n",
       "0          COC1=CC=C(C=C1)[C@@H]1C[C@H](C1)C(=O)OC',\n",
       "1         'COC1=CC=C(C=C1)[C@@H]1C[C@H](C1)C(=O)OC',\n",
       "2        'COC1=CC=C(C=C1)[C@@H]1C[C@H](C1)C(=O)OC','\n",
       "3       'COC1=CC=C(C=C1)[C@@H]1C[C@H](C1)C(=O)OC', '\n",
       "4  C(=O)(C(F)(F)F)O', 'O=C(CN1N=C(C2=CC=CC=C12)C(...\n",
       "5  [Si](C)(C)(C(C)(C)C)O[C@H]1C[C@H](C[C@H]([C@@H..."
      ]
     },
     "execution_count": 55,
     "metadata": {},
     "output_type": "execute_result"
    }
   ],
   "source": [
    "df_test.head(6)"
   ]
  },
  {
   "cell_type": "code",
   "execution_count": 40,
   "metadata": {},
   "outputs": [
    {
     "name": "stdout",
     "output_type": "stream",
     "text": [
      "COC1=CC=C(C=C1)[C@@H]1C[C@H](C1)C(=O)OC\n",
      "[\"COC1=CC=C(C=C1)[C@@H]1C[C@H](C1)C(=O)OC',\", \"'COC1=CC=C(C=C1)[C@@H]1C[C@H](C1)C(=O)OC',\", \"'COC1=CC=C(C=C1)[C@@H]1C[C@H](C1)C(=O)OC','\", \"'COC1=CC=C(C=C1)[C@@H]1C[C@H](C1)C(=O)OC', '\"]\n",
      "COC1=CC=C(C=C1)[C@@H]1C[C@H](C1)C(=O)OC\n",
      "[\"COC1=CC=C(C=C1)[C@@H]1C[C@H](C1)C(=O)OC',\", \"'COC1=CC=C(C=C1)[C@@H]1C[C@H](C1)C(=O)OC',\", \"'COC1=CC=C(C=C1)[C@@H]1C[C@H](C1)C(=O)OC','\", \"'COC1=CC=C(C=C1)[C@@H]1C[C@H](C1)C(=O)OC', '\"]\n",
      "COC1=CC=C(C=C1)[C@@H]1C[C@H](C1)C(=O)OC\n",
      "[\"COC1=CC=C(C=C1)[C@@H]1C[C@H](C1)C(=O)OC',\", \"'COC1=CC=C(C=C1)[C@@H]1C[C@H](C1)C(=O)OC',\", \"'COC1=CC=C(C=C1)[C@@H]1C[C@H](C1)C(=O)OC','\", \"'COC1=CC=C(C=C1)[C@@H]1C[C@H](C1)C(=O)OC', '\"]\n",
      "COC1=CC=C(C=C1)[C@@H]1C[C@H](C1)C(=O)OC\n",
      "[\"COC1=CC=C(C=C1)[C@@H]1C[C@H](C1)C(=O)OC',\", \"'COC1=CC=C(C=C1)[C@@H]1C[C@H](C1)C(=O)OC',\", \"'COC1=CC=C(C=C1)[C@@H]1C[C@H](C1)C(=O)OC','\", \"'COC1=CC=C(C=C1)[C@@H]1C[C@H](C1)C(=O)OC', '\"]\n"
     ]
    }
   ],
   "source": [
    "\n",
    "special_characters = [',', ' ', \"'\"]\n",
    "\n",
    "for Smiles in test:\n",
    "\n",
    "    for char in special_characters:\n",
    "        Smiles = Smiles.replace(char, '')\n",
    "    print(Smiles)\n",
    "    "
   ]
  },
  {
   "cell_type": "code",
   "execution_count": 1,
   "metadata": {},
   "outputs": [
    {
     "ename": "NameError",
     "evalue": "name 'pd' is not defined",
     "output_type": "error",
     "traceback": [
      "\u001b[0;31m---------------------------------------------------------------------------\u001b[0m",
      "\u001b[0;31mNameError\u001b[0m                                 Traceback (most recent call last)",
      "Cell \u001b[0;32mIn[1], line 1\u001b[0m\n\u001b[0;32m----> 1\u001b[0m \u001b[38;5;28;01mdef\u001b[39;00m \u001b[38;5;21mclean_Smiles\u001b[39m(productSmiles: \u001b[38;5;28mstr\u001b[39m, Dataframe: \u001b[43mpd\u001b[49m\u001b[38;5;241m.\u001b[39mDataFrame):\n\u001b[1;32m      3\u001b[0m \u001b[38;5;250m    \u001b[39m\u001b[38;5;124;03m'''\u001b[39;00m\n\u001b[1;32m      4\u001b[0m \n\u001b[1;32m      5\u001b[0m \n\u001b[1;32m      6\u001b[0m \u001b[38;5;124;03m    '''\u001b[39;00m\n\u001b[1;32m      8\u001b[0m     Smiles_list \u001b[38;5;241m=\u001b[39m productSmiles\u001b[38;5;241m.\u001b[39msplit(\u001b[38;5;124m\"\u001b[39m\u001b[38;5;124m'\u001b[39m\u001b[38;5;124m, \u001b[39m\u001b[38;5;124m'\u001b[39m\u001b[38;5;124m\"\u001b[39m)\n",
      "\u001b[0;31mNameError\u001b[0m: name 'pd' is not defined"
     ]
    }
   ],
   "source": [
    "def clean_Smiles(productSmiles: str, Dataframe: pd.DataFrame):\n",
    "\n",
    "    '''\n",
    "\n",
    "\n",
    "    '''\n",
    "\n",
    "    Smiles_list = productSmiles.split(\"', '\")\n",
    "\n",
    "    special_characters = [',', ' ', \"'\"]\n",
    "\n",
    "    for Smiles in Smiles_list:\n",
    "\n",
    "        for char in special_characters:\n",
    "            Smiles = Smiles.replace(char, '')\n",
    "    \n",
    "    if len(Smiles_list) == 2:\n",
    "        Dataframe.loc[df['productSmiles'] == productSmiles, 'productSmiles'] = Smiles_list[0]\n",
    "        Dataframe['productSmiles_2'] = Smiles_list[1]\n",
    "    \n",
    "    else:\n",
    "        Dataframe.loc[df['productSmiles'] == productSmiles, 'productSmiles'] = Smiles_list[0]\n",
    "        Dataframe['productSmiles_2'] = np.NaN\n",
    "\n",
    "\n",
    "    return Dataframe\n"
   ]
  },
  {
   "cell_type": "code",
   "execution_count": 57,
   "metadata": {},
   "outputs": [
    {
     "ename": "TypeError",
     "evalue": "clean_Smiles() missing 1 required positional argument: 'Dataframe'",
     "output_type": "error",
     "traceback": [
      "\u001b[0;31m---------------------------------------------------------------------------\u001b[0m",
      "\u001b[0;31mTypeError\u001b[0m                                 Traceback (most recent call last)",
      "Cell \u001b[0;32mIn[57], line 1\u001b[0m\n\u001b[0;32m----> 1\u001b[0m \u001b[43mclean_Smiles\u001b[49m\u001b[43m(\u001b[49m\u001b[43mdf_test\u001b[49m\u001b[43m)\u001b[49m\n",
      "\u001b[0;31mTypeError\u001b[0m: clean_Smiles() missing 1 required positional argument: 'Dataframe'"
     ]
    }
   ],
   "source": [
    "df_test"
   ]
  },
  {
   "cell_type": "code",
   "execution_count": 132,
   "metadata": {},
   "outputs": [
    {
     "name": "stderr",
     "output_type": "stream",
     "text": [
      "[20:09:45] SMILES Parse Error: syntax error while parsing: COC1=CC=C(C=C1)[C@@H]1C[C@H](C1)C(=O)OC',\n",
      "[20:09:45] SMILES Parse Error: Failed parsing SMILES 'COC1=CC=C(C=C1)[C@@H]1C[C@H](C1)C(=O)OC',' for input: 'COC1=CC=C(C=C1)[C@@H]1C[C@H](C1)C(=O)OC','\n",
      "[20:09:45] SMILES Parse Error: syntax error while parsing: N1=CC(=CC=C1)C1=NC=C(C=N1)C1=CN=C(N1)C=1C=NC=CC1',\n",
      "[20:09:45] SMILES Parse Error: Failed parsing SMILES 'N1=CC(=CC=C1)C1=NC=C(C=N1)C1=CN=C(N1)C=1C=NC=CC1',' for input: 'N1=CC(=CC=C1)C1=NC=C(C=N1)C1=CN=C(N1)C=1C=NC=CC1','\n",
      "[20:09:45] SMILES Parse Error: syntax error while parsing: C(C1=CC=CC=C1)N1C(=NC=C1C1=C(N=C(S1)C1=CC=CC=C1)C)C=1C=NC=CC1',\n",
      "[20:09:45] SMILES Parse Error: Failed parsing SMILES 'C(C1=CC=CC=C1)N1C(=NC=C1C1=C(N=C(S1)C1=CC=CC=C1)C)C=1C=NC=CC1',' for input: 'C(C1=CC=CC=C1)N1C(=NC=C1C1=C(N=C(S1)C1=CC=CC=C1)C)C=1C=NC=CC1','\n",
      "[20:09:45] SMILES Parse Error: syntax error while parsing: CN1N=C(N=N1)C=1NC2=CC=CC=C2C1C1=CC=C(C=O)C=C1',\n",
      "[20:09:45] SMILES Parse Error: Failed parsing SMILES 'CN1N=C(N=N1)C=1NC2=CC=CC=C2C1C1=CC=C(C=O)C=C1',' for input: 'CN1N=C(N=N1)C=1NC2=CC=CC=C2C1C1=CC=C(C=O)C=C1','\n",
      "[20:09:45] SMILES Parse Error: syntax error while parsing: [Si](C)(C)(C(C)(C)C)O[C@H]1C[C@H](C[C@H]([C@@H]1O[Si](C)(C)C(C)(C)C)C)C1=C(C=NC=C1)N',\n",
      "[20:09:45] SMILES Parse Error: Failed parsing SMILES '[Si](C)(C)(C(C)(C)C)O[C@H]1C[C@H](C[C@H]([C@@H]1O[Si](C)(C)C(C)(C)C)C)C1=C(C=NC=C1)N',' for input: '[Si](C)(C)(C(C)(C)C)O[C@H]1C[C@H](C[C@H]([C@@H]1O[Si](C)(C)C(C)(C)C)C)C1=C(C=NC=C1)N','\n",
      "[20:09:45] SMILES Parse Error: syntax error while parsing: C(#CCCCCCCC)C=1C(=NNC1)C=1C=NC=CC1',\n",
      "[20:09:45] SMILES Parse Error: Failed parsing SMILES 'C(#CCCCCCCC)C=1C(=NNC1)C=1C=NC=CC1',' for input: 'C(#CCCCCCCC)C=1C(=NNC1)C=1C=NC=CC1','\n",
      "[20:09:45] SMILES Parse Error: syntax error while parsing: C(#CCCCCCCC)C=1C(=NNC1)C=1C=NC=CC1',\n",
      "[20:09:45] SMILES Parse Error: Failed parsing SMILES 'C(#CCCCCCCC)C=1C(=NNC1)C=1C=NC=CC1',' for input: 'C(#CCCCCCCC)C=1C(=NNC1)C=1C=NC=CC1','\n",
      "[20:09:45] SMILES Parse Error: syntax error while parsing: BrC1=CC=C(C(=N1)C1(NC1)C)F',\n",
      "[20:09:45] SMILES Parse Error: Failed parsing SMILES 'BrC1=CC=C(C(=N1)C1(NC1)C)F',' for input: 'BrC1=CC=C(C(=N1)C1(NC1)C)F','\n",
      "[20:09:45] SMILES Parse Error: syntax error while parsing: C(=O)(C(F)(F)F)O',\n",
      "[20:09:45] SMILES Parse Error: Failed parsing SMILES 'C(=O)(C(F)(F)F)O',' for input: 'C(=O)(C(F)(F)F)O','\n",
      "[20:09:45] SMILES Parse Error: syntax error while parsing: CN(CCCCC(=O)OC(CC\\\\C=C/CCCCC)C(CCC\\\\C=C/CCCCC)CCC\\\\C=C/CCCCC)C',\n",
      "[20:09:45] SMILES Parse Error: Failed parsing SMILES 'CN(CCCCC(=O)OC(CC\\\\C=C/CCCCC)C(CCC\\\\C=C/CCCCC)CCC\\\\C=C/CCCCC)C',' for input: 'CN(CCCCC(=O)OC(CC\\\\C=C/CCCCC)C(CCC\\\\C=C/CCCCC)CCC\\\\C=C/CCCCC)C','\n",
      "[20:09:45] SMILES Parse Error: syntax error while parsing: CC(=CCC/C(=C/CC/C(=C/C=O)/C)/C)C',\n",
      "[20:09:45] SMILES Parse Error: Failed parsing SMILES 'CC(=CCC/C(=C/CC/C(=C/C=O)/C)/C)C',' for input: 'CC(=CCC/C(=C/CC/C(=C/C=O)/C)/C)C','\n"
     ]
    },
    {
     "name": "stdout",
     "output_type": "stream",
     "text": [
      "Could not canonicalize SMILES for product at index 272, value is COC1=CC=C(C=C1)[C@@H]1C[C@H](C1)C(=O)OC', 'COC1=CC=C(C=C1)[C@H]1C[C@H](C1)C(=O)OC\n",
      "Could not canonicalize SMILES for product at index 393, value is N1=CC(=CC=C1)C1=NC=C(C=N1)C1=CN=C(N1)C=1C=NC=CC1', 'C(C1=CC=CC=C1)N1C(=NC=C1)C=1C=NC=CC1\n",
      "Could not canonicalize SMILES for product at index 406, value is C(C1=CC=CC=C1)N1C(=NC=C1C1=C(N=C(S1)C1=CC=CC=C1)C)C=1C=NC=CC1', 'C(C1=CC=CC=C1)N1C(=NC=C1)C=1C=NC=CC1\n",
      "Could not canonicalize SMILES for product at index 745, value is CN1N=C(N=N1)C=1NC2=CC=CC=C2C1C1=CC=C(C=O)C=C1', 'CN1NNN=C1C=1NC2=CC=CC=C2C1C1=CC=C(C=O)C=C1\n",
      "Could not canonicalize SMILES for product at index 1257, value is [Si](C)(C)(C(C)(C)C)O[C@H]1C[C@H](C[C@H]([C@@H]1O[Si](C)(C)C(C)(C)C)C)C1=C(C=NC=C1)N', '[Si](C)(C)(C(C)(C)C)O[C@@H]1C[C@@H](C[C@@H]([C@H]1O[Si](C)(C)C(C)(C)C)C)C1=C(C=NC=C1)N\n",
      "Could not canonicalize SMILES for product at index 1260, value is C(#CCCCCCCC)C=1C(=NNC1)C=1C=NC=CC1', 'C1(=CC=CC=C1)S(=O)(=O)N1N=C(C(=C1)C#CCCCCCCC)C=1C=NC=CC1\n",
      "Could not canonicalize SMILES for product at index 1261, value is C(#CCCCCCCC)C=1C(=NNC1)C=1C=NC=CC1', 'C1(=CC=CC=C1)S(=O)(=O)N1N=C(C(=C1)C#CCCCC1=CC=CC=C1)C=1C=NC=CC1\n",
      "Could not canonicalize SMILES for product at index 1488, value is BrC1=CC=C(C(=N1)C1(NC1)C)F', 'C=1C=CC(=CC1)P(=O)(C=2C=CC=CC2)C=3C=CC=CC3\n",
      "Could not canonicalize SMILES for product at index 1595, value is C(=O)(C(F)(F)F)O', 'O=C(CN1N=C(C2=CC=CC=C12)C(=O)N)N1[C@@H]2C[C@@H]2C[C@H]1C(NC1=NN(C=C1)CC(F)(F)F)=O\n",
      "Could not canonicalize SMILES for product at index 1624, value is CN(CCCCC(=O)OC(CC\\\\C=C/CCCCC)C(CCC\\\\C=C/CCCCC)CCC\\\\C=C/CCCCC)C', 'C(CC\\\\C=C/CCCCC)C(C(CC\\\\C=C/CCCCC)O)CCC\\\\C=C/CCCCC\n",
      "Could not canonicalize SMILES for product at index 1667, value is CC(=CCC/C(=C/CC/C(=C/C=O)/C)/C)C', 'CC(=CCC/C(=C/CC/C(=C\\\\C=O)/C)/C)C\n"
     ]
    },
    {
     "name": "stderr",
     "output_type": "stream",
     "text": [
      "[20:09:45] SMILES Parse Error: syntax error while parsing: C(C)(=O)O[C@@H](C=O)[C@@H](OC(C)=O)[C@H](OC(C)=O)[C@H](OC(C)=O)COC(C)=O',\n",
      "[20:09:45] SMILES Parse Error: Failed parsing SMILES 'C(C)(=O)O[C@@H](C=O)[C@@H](OC(C)=O)[C@H](OC(C)=O)[C@H](OC(C)=O)COC(C)=O',' for input: 'C(C)(=O)O[C@@H](C=O)[C@@H](OC(C)=O)[C@H](OC(C)=O)[C@H](OC(C)=O)COC(C)=O','\n",
      "[20:09:45] SMILES Parse Error: syntax error while parsing: C[C@]12CC[C@H]3[C@H]([C@@H]1[C@H]([C@H]([C@@H]2O)O)O)CCC4=C3C=CC(=C4)O',\n",
      "[20:09:45] SMILES Parse Error: Failed parsing SMILES 'C[C@]12CC[C@H]3[C@H]([C@@H]1[C@H]([C@H]([C@@H]2O)O)O)CCC4=C3C=CC(=C4)O',' for input: 'C[C@]12CC[C@H]3[C@H]([C@@H]1[C@H]([C@H]([C@@H]2O)O)O)CCC4=C3C=CC(=C4)O','\n",
      "[20:09:45] SMILES Parse Error: syntax error while parsing: BrC1=CC=C(C(=N1)C1(NC1)C)F',\n",
      "[20:09:45] SMILES Parse Error: Failed parsing SMILES 'BrC1=CC=C(C(=N1)C1(NC1)C)F',' for input: 'BrC1=CC=C(C(=N1)C1(NC1)C)F','\n",
      "[20:09:45] SMILES Parse Error: syntax error while parsing: ClC1=NC=CC(=N1)N1CCN(CC1)C=1C(=C(C2=C(CC(O2)(C)C)C1C)C)C',\n",
      "[20:09:45] SMILES Parse Error: Failed parsing SMILES 'ClC1=NC=CC(=N1)N1CCN(CC1)C=1C(=C(C2=C(CC(O2)(C)C)C1C)C)C',' for input: 'ClC1=NC=CC(=N1)N1CCN(CC1)C=1C(=C(C2=C(CC(O2)(C)C)C1C)C)C','\n",
      "[20:09:45] SMILES Parse Error: syntax error while parsing: C(C=CCC)(=O)O',\n",
      "[20:09:45] SMILES Parse Error: Failed parsing SMILES 'C(C=CCC)(=O)O',' for input: 'C(C=CCC)(=O)O','\n",
      "[20:09:45] SMILES Parse Error: syntax error while parsing: [Si](C)(C)(C(C)(C)C)O[C@H]1C[C@H](C[C@H]([C@@H]1O[Si](C)(C)C(C)(C)C)C)C1=C(C=NC=C1)N',\n",
      "[20:09:45] SMILES Parse Error: Failed parsing SMILES '[Si](C)(C)(C(C)(C)C)O[C@H]1C[C@H](C[C@H]([C@@H]1O[Si](C)(C)C(C)(C)C)C)C1=C(C=NC=C1)N',' for input: '[Si](C)(C)(C(C)(C)C)O[C@H]1C[C@H](C[C@H]([C@@H]1O[Si](C)(C)C(C)(C)C)C)C1=C(C=NC=C1)N','\n",
      "[20:09:45] SMILES Parse Error: syntax error while parsing: [Si](C)(C)(C(C)(C)C)O[C@H]([C@@H](C)N1C2=NC=NC(=C2N=C1)N)CCC1=CC=CC=C1',\n",
      "[20:09:45] SMILES Parse Error: Failed parsing SMILES '[Si](C)(C)(C(C)(C)C)O[C@H]([C@@H](C)N1C2=NC=NC(=C2N=C1)N)CCC1=CC=CC=C1',' for input: '[Si](C)(C)(C(C)(C)C)O[C@H]([C@@H](C)N1C2=NC=NC(=C2N=C1)N)CCC1=CC=CC=C1','\n",
      "[20:09:45] SMILES Parse Error: syntax error while parsing: [Si](C)(C)(C(C)(C)C)O[C@H]([C@@H](CCC1=CC=CC=C1)N1C2=NC=NC(=C2N=C1)N)C',\n",
      "[20:09:45] SMILES Parse Error: Failed parsing SMILES '[Si](C)(C)(C(C)(C)C)O[C@H]([C@@H](CCC1=CC=CC=C1)N1C2=NC=NC(=C2N=C1)N)C',' for input: '[Si](C)(C)(C(C)(C)C)O[C@H]([C@@H](CCC1=CC=CC=C1)N1C2=NC=NC(=C2N=C1)N)C','\n",
      "[20:09:45] SMILES Parse Error: syntax error while parsing: [Si](C)(C)(C(C)(C)C)O[C@@H](C)[C@@H](CCCCCC)N1C2=NC=NC(=C2N=C1)N',\n",
      "[20:09:45] SMILES Parse Error: Failed parsing SMILES '[Si](C)(C)(C(C)(C)C)O[C@@H](C)[C@@H](CCCCCC)N1C2=NC=NC(=C2N=C1)N',' for input: '[Si](C)(C)(C(C)(C)C)O[C@@H](C)[C@@H](CCCCCC)N1C2=NC=NC(=C2N=C1)N','\n",
      "[20:09:45] SMILES Parse Error: syntax error while parsing: [Si](C)(C)(C(C)(C)C)O[C@@H]([C@H](C)N1C2=NC=NC(=C2N=C1)N)CCCCCC',\n",
      "[20:09:45] SMILES Parse Error: Failed parsing SMILES '[Si](C)(C)(C(C)(C)C)O[C@@H]([C@H](C)N1C2=NC=NC(=C2N=C1)N)CCCCCC',' for input: '[Si](C)(C)(C(C)(C)C)O[C@@H]([C@H](C)N1C2=NC=NC(=C2N=C1)N)CCCCCC','\n",
      "[20:09:45] SMILES Parse Error: syntax error while parsing: [Si](C)(C)(C(C)(C)C)O[C@H](C)[C@H](CCCCCC)N1C2=NC=NC(=C2N=C1)N',\n",
      "[20:09:45] SMILES Parse Error: Failed parsing SMILES '[Si](C)(C)(C(C)(C)C)O[C@H](C)[C@H](CCCCCC)N1C2=NC=NC(=C2N=C1)N',' for input: '[Si](C)(C)(C(C)(C)C)O[C@H](C)[C@H](CCCCCC)N1C2=NC=NC(=C2N=C1)N','\n"
     ]
    },
    {
     "name": "stdout",
     "output_type": "stream",
     "text": [
      "Could not canonicalize SMILES for product at index 1728, value is C(C)(=O)O[C@@H](C=O)[C@@H](OC(C)=O)[C@H](OC(C)=O)[C@H](OC(C)=O)COC(C)=O', '[Br-]\n",
      "Could not canonicalize SMILES for product at index 1805, value is C[C@]12CC[C@H]3[C@H]([C@@H]1[C@H]([C@H]([C@@H]2O)O)O)CCC4=C3C=CC(=C4)O', 'C[C@]12CC[C@@H]3C=4C=CC(=CC4CC[C@H]3[C@@H]1CCC2=O)O\n",
      "Could not canonicalize SMILES for product at index 2288, value is BrC1=CC=C(C(=N1)C1(NC1)C)F', 'C=1C=CC(=CC1)P(=O)(C=2C=CC=CC2)C=3C=CC=CC3\n",
      "Could not canonicalize SMILES for product at index 2714, value is ClC1=NC=CC(=N1)N1CCN(CC1)C=1C(=C(C2=C(CC(O2)(C)C)C1C)C)C', 'ClC1=NC(=NC=C1)N1CCN(CC1)C=1C(=C(C2=C(CC(O2)(C)C)C1C)C)C\n",
      "Could not canonicalize SMILES for product at index 2976, value is C(C=CCC)(=O)O', 'COC=1C(=C(C=CC1)C=CCCC(=O)O)[N+](=O)[O-]\n",
      "Could not canonicalize SMILES for product at index 3004, value is [Si](C)(C)(C(C)(C)C)O[C@H]1C[C@H](C[C@H]([C@@H]1O[Si](C)(C)C(C)(C)C)C)C1=C(C=NC=C1)N', '[Si](C)(C)(C(C)(C)C)O[C@@H]1C[C@@H](C[C@@H]([C@H]1O[Si](C)(C)C(C)(C)C)C)C1=C(C=NC=C1)N\n",
      "Could not canonicalize SMILES for product at index 3269, value is [Si](C)(C)(C(C)(C)C)O[C@H]([C@@H](C)N1C2=NC=NC(=C2N=C1)N)CCC1=CC=CC=C1', '[Si](C)(C)(C(C)(C)C)O[C@H]([C@@H](C)N1C2=NC=NC(=C2N=C1)OC)CCC1=CC=CC=C1\n",
      "Could not canonicalize SMILES for product at index 3270, value is [Si](C)(C)(C(C)(C)C)O[C@H]([C@@H](CCC1=CC=CC=C1)N1C2=NC=NC(=C2N=C1)N)C', '[Si](C)(C)(C(C)(C)C)O[C@H]([C@@H](CCC1=CC=CC=C1)N1C2=NC=NC(=C2N=C1)OC)C\n",
      "Could not canonicalize SMILES for product at index 3271, value is [Si](C)(C)(C(C)(C)C)O[C@@H](C)[C@@H](CCCCCC)N1C2=NC=NC(=C2N=C1)N', '[Si](C)(C)(C(C)(C)C)O[C@@H](C)[C@@H](CCCCCC)N1C2=NC=NC(=C2N=C1)OC\n",
      "Could not canonicalize SMILES for product at index 3272, value is [Si](C)(C)(C(C)(C)C)O[C@@H]([C@H](C)N1C2=NC=NC(=C2N=C1)N)CCCCCC', '[Si](C)(C)(C(C)(C)C)O[C@@H]([C@H](C)N1C2=NC=NC(=C2N=C1)OC)CCCCCC\n",
      "Could not canonicalize SMILES for product at index 3273, value is [Si](C)(C)(C(C)(C)C)O[C@H](C)[C@H](CCCCCC)N1C2=NC=NC(=C2N=C1)N', 'COC1=C2N=CNC2=NC=N1\n"
     ]
    },
    {
     "name": "stderr",
     "output_type": "stream",
     "text": [
      "[20:09:45] SMILES Parse Error: syntax error while parsing: C(C)(=O)C1=C(C=C(C=C1)Br)OS(=O)(=O)C',\n",
      "[20:09:45] SMILES Parse Error: Failed parsing SMILES 'C(C)(=O)C1=C(C=C(C=C1)Br)OS(=O)(=O)C',' for input: 'C(C)(=O)C1=C(C=C(C=C1)Br)OS(=O)(=O)C','\n",
      "[20:09:46] SMILES Parse Error: syntax error while parsing: C(C)(=O)C1=C(C=C(C=C1)Br)OS(=O)(=O)C',\n",
      "[20:09:46] SMILES Parse Error: Failed parsing SMILES 'C(C)(=O)C1=C(C=C(C=C1)Br)OS(=O)(=O)C',' for input: 'C(C)(=O)C1=C(C=C(C=C1)Br)OS(=O)(=O)C','\n",
      "[20:09:46] SMILES Parse Error: syntax error while parsing: C12C(C3CC(CC(C1)C3)C2)N2C(N(C(C2)C(C)C)CC(C)C)=O',\n",
      "[20:09:46] SMILES Parse Error: Failed parsing SMILES 'C12C(C3CC(CC(C1)C3)C2)N2C(N(C(C2)C(C)C)CC(C)C)=O',' for input: 'C12C(C3CC(CC(C1)C3)C2)N2C(N(C(C2)C(C)C)CC(C)C)=O','\n"
     ]
    },
    {
     "name": "stdout",
     "output_type": "stream",
     "text": [
      "Could not canonicalize SMILES for product at index 3645, value is C(C)(=O)C1=C(C=C(C=C1)Br)OS(=O)(=O)C', 'C(C)(C)OC(C)C\n",
      "Could not canonicalize SMILES for product at index 4406, value is C(C)(=O)C1=C(C=C(C=C1)Br)OS(=O)(=O)C', 'C(C)(C)OC(C)C\n",
      "Could not canonicalize SMILES for product at index 4640, value is C12C(C3CC(CC(C1)C3)C2)N2C(N(C(C2)C(C)C)CC(C)C)=O', 'C12C(C3CC(CC(C1)C3)C2)N2C(N(C(C2)C(C)C)CC2CC2)=O\n"
     ]
    },
    {
     "name": "stderr",
     "output_type": "stream",
     "text": [
      "[20:09:46] SMILES Parse Error: syntax error while parsing: NO',\n",
      "[20:09:46] SMILES Parse Error: Failed parsing SMILES 'NO',' for input: 'NO','\n",
      "[20:09:46] SMILES Parse Error: syntax error while parsing: ClC1=C(C=C(C=C1)O)C1=CC2=C(N=C(N=N2)NC2=CC=C(C=C2)OCCN2CCCC2)C=C1Cl',\n",
      "[20:09:46] SMILES Parse Error: Failed parsing SMILES 'ClC1=C(C=C(C=C1)O)C1=CC2=C(N=C(N=N2)NC2=CC=C(C=C2)OCCN2CCCC2)C=C1Cl',' for input: 'ClC1=C(C=C(C=C1)O)C1=CC2=C(N=C(N=N2)NC2=CC=C(C=C2)OCCN2CCCC2)C=C1Cl','\n",
      "[20:09:46] SMILES Parse Error: syntax error while parsing: BrC=1C=C(C(=NC1)I)OCOCCOC',\n",
      "[20:09:46] SMILES Parse Error: Failed parsing SMILES 'BrC=1C=C(C(=NC1)I)OCOCCOC',' for input: 'BrC=1C=C(C(=NC1)I)OCOCCOC','\n",
      "[20:09:46] SMILES Parse Error: syntax error while parsing: BrC1=CC=C(C[C@@H]2CS(C[C@@H]3N(C(O[C@H]23)=O)C2(CC2)C2=CC(=CC=C2)C(C)(C)C)(=O)=O)C=C1',\n",
      "[20:09:46] SMILES Parse Error: Failed parsing SMILES 'BrC1=CC=C(C[C@@H]2CS(C[C@@H]3N(C(O[C@H]23)=O)C2(CC2)C2=CC(=CC=C2)C(C)(C)C)(=O)=O)C=C1',' for input: 'BrC1=CC=C(C[C@@H]2CS(C[C@@H]3N(C(O[C@H]23)=O)C2(CC2)C2=CC(=CC=C2)C(C)(C)C)(=O)=O)C=C1','\n",
      "[20:09:46] SMILES Parse Error: syntax error while parsing: COCCCN1N=C(C2=CC=C(C=C12)\\\\C=C(\\\\CO)/C(C)C)C',\n",
      "[20:09:46] SMILES Parse Error: Failed parsing SMILES 'COCCCN1N=C(C2=CC=C(C=C12)\\\\C=C(\\\\CO)/C(C)C)C',' for input: 'COCCCN1N=C(C2=CC=C(C=C12)\\\\C=C(\\\\CO)/C(C)C)C','\n",
      "[20:09:46] SMILES Parse Error: syntax error while parsing: C(#CCCCCCCC)C=1C(=NNC1)C=1C=NC=CC1',\n",
      "[20:09:46] SMILES Parse Error: Failed parsing SMILES 'C(#CCCCCCCC)C=1C(=NNC1)C=1C=NC=CC1',' for input: 'C(#CCCCCCCC)C=1C(=NNC1)C=1C=NC=CC1','\n",
      "[20:09:46] SMILES Parse Error: syntax error while parsing: C(C1=CC=CC=C1)=O',\n",
      "[20:09:46] SMILES Parse Error: Failed parsing SMILES 'C(C1=CC=CC=C1)=O',' for input: 'C(C1=CC=CC=C1)=O','\n",
      "[20:09:46] SMILES Parse Error: syntax error while parsing: C(C1=CC=CC=C1)=O',\n",
      "[20:09:46] SMILES Parse Error: Failed parsing SMILES 'C(C1=CC=CC=C1)=O',' for input: 'C(C1=CC=CC=C1)=O','\n",
      "[20:09:46] SMILES Parse Error: syntax error while parsing: C1(CCCC1)N1C2=C(N(C(C(C1)(F)F)=O)C)C=NC(=N2)NC2=C(C=C(C(=O)N[C@@H]1CC[C@@H](CC1)N1CCN(CC1)CC1CC1)C=C2)OC',\n",
      "[20:09:46] SMILES Parse Error: Failed parsing SMILES 'C1(CCCC1)N1C2=C(N(C(C(C1)(F)F)=O)C)C=NC(=N2)NC2=C(C=C(C(=O)N[C@@H]1CC[C@@H](CC1)N1CCN(CC1)CC1CC1)C=C2)OC',' for input: 'C1(CCCC1)N1C2=C(N(C(C(C1)(F)F)=O)C)C=NC(=N2)NC2=C(C=C(C(=O)N[C@@H]1CC[C@@H](CC1)N1CCN(CC1)CC1CC1)C=C2)OC','\n",
      "[20:09:46] SMILES Parse Error: syntax error while parsing: CS(=O)(=O)OC1=C(C(=CC=C1OC)Br)C=O',\n",
      "[20:09:46] SMILES Parse Error: Failed parsing SMILES 'CS(=O)(=O)OC1=C(C(=CC=C1OC)Br)C=O',' for input: 'CS(=O)(=O)OC1=C(C(=CC=C1OC)Br)C=O','\n",
      "[20:09:46] SMILES Parse Error: syntax error while parsing: C(C)(C)(C)OC(=O)NCCSSCCN',\n",
      "[20:09:46] SMILES Parse Error: Failed parsing SMILES 'C(C)(C)(C)OC(=O)NCCSSCCN',' for input: 'C(C)(C)(C)OC(=O)NCCSSCCN','\n"
     ]
    },
    {
     "name": "stdout",
     "output_type": "stream",
     "text": [
      "Could not canonicalize SMILES for product at index 6974, value is NO', 'ClC=1C=C2C(=C(N(C2=CC1Cl)[C@H]1[C@H](O)[C@H](O)[C@H](O1)CO)Br)C(N)=NO\n",
      "Could not canonicalize SMILES for product at index 7120, value is ClC1=C(C=C(C=C1)O)C1=CC2=C(N=C(N=N2)NC2=CC=C(C=C2)OCCN2CCCC2)C=C1Cl', 'ClC=1C(=CC2=C(N=C(N=N2)NC2=CC=C(C=C2)OCCN2CCCC2)C1)C1=C(C=CC(=C1)OC)Cl\n",
      "Could not canonicalize SMILES for product at index 7128, value is BrC=1C=C(C(=NC1)I)OCOCCOC', 'BrC=1C=C(C(=NC1)Cl)OCOCCOC\n",
      "Could not canonicalize SMILES for product at index 7498, value is BrC1=CC=C(C[C@@H]2CS(C[C@@H]3N(C(O[C@H]23)=O)C2(CC2)C2=CC(=CC=C2)C(C)(C)C)(=O)=O)C=C1', 'N\n",
      "Could not canonicalize SMILES for product at index 7540, value is COCCCN1N=C(C2=CC=C(C=C12)\\\\C=C(\\\\CO)/C(C)C)C', 'N\n",
      "Could not canonicalize SMILES for product at index 7763, value is C(#CCCCCCCC)C=1C(=NNC1)C=1C=NC=CC1', 'C1(=CC=CC=C1)S(=O)(=O)N1N=C(C(=C1)C#CCCCC1=CC=CC=C1)C=1C=NC=CC1\n",
      "Could not canonicalize SMILES for product at index 7965, value is C(C1=CC=CC=C1)=O', 'C(=O)C1=C(OC2=CC=C(C(=O)OCC)C=C2)C=CC=C1\n",
      "Could not canonicalize SMILES for product at index 7966, value is C(C1=CC=CC=C1)=O', 'C(=O)C=1C=C(OC=2C=C(C(=O)OCC)C=CC2)C=CC1\n",
      "Could not canonicalize SMILES for product at index 8109, value is C1(CCCC1)N1C2=C(N(C(C(C1)(F)F)=O)C)C=NC(=N2)NC2=C(C=C(C(=O)N[C@@H]1CC[C@@H](CC1)N1CCN(CC1)CC1CC1)C=C2)OC', 'C1(CCCC1)N1C2=C(N(C(C(C1)(F)F)=O)C)C=NC(=N2)NC2=C(C=C(C(=O)N[C@@H]1CC[C@H](CC1)N1CCN(CC1)CC1CC1)C=C2)OC\n",
      "Could not canonicalize SMILES for product at index 8269, value is CS(=O)(=O)OC1=C(C(=CC=C1OC)Br)C=O', 'BrC1=CC=C(C2=C1C=CS(O2)(=O)=O)OC\n",
      "Could not canonicalize SMILES for product at index 8294, value is C(C)(C)(C)OC(=O)NCCSSCCN', 'Cl\n"
     ]
    },
    {
     "name": "stderr",
     "output_type": "stream",
     "text": [
      "[20:09:46] SMILES Parse Error: syntax error while parsing: C1(=CC=CC=C1)C1=NC=C(C=N1)C1=CN=C(N1)C=1C=NC=CC1',\n",
      "[20:09:46] SMILES Parse Error: Failed parsing SMILES 'C1(=CC=CC=C1)C1=NC=C(C=N1)C1=CN=C(N1)C=1C=NC=CC1',' for input: 'C1(=CC=CC=C1)C1=NC=C(C=N1)C1=CN=C(N1)C=1C=NC=CC1','\n",
      "[20:09:46] SMILES Parse Error: syntax error while parsing: N1=CC(=CC=C1)C1=NC=C(C=N1)C1=CN=C(N1)C=1C=NC=CC1',\n",
      "[20:09:46] SMILES Parse Error: Failed parsing SMILES 'N1=CC(=CC=C1)C1=NC=C(C=N1)C1=CN=C(N1)C=1C=NC=CC1',' for input: 'N1=CC(=CC=C1)C1=NC=C(C=N1)C1=CN=C(N1)C=1C=NC=CC1','\n",
      "[20:09:46] SMILES Parse Error: syntax error while parsing: C(C1=CC=CC=C1)N1C(=NC=C1C1=C(N=C(S1)C1=CC=CC=C1)C)C=1C=NC=CC1',\n",
      "[20:09:46] SMILES Parse Error: Failed parsing SMILES 'C(C1=CC=CC=C1)N1C(=NC=C1C1=C(N=C(S1)C1=CC=CC=C1)C)C=1C=NC=CC1',' for input: 'C(C1=CC=CC=C1)N1C(=NC=C1C1=C(N=C(S1)C1=CC=CC=C1)C)C=1C=NC=CC1','\n",
      "[20:09:46] SMILES Parse Error: syntax error while parsing: BrC1=NC(=CC=C1)CN1N=NC=C1',\n",
      "[20:09:46] SMILES Parse Error: Failed parsing SMILES 'BrC1=NC(=CC=C1)CN1N=NC=C1',' for input: 'BrC1=NC(=CC=C1)CN1N=NC=C1','\n",
      "[20:09:46] SMILES Parse Error: syntax error while parsing: COC1=CC=C(CN2N=C(C=3C2=NC=CC3OC3=C(C=C(C=C3)N(C(=O)C3(CC3)C(=O)N)C3=CC=C(C=C3)F)F)C=3OC(=CC3Br)CN3CCN(CC3)C)C=C1',\n",
      "[20:09:46] SMILES Parse Error: Failed parsing SMILES 'COC1=CC=C(CN2N=C(C=3C2=NC=CC3OC3=C(C=C(C=C3)N(C(=O)C3(CC3)C(=O)N)C3=CC=C(C=C3)F)F)C=3OC(=CC3Br)CN3CCN(CC3)C)C=C1',' for input: 'COC1=CC=C(CN2N=C(C=3C2=NC=CC3OC3=C(C=C(C=C3)N(C(=O)C3(CC3)C(=O)N)C3=CC=C(C=C3)F)F)C=3OC(=CC3Br)CN3CCN(CC3)C)C=C1','\n",
      "[20:09:46] SMILES Parse Error: syntax error while parsing: NC(C#N)(CN1N=C2C(N=C(C=C2)Br)=C1)C',\n",
      "[20:09:46] SMILES Parse Error: Failed parsing SMILES 'NC(C#N)(CN1N=C2C(N=C(C=C2)Br)=C1)C',' for input: 'NC(C#N)(CN1N=C2C(N=C(C=C2)Br)=C1)C','\n",
      "[20:09:46] SMILES Parse Error: syntax error while parsing: C(C)(C)(C)OC(N[C@@H](CC1=CC=C(C=C1)N)[C@H]1CN(C(O1)=O)C1(CC1)C1=CC(=CC=C1)C(C)(C)C)=O',\n",
      "[20:09:46] SMILES Parse Error: Failed parsing SMILES 'C(C)(C)(C)OC(N[C@@H](CC1=CC=C(C=C1)N)[C@H]1CN(C(O1)=O)C1(CC1)C1=CC(=CC=C1)C(C)(C)C)=O',' for input: 'C(C)(C)(C)OC(N[C@@H](CC1=CC=C(C=C1)N)[C@H]1CN(C(O1)=O)C1(CC1)C1=CC(=CC=C1)C(C)(C)C)=O','\n",
      "[20:09:46] SMILES Parse Error: syntax error while parsing: C(C)(C)(C)OC(N[C@@H](CC1=CC=C(C=C1)NC=1C=C(C=CC1)C1=CC=CC=C1)[C@H]1CN(C(O1)=O)C1(CC1)C1=CC(=CC=C1)C(C)(C)C)=O',\n",
      "[20:09:46] SMILES Parse Error: Failed parsing SMILES 'C(C)(C)(C)OC(N[C@@H](CC1=CC=C(C=C1)NC=1C=C(C=CC1)C1=CC=CC=C1)[C@H]1CN(C(O1)=O)C1(CC1)C1=CC(=CC=C1)C(C)(C)C)=O',' for input: 'C(C)(C)(C)OC(N[C@@H](CC1=CC=C(C=C1)NC=1C=C(C=CC1)C1=CC=CC=C1)[C@H]1CN(C(O1)=O)C1(CC1)C1=CC(=CC=C1)C(C)(C)C)=O','\n",
      "[20:09:46] SMILES Parse Error: syntax error while parsing: C(CC)N(CCCCNC(=O)C1=NC2=CC=C(C=C2N=C1)I)CCC',\n",
      "[20:09:46] SMILES Parse Error: Failed parsing SMILES 'C(CC)N(CCCCNC(=O)C1=NC2=CC=C(C=C2N=C1)I)CCC',' for input: 'C(CC)N(CCCCNC(=O)C1=NC2=CC=C(C=C2N=C1)I)CCC','\n",
      "[20:09:46] SMILES Parse Error: syntax error while parsing: NO',\n",
      "[20:09:46] SMILES Parse Error: Failed parsing SMILES 'NO',' for input: 'NO','\n"
     ]
    },
    {
     "name": "stdout",
     "output_type": "stream",
     "text": [
      "Could not canonicalize SMILES for product at index 8538, value is C1(=CC=CC=C1)C1=NC=C(C=N1)C1=CN=C(N1)C=1C=NC=CC1', 'C(C1=CC=CC=C1)N1C(=NC=C1)C=1C=NC=CC1\n",
      "Could not canonicalize SMILES for product at index 8540, value is N1=CC(=CC=C1)C1=NC=C(C=N1)C1=CN=C(N1)C=1C=NC=CC1', 'C(C1=CC=CC=C1)N1C(=NC=C1)C=1C=NC=CC1\n",
      "Could not canonicalize SMILES for product at index 8557, value is C(C1=CC=CC=C1)N1C(=NC=C1C1=C(N=C(S1)C1=CC=CC=C1)C)C=1C=NC=CC1', 'C(C1=CC=CC=C1)N1C(=NC=C1)C=1C=NC=CC1\n",
      "Could not canonicalize SMILES for product at index 8603, value is BrC1=NC(=CC=C1)CN1N=NC=C1', 'BrC1=NC(=CC=C1)CN1N=CC=N1\n",
      "Could not canonicalize SMILES for product at index 8612, value is COC1=CC=C(CN2N=C(C=3C2=NC=CC3OC3=C(C=C(C=C3)N(C(=O)C3(CC3)C(=O)N)C3=CC=C(C=C3)F)F)C=3OC(=CC3Br)CN3CCN(CC3)C)C=C1', 'COC1=CC=C(CN2N=C(C=3C2=NC=CC3OC3=C(C=C(C=C3)N(C(=O)C3(CC3)C(=O)N)C3=CC=C(C=C3)F)F)C3=COC(=C3)CN3CCN(CC3)C)C=C1\n",
      "Could not canonicalize SMILES for product at index 8644, value is NC(C#N)(CN1N=C2C(N=C(C=C2)Br)=C1)C', 'BrC=1C=CC=2C(N1)=CN(N2)CC(C)=O', 'BrC1=CC=C2C(=N1)C=NN2', 'NC=1C(=NC(=CC1)Br)C\n",
      "Could not canonicalize SMILES for product at index 9336, value is C(C)(C)(C)OC(N[C@@H](CC1=CC=C(C=C1)N)[C@H]1CN(C(O1)=O)C1(CC1)C1=CC(=CC=C1)C(C)(C)C)=O', 'N\n",
      "Could not canonicalize SMILES for product at index 9337, value is C(C)(C)(C)OC(N[C@@H](CC1=CC=C(C=C1)NC=1C=C(C=CC1)C1=CC=CC=C1)[C@H]1CN(C(O1)=O)C1(CC1)C1=CC(=CC=C1)C(C)(C)C)=O', 'N\n",
      "Could not canonicalize SMILES for product at index 9729, value is C(CC)N(CCCCNC(=O)C1=NC2=CC=C(C=C2N=C1)I)CCC', 'IC=1C=C2N=CC(=NC2=CC1)C(=O)OCC\n",
      "Could not canonicalize SMILES for product at index 10129, value is NO', 'ClC=1C=C2C(=C(N(C2=CC1Cl)[C@H]1[C@H](O)[C@H](O)[C@H](O1)CO)Br)C(N)=NO\n"
     ]
    },
    {
     "name": "stderr",
     "output_type": "stream",
     "text": [
      "[20:09:46] SMILES Parse Error: syntax error while parsing: ClC1=C(C=C(C=C1)O)C1=CC2=C(N=C(N=N2)NC2=CC=C(C=C2)OCCN2CCCC2)C=C1Cl',\n",
      "[20:09:46] SMILES Parse Error: Failed parsing SMILES 'ClC1=C(C=C(C=C1)O)C1=CC2=C(N=C(N=N2)NC2=CC=C(C=C2)OCCN2CCCC2)C=C1Cl',' for input: 'ClC1=C(C=C(C=C1)O)C1=CC2=C(N=C(N=N2)NC2=CC=C(C=C2)OCCN2CCCC2)C=C1Cl','\n",
      "[20:09:47] SMILES Parse Error: syntax error while parsing: CC=1NC=C(C1CC1=C(C=CC=C1)S(=O)(=O)N1CCCC1)C',\n",
      "[20:09:47] SMILES Parse Error: Failed parsing SMILES 'CC=1NC=C(C1CC1=C(C=CC=C1)S(=O)(=O)N1CCCC1)C',' for input: 'CC=1NC=C(C1CC1=C(C=CC=C1)S(=O)(=O)N1CCCC1)C','\n",
      "[20:09:47] SMILES Parse Error: syntax error while parsing: ClC1=C(C=C(C=C1)O)C1=CC2=C(N=C(N=N2)NC2=CC=C(C=C2)OCCN2CCCC2)C=C1Cl',\n",
      "[20:09:47] SMILES Parse Error: Failed parsing SMILES 'ClC1=C(C=C(C=C1)O)C1=CC2=C(N=C(N=N2)NC2=CC=C(C=C2)OCCN2CCCC2)C=C1Cl',' for input: 'ClC1=C(C=C(C=C1)O)C1=CC2=C(N=C(N=N2)NC2=CC=C(C=C2)OCCN2CCCC2)C=C1Cl','\n",
      "[20:09:47] SMILES Parse Error: syntax error while parsing: C(C1=CC=CC=C1)C=1C(=NC=C(N1)C1=CC=C(C=C1)O)NS(=O)(=O)C1=CC=C(C=C1)C',\n",
      "[20:09:47] SMILES Parse Error: Failed parsing SMILES 'C(C1=CC=CC=C1)C=1C(=NC=C(N1)C1=CC=C(C=C1)O)NS(=O)(=O)C1=CC=C(C=C1)C',' for input: 'C(C1=CC=CC=C1)C=1C(=NC=C(N1)C1=CC=C(C=C1)O)NS(=O)(=O)C1=CC=C(C=C1)C','\n",
      "[20:09:47] SMILES Parse Error: syntax error while parsing: C(C1=CC=CC=C1)OC=1C(=NC(=NC1C)C[C@@H]1OC[C@H](CO1)C1=CC=C(C=C1)F)C(=O)NCC(=O)OCC',\n",
      "[20:09:47] SMILES Parse Error: Failed parsing SMILES 'C(C1=CC=CC=C1)OC=1C(=NC(=NC1C)C[C@@H]1OC[C@H](CO1)C1=CC=C(C=C1)F)C(=O)NCC(=O)OCC',' for input: 'C(C1=CC=CC=C1)OC=1C(=NC(=NC1C)C[C@@H]1OC[C@H](CO1)C1=CC=C(C=C1)F)C(=O)NCC(=O)OCC','\n",
      "[20:09:47] SMILES Parse Error: syntax error while parsing: C(C)(C)OC=1C=C(C(=O)N(C)OC)C=C(C1)OC(C)C',\n",
      "[20:09:47] SMILES Parse Error: Failed parsing SMILES 'C(C)(C)OC=1C=C(C(=O)N(C)OC)C=C(C1)OC(C)C',' for input: 'C(C)(C)OC=1C=C(C(=O)N(C)OC)C=C(C1)OC(C)C','\n",
      "[20:09:47] SMILES Parse Error: syntax error while parsing: N=1N=C(N2C1C=CC=C2)C2=NC1=C(C=CC=C1C=C2)N2CC(CCC2)C',\n",
      "[20:09:47] SMILES Parse Error: Failed parsing SMILES 'N=1N=C(N2C1C=CC=C2)C2=NC1=C(C=CC=C1C=C2)N2CC(CCC2)C',' for input: 'N=1N=C(N2C1C=CC=C2)C2=NC1=C(C=CC=C1C=C2)N2CC(CCC2)C','\n",
      "[20:09:47] SMILES Parse Error: syntax error while parsing: O([C@H]1[C@H](O)[C@H](O)[C@@H](O)[C@@H](O1)C)C',\n",
      "[20:09:47] SMILES Parse Error: Failed parsing SMILES 'O([C@H]1[C@H](O)[C@H](O)[C@@H](O)[C@@H](O1)C)C',' for input: 'O([C@H]1[C@H](O)[C@H](O)[C@@H](O)[C@@H](O1)C)C','\n",
      "[20:09:47] SMILES Parse Error: syntax error while parsing: C(C)(=O)O[C@@H](C=O)[C@@H](OC(C)=O)[C@H](OC(C)=O)[C@H](OC(C)=O)COC(C)=O',\n",
      "[20:09:47] SMILES Parse Error: Failed parsing SMILES 'C(C)(=O)O[C@@H](C=O)[C@@H](OC(C)=O)[C@H](OC(C)=O)[C@H](OC(C)=O)COC(C)=O',' for input: 'C(C)(=O)O[C@@H](C=O)[C@@H](OC(C)=O)[C@H](OC(C)=O)[C@H](OC(C)=O)COC(C)=O','\n",
      "[20:09:47] SMILES Parse Error: syntax error while parsing: C=1C2=C(OC1C(=O)O)C=CC1=CC=CC=C12',\n",
      "[20:09:47] SMILES Parse Error: Failed parsing SMILES 'C=1C2=C(OC1C(=O)O)C=CC1=CC=CC=C12',' for input: 'C=1C2=C(OC1C(=O)O)C=CC1=CC=CC=C12','\n",
      "[20:09:47] SMILES Parse Error: syntax error while parsing: ClC1=CC=C(C=C1)C1N(C(C=2N(N=C(C21)C)C2COC2)=O)C=2C=C(C=1N(C2)C(=NN1)C)C',\n",
      "[20:09:47] SMILES Parse Error: Failed parsing SMILES 'ClC1=CC=C(C=C1)C1N(C(C=2N(N=C(C21)C)C2COC2)=O)C=2C=C(C=1N(C2)C(=NN1)C)C',' for input: 'ClC1=CC=C(C=C1)C1N(C(C=2N(N=C(C21)C)C2COC2)=O)C=2C=C(C=1N(C2)C(=NN1)C)C','\n",
      "[20:09:47] SMILES Parse Error: syntax error while parsing: ClC1=CC=C(C=C1)C1=NC2=CC=CC=C2C(=C1)C(O)C1NCCCC1',\n",
      "[20:09:47] SMILES Parse Error: Failed parsing SMILES 'ClC1=CC=C(C=C1)C1=NC2=CC=CC=C2C(=C1)C(O)C1NCCCC1',' for input: 'ClC1=CC=C(C=C1)C1=NC2=CC=CC=C2C(=C1)C(O)C1NCCCC1','\n"
     ]
    },
    {
     "name": "stdout",
     "output_type": "stream",
     "text": [
      "Could not canonicalize SMILES for product at index 10181, value is ClC1=C(C=C(C=C1)O)C1=CC2=C(N=C(N=N2)NC2=CC=C(C=C2)OCCN2CCCC2)C=C1Cl', 'ClC=1C(=CC2=C(N=C(N=N2)NC2=CC=C(C=C2)OCCN2CCCC2)C1)C1=C(C=CC(=C1)OC)Cl\n",
      "Could not canonicalize SMILES for product at index 10343, value is CC=1NC=C(C1CC1=C(C=CC=C1)S(=O)(=O)N1CCCC1)C', 'CC1=C(NC(=C1)C)CC1=C(C=CC=C1)S(=O)(=O)N1CCCC1\n",
      "Could not canonicalize SMILES for product at index 10641, value is ClC1=C(C=C(C=C1)O)C1=CC2=C(N=C(N=N2)NC2=CC=C(C=C2)OCCN2CCCC2)C=C1Cl', 'ClC=1C(=CC2=C(N=C(N=N2)NC2=CC=C(C=C2)OCCN2CCCC2)C1)C1=C(C=CC(=C1)OC)Cl\n",
      "Could not canonicalize SMILES for product at index 10770, value is C(C1=CC=CC=C1)C=1C(=NC=C(N1)C1=CC=C(C=C1)O)NS(=O)(=O)C1=CC=C(C=C1)C', 'CC1=CC=C(C=C1)S(=O)(=O)N\n",
      "Could not canonicalize SMILES for product at index 11035, value is C(C1=CC=CC=C1)OC=1C(=NC(=NC1C)C[C@@H]1OC[C@H](CO1)C1=CC=C(C=C1)F)C(=O)NCC(=O)OCC', 'C(C1=CC=CC=C1)OC=1C(=NC(=NC1C)C[C@@H]1OC[C@@H](CO1)C1=CC=C(C=C1)F)C(=O)NCC(=O)OCC\n",
      "Could not canonicalize SMILES for product at index 11101, value is C(C)(C)OC=1C=C(C(=O)N(C)OC)C=C(C1)OC(C)C', 'OC=1C=C(C(=O)O)C=C(C1)O\n",
      "Could not canonicalize SMILES for product at index 11226, value is N=1N=C(N2C1C=CC=C2)C2=NC1=C(C=CC=C1C=C2)N2CC(CCC2)C', '[O-]S(=O)(=O)C(F)(F)F\n",
      "Could not canonicalize SMILES for product at index 11251, value is O([C@H]1[C@H](O)[C@H](O)[C@@H](O)[C@@H](O1)C)C', 'O([C@@H]1[C@H](O)[C@H](O)[C@@H](O)[C@@H](O1)C)C\n",
      "Could not canonicalize SMILES for product at index 11354, value is C(C)(=O)O[C@@H](C=O)[C@@H](OC(C)=O)[C@H](OC(C)=O)[C@H](OC(C)=O)COC(C)=O', '[Br-]\n",
      "Could not canonicalize SMILES for product at index 11647, value is C=1C2=C(OC1C(=O)O)C=CC1=CC=CC=C12', 'C(C)C=1C2=C(OC1C(=O)O)C=CC1=CC=CC=C12\n",
      "Could not canonicalize SMILES for product at index 11854, value is ClC1=CC=C(C=C1)C1N(C(C=2N(N=C(C21)C)C2COC2)=O)C=2C=C(C=1N(C2)C(=NN1)C)C', 'ClC1=CC=C(C=C1)C1N(C(C2=NN(C(=C21)C)C2COC2)=O)C=2C=C(C=1N(C2)C(=NN1)C)C\n",
      "Could not canonicalize SMILES for product at index 11898, value is ClC1=CC=C(C=C1)C1=NC2=CC=CC=C2C(=C1)C(O)C1NCCCC1', 'C1CCN[C@@H](C1)[C@H](C2=CC(=NC3=CC=CC=C32)C4=CC=C(C=C4)Cl)O\n"
     ]
    },
    {
     "name": "stderr",
     "output_type": "stream",
     "text": [
      "[20:09:47] SMILES Parse Error: syntax error while parsing: C1C=CC2=CC=CC=C12',\n",
      "[20:09:47] SMILES Parse Error: Failed parsing SMILES 'C1C=CC2=CC=CC=C12',' for input: 'C1C=CC2=CC=CC=C12','\n",
      "[20:09:47] SMILES Parse Error: syntax error while parsing: FC(S(=O)(=O)N=[N+]=[N-])(F)F',\n",
      "[20:09:47] SMILES Parse Error: Failed parsing SMILES 'FC(S(=O)(=O)N=[N+]=[N-])(F)F',' for input: 'FC(S(=O)(=O)N=[N+]=[N-])(F)F','\n",
      "[20:09:47] SMILES Parse Error: syntax error while parsing: [Si](C)(C)(C(C)(C)C)O[C@H]([C@H](C)NC(OCC1=CC=CC=C1)=O)C#N',\n",
      "[20:09:47] SMILES Parse Error: Failed parsing SMILES '[Si](C)(C)(C(C)(C)C)O[C@H]([C@H](C)NC(OCC1=CC=CC=C1)=O)C#N',' for input: '[Si](C)(C)(C(C)(C)C)O[C@H]([C@H](C)NC(OCC1=CC=CC=C1)=O)C#N','\n",
      "[20:09:47] SMILES Parse Error: syntax error while parsing: C(C)(C)(C)OC(=O)NCC=1C=C(C=CC1)C1=CC(=CC=C1)COC1=C(C=CC(=C1)CC1CC1)CC(=O)OC',\n",
      "[20:09:47] SMILES Parse Error: Failed parsing SMILES 'C(C)(C)(C)OC(=O)NCC=1C=C(C=CC1)C1=CC(=CC=C1)COC1=C(C=CC(=C1)CC1CC1)CC(=O)OC',' for input: 'C(C)(C)(C)OC(=O)NCC=1C=C(C=CC1)C1=CC(=CC=C1)COC1=C(C=CC(=C1)CC1CC1)CC(=O)OC','\n",
      "[20:09:47] SMILES Parse Error: syntax error while parsing: CC1=NC2=CC=C(C=C2C1(C)C)S(=O)(=O)O',\n",
      "[20:09:47] SMILES Parse Error: Failed parsing SMILES 'CC1=NC2=CC=C(C=C2C1(C)C)S(=O)(=O)O',' for input: 'CC1=NC2=CC=C(C=C2C1(C)C)S(=O)(=O)O','\n",
      "[20:09:47] SMILES Parse Error: syntax error while parsing: C(CC(O)(C(=O)[O-])CC(=O)[O-])(=O)[O-]',\n",
      "[20:09:47] SMILES Parse Error: Failed parsing SMILES 'C(CC(O)(C(=O)[O-])CC(=O)[O-])(=O)[O-]',' for input: 'C(CC(O)(C(=O)[O-])CC(=O)[O-])(=O)[O-]','\n",
      "[20:09:47] SMILES Parse Error: syntax error while parsing: N',\n",
      "[20:09:47] SMILES Parse Error: Failed parsing SMILES 'N',' for input: 'N','\n"
     ]
    },
    {
     "name": "stdout",
     "output_type": "stream",
     "text": [
      "Could not canonicalize SMILES for product at index 12329, value is C1C=CC2=CC=CC=C12', 'CC1(OB(OC1(C)C)C1=CC=C(C=C1)NC(=O)NC1=CC(=CC=C1)C(F)(F)F)C\n",
      "Could not canonicalize SMILES for product at index 12376, value is FC(S(=O)(=O)N=[N+]=[N-])(F)F', 'N(=[N+]=[N-])CCC1=C(NC2=CC=C(C=C12)Cl)C(=O)NCCC1=CC=C(C=C1)N1CCCCC1\n",
      "Could not canonicalize SMILES for product at index 12494, value is [Si](C)(C)(C(C)(C)C)O[C@H]([C@H](C)NC(OCC1=CC=CC=C1)=O)C#N', '[Si](C)(C)(C(C)(C)C)O[C@@H]([C@H](C)NC(OCC1=CC=CC=C1)=O)C#N\n",
      "Could not canonicalize SMILES for product at index 12915, value is C(C)(C)(C)OC(=O)NCC=1C=C(C=CC1)C1=CC(=CC=C1)COC1=C(C=CC(=C1)CC1CC1)CC(=O)OC', 'C(CC=C)C1=CC(=C(C=C1)CC(=O)OC)OCC=1C=C(C=CC1)C1=CC(=CC=C1)CNC(=O)OC(C)(C)C\n",
      "Could not canonicalize SMILES for product at index 12947, value is CC1=NC2=CC=C(C=C2C1(C)C)S(=O)(=O)O', 'CCOCC\n",
      "Could not canonicalize SMILES for product at index 13050, value is C(CC(O)(C(=O)[O-])CC(=O)[O-])(=O)[O-]', '[Zn]\n",
      "Could not canonicalize SMILES for product at index 13730, value is N', 'CS(=O)(=O)N1CC2=C(CC1)N(N=C2C2=CC=C(C=C2)C(F)(F)F)CC(CN2CCC(CC2)C2=CNC1=CN=C(C=C12)N1CCOCC1)O\n"
     ]
    },
    {
     "name": "stderr",
     "output_type": "stream",
     "text": [
      "[20:09:47] SMILES Parse Error: syntax error while parsing: FC(C=1C=C(C=C(C1)C(F)(F)F)C(=O)N1C[C@@H]2N(C[C@H]1CC1=CNC3=CC=CC=C13)C[C@@H](CC2)N2CCOCC2)(F)F',\n",
      "[20:09:47] SMILES Parse Error: Failed parsing SMILES 'FC(C=1C=C(C=C(C1)C(F)(F)F)C(=O)N1C[C@@H]2N(C[C@H]1CC1=CNC3=CC=CC=C13)C[C@@H](CC2)N2CCOCC2)(F)F',' for input: 'FC(C=1C=C(C=C(C1)C(F)(F)F)C(=O)N1C[C@@H]2N(C[C@H]1CC1=CNC3=CC=CC=C13)C[C@@H](CC2)N2CCOCC2)(F)F','\n",
      "[20:09:47] SMILES Parse Error: syntax error while parsing: FC(C=1C=C(C=C(C1)C(F)(F)F)C(=O)N1C[C@@H]2N(C[C@H]1CC1=CC=CC=C1)C[C@@H](CC2)N2CCOCC2)(F)F',\n",
      "[20:09:47] SMILES Parse Error: Failed parsing SMILES 'FC(C=1C=C(C=C(C1)C(F)(F)F)C(=O)N1C[C@@H]2N(C[C@H]1CC1=CC=CC=C1)C[C@@H](CC2)N2CCOCC2)(F)F',' for input: 'FC(C=1C=C(C=C(C1)C(F)(F)F)C(=O)N1C[C@@H]2N(C[C@H]1CC1=CC=CC=C1)C[C@@H](CC2)N2CCOCC2)(F)F','\n",
      "[20:09:47] SMILES Parse Error: syntax error while parsing: C(C)(C)OC1=NC(=C(C(=N1)S(=O)(=O)C)C1=CC=C(C=C1)Cl)C1=C(C=C(C=C1)Cl)Cl',\n",
      "[20:09:47] SMILES Parse Error: Failed parsing SMILES 'C(C)(C)OC1=NC(=C(C(=N1)S(=O)(=O)C)C1=CC=C(C=C1)Cl)C1=C(C=C(C=C1)Cl)Cl',' for input: 'C(C)(C)OC1=NC(=C(C(=N1)S(=O)(=O)C)C1=CC=C(C=C1)Cl)C1=C(C=C(C=C1)Cl)Cl','\n",
      "[20:09:47] SMILES Parse Error: syntax error while parsing: COC1=CC2=C(C3=CC4=CC=C(C=C4C(=C3CC2)O)OC)C=C1',\n",
      "[20:09:47] SMILES Parse Error: Failed parsing SMILES 'COC1=CC2=C(C3=CC4=CC=C(C=C4C(=C3CC2)O)OC)C=C1',' for input: 'COC1=CC2=C(C3=CC4=CC=C(C=C4C(=C3CC2)O)OC)C=C1','\n",
      "[20:09:47] SMILES Parse Error: syntax error while parsing: C(C)OC(=O)C1=CC=NN1C1=CC=C(C=C1)OC1=CC=CC=C1',\n",
      "[20:09:47] SMILES Parse Error: Failed parsing SMILES 'C(C)OC(=O)C1=CC=NN1C1=CC=C(C=C1)OC1=CC=CC=C1',' for input: 'C(C)OC(=O)C1=CC=NN1C1=CC=C(C=C1)OC1=CC=CC=C1','\n",
      "[20:09:47] SMILES Parse Error: syntax error while parsing: N',\n",
      "[20:09:47] SMILES Parse Error: Failed parsing SMILES 'N',' for input: 'N','\n"
     ]
    },
    {
     "name": "stdout",
     "output_type": "stream",
     "text": [
      "Could not canonicalize SMILES for product at index 13863, value is FC(C=1C=C(C=C(C1)C(F)(F)F)C(=O)N1C[C@@H]2N(C[C@H]1CC1=CNC3=CC=CC=C13)C[C@@H](CC2)N2CCOCC2)(F)F', 'FC(C=1C=C(C=C(C1)C(F)(F)F)C(=O)N1C[C@@H]2N(C[C@H]1CC1=CNC3=CC=CC=C13)C[C@H](CC2)N2CCOCC2)(F)F\n",
      "Could not canonicalize SMILES for product at index 13865, value is FC(C=1C=C(C=C(C1)C(F)(F)F)C(=O)N1C[C@@H]2N(C[C@H]1CC1=CC=CC=C1)C[C@@H](CC2)N2CCOCC2)(F)F', 'FC(C=1C=C(C=C(C1)C(F)(F)F)C(=O)N1C[C@@H]2N(C[C@H]1CC1=CC=CC=C1)C[C@H](CC2)N2CCOCC2)(F)F\n",
      "Could not canonicalize SMILES for product at index 14148, value is C(C)(C)OC1=NC(=C(C(=N1)S(=O)(=O)C)C1=CC=C(C=C1)Cl)C1=C(C=C(C=C1)Cl)Cl', 'C(C)(C)OC1=NC=NC(=C1C1=CC=C(C=C1)Cl)C1=C(C=C(C=C1)Cl)Cl\n",
      "Could not canonicalize SMILES for product at index 14186, value is COC1=CC2=C(C3=CC4=CC=C(C=C4C(=C3CC2)O)OC)C=C1', 'ClC=1C2=CC=C(C=C2C(=C2CCC3=C(C12)C=CC(=C3)OC)O)OC\n",
      "Could not canonicalize SMILES for product at index 14728, value is C(C)OC(=O)C1=CC=NN1C1=CC=C(C=C1)OC1=CC=CC=C1', 'C(C)OC(=O)C1=NN(C=C1)C1=CC=C(C=C1)OC1=CC=CC=C1\n",
      "Could not canonicalize SMILES for product at index 15331, value is N', 'CS(=O)(=O)N1CC2=C(CC1)N(N=C2C2=CC=C(C=C2)C(F)(F)F)CC(CN2CCC(CC2)C2=CNC1=CN=C(C=C12)N1CCOCC1)O\n",
      "Could not canonicalize SMILES for product at index 15556, value is CN1C(=C(C2=CC=CC=C12)CC(C)C)C(=O)N[C@@H](C(C)C)C(=O)NC(CC(=O)OC(C)(C)C)C(COC1=C(C(=CC(=C1F)F)F)F)=O', 'CN1C(=C(C2=CC=CC=C12)CC(C)C)C(=O)N[C@@H](C(C)C)C(=O)C(C(=O)OC(C)(C)C)C(C(COC1=C(C(=CC(=C1F)F)F)F)=O)N\n",
      "Could not canonicalize SMILES for product at index 15597, value is C(C1=CC=2OCOC2C=C1)N', 'O1COC2=C1C=CC(=C2)CNC(=O)C=2C=C1C(NC(N(C1=CC2)C)=O)=O\n",
      "Could not canonicalize SMILES for product at index 15733, value is COC1=CC2=C(C3=CC4=CC=C(C=C4C(=C3CC2)O)OC)C=C1', 'ClC=1C2=CC=C(C=C2C(=C2CCC3=C(C12)C=CC(=C3)OC)O)OC\n",
      "Could not canonicalize SMILES for product at index 15765, value is N1(N=NN=C1)C=1C(=NC=CC1)C#N', 'N1(N=CN=C1)C1=C(C=CC=C1)C#N\n",
      "Could not canonicalize SMILES for product at index 16054, value is CC1=NN(C(=C1)C(=O)OCC)C1=CC2=CC=C(C=C2C=C1)OC', 'CC1=CC(=NN1C1=CC2=CC=C(C=C2C=C1)OC)C(=O)OCC\n",
      "Could not canonicalize SMILES for product at index 16133, value is C(C)(C)(C)C=1C=C2C(N(C(C2=CC1)=O)CC(C)C)O', 'C(C)(C)(C)C1=CC=C2C(N(C(C2=C1)=O)CC(C)C)O\n",
      "Could not canonicalize SMILES for product at index 16135, value is ClC=1C=C2C(N(C(C2=CC1)CC(=O)OCC)CC(C)C)=O', 'ClC1=CC=C2C(N(C(C2=C1)CC(=O)OCC)CC(C)C)=O\n",
      "Could not canonicalize SMILES for product at index 16137, value is BrC1=CC=C2C(N(C(C2=C1)CC(=O)OCC)CC(C)C)=O', 'BrC=1C=C2C(N(C(C2=CC1)CC(=O)OCC)CC(C)C)=O\n",
      "Could not canonicalize SMILES for product at index 16140, value is FC(C1=CC=C2C(N(C(C2=C1)=O)CC(C)C)O)(F)F', 'FC(C=1C=C2C(N(C(C2=CC1)=O)CC(C)C)O)(F)F\n",
      "Could not canonicalize SMILES for product at index 16223, value is N', 'CS(=O)(=O)N1CC2=C(CC1)N(N=C2C2=CC=C(C=C2)C(F)(F)F)CC(CN2CCC(CC2)C2=CNC1=CN=C(C=C12)N1CCOCC1)O\n"
     ]
    },
    {
     "name": "stderr",
     "output_type": "stream",
     "text": [
      "[20:09:47] SMILES Parse Error: syntax error while parsing: CN1C(=C(C2=CC=CC=C12)CC(C)C)C(=O)N[C@@H](C(C)C)C(=O)NC(CC(=O)OC(C)(C)C)C(COC1=C(C(=CC(=C1F)F)F)F)=O',\n",
      "[20:09:47] SMILES Parse Error: Failed parsing SMILES 'CN1C(=C(C2=CC=CC=C12)CC(C)C)C(=O)N[C@@H](C(C)C)C(=O)NC(CC(=O)OC(C)(C)C)C(COC1=C(C(=CC(=C1F)F)F)F)=O',' for input: 'CN1C(=C(C2=CC=CC=C12)CC(C)C)C(=O)N[C@@H](C(C)C)C(=O)NC(CC(=O)OC(C)(C)C)C(COC1=C(C(=CC(=C1F)F)F)F)=O','\n",
      "[20:09:47] SMILES Parse Error: syntax error while parsing: C(C1=CC=2OCOC2C=C1)N',\n",
      "[20:09:47] SMILES Parse Error: Failed parsing SMILES 'C(C1=CC=2OCOC2C=C1)N',' for input: 'C(C1=CC=2OCOC2C=C1)N','\n",
      "[20:09:47] SMILES Parse Error: syntax error while parsing: COC1=CC2=C(C3=CC4=CC=C(C=C4C(=C3CC2)O)OC)C=C1',\n",
      "[20:09:47] SMILES Parse Error: Failed parsing SMILES 'COC1=CC2=C(C3=CC4=CC=C(C=C4C(=C3CC2)O)OC)C=C1',' for input: 'COC1=CC2=C(C3=CC4=CC=C(C=C4C(=C3CC2)O)OC)C=C1','\n",
      "[20:09:47] SMILES Parse Error: syntax error while parsing: N1(N=NN=C1)C=1C(=NC=CC1)C#N',\n",
      "[20:09:47] SMILES Parse Error: Failed parsing SMILES 'N1(N=NN=C1)C=1C(=NC=CC1)C#N',' for input: 'N1(N=NN=C1)C=1C(=NC=CC1)C#N','\n",
      "[20:09:47] SMILES Parse Error: syntax error while parsing: CC1=NN(C(=C1)C(=O)OCC)C1=CC2=CC=C(C=C2C=C1)OC',\n",
      "[20:09:47] SMILES Parse Error: Failed parsing SMILES 'CC1=NN(C(=C1)C(=O)OCC)C1=CC2=CC=C(C=C2C=C1)OC',' for input: 'CC1=NN(C(=C1)C(=O)OCC)C1=CC2=CC=C(C=C2C=C1)OC','\n",
      "[20:09:47] SMILES Parse Error: syntax error while parsing: C(C)(C)(C)C=1C=C2C(N(C(C2=CC1)=O)CC(C)C)O',\n",
      "[20:09:47] SMILES Parse Error: Failed parsing SMILES 'C(C)(C)(C)C=1C=C2C(N(C(C2=CC1)=O)CC(C)C)O',' for input: 'C(C)(C)(C)C=1C=C2C(N(C(C2=CC1)=O)CC(C)C)O','\n",
      "[20:09:47] SMILES Parse Error: syntax error while parsing: ClC=1C=C2C(N(C(C2=CC1)CC(=O)OCC)CC(C)C)=O',\n",
      "[20:09:47] SMILES Parse Error: Failed parsing SMILES 'ClC=1C=C2C(N(C(C2=CC1)CC(=O)OCC)CC(C)C)=O',' for input: 'ClC=1C=C2C(N(C(C2=CC1)CC(=O)OCC)CC(C)C)=O','\n",
      "[20:09:47] SMILES Parse Error: syntax error while parsing: BrC1=CC=C2C(N(C(C2=C1)CC(=O)OCC)CC(C)C)=O',\n",
      "[20:09:47] SMILES Parse Error: Failed parsing SMILES 'BrC1=CC=C2C(N(C(C2=C1)CC(=O)OCC)CC(C)C)=O',' for input: 'BrC1=CC=C2C(N(C(C2=C1)CC(=O)OCC)CC(C)C)=O','\n",
      "[20:09:47] SMILES Parse Error: syntax error while parsing: FC(C1=CC=C2C(N(C(C2=C1)=O)CC(C)C)O)(F)F',\n",
      "[20:09:47] SMILES Parse Error: Failed parsing SMILES 'FC(C1=CC=C2C(N(C(C2=C1)=O)CC(C)C)O)(F)F',' for input: 'FC(C1=CC=C2C(N(C(C2=C1)=O)CC(C)C)O)(F)F','\n",
      "[20:09:47] SMILES Parse Error: syntax error while parsing: N',\n",
      "[20:09:47] SMILES Parse Error: Failed parsing SMILES 'N',' for input: 'N','\n"
     ]
    }
   ],
   "source": [
    "df_can = canonicalize_smiles(df_no_salt, 'productSmiles')"
   ]
  }
 ],
 "metadata": {
  "kernelspec": {
   "display_name": "ppchem_project",
   "language": "python",
   "name": "python3"
  },
  "language_info": {
   "codemirror_mode": {
    "name": "ipython",
    "version": 3
   },
   "file_extension": ".py",
   "mimetype": "text/x-python",
   "name": "python",
   "nbconvert_exporter": "python",
   "pygments_lexer": "ipython3",
   "version": "3.10.13"
  }
 },
 "nbformat": 4,
 "nbformat_minor": 2
}
