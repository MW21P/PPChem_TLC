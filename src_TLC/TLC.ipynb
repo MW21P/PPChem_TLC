{
 "cells": [
  {
   "cell_type": "markdown",
   "metadata": {},
   "source": [
    "# Pre-processing of data\n",
    "The first thing to do is extracting the data we are interested in from the XML files (XML files are used from a dataset of US patent applications from 2001 to 2016. This dataset can be found here: https://figshare.com/articles/dataset/Chemical_reactions_from_US_patents_1976-Sep2016_/5104873). We are interested in the title, the general experimental procedure, the reaction SMILES, but most importantly the product SMILES.\n",
    "Therefore, using xml.Etree in the following we iterate through the child elements of the root of the file. \n"
   ]
  },
  {
   "cell_type": "code",
   "execution_count": 25,
   "metadata": {},
   "outputs": [],
   "source": [
    "# First we import the necessary libraries\n",
    "\n",
    "import xml.etree.cElementTree as et     # for parsing the XML file\n",
    "import pandas as pd\n",
    "import numpy as np\n",
    "import os\n",
    "import re\n",
    "from groq import Groq # for the LLM Groq queries (needs to be installed via pip)"
   ]
  },
  {
   "cell_type": "markdown",
   "metadata": {},
   "source": [
    "Now we use a function to iterate over all the XML files in the applications data from 2001. We collect the title, the paragraphText, mostly including the experimental procedures, the reaction SMILES and the product SMILES from it."
   ]
  },
  {
   "cell_type": "code",
   "execution_count": 2,
   "metadata": {},
   "outputs": [],
   "source": [
    "def extract_data(root_file):\n",
    "    \"\"\"function that extracts data from an XML file and returns a list of dictionaries containing the extracted information.\n",
    "        Information to be extracted includes the title of the reaction, the experimental procedure, the reaction SMILES, and the product SMILES.\n",
    "\n",
    "    Args:\n",
    "        root_file: root of the parsed XML file\n",
    "\n",
    "    Returns:\n",
    "        reaction_list: list of dictionaries containing the extracted information\n",
    "    \"\"\"\n",
    "    \n",
    "    # Define the namespace that prevents mismatching of tags in the XML file\n",
    "    ns = {'cml': 'http://www.xml-cml.org/schema', 'dl': 'http://bitbucket.org/dan2097'}\n",
    "\n",
    "    # Create lists to store extracted information\n",
    "    reaction_list = []\n",
    "\n",
    "    # Find all <reaction> elements\n",
    "    reaction_elements = root_file.findall('.//cml:reaction', ns)\n",
    "\n",
    "    # Iterate over each <reaction> element\n",
    "    for reaction_element in reaction_elements:\n",
    "        # Create a dictionary to store information about the reaction\n",
    "        reaction_dict = {}\n",
    "\n",
    "        # Extract title\n",
    "        title = reaction_element.find('.//dl:headingText', ns)\n",
    "        if title is not None:\n",
    "            reaction_dict['title'] = title.text\n",
    "\n",
    "        # Extract paragraph text\n",
    "        paragraph_text = reaction_element.find('.//dl:paragraphText', ns)\n",
    "        if paragraph_text is not None:\n",
    "            reaction_dict['paragraphText'] = paragraph_text.text\n",
    "\n",
    "        # Extract reaction SMILES\n",
    "        reaction_smiles = reaction_element.find('.//dl:reactionSmiles', ns)\n",
    "        if reaction_smiles is not None:\n",
    "            reaction_dict['reactionSmiles'] = reaction_smiles.text\n",
    "\n",
    "        # Extract product SMILES\n",
    "        product_elements = reaction_element.findall('.//cml:product', ns)\n",
    "        product_smiles = []\n",
    "        for product_element in product_elements:\n",
    "            identifier_element = product_element.find('.//cml:identifier[@dictRef=\"cml:smiles\"]', ns)\n",
    "            if identifier_element is not None:\n",
    "                smiles_value = identifier_element.get('value')\n",
    "                if smiles_value is not None:\n",
    "                    product_smiles.append(smiles_value)\n",
    "        if product_smiles:\n",
    "            reaction_dict['productSmiles'] = product_smiles\n",
    "\n",
    "        # Append the reaction dictionary to the reaction list\n",
    "        reaction_list.append(reaction_dict)\n",
    "\n",
    "    # Check if any values were extracted\n",
    "    #print(\"Reaction List:\", reaction_list)\n",
    "    return reaction_list\n"
   ]
  },
  {
   "cell_type": "markdown",
   "metadata": {},
   "source": [
    "In a second step, we iterate through all files in every folder of the application data of the dataset and extract the data with the function extract_data. This takes quite a bit, but you can see the progress whenever a new folder is treated. "
   ]
  },
  {
   "cell_type": "code",
   "execution_count": 3,
   "metadata": {},
   "outputs": [
    {
     "name": "stdout",
     "output_type": "stream",
     "text": [
      "C:\\Users\\milen\\git\\ppChem\\PPChem_TLC\\data\\applications\\2001\n",
      "C:\\Users\\milen\\git\\ppChem\\PPChem_TLC\\data\\applications\\2002\n",
      "C:\\Users\\milen\\git\\ppChem\\PPChem_TLC\\data\\applications\\2003\n",
      "C:\\Users\\milen\\git\\ppChem\\PPChem_TLC\\data\\applications\\2004\n",
      "C:\\Users\\milen\\git\\ppChem\\PPChem_TLC\\data\\applications\\2005\n",
      "C:\\Users\\milen\\git\\ppChem\\PPChem_TLC\\data\\applications\\2006\n",
      "C:\\Users\\milen\\git\\ppChem\\PPChem_TLC\\data\\applications\\2007\n",
      "C:\\Users\\milen\\git\\ppChem\\PPChem_TLC\\data\\applications\\2008\n",
      "C:\\Users\\milen\\git\\ppChem\\PPChem_TLC\\data\\applications\\2009\n",
      "C:\\Users\\milen\\git\\ppChem\\PPChem_TLC\\data\\applications\\2010\n"
     ]
    },
    {
     "ename": "KeyboardInterrupt",
     "evalue": "",
     "output_type": "error",
     "traceback": [
      "\u001b[1;31m---------------------------------------------------------------------------\u001b[0m",
      "\u001b[1;31mKeyboardInterrupt\u001b[0m                         Traceback (most recent call last)",
      "Cell \u001b[1;32mIn[3], line 11\u001b[0m\n\u001b[0;32m      9\u001b[0m \u001b[38;5;28;01mif\u001b[39;00m file\u001b[38;5;241m.\u001b[39mendswith(\u001b[38;5;124m'\u001b[39m\u001b[38;5;124m.xml\u001b[39m\u001b[38;5;124m'\u001b[39m):\n\u001b[0;32m     10\u001b[0m     file \u001b[38;5;241m=\u001b[39m os\u001b[38;5;241m.\u001b[39mpath\u001b[38;5;241m.\u001b[39mjoin(folder, file)\n\u001b[1;32m---> 11\u001b[0m     tree \u001b[38;5;241m=\u001b[39m \u001b[43met\u001b[49m\u001b[38;5;241;43m.\u001b[39;49m\u001b[43mparse\u001b[49m\u001b[43m(\u001b[49m\u001b[43mfile\u001b[49m\u001b[43m)\u001b[49m\n\u001b[0;32m     12\u001b[0m  \u001b[38;5;66;03m# define root of the XML file to iterate through the file\u001b[39;00m\n\u001b[0;32m     13\u001b[0m     root \u001b[38;5;241m=\u001b[39m tree\u001b[38;5;241m.\u001b[39mgetroot()\n",
      "File \u001b[1;32mc:\\Users\\milen\\anaconda3\\envs\\ppchem\\lib\\xml\\etree\\ElementTree.py:1222\u001b[0m, in \u001b[0;36mparse\u001b[1;34m(source, parser)\u001b[0m\n\u001b[0;32m   1213\u001b[0m \u001b[38;5;250m\u001b[39m\u001b[38;5;124;03m\"\"\"Parse XML document into element tree.\u001b[39;00m\n\u001b[0;32m   1214\u001b[0m \n\u001b[0;32m   1215\u001b[0m \u001b[38;5;124;03m*source* is a filename or file object containing XML data,\u001b[39;00m\n\u001b[1;32m   (...)\u001b[0m\n\u001b[0;32m   1219\u001b[0m \n\u001b[0;32m   1220\u001b[0m \u001b[38;5;124;03m\"\"\"\u001b[39;00m\n\u001b[0;32m   1221\u001b[0m tree \u001b[38;5;241m=\u001b[39m ElementTree()\n\u001b[1;32m-> 1222\u001b[0m \u001b[43mtree\u001b[49m\u001b[38;5;241;43m.\u001b[39;49m\u001b[43mparse\u001b[49m\u001b[43m(\u001b[49m\u001b[43msource\u001b[49m\u001b[43m,\u001b[49m\u001b[43m \u001b[49m\u001b[43mparser\u001b[49m\u001b[43m)\u001b[49m\n\u001b[0;32m   1223\u001b[0m \u001b[38;5;28;01mreturn\u001b[39;00m tree\n",
      "File \u001b[1;32mc:\\Users\\milen\\anaconda3\\envs\\ppchem\\lib\\xml\\etree\\ElementTree.py:580\u001b[0m, in \u001b[0;36mElementTree.parse\u001b[1;34m(self, source, parser)\u001b[0m\n\u001b[0;32m    574\u001b[0m     parser \u001b[38;5;241m=\u001b[39m XMLParser()\n\u001b[0;32m    575\u001b[0m     \u001b[38;5;28;01mif\u001b[39;00m \u001b[38;5;28mhasattr\u001b[39m(parser, \u001b[38;5;124m'\u001b[39m\u001b[38;5;124m_parse_whole\u001b[39m\u001b[38;5;124m'\u001b[39m):\n\u001b[0;32m    576\u001b[0m         \u001b[38;5;66;03m# The default XMLParser, when it comes from an accelerator,\u001b[39;00m\n\u001b[0;32m    577\u001b[0m         \u001b[38;5;66;03m# can define an internal _parse_whole API for efficiency.\u001b[39;00m\n\u001b[0;32m    578\u001b[0m         \u001b[38;5;66;03m# It can be used to parse the whole source without feeding\u001b[39;00m\n\u001b[0;32m    579\u001b[0m         \u001b[38;5;66;03m# it with chunks.\u001b[39;00m\n\u001b[1;32m--> 580\u001b[0m         \u001b[38;5;28mself\u001b[39m\u001b[38;5;241m.\u001b[39m_root \u001b[38;5;241m=\u001b[39m \u001b[43mparser\u001b[49m\u001b[38;5;241;43m.\u001b[39;49m\u001b[43m_parse_whole\u001b[49m\u001b[43m(\u001b[49m\u001b[43msource\u001b[49m\u001b[43m)\u001b[49m\n\u001b[0;32m    581\u001b[0m         \u001b[38;5;28;01mreturn\u001b[39;00m \u001b[38;5;28mself\u001b[39m\u001b[38;5;241m.\u001b[39m_root\n\u001b[0;32m    582\u001b[0m \u001b[38;5;28;01mwhile\u001b[39;00m \u001b[38;5;28;01mTrue\u001b[39;00m:\n",
      "\u001b[1;31mKeyboardInterrupt\u001b[0m: "
     ]
    }
   ],
   "source": [
    "Applications_list = []\n",
    "\n",
    "# define path to access first XML file in the folder 2001 of applications\n",
    "# Insert the path to the folder containing the XML files\n",
    "for folder in os.listdir(r'C:\\Users\\milen\\git\\ppChem\\PPChem_TLC\\data\\applications'):\n",
    "    folder = os.path.join(r'C:\\Users\\milen\\git\\ppChem\\PPChem_TLC\\data\\applications', folder)\n",
    "    print(folder) \n",
    "    for file in os.listdir(folder):\n",
    "        if file.endswith('.xml'):\n",
    "            file = os.path.join(folder, file)\n",
    "            tree = et.parse(file)\n",
    "         # define root of the XML file to iterate through the file\n",
    "            root = tree.getroot()\n",
    "            Applications_list.append(extract_data(root))    \n",
    "                  "
   ]
  },
  {
   "cell_type": "markdown",
   "metadata": {},
   "source": [
    "# Put extracted data into a dataframe.\n",
    "Now that we created a list of lists containing a dictionnary for every reaction that was extracted from the XML files, we put the lists into a dataframe."
   ]
  },
  {
   "cell_type": "code",
   "execution_count": null,
   "metadata": {},
   "outputs": [
    {
     "name": "stdout",
     "output_type": "stream",
     "text": [
      "(1939253, 4)\n"
     ]
    },
    {
     "data": {
      "text/html": [
       "<div>\n",
       "<style scoped>\n",
       "    .dataframe tbody tr th:only-of-type {\n",
       "        vertical-align: middle;\n",
       "    }\n",
       "\n",
       "    .dataframe tbody tr th {\n",
       "        vertical-align: top;\n",
       "    }\n",
       "\n",
       "    .dataframe thead th {\n",
       "        text-align: right;\n",
       "    }\n",
       "</style>\n",
       "<table border=\"1\" class=\"dataframe\">\n",
       "  <thead>\n",
       "    <tr style=\"text-align: right;\">\n",
       "      <th></th>\n",
       "      <th>paragraphText</th>\n",
       "      <th>reactionSmiles</th>\n",
       "      <th>productSmiles</th>\n",
       "      <th>title</th>\n",
       "    </tr>\n",
       "  </thead>\n",
       "  <tbody>\n",
       "    <tr>\n",
       "      <th>0</th>\n",
       "      <td>PL 137,526 describes the hydrogenation of p-te...</td>\n",
       "      <td>[C:1]([C:5]1[CH:10]=[CH:9][C:8]([OH:11])=[CH:7...</td>\n",
       "      <td>[C(C)(C)(C)C1CCC(CC1)O]</td>\n",
       "      <td>NaN</td>\n",
       "    </tr>\n",
       "    <tr>\n",
       "      <th>1</th>\n",
       "      <td>Slurry aluminum chloride (140.9 g, 1.075 mol) ...</td>\n",
       "      <td>[Cl-].[Al+3].[Cl-].[Cl-].[Cl:5][CH2:6][CH2:7][...</td>\n",
       "      <td>[ClCCCC(=O)C1=CC=C(C=C1)C(C)C]</td>\n",
       "      <td>Step h: 4-Chloro-1-(4-isopropyl-phenyl)-butan-...</td>\n",
       "    </tr>\n",
       "    <tr>\n",
       "      <th>2</th>\n",
       "      <td>Suspend anhydrous AlCl3 (156 g, 1.15 mol) in t...</td>\n",
       "      <td>[Al+3].[Cl-].[Cl-].[Cl-].[Cl:5][CH2:6][CH2:7][...</td>\n",
       "      <td>[ClCCCC(=O)C1=CC=C(C=C1)C]</td>\n",
       "      <td>Step d: 4-Chloro-1-(4-methyl-phenyl)-butan-1-one</td>\n",
       "    </tr>\n",
       "    <tr>\n",
       "      <th>3</th>\n",
       "      <td>Dissolve 4-chloro-1-(4-isopropyl-phenyl)-butan...</td>\n",
       "      <td>[Cl:1][CH2:2][CH2:3][CH2:4][C:5]([C:7]1[CH:12]...</td>\n",
       "      <td>[BrC(C)(C)C1=CC=C(C=C1)C(CCCCl)=O]</td>\n",
       "      <td>1-[4-(1-Bromo-1-methyl-ethyl)-phenyl]-4-chloro...</td>\n",
       "    </tr>\n",
       "    <tr>\n",
       "      <th>4</th>\n",
       "      <td>Dissolve 4-chloro-1-(4-isopropyl-phenyl)-butan...</td>\n",
       "      <td>[Cl:1][CH2:2][CH2:3][CH2:4][C:5]([C:7]1[CH:12]...</td>\n",
       "      <td>[BrC(C)(C)C1=CC=C(C=C1)C(CCCCl)=O]</td>\n",
       "      <td>1-[4-(1-Bromo-1-methyl-ethyl)-phenyl]-4-chloro...</td>\n",
       "    </tr>\n",
       "  </tbody>\n",
       "</table>\n",
       "</div>"
      ],
      "text/plain": [
       "                                       paragraphText  \\\n",
       "0  PL 137,526 describes the hydrogenation of p-te...   \n",
       "1  Slurry aluminum chloride (140.9 g, 1.075 mol) ...   \n",
       "2  Suspend anhydrous AlCl3 (156 g, 1.15 mol) in t...   \n",
       "3  Dissolve 4-chloro-1-(4-isopropyl-phenyl)-butan...   \n",
       "4  Dissolve 4-chloro-1-(4-isopropyl-phenyl)-butan...   \n",
       "\n",
       "                                      reactionSmiles  \\\n",
       "0  [C:1]([C:5]1[CH:10]=[CH:9][C:8]([OH:11])=[CH:7...   \n",
       "1  [Cl-].[Al+3].[Cl-].[Cl-].[Cl:5][CH2:6][CH2:7][...   \n",
       "2  [Al+3].[Cl-].[Cl-].[Cl-].[Cl:5][CH2:6][CH2:7][...   \n",
       "3  [Cl:1][CH2:2][CH2:3][CH2:4][C:5]([C:7]1[CH:12]...   \n",
       "4  [Cl:1][CH2:2][CH2:3][CH2:4][C:5]([C:7]1[CH:12]...   \n",
       "\n",
       "                        productSmiles  \\\n",
       "0             [C(C)(C)(C)C1CCC(CC1)O]   \n",
       "1      [ClCCCC(=O)C1=CC=C(C=C1)C(C)C]   \n",
       "2          [ClCCCC(=O)C1=CC=C(C=C1)C]   \n",
       "3  [BrC(C)(C)C1=CC=C(C=C1)C(CCCCl)=O]   \n",
       "4  [BrC(C)(C)C1=CC=C(C=C1)C(CCCCl)=O]   \n",
       "\n",
       "                                               title  \n",
       "0                                                NaN  \n",
       "1  Step h: 4-Chloro-1-(4-isopropyl-phenyl)-butan-...  \n",
       "2   Step d: 4-Chloro-1-(4-methyl-phenyl)-butan-1-one  \n",
       "3  1-[4-(1-Bromo-1-methyl-ethyl)-phenyl]-4-chloro...  \n",
       "4  1-[4-(1-Bromo-1-methyl-ethyl)-phenyl]-4-chloro...  "
      ]
     },
     "execution_count": 14,
     "metadata": {},
     "output_type": "execute_result"
    }
   ],
   "source": [
    "# Create a DataFrame from the extracted data\n",
    "df_extracts = pd.DataFrame(Applications_list[0])\n",
    "\n",
    "# Iterate through the list of dictionaries and create a DataFrame\n",
    "for i in range(1, len(Applications_list)):\n",
    "    df = pd.DataFrame(Applications_list[i])\n",
    "    \n",
    "    # Concatenate the DataFrames\n",
    "    df_extracts = pd.concat([df_extracts, df], ignore_index=True)\n",
    "\n",
    "print(df_extracts.shape)\n",
    "df_extracts.head()\n"
   ]
  },
  {
   "cell_type": "markdown",
   "metadata": {},
   "source": [
    "That Dataframe is huge! Finally, save all the extracted data into a csv file on the local device."
   ]
  },
  {
   "cell_type": "code",
   "execution_count": null,
   "metadata": {},
   "outputs": [],
   "source": [
    "df_extracts.to_csv(r'C:\\Users\\milen\\git\\ppChem\\PPChem_TLC\\extracted_data_raw_applications.csv', index=False)"
   ]
  },
  {
   "cell_type": "markdown",
   "metadata": {},
   "source": [
    "# Further Processing of the Data using Regex and LLM\n",
    "Of course, not all entries in the data frame can be used for our model. Many of the experimental procedures do not include any information about the Rf value. Thus, we need to find the entries with Rf values. As all experimental procedures are written differently, we will try to find the value of interest by using Regex (Regular Expressions)."
   ]
  },
  {
   "cell_type": "markdown",
   "metadata": {},
   "source": [
    "First, we load the extracted data into a new dataframe."
   ]
  },
  {
   "cell_type": "code",
   "execution_count": 4,
   "metadata": {},
   "outputs": [],
   "source": [
    "df_new = pd.read_csv(r'C:\\Users\\milen\\git\\ppChem\\PPChem_TLC\\extracted_data_raw_applications.csv')"
   ]
  },
  {
   "cell_type": "markdown",
   "metadata": {},
   "source": [
    "And we create another dataframe, which only includes the first 1000 rows of the dataframe to reduce the cost of executing the test code below."
   ]
  },
  {
   "cell_type": "code",
   "execution_count": 19,
   "metadata": {},
   "outputs": [
    {
     "data": {
      "text/plain": [
       "(1000, 4)"
      ]
     },
     "execution_count": 19,
     "metadata": {},
     "output_type": "execute_result"
    }
   ],
   "source": [
    "df_new.shape\n",
    "df_new = df_new.iloc[0:1000]\n",
    "df_new.shape"
   ]
  },
  {
   "cell_type": "markdown",
   "metadata": {},
   "source": [
    "Seems to have worked! Now let's take a closer look at how we will try to extract the Rf values. \n",
    "Throughout different testing until now, we found several criteria that need to be defined in the Regex pattern for the Rf value: it should be a number following the general pattern 0.XY with Y not being obligatory and X being some digit between 2 and 8 (this is to exclude as many other matches as possible and as Rf values should ideally be around 0.5, we thought this would be optimal). Furthermore, the pattern should not be followed by other digits (e.g. 0.45005) nor include special signs (0.5:0.4) or temperature values. The last remaining problem is, to distinguish between information about quantity and the Rf value (e.g. 0.56 vs. 0.56 mg)."
   ]
  },
  {
   "cell_type": "code",
   "execution_count": 6,
   "metadata": {},
   "outputs": [],
   "source": [
    "def extract_rf_eluent(Dataframe):\n",
    "    \"\"\"Function that applies defined regex patterns to data in a dataframe and creates \n",
    "    the following new columns: \n",
    "    Rf value, solvent A, solvent B, % solvent A, % solvent B. If no Rf value can be found, all columns\n",
    "    are filled with NaN. \n",
    "\n",
    "    Args:\n",
    "        Dataframe (_type_): Dataframe containing the extracted data from the US patents\n",
    "    \"\"\"\n",
    "    # copy the dataframe to leave old dataframe unchanged\n",
    "    df = Dataframe.copy()\n",
    "    \n",
    "    # Define the regex patterns\n",
    "    Rf_check = r'( ?R[fF]?[ :=(]?)'\n",
    "    Rf_pattern = r'(0\\.(?!0|9)\\d{1,2})\\b(?! *mg\\b| *mL\\b| *g\\b)' # exclude decimals that start by 0.0x, this yet seems not to work though, try to specifiy that digit after . cannot start with 0.\n",
    "    #Rf_pattern = r'[ =:]?(0\\.[^0][0-9])[^\\dmglL](?! mg)' # exclude decimals that start by 0.0x, this yet seems not to work though, try to specifiy that digit after . cannot start with 0.\n",
    "    \n",
    "    #set a count to see how many multiple Rf values are found in the dataframe, how many NaN values are found\n",
    "    count = 0\n",
    "    count_nan = 0\n",
    "    \n",
    "    # Extract the Rf values from the paragraphText and put them into a new column\n",
    "    for index, row in df.iterrows():\n",
    "        checkRf = re.findall(Rf_check, row['paragraphText'])\n",
    "        \n",
    "        #check if Rf value can be found in the paragraphText column\n",
    "        if checkRf:\n",
    "             #try to find the Rf value in the paragraphText column\n",
    "            match = re.findall(Rf_pattern, row['paragraphText'])\n",
    "            if match:\n",
    "                df.at[index, 'Rf_value'] = match[0] # df['paragraphText'].str.extract(Rf_pattern)\n",
    "            \n",
    "                # Check if multiple Rf values were found (potential error source)\n",
    "                if len(match) > 1:\n",
    "                    print('Multiple Rf values found in paragraphText:', match, 'at index:', index)\n",
    "                    count += 1\n",
    "       \n",
    "        else:\n",
    "            df.at[index, 'Rf_value'] = np.nan\n",
    "            count_nan += 1\n",
    "            \n",
    "    print(\"Number of entries with multiple Rf values:\", count)\n",
    "    print(\"Number of entries with no Rf values found:\", count_nan)\n",
    "    print(\"Number of entries with Rf values found:\", df['Rf_value'].count())\n",
    "    return df\n",
    "    "
   ]
  },
  {
   "cell_type": "markdown",
   "metadata": {},
   "source": [
    "Turns out it would be very painful to do all this with regex. Not the best idea. Instead, we will try to use a LLM in the following. To still reduce the cost of computation, we will pre-filter the dataframe with the subsequent function to only get back data where an Rf value can be found in the experimental procedure. "
   ]
  },
  {
   "cell_type": "code",
   "execution_count": 23,
   "metadata": {},
   "outputs": [],
   "source": [
    "def extract_rows_with_rf(Dataframe):\n",
    "    \"\"\"Function that extracts rows with Rf values from a dataframe and returns a new dataframe containing only these rows. \n",
    "\n",
    "    Args:\n",
    "        Dataframe (_type_): Dataframe containing the extracted data from the US patents\n",
    "    \"\"\"\n",
    "    # copy the dataframe to leave old dataframe unchanged\n",
    "    df = Dataframe.copy()\n",
    "    \n",
    "    # Define the regex patterns\n",
    "    Rf_check = r'( ?R[fF][ :=(]?)'\n",
    "    \n",
    "    # List to store indices of rows without Rf values\n",
    "    rows_to_drop = []\n",
    "    \n",
    "    # Search for rows with Rf values in the paragraphText column\n",
    "    for index, row in df.iterrows():\n",
    "        checkRf = re.findall(Rf_check, row['paragraphText'])\n",
    "\n",
    "        if not checkRf:\n",
    "            rows_to_drop.append(index)\n",
    "               \n",
    "    # Drop rows without Rf values\n",
    "    df = df.drop(rows_to_drop)\n",
    "            \n",
    "    return df\n",
    "    "
   ]
  },
  {
   "cell_type": "markdown",
   "metadata": {},
   "source": [
    "That is still applying the first function and one can clearly see the mess. Won't be possible to extract the exact Rf value in the multiple detected rows."
   ]
  },
  {
   "cell_type": "code",
   "execution_count": 7,
   "metadata": {},
   "outputs": [
    {
     "name": "stderr",
     "output_type": "stream",
     "text": [
      "C:\\Users\\milen\\AppData\\Local\\Temp\\ipykernel_26032\\3340503067.py:31: FutureWarning: Setting an item of incompatible dtype is deprecated and will raise an error in a future version of pandas. Value '0.18' has dtype incompatible with float64, please explicitly cast to a compatible dtype first.\n",
      "  df.at[index, 'Rf_value'] = match[0] # df['paragraphText'].str.extract(Rf_pattern)\n"
     ]
    },
    {
     "name": "stdout",
     "output_type": "stream",
     "text": [
      "Multiple Rf values found in paragraphText: ['0.57', '0.35', '0.56'] at index: 232\n",
      "Multiple Rf values found in paragraphText: ['0.3', '0.55', '0.37', '0.27', '0.30', '0.3', '0.37', '0.27', '0.37', '0.10'] at index: 236\n",
      "Multiple Rf values found in paragraphText: ['0.46', '0.3'] at index: 237\n",
      "Multiple Rf values found in paragraphText: ['0.4', '0.3'] at index: 267\n",
      "Multiple Rf values found in paragraphText: ['0.4', '0.3'] at index: 268\n",
      "Multiple Rf values found in paragraphText: ['0.41', '0.1', '0.41', '0.32'] at index: 281\n",
      "Multiple Rf values found in paragraphText: ['0.58', '0.64', '0.58'] at index: 287\n",
      "Multiple Rf values found in paragraphText: ['0.1', '0.6'] at index: 291\n",
      "Multiple Rf values found in paragraphText: ['0.85', '0.85'] at index: 300\n",
      "Multiple Rf values found in paragraphText: ['0.5', '0.1', '0.15'] at index: 382\n",
      "Multiple Rf values found in paragraphText: ['0.5', '0.1'] at index: 383\n",
      "Multiple Rf values found in paragraphText: ['0.2', '0.82'] at index: 412\n",
      "Multiple Rf values found in paragraphText: ['0.22', '0.83'] at index: 419\n",
      "Multiple Rf values found in paragraphText: ['0.42', '0.62'] at index: 420\n",
      "Multiple Rf values found in paragraphText: ['0.1', '0.1'] at index: 428\n",
      "Multiple Rf values found in paragraphText: ['0.83', '0.81', '0.6', '0.3'] at index: 429\n",
      "Multiple Rf values found in paragraphText: ['0.82', '0.80'] at index: 440\n",
      "Multiple Rf values found in paragraphText: ['0.1', '0.1'] at index: 488\n",
      "Multiple Rf values found in paragraphText: ['0.88', '0.7', '0.5'] at index: 498\n",
      "Multiple Rf values found in paragraphText: ['0.75', '0.80', '0.1'] at index: 501\n",
      "Multiple Rf values found in paragraphText: ['0.67', '0.74', '0.89', '0.59'] at index: 507\n",
      "Multiple Rf values found in paragraphText: ['0.5', '0.59', '0.34'] at index: 518\n",
      "Multiple Rf values found in paragraphText: ['0.67', '0.74', '0.1', '0.20', '0.15', '0.8'] at index: 524\n",
      "Multiple Rf values found in paragraphText: ['0.82', '0.82', '0.28', '0.69', '0.82'] at index: 525\n",
      "Multiple Rf values found in paragraphText: ['0.15', '0.3'] at index: 547\n",
      "Multiple Rf values found in paragraphText: ['0.15', '0.3'] at index: 548\n",
      "Multiple Rf values found in paragraphText: ['0.3', '0.56', '0.56', '0.21'] at index: 580\n",
      "Multiple Rf values found in paragraphText: ['0.29', '0.17'] at index: 583\n",
      "Multiple Rf values found in paragraphText: ['0.7', '0.3'] at index: 590\n",
      "Multiple Rf values found in paragraphText: ['0.62', '0.25', '0.1'] at index: 596\n",
      "Multiple Rf values found in paragraphText: ['0.44', '0.44', '0.49'] at index: 597\n",
      "Multiple Rf values found in paragraphText: ['0.2', '0.2'] at index: 598\n",
      "Multiple Rf values found in paragraphText: ['0.12', '0.14', '0.5'] at index: 803\n",
      "Multiple Rf values found in paragraphText: ['0.19', '0.19'] at index: 813\n",
      "Multiple Rf values found in paragraphText: ['0.2', '0.19'] at index: 879\n",
      "Multiple Rf values found in paragraphText: ['0.19', '0.58'] at index: 992\n",
      "Number of entries with multiple Rf values: 36\n",
      "Number of entries with no Rf values found: 754\n",
      "Number of entries with Rf values found: 92\n"
     ]
    },
    {
     "data": {
      "text/html": [
       "<div>\n",
       "<style scoped>\n",
       "    .dataframe tbody tr th:only-of-type {\n",
       "        vertical-align: middle;\n",
       "    }\n",
       "\n",
       "    .dataframe tbody tr th {\n",
       "        vertical-align: top;\n",
       "    }\n",
       "\n",
       "    .dataframe thead th {\n",
       "        text-align: right;\n",
       "    }\n",
       "</style>\n",
       "<table border=\"1\" class=\"dataframe\">\n",
       "  <thead>\n",
       "    <tr style=\"text-align: right;\">\n",
       "      <th></th>\n",
       "      <th>paragraphText</th>\n",
       "      <th>reactionSmiles</th>\n",
       "      <th>productSmiles</th>\n",
       "      <th>title</th>\n",
       "      <th>Rf_value</th>\n",
       "    </tr>\n",
       "  </thead>\n",
       "  <tbody>\n",
       "    <tr>\n",
       "      <th>0</th>\n",
       "      <td>PL 137,526 describes the hydrogenation of p-te...</td>\n",
       "      <td>[C:1]([C:5]1[CH:10]=[CH:9][C:8]([OH:11])=[CH:7...</td>\n",
       "      <td>['C(C)(C)(C)C1CCC(CC1)O']</td>\n",
       "      <td>NaN</td>\n",
       "      <td>NaN</td>\n",
       "    </tr>\n",
       "    <tr>\n",
       "      <th>1</th>\n",
       "      <td>Slurry aluminum chloride (140.9 g, 1.075 mol) ...</td>\n",
       "      <td>[Cl-].[Al+3].[Cl-].[Cl-].[Cl:5][CH2:6][CH2:7][...</td>\n",
       "      <td>['ClCCCC(=O)C1=CC=C(C=C1)C(C)C']</td>\n",
       "      <td>Step h: 4-Chloro-1-(4-isopropyl-phenyl)-butan-...</td>\n",
       "      <td>NaN</td>\n",
       "    </tr>\n",
       "    <tr>\n",
       "      <th>2</th>\n",
       "      <td>Suspend anhydrous AlCl3 (156 g, 1.15 mol) in t...</td>\n",
       "      <td>[Al+3].[Cl-].[Cl-].[Cl-].[Cl:5][CH2:6][CH2:7][...</td>\n",
       "      <td>['ClCCCC(=O)C1=CC=C(C=C1)C']</td>\n",
       "      <td>Step d: 4-Chloro-1-(4-methyl-phenyl)-butan-1-one</td>\n",
       "      <td>NaN</td>\n",
       "    </tr>\n",
       "    <tr>\n",
       "      <th>3</th>\n",
       "      <td>Dissolve 4-chloro-1-(4-isopropyl-phenyl)-butan...</td>\n",
       "      <td>[Cl:1][CH2:2][CH2:3][CH2:4][C:5]([C:7]1[CH:12]...</td>\n",
       "      <td>['BrC(C)(C)C1=CC=C(C=C1)C(CCCCl)=O']</td>\n",
       "      <td>1-[4-(1-Bromo-1-methyl-ethyl)-phenyl]-4-chloro...</td>\n",
       "      <td>NaN</td>\n",
       "    </tr>\n",
       "    <tr>\n",
       "      <th>4</th>\n",
       "      <td>Dissolve 4-chloro-1-(4-isopropyl-phenyl)-butan...</td>\n",
       "      <td>[Cl:1][CH2:2][CH2:3][CH2:4][C:5]([C:7]1[CH:12]...</td>\n",
       "      <td>['BrC(C)(C)C1=CC=C(C=C1)C(CCCCl)=O']</td>\n",
       "      <td>1-[4-(1-Bromo-1-methyl-ethyl)-phenyl]-4-chloro...</td>\n",
       "      <td>NaN</td>\n",
       "    </tr>\n",
       "  </tbody>\n",
       "</table>\n",
       "</div>"
      ],
      "text/plain": [
       "                                       paragraphText  \\\n",
       "0  PL 137,526 describes the hydrogenation of p-te...   \n",
       "1  Slurry aluminum chloride (140.9 g, 1.075 mol) ...   \n",
       "2  Suspend anhydrous AlCl3 (156 g, 1.15 mol) in t...   \n",
       "3  Dissolve 4-chloro-1-(4-isopropyl-phenyl)-butan...   \n",
       "4  Dissolve 4-chloro-1-(4-isopropyl-phenyl)-butan...   \n",
       "\n",
       "                                      reactionSmiles  \\\n",
       "0  [C:1]([C:5]1[CH:10]=[CH:9][C:8]([OH:11])=[CH:7...   \n",
       "1  [Cl-].[Al+3].[Cl-].[Cl-].[Cl:5][CH2:6][CH2:7][...   \n",
       "2  [Al+3].[Cl-].[Cl-].[Cl-].[Cl:5][CH2:6][CH2:7][...   \n",
       "3  [Cl:1][CH2:2][CH2:3][CH2:4][C:5]([C:7]1[CH:12]...   \n",
       "4  [Cl:1][CH2:2][CH2:3][CH2:4][C:5]([C:7]1[CH:12]...   \n",
       "\n",
       "                          productSmiles  \\\n",
       "0             ['C(C)(C)(C)C1CCC(CC1)O']   \n",
       "1      ['ClCCCC(=O)C1=CC=C(C=C1)C(C)C']   \n",
       "2          ['ClCCCC(=O)C1=CC=C(C=C1)C']   \n",
       "3  ['BrC(C)(C)C1=CC=C(C=C1)C(CCCCl)=O']   \n",
       "4  ['BrC(C)(C)C1=CC=C(C=C1)C(CCCCl)=O']   \n",
       "\n",
       "                                               title Rf_value  \n",
       "0                                                NaN      NaN  \n",
       "1  Step h: 4-Chloro-1-(4-isopropyl-phenyl)-butan-...      NaN  \n",
       "2   Step d: 4-Chloro-1-(4-methyl-phenyl)-butan-1-one      NaN  \n",
       "3  1-[4-(1-Bromo-1-methyl-ethyl)-phenyl]-4-chloro...      NaN  \n",
       "4  1-[4-(1-Bromo-1-methyl-ethyl)-phenyl]-4-chloro...      NaN  "
      ]
     },
     "execution_count": 7,
     "metadata": {},
     "output_type": "execute_result"
    }
   ],
   "source": [
    "df_new.head()\n",
    "df_processed_first_try = extract_rf_eluent(df_new)\n",
    "df_processed_first_try.head()\n",
    "#df_processed_first_try.to_csv(r'C:\\Users\\milen\\git\\ppChem\\PPChem_TLC\\extracted_data_first_processing_rf_values.csv', index=False)"
   ]
  },
  {
   "cell_type": "markdown",
   "metadata": {},
   "source": [
    "Now the second function: already the dataframe size cut down from 1000 entries to 246 which we can hopefully treat with a LLM."
   ]
  },
  {
   "cell_type": "code",
   "execution_count": 24,
   "metadata": {},
   "outputs": [
    {
     "data": {
      "text/plain": [
       "(20, 4)"
      ]
     },
     "execution_count": 24,
     "metadata": {},
     "output_type": "execute_result"
    }
   ],
   "source": [
    "df_processed_second_try = extract_rows_with_rf(df_new)\n",
    "df_processed_second_try.head()\n",
    "df_processed_second_try.shape"
   ]
  },
  {
   "cell_type": "markdown",
   "metadata": {},
   "source": [
    "For the LLM we use the API of the open source model offered by Groq Clouds (https://console.groq.com/docs/quickstart). Different models can be tested out."
   ]
  },
  {
   "cell_type": "code",
   "execution_count": 14,
   "metadata": {},
   "outputs": [
    {
     "name": "stdout",
     "output_type": "stream",
     "text": [
      "Rf = 0.22\n",
      "Solvent A (Hexane) = 1\n",
      "Solvent B (Ethyl Acetate) = 20\n",
      "% solvent A = 4.76%\n",
      "% solvent B = 95.24%\n",
      "\n",
      "Note: The % solvent A and % solvent B are calculated by dividing each solvent ratio by the total sum of the solvent ratio.\n"
     ]
    }
   ],
   "source": [
    "#Access token croq: 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\n",
    "\n",
    "\n",
    "\n",
    "# Create a Groq client (it is recommended to use the following Quickstart: https://console.groq.com/docs/quickstart)\n",
    "# However, this did not work in our case and we had to use the following code to create a client \n",
    "client = Groq(\n",
    "    api_key=\"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\",\n",
    ")\n",
    "\n",
    "chat_completion = client.chat.completions.create(\n",
    "    messages=[\n",
    "        {\n",
    "            \"role\": \"user\",\n",
    "            \"content\": \"Give me the Rf value, the solvent mixture and their ratio of the following procedure: Rf(Hex/EtOAc 1:20):0.22 in the following format: Rf= , solvent A= , solvent B= , % solvent A= , % solvent B= .\",\n",
    "        }\n",
    "    ],\n",
    "    model=\"mixtral-8x7b-32768\", # other models: LlaMA3 70 b (llama3-70b-8192) can be found here: https://console.groq.com/docs/models\n",
    ")\n",
    "\n",
    "print(chat_completion.choices[0].message.content)"
   ]
  },
  {
   "cell_type": "code",
   "execution_count": null,
   "metadata": {},
   "outputs": [],
   "source": []
  }
 ],
 "metadata": {
  "kernelspec": {
   "display_name": "ppchem",
   "language": "python",
   "name": "python3"
  },
  "language_info": {
   "codemirror_mode": {
    "name": "ipython",
    "version": 3
   },
   "file_extension": ".py",
   "mimetype": "text/x-python",
   "name": "python",
   "nbconvert_exporter": "python",
   "pygments_lexer": "ipython3",
   "version": "3.10.13"
  }
 },
 "nbformat": 4,
 "nbformat_minor": 2
}
