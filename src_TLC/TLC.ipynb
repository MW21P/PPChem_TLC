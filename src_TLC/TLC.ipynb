{
 "cells": [
  {
   "cell_type": "markdown",
   "metadata": {},
   "source": [
    "# Welcome to our documentation notebook!\n",
    "In this notebook we will guide you through our progress and discuss, which challenges we faced along the way. "
   ]
  },
  {
   "cell_type": "markdown",
   "metadata": {},
   "source": [
    "# 1. Extraction of data\n",
    "The first thing we wanted to achieve was extracting the data we are interested in from the XML files (XML files are used from a dataset of US patent applications from 2001 to 2016. This dataset can be found here: https://figshare.com/articles/dataset/Chemical_reactions_from_US_patents_1976-Sep2016_/5104873), as there is no open source dataset of Rf values for TLCs. \n",
    "We were interested in the title, the general experimental procedure, the reaction SMILES, but most importantly the product SMILES. That is when we faced the first challenge: we did not know, how to treat and iterate through XML files. This turned out to be pretty feasible after spending a bit of time, familiarizing with the structure. However, we noted that not all information we wanted to extract where listed in the same manner (the product SMILES for example), so it took a while until we finalized the function that enabled us to extract all the data we wanted to have. \n"
   ]
  },
  {
   "cell_type": "code",
   "execution_count": 1,
   "metadata": {},
   "outputs": [],
   "source": [
    "# First we import the necessary libraries\n",
    "\n",
    "import xml.etree.cElementTree as et     # for parsing the XML file\n",
    "import pandas as pd\n",
    "import numpy as np\n",
    "import os\n",
    "import re\n",
    "from groq import Groq # for the LLM Groq queries (needs to be installed via pip)\n",
    "import json\n",
    "from tqdm import tqdm\n",
    "from config import LLM_API_KEY\n",
    "from tqdm import tqdm"
   ]
  },
  {
   "cell_type": "markdown",
   "metadata": {},
   "source": [
    "Now we use a function to iterate over all the XML files in the applications data from 2001. We collect the title, the paragraphText, mostly including the experimental procedures, the reaction SMILES and the product SMILES from it."
   ]
  },
  {
   "cell_type": "code",
   "execution_count": 3,
   "metadata": {},
   "outputs": [],
   "source": [
    "def extract_data(root_file):\n",
    "    \"\"\"function that extracts data from an XML file and returns a list of dictionaries containing the extracted information.\n",
    "        Information to be extracted includes the title of the reaction, the experimental procedure, the reaction SMILES, and the product SMILES.\n",
    "\n",
    "    Args:\n",
    "        root_file: root of the parsed XML file\n",
    "\n",
    "    Returns:\n",
    "        reaction_list: list of dictionaries containing the extracted information\n",
    "    \"\"\"\n",
    "    \n",
    "    # Define the namespace that is used to prevent mismatching of tags in the XML file\n",
    "    ns = {'cml': 'http://www.xml-cml.org/schema', 'dl': 'http://bitbucket.org/dan2097'}\n",
    "\n",
    "    # Create lists to store extracted information\n",
    "    reaction_list = []\n",
    "\n",
    "    # Find all <reaction> elements\n",
    "    reaction_elements = root_file.findall('.//cml:reaction', ns)\n",
    "\n",
    "    # Iterate over each <reaction> element\n",
    "    for reaction_element in reaction_elements:\n",
    "        # Create a dictionary to store information about the reaction\n",
    "        reaction_dict = {}\n",
    "\n",
    "        # Extract title\n",
    "        title = reaction_element.find('.//dl:headingText', ns)\n",
    "        if title is not None:\n",
    "            reaction_dict['title'] = title.text\n",
    "\n",
    "        # Extract paragraph text\n",
    "        paragraph_text = reaction_element.find('.//dl:paragraphText', ns)\n",
    "        if paragraph_text is not None:\n",
    "            reaction_dict['paragraphText'] = paragraph_text.text\n",
    "\n",
    "        # Extract reaction SMILES\n",
    "        reaction_smiles = reaction_element.find('.//dl:reactionSmiles', ns)\n",
    "        if reaction_smiles is not None:\n",
    "            reaction_dict['reactionSmiles'] = reaction_smiles.text\n",
    "\n",
    "        # Extract product SMILES\n",
    "        product_elements = reaction_element.findall('.//cml:product', ns)\n",
    "        product_smiles = []\n",
    "        for product_element in product_elements:\n",
    "            identifier_element = product_element.find('.//cml:identifier[@dictRef=\"cml:smiles\"]', ns)\n",
    "            if identifier_element is not None:\n",
    "                smiles_value = identifier_element.get('value')\n",
    "                if smiles_value is not None:\n",
    "                    product_smiles.append(smiles_value)\n",
    "        if product_smiles:\n",
    "            reaction_dict['productSmiles'] = product_smiles\n",
    "\n",
    "        # Append the reaction dictionary to the reaction list\n",
    "        reaction_list.append(reaction_dict)\n",
    "\n",
    "    # Check if any values were extracted\n",
    "    #print(\"Reaction List:\", reaction_list)\n",
    "    return reaction_list\n"
   ]
  },
  {
   "cell_type": "markdown",
   "metadata": {},
   "source": [
    "In a second step, we iterate through all files in every folder of the application data of the dataset and extract the data with the function extract_data. This takes quite a bit, but you can see the progress whenever a new folder is treated. "
   ]
  },
  {
   "cell_type": "code",
   "execution_count": 3,
   "metadata": {},
   "outputs": [
    {
     "name": "stdout",
     "output_type": "stream",
     "text": [
      "C:\\Users\\milen\\git\\ppChem\\PPChem_TLC\\data\\applications\\2001\n",
      "C:\\Users\\milen\\git\\ppChem\\PPChem_TLC\\data\\applications\\2002\n",
      "C:\\Users\\milen\\git\\ppChem\\PPChem_TLC\\data\\applications\\2003\n",
      "C:\\Users\\milen\\git\\ppChem\\PPChem_TLC\\data\\applications\\2004\n",
      "C:\\Users\\milen\\git\\ppChem\\PPChem_TLC\\data\\applications\\2005\n",
      "C:\\Users\\milen\\git\\ppChem\\PPChem_TLC\\data\\applications\\2006\n",
      "C:\\Users\\milen\\git\\ppChem\\PPChem_TLC\\data\\applications\\2007\n",
      "C:\\Users\\milen\\git\\ppChem\\PPChem_TLC\\data\\applications\\2008\n",
      "C:\\Users\\milen\\git\\ppChem\\PPChem_TLC\\data\\applications\\2009\n",
      "C:\\Users\\milen\\git\\ppChem\\PPChem_TLC\\data\\applications\\2010\n"
     ]
    },
    {
     "ename": "KeyboardInterrupt",
     "evalue": "",
     "output_type": "error",
     "traceback": [
      "\u001b[1;31m---------------------------------------------------------------------------\u001b[0m",
      "\u001b[1;31mKeyboardInterrupt\u001b[0m                         Traceback (most recent call last)",
      "Cell \u001b[1;32mIn[3], line 11\u001b[0m\n\u001b[0;32m      9\u001b[0m \u001b[38;5;28;01mif\u001b[39;00m file\u001b[38;5;241m.\u001b[39mendswith(\u001b[38;5;124m'\u001b[39m\u001b[38;5;124m.xml\u001b[39m\u001b[38;5;124m'\u001b[39m):\n\u001b[0;32m     10\u001b[0m     file \u001b[38;5;241m=\u001b[39m os\u001b[38;5;241m.\u001b[39mpath\u001b[38;5;241m.\u001b[39mjoin(folder, file)\n\u001b[1;32m---> 11\u001b[0m     tree \u001b[38;5;241m=\u001b[39m \u001b[43met\u001b[49m\u001b[38;5;241;43m.\u001b[39;49m\u001b[43mparse\u001b[49m\u001b[43m(\u001b[49m\u001b[43mfile\u001b[49m\u001b[43m)\u001b[49m\n\u001b[0;32m     12\u001b[0m  \u001b[38;5;66;03m# define root of the XML file to iterate through the file\u001b[39;00m\n\u001b[0;32m     13\u001b[0m     root \u001b[38;5;241m=\u001b[39m tree\u001b[38;5;241m.\u001b[39mgetroot()\n",
      "File \u001b[1;32mc:\\Users\\milen\\anaconda3\\envs\\ppchem\\lib\\xml\\etree\\ElementTree.py:1222\u001b[0m, in \u001b[0;36mparse\u001b[1;34m(source, parser)\u001b[0m\n\u001b[0;32m   1213\u001b[0m \u001b[38;5;250m\u001b[39m\u001b[38;5;124;03m\"\"\"Parse XML document into element tree.\u001b[39;00m\n\u001b[0;32m   1214\u001b[0m \n\u001b[0;32m   1215\u001b[0m \u001b[38;5;124;03m*source* is a filename or file object containing XML data,\u001b[39;00m\n\u001b[1;32m   (...)\u001b[0m\n\u001b[0;32m   1219\u001b[0m \n\u001b[0;32m   1220\u001b[0m \u001b[38;5;124;03m\"\"\"\u001b[39;00m\n\u001b[0;32m   1221\u001b[0m tree \u001b[38;5;241m=\u001b[39m ElementTree()\n\u001b[1;32m-> 1222\u001b[0m \u001b[43mtree\u001b[49m\u001b[38;5;241;43m.\u001b[39;49m\u001b[43mparse\u001b[49m\u001b[43m(\u001b[49m\u001b[43msource\u001b[49m\u001b[43m,\u001b[49m\u001b[43m \u001b[49m\u001b[43mparser\u001b[49m\u001b[43m)\u001b[49m\n\u001b[0;32m   1223\u001b[0m \u001b[38;5;28;01mreturn\u001b[39;00m tree\n",
      "File \u001b[1;32mc:\\Users\\milen\\anaconda3\\envs\\ppchem\\lib\\xml\\etree\\ElementTree.py:580\u001b[0m, in \u001b[0;36mElementTree.parse\u001b[1;34m(self, source, parser)\u001b[0m\n\u001b[0;32m    574\u001b[0m     parser \u001b[38;5;241m=\u001b[39m XMLParser()\n\u001b[0;32m    575\u001b[0m     \u001b[38;5;28;01mif\u001b[39;00m \u001b[38;5;28mhasattr\u001b[39m(parser, \u001b[38;5;124m'\u001b[39m\u001b[38;5;124m_parse_whole\u001b[39m\u001b[38;5;124m'\u001b[39m):\n\u001b[0;32m    576\u001b[0m         \u001b[38;5;66;03m# The default XMLParser, when it comes from an accelerator,\u001b[39;00m\n\u001b[0;32m    577\u001b[0m         \u001b[38;5;66;03m# can define an internal _parse_whole API for efficiency.\u001b[39;00m\n\u001b[0;32m    578\u001b[0m         \u001b[38;5;66;03m# It can be used to parse the whole source without feeding\u001b[39;00m\n\u001b[0;32m    579\u001b[0m         \u001b[38;5;66;03m# it with chunks.\u001b[39;00m\n\u001b[1;32m--> 580\u001b[0m         \u001b[38;5;28mself\u001b[39m\u001b[38;5;241m.\u001b[39m_root \u001b[38;5;241m=\u001b[39m \u001b[43mparser\u001b[49m\u001b[38;5;241;43m.\u001b[39;49m\u001b[43m_parse_whole\u001b[49m\u001b[43m(\u001b[49m\u001b[43msource\u001b[49m\u001b[43m)\u001b[49m\n\u001b[0;32m    581\u001b[0m         \u001b[38;5;28;01mreturn\u001b[39;00m \u001b[38;5;28mself\u001b[39m\u001b[38;5;241m.\u001b[39m_root\n\u001b[0;32m    582\u001b[0m \u001b[38;5;28;01mwhile\u001b[39;00m \u001b[38;5;28;01mTrue\u001b[39;00m:\n",
      "\u001b[1;31mKeyboardInterrupt\u001b[0m: "
     ]
    }
   ],
   "source": [
    "Applications_list = []\n",
    "\n",
    "# define path to access first XML file in the folder 2001 of applications\n",
    "# Insert the path to the folder containing the XML files\n",
    "for folder in os.listdir(r'C:\\Users\\milen\\git\\ppChem\\PPChem_TLC\\data\\applications'):\n",
    "    folder = os.path.join(r'C:\\Users\\milen\\git\\ppChem\\PPChem_TLC\\data\\applications', folder)\n",
    "    print(folder) \n",
    "    for file in os.listdir(folder):\n",
    "        if file.endswith('.xml'):\n",
    "            file = os.path.join(folder, file)\n",
    "            tree = et.parse(file)\n",
    "         # define root of the XML file to iterate through the file\n",
    "            root = tree.getroot()\n",
    "            Applications_list.append(extract_data(root))    \n",
    "                  "
   ]
  },
  {
   "cell_type": "markdown",
   "metadata": {},
   "source": [
    "# 2. Create a dataframe from extracted data.\n",
    "After the first step, it was clear that the extracted data needed a lot (a LOT) of pre-processing before we could finally feed it into our ML model. We decided, it would be smartest to convert everything into a pandas dataframe from the list of dictionaries we got from the `extract_data` function."
   ]
  },
  {
   "cell_type": "code",
   "execution_count": null,
   "metadata": {},
   "outputs": [
    {
     "name": "stdout",
     "output_type": "stream",
     "text": [
      "(1939253, 4)\n"
     ]
    },
    {
     "data": {
      "text/html": [
       "<div>\n",
       "<style scoped>\n",
       "    .dataframe tbody tr th:only-of-type {\n",
       "        vertical-align: middle;\n",
       "    }\n",
       "\n",
       "    .dataframe tbody tr th {\n",
       "        vertical-align: top;\n",
       "    }\n",
       "\n",
       "    .dataframe thead th {\n",
       "        text-align: right;\n",
       "    }\n",
       "</style>\n",
       "<table border=\"1\" class=\"dataframe\">\n",
       "  <thead>\n",
       "    <tr style=\"text-align: right;\">\n",
       "      <th></th>\n",
       "      <th>paragraphText</th>\n",
       "      <th>reactionSmiles</th>\n",
       "      <th>productSmiles</th>\n",
       "      <th>title</th>\n",
       "    </tr>\n",
       "  </thead>\n",
       "  <tbody>\n",
       "    <tr>\n",
       "      <th>0</th>\n",
       "      <td>PL 137,526 describes the hydrogenation of p-te...</td>\n",
       "      <td>[C:1]([C:5]1[CH:10]=[CH:9][C:8]([OH:11])=[CH:7...</td>\n",
       "      <td>[C(C)(C)(C)C1CCC(CC1)O]</td>\n",
       "      <td>NaN</td>\n",
       "    </tr>\n",
       "    <tr>\n",
       "      <th>1</th>\n",
       "      <td>Slurry aluminum chloride (140.9 g, 1.075 mol) ...</td>\n",
       "      <td>[Cl-].[Al+3].[Cl-].[Cl-].[Cl:5][CH2:6][CH2:7][...</td>\n",
       "      <td>[ClCCCC(=O)C1=CC=C(C=C1)C(C)C]</td>\n",
       "      <td>Step h: 4-Chloro-1-(4-isopropyl-phenyl)-butan-...</td>\n",
       "    </tr>\n",
       "    <tr>\n",
       "      <th>2</th>\n",
       "      <td>Suspend anhydrous AlCl3 (156 g, 1.15 mol) in t...</td>\n",
       "      <td>[Al+3].[Cl-].[Cl-].[Cl-].[Cl:5][CH2:6][CH2:7][...</td>\n",
       "      <td>[ClCCCC(=O)C1=CC=C(C=C1)C]</td>\n",
       "      <td>Step d: 4-Chloro-1-(4-methyl-phenyl)-butan-1-one</td>\n",
       "    </tr>\n",
       "    <tr>\n",
       "      <th>3</th>\n",
       "      <td>Dissolve 4-chloro-1-(4-isopropyl-phenyl)-butan...</td>\n",
       "      <td>[Cl:1][CH2:2][CH2:3][CH2:4][C:5]([C:7]1[CH:12]...</td>\n",
       "      <td>[BrC(C)(C)C1=CC=C(C=C1)C(CCCCl)=O]</td>\n",
       "      <td>1-[4-(1-Bromo-1-methyl-ethyl)-phenyl]-4-chloro...</td>\n",
       "    </tr>\n",
       "    <tr>\n",
       "      <th>4</th>\n",
       "      <td>Dissolve 4-chloro-1-(4-isopropyl-phenyl)-butan...</td>\n",
       "      <td>[Cl:1][CH2:2][CH2:3][CH2:4][C:5]([C:7]1[CH:12]...</td>\n",
       "      <td>[BrC(C)(C)C1=CC=C(C=C1)C(CCCCl)=O]</td>\n",
       "      <td>1-[4-(1-Bromo-1-methyl-ethyl)-phenyl]-4-chloro...</td>\n",
       "    </tr>\n",
       "  </tbody>\n",
       "</table>\n",
       "</div>"
      ],
      "text/plain": [
       "                                       paragraphText  \\\n",
       "0  PL 137,526 describes the hydrogenation of p-te...   \n",
       "1  Slurry aluminum chloride (140.9 g, 1.075 mol) ...   \n",
       "2  Suspend anhydrous AlCl3 (156 g, 1.15 mol) in t...   \n",
       "3  Dissolve 4-chloro-1-(4-isopropyl-phenyl)-butan...   \n",
       "4  Dissolve 4-chloro-1-(4-isopropyl-phenyl)-butan...   \n",
       "\n",
       "                                      reactionSmiles  \\\n",
       "0  [C:1]([C:5]1[CH:10]=[CH:9][C:8]([OH:11])=[CH:7...   \n",
       "1  [Cl-].[Al+3].[Cl-].[Cl-].[Cl:5][CH2:6][CH2:7][...   \n",
       "2  [Al+3].[Cl-].[Cl-].[Cl-].[Cl:5][CH2:6][CH2:7][...   \n",
       "3  [Cl:1][CH2:2][CH2:3][CH2:4][C:5]([C:7]1[CH:12]...   \n",
       "4  [Cl:1][CH2:2][CH2:3][CH2:4][C:5]([C:7]1[CH:12]...   \n",
       "\n",
       "                        productSmiles  \\\n",
       "0             [C(C)(C)(C)C1CCC(CC1)O]   \n",
       "1      [ClCCCC(=O)C1=CC=C(C=C1)C(C)C]   \n",
       "2          [ClCCCC(=O)C1=CC=C(C=C1)C]   \n",
       "3  [BrC(C)(C)C1=CC=C(C=C1)C(CCCCl)=O]   \n",
       "4  [BrC(C)(C)C1=CC=C(C=C1)C(CCCCl)=O]   \n",
       "\n",
       "                                               title  \n",
       "0                                                NaN  \n",
       "1  Step h: 4-Chloro-1-(4-isopropyl-phenyl)-butan-...  \n",
       "2   Step d: 4-Chloro-1-(4-methyl-phenyl)-butan-1-one  \n",
       "3  1-[4-(1-Bromo-1-methyl-ethyl)-phenyl]-4-chloro...  \n",
       "4  1-[4-(1-Bromo-1-methyl-ethyl)-phenyl]-4-chloro...  "
      ]
     },
     "execution_count": 14,
     "metadata": {},
     "output_type": "execute_result"
    }
   ],
   "source": [
    "# Create a DataFrame from the extracted data\n",
    "df_extracts = pd.DataFrame(Applications_list[0])\n",
    "\n",
    "# Iterate through the list of dictionaries and create a DataFrame\n",
    "for i in range(1, len(Applications_list)):\n",
    "    df = pd.DataFrame(Applications_list[i])\n",
    "    \n",
    "    # Concatenate the DataFrames\n",
    "    df_extracts = pd.concat([df_extracts, df], ignore_index=True)\n",
    "\n",
    "print(df_extracts.shape)\n",
    "df_extracts.head()\n"
   ]
  },
  {
   "cell_type": "markdown",
   "metadata": {},
   "source": [
    "That Dataframe is huge! Finally, save all the extracted data into a csv file on the local device."
   ]
  },
  {
   "cell_type": "code",
   "execution_count": null,
   "metadata": {},
   "outputs": [],
   "source": [
    "df_extracts.to_csv(r'C:\\Users\\milen\\git\\ppChem\\PPChem_TLC\\extracted_data_raw_applications.csv', index=False)"
   ]
  },
  {
   "cell_type": "markdown",
   "metadata": {},
   "source": [
    "# 3. Pre-Processing of the Data using Regex and a LLM\n",
    "Of course, not all entries in the data frame can be used for our model. Many of the experimental procedures do not include any information about the Rf value. Thus, we need to find the entries with Rf values. There is only one problem: all experimental procedures are written differently. Thus, filtering them with Regex is quite a pain and did not give the outcome, we envisioned (although we spent enugh time with regex to call us friends by now). To circumvent this, we created a function, that pre-filters the experimental procedure to drop the rows that do not include any information about Rf values and keeps the other entries. Those remaining entries - as they are very broadely filtering - are treated with a LLM (to get it to run, you have to insert your API key for Groq in the config.py file as mentioned in the README) and the response is parsed with regex again to extract the information we need. "
   ]
  },
  {
   "cell_type": "markdown",
   "metadata": {},
   "source": [
    "## 3.1 Functions for Pre-Processing"
   ]
  },
  {
   "cell_type": "markdown",
   "metadata": {},
   "source": [
    "This is the first function we wrote, still based on full extraction with regex. The regex pattern we had was close, but facing the issue, that also solvents and their corresponding ratios would have needed to be extracted with regex, we felt like it would be faster with the LLM. "
   ]
  },
  {
   "cell_type": "code",
   "execution_count": 2,
   "metadata": {},
   "outputs": [],
   "source": [
    "def extract_rf_eluent(Dataframe: pd.DataFrame):\n",
    "    \"\"\"Function that applies defined regex patterns to data in a dataframe and creates \n",
    "    the following new columns: \n",
    "    Rf value, solvent A, solvent B, % solvent A, % solvent B. If no Rf value can be found, all columns\n",
    "    are filled with NaN. \n",
    "\n",
    "    Args:\n",
    "        Dataframe (_type_): Dataframe containing the extracted data from the US patents\n",
    "    \"\"\"\n",
    "    # copy the dataframe to leave old dataframe unchanged\n",
    "    df = Dataframe.copy()\n",
    "    \n",
    "    # Define the regex patterns\n",
    "    Rf_check = r'( ?R[fF]?[ :=(]?)'\n",
    "    Rf_pattern = r'(0\\.(?!0|9)\\d{1,2})\\b(?! *mg\\b| *mL\\b| *g\\b)' # exclude decimals that start by 0.0x, this yet seems not to work though, try to specifiy that digit after . cannot start with 0.\n",
    "    #Rf_pattern = r'[ =:]?(0\\.[^0][0-9])[^\\dmglL](?! mg)' # exclude decimals that start by 0.0x, this yet seems not to work though, try to specifiy that digit after . cannot start with 0.\n",
    "    \n",
    "    #set a count to see how many multiple Rf values are found in the dataframe, how many NaN values are found\n",
    "    count = 0\n",
    "    count_nan = 0\n",
    "    \n",
    "    # Extract the Rf values from the paragraphText and put them into a new column\n",
    "    for index, row in df.iterrows():\n",
    "        checkRf = re.findall(Rf_check, row['paragraphText'])\n",
    "        \n",
    "        #check if Rf value can be found in the paragraphText column\n",
    "        if checkRf:\n",
    "             #try to find the Rf value in the paragraphText column\n",
    "            match = re.findall(Rf_pattern, row['paragraphText'])\n",
    "            if match:\n",
    "                df.at[index, 'Rf_value'] = match[0] # df['paragraphText'].str.extract(Rf_pattern)\n",
    "            \n",
    "                # Check if multiple Rf values were found (potential error source)\n",
    "                if len(match) > 1:\n",
    "                    print('Multiple Rf values found in paragraphText:', match, 'at index:', index)\n",
    "                    count += 1\n",
    "       \n",
    "        else:\n",
    "            df.at[index, 'Rf_value'] = np.nan\n",
    "            count_nan += 1\n",
    "            \n",
    "    print(\"Number of entries with multiple Rf values:\", count)\n",
    "    print(\"Number of entries with no Rf values found:\", count_nan)\n",
    "    print(\"Number of entries with Rf values found:\", df['Rf_value'].count())\n",
    "    return df\n",
    "    "
   ]
  },
  {
   "cell_type": "markdown",
   "metadata": {},
   "source": [
    "The `extract_rows_with_rf` function is our not very selective pre-filter, to at least slightly reduce the computation cost of the LLM afterwards."
   ]
  },
  {
   "cell_type": "code",
   "execution_count": 3,
   "metadata": {},
   "outputs": [],
   "source": [
    "def extract_rows_with_rf(Dataframe: pd.DataFrame):\n",
    "    \"\"\"Function that extracts rows with Rf values from a dataframe and returns a new dataframe containing only these rows. \n",
    "\n",
    "    Args:\n",
    "        Dataframe (_type_): Dataframe containing the extracted data from the US patents\n",
    "    \"\"\"\n",
    "    # copy the dataframe to leave old dataframe unchanged\n",
    "    df = Dataframe.copy()\n",
    "    \n",
    "    # Define the regex patterns\n",
    "    Rf_check = r'( ?R[fF][ :=(]?)'\n",
    "    \n",
    "    # List to store indices of rows without Rf values\n",
    "    rows_to_drop = []\n",
    "    \n",
    "    # Search for rows with Rf values in the paragraphText column\n",
    "    for index, row in df.iterrows():\n",
    "        checkRf = re.findall(Rf_check, row['paragraphText'])\n",
    "\n",
    "        if not checkRf:\n",
    "            rows_to_drop.append(index)\n",
    "               \n",
    "    # Drop rows without Rf values\n",
    "    df = df.drop(rows_to_drop)\n",
    "            \n",
    "    return df\n",
    "    "
   ]
  },
  {
   "cell_type": "markdown",
   "metadata": {},
   "source": [
    "Now we come to the heart of the pre-processing: the `get_values` and `parse_response` functions iterate through the whole dataframe and apply the LLM to a very specific user prompt we wrote. Before coming up with this solution, to again use regex for the extraction of the solvents and ratios, we tried to directly convert the response from the LLM into a dictionary which could have been easily added to the new dataframe. However, we had to accept, that LLMs love talking bla bla and this blew up our rigid structure needed to avoid errors. So, again, regex, our old friend. "
   ]
  },
  {
   "cell_type": "code",
   "execution_count": 34,
   "metadata": {},
   "outputs": [],
   "source": [
    "def get_values(Dataframe: pd.DataFrame):\n",
    "    \"\"\"Function that extracts the Rf value from a row in a Dataframe using LLM and returns it.\n",
    "\n",
    "    Args:\n",
    "        DataFrame (_type_): DataFrame containing the extracted data from the US patents\n",
    "    \"\"\"\n",
    "    \n",
    "    client = Groq(\n",
    "        api_key= LLM_API_KEY ) # insert your API Key for Groq in the config.py file to use the LLM model\n",
    "    \n",
    "    #with open(csv_output_LLM, 'a', newline = '') as csvfile:\n",
    "     #   writer = csv.writer(csvfile)\n",
    "    \n",
    "    for index, row in tqdm(Dataframe.iterrows(), total=Dataframe.shape[0]):\n",
    "        user_prompt = f\"\"\"Give me the Rf value, the solvent mixture and the ratio of the solvents in percent for each solvent of this \n",
    "                        procedure: {row['paragraphText']} in the following format only: Rf= , solvent A= , solvent B= , percent A= , \n",
    "                        percent B= . If there is a third solvent, please provide the information in the same format, call it additive C =\n",
    "                        and percent C = . If no information is given for one of the categories, put None for this category. Only give the \n",
    "                        information requested as output, no additional notes or information!!!\"\"\" # f\"Please only provide the Rf value, solvents A and B, additives C (if applicable), and their ratios in percent as a Python dictionary only (without 'Here is the python dictionary') with keys 'Rf', 'solvent A', 'solvent B', 'additive C', 'percent A', 'percent B', and 'percent C' of this procedure: {row['paragraphText']}. If there is no information for one category, put 'Nan'. Do not provide any additional notes or information except for the dictionary!!! Always use this format!!\" # \"Give me the Rf value, the solvent A, B and additive C if applied and their ratios in percent as a python dictionary calling the keys Rf (should be a number), solvent A (should be a solvent only), solvent B (solvent only), percent A (number), percent B (number), additive C (solvent), percent C (number) of this procedure:\" + row['paragraphText'] + \"If there is no information for one category of solvent, put Nan. Do not put any other notes or information except for the dictionary!!! Always use this format!!\"  # \"Give me the Rf value, the solvent mixture and their ratio of the following procedure\" + row['paragraphText'] +  \"in the following format of a dictionary only: Rf= , solvent A= , solvent B= , percent A= , percent B= . If there is a third solvent, please provide the information in the same format, call it additive C and percent C = . Only give the values requested as output, no additional notes or information!!!\"        \n",
    "        \n",
    "        try:             \n",
    "            # Call the LLM model to extract the Rf value\n",
    "            chat_completion = client.chat.completions.create(\n",
    "                messages=[\n",
    "                    {\n",
    "                        \"role\": \"user\",\n",
    "                        \"content\": user_prompt,\n",
    "                    }\n",
    "                ],\n",
    "                model=\"llama3-70b-8192\", # other models: LlaMA3 70 b (llama3-70b-8192), mixtral (mixtral-8x7b-32768) can be found here: https://console.groq.com/docs/models\n",
    "            )\n",
    "            \n",
    "            # Extract the Rf value from the response\n",
    "            response = chat_completion.choices[0].message.content\n",
    "            #print(response)\n",
    "            \n",
    "            # track the progress of the function \n",
    "            if index % 100 == 0:\n",
    "                print(\"Progress:\", (index+1)/len(Dataframe) * 100, \"%\" )\n",
    "            \n",
    "            # Parse the response to extract the Rf value, solvent A, solvent B, % solvent A, and % solvent B using the parse_response function\n",
    "            rf_value, solvent_a, solvent_b, percent_a, percent_b, additive_c, percent_c = parse_response(response)\n",
    "            \n",
    "            # Add extracted values to new columns in the dataframe row\n",
    "            Dataframe.at[index, 'Rf'] = rf_value\n",
    "            Dataframe.at[index, 'Solvent_A'] = solvent_a\n",
    "            Dataframe.at[index, 'Solvent_B'] = solvent_b\n",
    "            Dataframe.at[index, 'Percent_A'] = percent_a\n",
    "            Dataframe.at[index, 'Percent_B'] = percent_b\n",
    "            Dataframe.at[index, 'Additive_C'] = additive_c\n",
    "            Dataframe.at[index, 'Percent_C'] = percent_c\n",
    "            \n",
    "            \n",
    "            \n",
    "        except Exception as e:\n",
    "            # Print the error message and the index of the row where the error occurred\n",
    "            print(e)\n",
    "            print(\"Error at index:\", index)\n",
    "            continue\n",
    "        \n",
    "    return Dataframe\n",
    "        \n",
    "\n",
    "        \n",
    "    "
   ]
  },
  {
   "cell_type": "code",
   "execution_count": 5,
   "metadata": {},
   "outputs": [],
   "source": [
    "def parse_response(response: str):\n",
    "    \"\"\"Function that extracts the Rf value, solvent A, solvent B, % solvent A, and % solvent B from a LLM response.\n",
    "\n",
    "    Args:\n",
    "        response (str): response from the LLM model \n",
    "\n",
    "    Returns:\n",
    "        rf_value (str)\n",
    "        solvent_a (str) \n",
    "        solvent_b (str) \n",
    "        percent_a (str)\n",
    "        percent_b (str)\n",
    "        additive_c (str)\n",
    "        percent_c (str)\n",
    "    \"\"\"\n",
    "    try: \n",
    "        \n",
    "    # search for Rf value in the response using regex\n",
    "        rf_value_match = re.search(r\"Rf\\s*=\\s*(\\d+\\.\\d+)\", response)\n",
    "        solvent_a_match = re.search(r\"solvent\\s+A\\s*=\\s*([^,]+)\", response)\n",
    "        solvent_b_match = re.search(r\"solvent\\s+B\\s*=\\s*([^,]+)\", response)\n",
    "        additive_c_match = re.search(r\"additive\\s+C\\s*=\\s*([^,]+)\", response)\n",
    "        percent_a_match = re.search(r\"percent\\s+A\\s*=\\s*(\\d+)\", response)\n",
    "        percent_b_match = re.search(r\"percent\\s+B\\s*=\\s*(\\d+)\", response)\n",
    "        percent_c_match = re.search(r\"percent\\s+C\\s*=\\s*(\\d+\\.\\d+|\\d+)\", response)\n",
    "        \n",
    "    except KeyError:\n",
    "        raise KeyError(f\"Error extracting values from the response: {response_str}\")\n",
    "    \n",
    "    \n",
    "    \n",
    "    # Extract values from regex matches\n",
    "    rf_value = rf_value_match.group(1) if rf_value_match else None\n",
    "    solvent_a = solvent_a_match.group(1) if solvent_a_match else None\n",
    "    solvent_b = solvent_b_match.group(1) if solvent_b_match else None\n",
    "    percent_a = percent_a_match.group(1) if percent_a_match else None\n",
    "    percent_b = percent_b_match.group(1) if percent_b_match else None\n",
    "    additive_c = additive_c_match.group(1) if additive_c_match else None\n",
    "    percent_c = percent_c_match.group(1) if percent_c_match else None\n",
    "\n",
    "    # Return the extracted values\n",
    "    return rf_value, solvent_a, solvent_b, percent_a, percent_b, additive_c, percent_c"
   ]
  },
  {
   "cell_type": "markdown",
   "metadata": {},
   "source": [
    "## 3.2 Pre-Processing with the extracted data\n",
    "Now let's see, what we get out from the first pre-processing step. We wouldn't recommend you to run this following lines, as our laptops spent days and nights extracting row per row. "
   ]
  },
  {
   "cell_type": "markdown",
   "metadata": {},
   "source": [
    "### 3.2.1 Dropping lines without Rf values using regex"
   ]
  },
  {
   "cell_type": "markdown",
   "metadata": {},
   "source": [
    "First we load the previously extracted data from the US patents into a new dataframe and check its size (just out of curiosity)."
   ]
  },
  {
   "cell_type": "code",
   "execution_count": 4,
   "metadata": {},
   "outputs": [
    {
     "data": {
      "text/plain": [
       "(1939253, 4)"
      ]
     },
     "execution_count": 4,
     "metadata": {},
     "output_type": "execute_result"
    }
   ],
   "source": [
    "# That is the csv file that contains all the raw data from the US patents\n",
    "df_new = pd.read_csv(r'C:\\Users\\milen\\git\\ppChem\\PPChem_TLC\\extracted_data_raw_applications.csv')\n",
    "df_new.shape"
   ]
  },
  {
   "cell_type": "markdown",
   "metadata": {},
   "source": [
    "Now we apply the first function `extract_rows_with_rf` to prefilter the dataframe. Already by this first filter, the size of the datafram shrinks quite a bit! We save the new dataframe, as we don't always want to restart all the functions."
   ]
  },
  {
   "cell_type": "code",
   "execution_count": 16,
   "metadata": {},
   "outputs": [
    {
     "data": {
      "text/html": [
       "<div>\n",
       "<style scoped>\n",
       "    .dataframe tbody tr th:only-of-type {\n",
       "        vertical-align: middle;\n",
       "    }\n",
       "\n",
       "    .dataframe tbody tr th {\n",
       "        vertical-align: top;\n",
       "    }\n",
       "\n",
       "    .dataframe thead th {\n",
       "        text-align: right;\n",
       "    }\n",
       "</style>\n",
       "<table border=\"1\" class=\"dataframe\">\n",
       "  <thead>\n",
       "    <tr style=\"text-align: right;\">\n",
       "      <th></th>\n",
       "      <th>paragraphText</th>\n",
       "      <th>reactionSmiles</th>\n",
       "      <th>productSmiles</th>\n",
       "      <th>title</th>\n",
       "    </tr>\n",
       "  </thead>\n",
       "  <tbody>\n",
       "    <tr>\n",
       "      <th>524</th>\n",
       "      <td>A mixture of 7-trifluoromethylsulfonyloxy-1-(4...</td>\n",
       "      <td>FC(F)(F)S(O[C:7]1[CH:16]=[C:15]2[C:10]([CH:11]...</td>\n",
       "      <td>['CN1CCN(CC1)C1=CC=CC2=CC=C(C=C12)C=1C=NC=NC1']</td>\n",
       "      <td>1-(4-Methylpiperazin-1-yl)-7-(pyrimid-5-yl)nap...</td>\n",
       "    </tr>\n",
       "    <tr>\n",
       "      <th>525</th>\n",
       "      <td>A mixture of the above acid (0.25 g, 0.82 mmol...</td>\n",
       "      <td>[CH3:1][N:2]1[CH2:7][CH2:6]O[CH2:4][CH2:3]1.O....</td>\n",
       "      <td>['ClC1=CC=C(CNC(=O)C2=CC3=C(C=CC=C3C=C2)N2CCN(...</td>\n",
       "      <td>8-(4-Methylpiperazin-1-yl)naphthalene-2-carbox...</td>\n",
       "    </tr>\n",
       "    <tr>\n",
       "      <th>538</th>\n",
       "      <td>A solution of 1,4-benzodioxan-6-amine (2.00 g,...</td>\n",
       "      <td>[O:1]1[C:6]2[CH:7]=[CH:8][C:9]([NH2:11])=[CH:1...</td>\n",
       "      <td>['O1CCOC2=C1C=CC(=C2)N2CCNCC2']</td>\n",
       "      <td>NaN</td>\n",
       "    </tr>\n",
       "    <tr>\n",
       "      <th>539</th>\n",
       "      <td>A solution of 6-aminochroman from part 2 of th...</td>\n",
       "      <td>[NH2:1][C:2]1[CH:3]=[C:4]2[C:9](=[CH:10][CH:11...</td>\n",
       "      <td>['O1CCCC2=CC(=CC=C12)N1CCNCC1']</td>\n",
       "      <td>1-(Chroman-6-yl)piperazine</td>\n",
       "    </tr>\n",
       "    <tr>\n",
       "      <th>540</th>\n",
       "      <td>A solution of 1-(1,4-benzodioxan-6-yl)piperazi...</td>\n",
       "      <td>O1C2C=CC(N3CCNCC3)=CC=2OCC1.C(O)(=O)C(O)=O.[O:...</td>\n",
       "      <td>['O1CCOC2=C1C=CC(=C2)N2CCN(CC2)CC2=CC=C(C=C2)F']</td>\n",
       "      <td>NaN</td>\n",
       "    </tr>\n",
       "  </tbody>\n",
       "</table>\n",
       "</div>"
      ],
      "text/plain": [
       "                                         paragraphText  \\\n",
       "524  A mixture of 7-trifluoromethylsulfonyloxy-1-(4...   \n",
       "525  A mixture of the above acid (0.25 g, 0.82 mmol...   \n",
       "538  A solution of 1,4-benzodioxan-6-amine (2.00 g,...   \n",
       "539  A solution of 6-aminochroman from part 2 of th...   \n",
       "540  A solution of 1-(1,4-benzodioxan-6-yl)piperazi...   \n",
       "\n",
       "                                        reactionSmiles  \\\n",
       "524  FC(F)(F)S(O[C:7]1[CH:16]=[C:15]2[C:10]([CH:11]...   \n",
       "525  [CH3:1][N:2]1[CH2:7][CH2:6]O[CH2:4][CH2:3]1.O....   \n",
       "538  [O:1]1[C:6]2[CH:7]=[CH:8][C:9]([NH2:11])=[CH:1...   \n",
       "539  [NH2:1][C:2]1[CH:3]=[C:4]2[C:9](=[CH:10][CH:11...   \n",
       "540  O1C2C=CC(N3CCNCC3)=CC=2OCC1.C(O)(=O)C(O)=O.[O:...   \n",
       "\n",
       "                                         productSmiles  \\\n",
       "524    ['CN1CCN(CC1)C1=CC=CC2=CC=C(C=C12)C=1C=NC=NC1']   \n",
       "525  ['ClC1=CC=C(CNC(=O)C2=CC3=C(C=CC=C3C=C2)N2CCN(...   \n",
       "538                    ['O1CCOC2=C1C=CC(=C2)N2CCNCC2']   \n",
       "539                    ['O1CCCC2=CC(=CC=C12)N1CCNCC1']   \n",
       "540   ['O1CCOC2=C1C=CC(=C2)N2CCN(CC2)CC2=CC=C(C=C2)F']   \n",
       "\n",
       "                                                 title  \n",
       "524  1-(4-Methylpiperazin-1-yl)-7-(pyrimid-5-yl)nap...  \n",
       "525  8-(4-Methylpiperazin-1-yl)naphthalene-2-carbox...  \n",
       "538                                                NaN  \n",
       "539                         1-(Chroman-6-yl)piperazine  \n",
       "540                                                NaN  "
      ]
     },
     "execution_count": 16,
     "metadata": {},
     "output_type": "execute_result"
    }
   ],
   "source": [
    "df_rf = extract_rows_with_rf(df_new)\n",
    "print(df_rf.shape)\n",
    "df_rf.to_csv(r'C:\\Users\\milen\\git\\ppChem\\PPChem_TLC\\data\\extracted_data_second_processing_rf_values.csv', index=False)\n",
    "df_rf.head()"
   ]
  },
  {
   "cell_type": "markdown",
   "metadata": {},
   "source": [
    "### 3.2.2 Extracting the other values of interest using a LLM"
   ]
  },
  {
   "cell_type": "markdown",
   "metadata": {},
   "source": [
    "First, we load the dataframe we saved from the previous function."
   ]
  },
  {
   "cell_type": "code",
   "execution_count": 8,
   "metadata": {},
   "outputs": [],
   "source": [
    "# if we restart from here, we can directly load the dataframe with the extracted rows containing Rf values.\n",
    "\n",
    "df_rf = pd.read_csv(r'C:\\Users\\milen\\git\\ppChem\\PPChem_TLC\\preprocessed_data_big_dataset_extracted_rows_36579.csv')"
   ]
  },
  {
   "cell_type": "markdown",
   "metadata": {},
   "source": [
    "For the LLM we use the API of the open source model offered by Groq Clouds (https://console.groq.com/docs/quickstart). Different models can be tested out. This is a first test, where we wanted to get familiar with how it works and to show some examples. Somehow, it did not work for both of us to import the LLM_API_KEY as in the instructions by groq. That's why we helped us otherwise by creating a new file named `config.py` in which the personal API key can be inserted. This file is then integrated to prevent sensitive information being pushed to GitHub (although I managed doing exactly this in the first commit, yey)."
   ]
  },
  {
   "cell_type": "markdown",
   "metadata": {},
   "source": [
    "#### This is only a general test"
   ]
  },
  {
   "cell_type": "code",
   "execution_count": 21,
   "metadata": {},
   "outputs": [
    {
     "name": "stdout",
     "output_type": "stream",
     "text": [
      "Rf = 0.22, Solvent A = DCM, Solvent B = EtOAc, Percent A = 95, Percent B = 5, Additive C = 0.4% Hydroxylammonium, Percent C = N/A.\n"
     ]
    },
    {
     "data": {
      "text/plain": [
       "str"
      ]
     },
     "execution_count": 21,
     "metadata": {},
     "output_type": "execute_result"
    }
   ],
   "source": [
    "#Access token croq: \n",
    "from config import LLM_API_KEY\n",
    "# Create a Groq client (it is recommended to use the following Quickstart: https://console.groq.com/docs/quickstart)\n",
    "# However, this did not work in our case and we had to use the following code to create a client \n",
    "client = Groq(\n",
    "    api_key=LLM_API_KEY, # insert your API key here\n",
    ")\n",
    "user_prompt =  \"Give me the Rf value, the solvent mixture and their ratio of the following procedure in the following format of only: Rf= , solvent A= , solvent B= , percent A= , percent B= . If there is a third solvent, please provide the information in the same format, call it additive C = and percent C = . Only give the information requested as output, no additional notes or information!!!\" # \"Give me the Rf value, the solvent mixture and their ratio of the following procedure in the following format of a dictionary only: Rf= , solvent A= , solvent B= , percent A= , percent B= . If there is a third solvent, please provide the information in the same format, call it additive C and percent additive C = . Only give the dictionnary as output, no additional notes or information!!!\"\n",
    "procedure = \"An Rf value of 0.22 was found using DCM/EtOAc 20:1 and 0.4% Hydroxylammonium. \"#\"Rf(Hex/EtOAc 1:20):0.22\"\n",
    "user_prompt_procedure = user_prompt + procedure\n",
    "chat_completion = client.chat.completions.create(\n",
    "    messages=[\n",
    "        {\n",
    "            \"role\": \"user\",\n",
    "            \"content\": user_prompt_procedure\n",
    "        }\n",
    "    ],\n",
    "    model=\"mixtral-8x7b-32768\", # other models: LlaMA3 70 b (llama3-70b-8192) can be found here: https://console.groq.com/docs/models\n",
    ")\n",
    "\n",
    "response_str = chat_completion.choices[0].message.content\n",
    "\n",
    "print(response_str)\n",
    "type(response_str)\n",
    "\n",
    "# response_dict = json.loads(response_str)\n",
    "#type(response_dict)\n",
    "#print(response_dict[\"Rf\"])\n"
   ]
  },
  {
   "cell_type": "markdown",
   "metadata": {},
   "source": [
    "As the entire dataframe so far is still too big and it takes too long to compute everything, we split down the dataframe into four sub-files and computed them simultaneously. Still a long time and some days in class without the laptops, as it was still computing. Google Colab was also not an option, as it automatically stopped after 6h and we were to greedy to pay for the upgrade..."
   ]
  },
  {
   "cell_type": "code",
   "execution_count": 13,
   "metadata": {},
   "outputs": [
    {
     "data": {
      "text/plain": [
       "(5, 11)"
      ]
     },
     "execution_count": 13,
     "metadata": {},
     "output_type": "execute_result"
    }
   ],
   "source": [
    "# Cut down the dataframe to a smaller size to test the functions\n",
    "df_rf = df_rf.iloc[:5]\n",
    "df_rf.shape"
   ]
  },
  {
   "cell_type": "code",
   "execution_count": 14,
   "metadata": {},
   "outputs": [
    {
     "name": "stderr",
     "output_type": "stream",
     "text": [
      " 20%|██        | 1/5 [00:00<00:02,  1.45it/s]"
     ]
    },
    {
     "name": "stdout",
     "output_type": "stream",
     "text": [
      "Progress: 20.0 %\n"
     ]
    },
    {
     "name": "stderr",
     "output_type": "stream",
     "text": [
      "100%|██████████| 5/5 [00:55<00:00, 11.11s/it]\n"
     ]
    },
    {
     "data": {
      "text/html": [
       "<div>\n",
       "<style scoped>\n",
       "    .dataframe tbody tr th:only-of-type {\n",
       "        vertical-align: middle;\n",
       "    }\n",
       "\n",
       "    .dataframe tbody tr th {\n",
       "        vertical-align: top;\n",
       "    }\n",
       "\n",
       "    .dataframe thead th {\n",
       "        text-align: right;\n",
       "    }\n",
       "</style>\n",
       "<table border=\"1\" class=\"dataframe\">\n",
       "  <thead>\n",
       "    <tr style=\"text-align: right;\">\n",
       "      <th></th>\n",
       "      <th>paragraphText</th>\n",
       "      <th>reactionSmiles</th>\n",
       "      <th>productSmiles</th>\n",
       "      <th>title</th>\n",
       "      <th>Rf</th>\n",
       "      <th>Solvent_A</th>\n",
       "      <th>Solvent_B</th>\n",
       "      <th>Percent_A</th>\n",
       "      <th>Percent_B</th>\n",
       "      <th>Additive_C</th>\n",
       "      <th>Percent_C</th>\n",
       "    </tr>\n",
       "  </thead>\n",
       "  <tbody>\n",
       "    <tr>\n",
       "      <th>0</th>\n",
       "      <td>A mixture of 7-trifluoromethylsulfonyloxy-1-(4...</td>\n",
       "      <td>FC(F)(F)S(O[C:7]1[CH:16]=[C:15]2[C:10]([CH:11]...</td>\n",
       "      <td>['CN1CCN(CC1)C1=CC=CC2=CC=C(C=C12)C=1C=NC=NC1']</td>\n",
       "      <td>1-(4-Methylpiperazin-1-yl)-7-(pyrimid-5-yl)nap...</td>\n",
       "      <td>0.15</td>\n",
       "      <td>ethyl acetate</td>\n",
       "      <td>methanol</td>\n",
       "      <td>80</td>\n",
       "      <td>20</td>\n",
       "      <td>None</td>\n",
       "      <td>None</td>\n",
       "    </tr>\n",
       "    <tr>\n",
       "      <th>1</th>\n",
       "      <td>A mixture of the above acid (0.25 g, 0.82 mmol...</td>\n",
       "      <td>[CH3:1][N:2]1[CH2:7][CH2:6]O[CH2:4][CH2:3]1.O....</td>\n",
       "      <td>['ClC1=CC=C(CNC(=O)C2=CC3=C(C=CC=C3C=C2)N2CCN(...</td>\n",
       "      <td>8-(4-Methylpiperazin-1-yl)naphthalene-2-carbox...</td>\n",
       "      <td>0.28</td>\n",
       "      <td>methylene chloride</td>\n",
       "      <td>methanol</td>\n",
       "      <td>92</td>\n",
       "      <td>8</td>\n",
       "      <td>ammonium hydroxide</td>\n",
       "      <td>0.04</td>\n",
       "    </tr>\n",
       "    <tr>\n",
       "      <th>2</th>\n",
       "      <td>A solution of 1,4-benzodioxan-6-amine (2.00 g,...</td>\n",
       "      <td>[O:1]1[C:6]2[CH:7]=[CH:8][C:9]([NH2:11])=[CH:1...</td>\n",
       "      <td>['O1CCOC2=C1C=CC(=C2)N2CCNCC2']</td>\n",
       "      <td>NaN</td>\n",
       "      <td>0.37</td>\n",
       "      <td>methanol</td>\n",
       "      <td>methylene chloride</td>\n",
       "      <td>10</td>\n",
       "      <td>90</td>\n",
       "      <td>None</td>\n",
       "      <td>None</td>\n",
       "    </tr>\n",
       "    <tr>\n",
       "      <th>3</th>\n",
       "      <td>A solution of 6-aminochroman from part 2 of th...</td>\n",
       "      <td>[NH2:1][C:2]1[CH:3]=[C:4]2[C:9](=[CH:10][CH:11...</td>\n",
       "      <td>['O1CCCC2=CC(=CC=C12)N1CCNCC1']</td>\n",
       "      <td>1-(Chroman-6-yl)piperazine</td>\n",
       "      <td>0.35</td>\n",
       "      <td>methanol</td>\n",
       "      <td>methylene chloride</td>\n",
       "      <td>10</td>\n",
       "      <td>90</td>\n",
       "      <td>None</td>\n",
       "      <td>None</td>\n",
       "    </tr>\n",
       "    <tr>\n",
       "      <th>4</th>\n",
       "      <td>A solution of 1-(1,4-benzodioxan-6-yl)piperazi...</td>\n",
       "      <td>O1C2C=CC(N3CCNCC3)=CC=2OCC1.C(O)(=O)C(O)=O.[O:...</td>\n",
       "      <td>['O1CCOC2=C1C=CC(=C2)N2CCN(CC2)CC2=CC=C(C=C2)F']</td>\n",
       "      <td>NaN</td>\n",
       "      <td>0.35</td>\n",
       "      <td>ethyl acetate</td>\n",
       "      <td>hexane</td>\n",
       "      <td>30</td>\n",
       "      <td>70</td>\n",
       "      <td>None</td>\n",
       "      <td>None</td>\n",
       "    </tr>\n",
       "  </tbody>\n",
       "</table>\n",
       "</div>"
      ],
      "text/plain": [
       "                                       paragraphText  \\\n",
       "0  A mixture of 7-trifluoromethylsulfonyloxy-1-(4...   \n",
       "1  A mixture of the above acid (0.25 g, 0.82 mmol...   \n",
       "2  A solution of 1,4-benzodioxan-6-amine (2.00 g,...   \n",
       "3  A solution of 6-aminochroman from part 2 of th...   \n",
       "4  A solution of 1-(1,4-benzodioxan-6-yl)piperazi...   \n",
       "\n",
       "                                      reactionSmiles  \\\n",
       "0  FC(F)(F)S(O[C:7]1[CH:16]=[C:15]2[C:10]([CH:11]...   \n",
       "1  [CH3:1][N:2]1[CH2:7][CH2:6]O[CH2:4][CH2:3]1.O....   \n",
       "2  [O:1]1[C:6]2[CH:7]=[CH:8][C:9]([NH2:11])=[CH:1...   \n",
       "3  [NH2:1][C:2]1[CH:3]=[C:4]2[C:9](=[CH:10][CH:11...   \n",
       "4  O1C2C=CC(N3CCNCC3)=CC=2OCC1.C(O)(=O)C(O)=O.[O:...   \n",
       "\n",
       "                                       productSmiles  \\\n",
       "0    ['CN1CCN(CC1)C1=CC=CC2=CC=C(C=C12)C=1C=NC=NC1']   \n",
       "1  ['ClC1=CC=C(CNC(=O)C2=CC3=C(C=CC=C3C=C2)N2CCN(...   \n",
       "2                    ['O1CCOC2=C1C=CC(=C2)N2CCNCC2']   \n",
       "3                    ['O1CCCC2=CC(=CC=C12)N1CCNCC1']   \n",
       "4   ['O1CCOC2=C1C=CC(=C2)N2CCN(CC2)CC2=CC=C(C=C2)F']   \n",
       "\n",
       "                                               title    Rf  \\\n",
       "0  1-(4-Methylpiperazin-1-yl)-7-(pyrimid-5-yl)nap...  0.15   \n",
       "1  8-(4-Methylpiperazin-1-yl)naphthalene-2-carbox...  0.28   \n",
       "2                                                NaN  0.37   \n",
       "3                         1-(Chroman-6-yl)piperazine  0.35   \n",
       "4                                                NaN  0.35   \n",
       "\n",
       "            Solvent_A           Solvent_B Percent_A Percent_B  \\\n",
       "0       ethyl acetate            methanol        80        20   \n",
       "1  methylene chloride            methanol        92         8   \n",
       "2            methanol  methylene chloride        10        90   \n",
       "3            methanol  methylene chloride        10        90   \n",
       "4       ethyl acetate              hexane        30        70   \n",
       "\n",
       "           Additive_C Percent_C  \n",
       "0                None      None  \n",
       "1  ammonium hydroxide      0.04  \n",
       "2                None      None  \n",
       "3                None      None  \n",
       "4                None      None  "
      ]
     },
     "execution_count": 14,
     "metadata": {},
     "output_type": "execute_result"
    }
   ],
   "source": [
    "# this is a test to see if the function works\n",
    "df_processed = get_values(df_rf)\n",
    "df_processed.head()"
   ]
  },
  {
   "cell_type": "code",
   "execution_count": 45,
   "metadata": {},
   "outputs": [],
   "source": [
    "df_processed.to_csv(r'C:\\Users\\milen\\git\\ppChem\\PPChem_TLC\\data\\extracted_data_processed_LLM.csv', index=False)"
   ]
  },
  {
   "cell_type": "code",
   "execution_count": 25,
   "metadata": {},
   "outputs": [
    {
     "data": {
      "text/html": [
       "<div>\n",
       "<style scoped>\n",
       "    .dataframe tbody tr th:only-of-type {\n",
       "        vertical-align: middle;\n",
       "    }\n",
       "\n",
       "    .dataframe tbody tr th {\n",
       "        vertical-align: top;\n",
       "    }\n",
       "\n",
       "    .dataframe thead th {\n",
       "        text-align: right;\n",
       "    }\n",
       "</style>\n",
       "<table border=\"1\" class=\"dataframe\">\n",
       "  <thead>\n",
       "    <tr style=\"text-align: right;\">\n",
       "      <th></th>\n",
       "      <th>paragraphText</th>\n",
       "      <th>reactionSmiles</th>\n",
       "      <th>productSmiles</th>\n",
       "      <th>title</th>\n",
       "      <th>Rf</th>\n",
       "      <th>Solvent_A</th>\n",
       "      <th>Solvent_B</th>\n",
       "      <th>Percent_A</th>\n",
       "      <th>Percent_B</th>\n",
       "      <th>Additive_C</th>\n",
       "      <th>Percent_C</th>\n",
       "    </tr>\n",
       "  </thead>\n",
       "  <tbody>\n",
       "    <tr>\n",
       "      <th>524</th>\n",
       "      <td>A mixture of 7-trifluoromethylsulfonyloxy-1-(4...</td>\n",
       "      <td>FC(F)(F)S(O[C:7]1[CH:16]=[C:15]2[C:10]([CH:11]...</td>\n",
       "      <td>['CN1CCN(CC1)C1=CC=CC2=CC=C(C=C12)C=1C=NC=NC1']</td>\n",
       "      <td>1-(4-Methylpiperazin-1-yl)-7-(pyrimid-5-yl)nap...</td>\n",
       "      <td>0.15</td>\n",
       "      <td>ethyl acetate</td>\n",
       "      <td>methanol</td>\n",
       "      <td>80</td>\n",
       "      <td>20</td>\n",
       "      <td>None</td>\n",
       "      <td>None</td>\n",
       "    </tr>\n",
       "    <tr>\n",
       "      <th>525</th>\n",
       "      <td>A mixture of the above acid (0.25 g, 0.82 mmol...</td>\n",
       "      <td>[CH3:1][N:2]1[CH2:7][CH2:6]O[CH2:4][CH2:3]1.O....</td>\n",
       "      <td>['ClC1=CC=C(CNC(=O)C2=CC3=C(C=CC=C3C=C2)N2CCN(...</td>\n",
       "      <td>8-(4-Methylpiperazin-1-yl)naphthalene-2-carbox...</td>\n",
       "      <td>0.28</td>\n",
       "      <td>methylene chloride</td>\n",
       "      <td>methanol</td>\n",
       "      <td>92</td>\n",
       "      <td>7</td>\n",
       "      <td>ammonium hydroxide</td>\n",
       "      <td>0.04</td>\n",
       "    </tr>\n",
       "    <tr>\n",
       "      <th>538</th>\n",
       "      <td>A solution of 1,4-benzodioxan-6-amine (2.00 g,...</td>\n",
       "      <td>[O:1]1[C:6]2[CH:7]=[CH:8][C:9]([NH2:11])=[CH:1...</td>\n",
       "      <td>['O1CCOC2=C1C=CC(=C2)N2CCNCC2']</td>\n",
       "      <td>NaN</td>\n",
       "      <td>0.37</td>\n",
       "      <td>methanol</td>\n",
       "      <td>methylene chloride</td>\n",
       "      <td>10</td>\n",
       "      <td>90</td>\n",
       "      <td>None</td>\n",
       "      <td>None</td>\n",
       "    </tr>\n",
       "    <tr>\n",
       "      <th>539</th>\n",
       "      <td>A solution of 6-aminochroman from part 2 of th...</td>\n",
       "      <td>[NH2:1][C:2]1[CH:3]=[C:4]2[C:9](=[CH:10][CH:11...</td>\n",
       "      <td>['O1CCCC2=CC(=CC=C12)N1CCNCC1']</td>\n",
       "      <td>1-(Chroman-6-yl)piperazine</td>\n",
       "      <td>0.35</td>\n",
       "      <td>methanol</td>\n",
       "      <td>methylene chloride</td>\n",
       "      <td>10</td>\n",
       "      <td>90</td>\n",
       "      <td>None</td>\n",
       "      <td>None</td>\n",
       "    </tr>\n",
       "    <tr>\n",
       "      <th>540</th>\n",
       "      <td>A solution of 1-(1,4-benzodioxan-6-yl)piperazi...</td>\n",
       "      <td>O1C2C=CC(N3CCNCC3)=CC=2OCC1.C(O)(=O)C(O)=O.[O:...</td>\n",
       "      <td>['O1CCOC2=C1C=CC(=C2)N2CCN(CC2)CC2=CC=C(C=C2)F']</td>\n",
       "      <td>NaN</td>\n",
       "      <td>0.35</td>\n",
       "      <td>ethyl acetate</td>\n",
       "      <td>hexane</td>\n",
       "      <td>30</td>\n",
       "      <td>70</td>\n",
       "      <td>None</td>\n",
       "      <td>None</td>\n",
       "    </tr>\n",
       "    <tr>\n",
       "      <th>543</th>\n",
       "      <td>To a stirred solution of 4e (355 mg, 0.891 mmo...</td>\n",
       "      <td>[CH2:1]([O:4][C:5]([C:7]1[CH:12]=[CH:11][C:10]...</td>\n",
       "      <td>['O=C1N(C(CC1)=O)OC(C1=CC=C(C=C1)N1N=C(C2=CC=C...</td>\n",
       "      <td>NaN</td>\n",
       "      <td>0.20</td>\n",
       "      <td>cyclohexane</td>\n",
       "      <td>ethyl acetate</td>\n",
       "      <td>66</td>\n",
       "      <td>33</td>\n",
       "      <td>None</td>\n",
       "      <td>None</td>\n",
       "    </tr>\n",
       "    <tr>\n",
       "      <th>544</th>\n",
       "      <td>5.295 g of N-chlorosuccinimide is added at 60°...</td>\n",
       "      <td>[Cl:1]N1C(=O)CCC1=O.[C:9]1([CH2:15][O:16][C:17...</td>\n",
       "      <td>['ClC1=C2CC[C@H]3[C@@H]4CCC([C@@]4(C)C[C@@H](C...</td>\n",
       "      <td>Stage A: 4-chloro-11beta-[4-(phenylmethoxy) ph...</td>\n",
       "      <td>0.19</td>\n",
       "      <td>ethyl acetate</td>\n",
       "      <td>cyclohexane</td>\n",
       "      <td>30</td>\n",
       "      <td>70</td>\n",
       "      <td>None</td>\n",
       "      <td>None</td>\n",
       "    </tr>\n",
       "    <tr>\n",
       "      <th>545</th>\n",
       "      <td>6 ml of sulphuryl chloride at 10% in dichlorom...</td>\n",
       "      <td>S(Cl)([Cl:4])(=O)=O.[CH3:6][N:7]([CH3:37])[CH2...</td>\n",
       "      <td>['ClC1=C2CC[C@H]3[C@@H]4CCC([C@@]4(C)C[C@@H](C...</td>\n",
       "      <td>Stage A: 4-chloro-11beta-[4-[2-(dimethylamino)...</td>\n",
       "      <td>0.35</td>\n",
       "      <td>ethyl acetate</td>\n",
       "      <td>triethylamine</td>\n",
       "      <td>80</td>\n",
       "      <td>20</td>\n",
       "      <td>None</td>\n",
       "      <td>None</td>\n",
       "    </tr>\n",
       "    <tr>\n",
       "      <th>580</th>\n",
       "      <td>5-fluoro-2-methyl-1-(p-methylsulfonylbenzylide...</td>\n",
       "      <td>C[O-].[Na+].[F:4][C:5]1[CH:6]=[C:7]2[C:11](=[C...</td>\n",
       "      <td>['FC=1C=C2C(=C(C(C2=CC1)=CC1=CC=C(C=C1)S(=O)(=...</td>\n",
       "      <td>NaN</td>\n",
       "      <td>0.21</td>\n",
       "      <td>chloroform</td>\n",
       "      <td>methyl isobutyl ketone</td>\n",
       "      <td>80</td>\n",
       "      <td>20</td>\n",
       "      <td>None</td>\n",
       "      <td>None</td>\n",
       "    </tr>\n",
       "    <tr>\n",
       "      <th>774</th>\n",
       "      <td>Boc-Lys(Cbz)-OH (25 g) was dissolved in dichlo...</td>\n",
       "      <td>[NH:1]([C:21]([O:23][C:24]([CH3:27])([CH3:26])...</td>\n",
       "      <td>['N([C@@H](CCCCNC(=O)OCC1=CC=CC=C1)C(=O)OC)C(=...</td>\n",
       "      <td>NaN</td>\n",
       "      <td>0.79</td>\n",
       "      <td>ethyl acetate</td>\n",
       "      <td>heptane</td>\n",
       "      <td>75</td>\n",
       "      <td>25</td>\n",
       "      <td>None</td>\n",
       "      <td>None</td>\n",
       "    </tr>\n",
       "    <tr>\n",
       "      <th>775</th>\n",
       "      <td>To 270 ml of methanol, cooled to −15° C., 18.2...</td>\n",
       "      <td>S(Cl)([Cl:3])=O.[NH2:5][C@@H:6]([C:11]([OH:13]...</td>\n",
       "      <td>['N[C@H](CCCC)C(=O)OC.Cl']</td>\n",
       "      <td>H-D-norLeu-OMe.HCl</td>\n",
       "      <td>0.61</td>\n",
       "      <td>n-butanou</td>\n",
       "      <td>acetic acid</td>\n",
       "      <td>90</td>\n",
       "      <td>10</td>\n",
       "      <td>None</td>\n",
       "      <td>30</td>\n",
       "    </tr>\n",
       "    <tr>\n",
       "      <th>776</th>\n",
       "      <td>H-D-norLeu-OMe.HCl (12.9 g) was dissolved in 2...</td>\n",
       "      <td>[NH2:1][C@@H:2]([C:7]([O:9][CH3:10])=[O:8])[CH...</td>\n",
       "      <td>['N([C@H](CCCC)C(=O)OC)C(=O)OC(C)(C)C']</td>\n",
       "      <td>Boc-D-norLeu-OMe</td>\n",
       "      <td>0.55</td>\n",
       "      <td>Heptane</td>\n",
       "      <td>Ethyl acetate</td>\n",
       "      <td>75</td>\n",
       "      <td>25</td>\n",
       "      <td>None</td>\n",
       "      <td>None</td>\n",
       "    </tr>\n",
       "    <tr>\n",
       "      <th>779</th>\n",
       "      <td>To cold (−20° C.) and dry methanol (1 l) was a...</td>\n",
       "      <td>S(Cl)([Cl:3])=O.[NH2:5][C@@H:6]([C:14]([OH:16]...</td>\n",
       "      <td>['N[C@H](CC1=CC=CC=C1)C(=O)OC.Cl']</td>\n",
       "      <td>NaN</td>\n",
       "      <td>0.54</td>\n",
       "      <td>n-butanol</td>\n",
       "      <td>acetic acid</td>\n",
       "      <td>10</td>\n",
       "      <td>1</td>\n",
       "      <td>water</td>\n",
       "      <td>3</td>\n",
       "    </tr>\n",
       "    <tr>\n",
       "      <th>780</th>\n",
       "      <td>N-benzyloxycarbonyloxysuccinimide (5.75 g) was...</td>\n",
       "      <td>[CH2:1]([O:8][C:9]([O:11]N1C(=O)CCC1=O)=O)[C:2...</td>\n",
       "      <td>['N([C@H](CC1=CC=C(C=C1)OC(C)(C)C)C(=O)O)C(=O)...</td>\n",
       "      <td>Cbz-D-Tyr(tBu)-OH</td>\n",
       "      <td>0.31</td>\n",
       "      <td>heptane</td>\n",
       "      <td>ethyl acetate</td>\n",
       "      <td>50</td>\n",
       "      <td>50</td>\n",
       "      <td>None</td>\n",
       "      <td>None</td>\n",
       "    </tr>\n",
       "    <tr>\n",
       "      <th>781</th>\n",
       "      <td>10% palladium on charcoal (1.2 g) was added to...</td>\n",
       "      <td>[NH:1](C(OCC1C=CC=CC=1)=O)[C@@H:2]([C:15]([O:1...</td>\n",
       "      <td>['N[C@H](CC1=CC=C(C=C1)OC(C)(C)C)C(=O)OC.Cl']</td>\n",
       "      <td>H-D-Tyr(tBu)-OMe.HCl</td>\n",
       "      <td>0.10</td>\n",
       "      <td>heptane</td>\n",
       "      <td>ethyl acetate</td>\n",
       "      <td>50</td>\n",
       "      <td>50</td>\n",
       "      <td>None</td>\n",
       "      <td>None</td>\n",
       "    </tr>\n",
       "    <tr>\n",
       "      <th>782</th>\n",
       "      <td>Cbz-Lys(Boc)-OH (28 g) was dissolved in dichlo...</td>\n",
       "      <td>[NH:1]([C:18]([O:20][CH2:21][C:22]1[CH:27]=[CH...</td>\n",
       "      <td>['N([C@@H](CCCCNC(=O)OC(C)(C)C)C(=O)OC)C(=O)OC...</td>\n",
       "      <td>Cbz-Lys(Boc)-OMe</td>\n",
       "      <td>0.85</td>\n",
       "      <td>ethyl acetate</td>\n",
       "      <td>heptane</td>\n",
       "      <td>75</td>\n",
       "      <td>25</td>\n",
       "      <td>None</td>\n",
       "      <td>None</td>\n",
       "    </tr>\n",
       "    <tr>\n",
       "      <th>789</th>\n",
       "      <td>Boc-proline (1.00 g, 4.65 mmol) was dissolved ...</td>\n",
       "      <td>[C:1]([N:8]1[CH2:15][CH2:14][CH2:13][C@H:9]1[C...</td>\n",
       "      <td>['C(C(=O)C1=CC=CC=C1)OC([C@H]1N(CCC1)C(=O)OC(C...</td>\n",
       "      <td>Boc-L-Proline Phenacyl Ester.</td>\n",
       "      <td>None</td>\n",
       "      <td>ethyl acetate</td>\n",
       "      <td>None</td>\n",
       "      <td>None</td>\n",
       "      <td>None</td>\n",
       "      <td>None</td>\n",
       "      <td>None</td>\n",
       "    </tr>\n",
       "    <tr>\n",
       "      <th>790</th>\n",
       "      <td>Boc-L-proline phenacyl ester (0.29 g, 0.87 mmo...</td>\n",
       "      <td>[CH2:1]([O:10][C:11](=[O:24])[C@@H:12]1[CH2:16...</td>\n",
       "      <td>['C(C(=O)C1=CC=CC=C1)OC([C@H]1NCCC1)=O']</td>\n",
       "      <td>L-Proline phenacyl ester.</td>\n",
       "      <td>None</td>\n",
       "      <td>EtOAc</td>\n",
       "      <td>petroleum ether</td>\n",
       "      <td>None</td>\n",
       "      <td>None</td>\n",
       "      <td>None</td>\n",
       "      <td>None</td>\n",
       "    </tr>\n",
       "    <tr>\n",
       "      <th>992</th>\n",
       "      <td>5.295 g of N-chlorosuccinimide is added at 60°...</td>\n",
       "      <td>[Cl:1]N1C(=O)CCC1=O.[C:9]1([CH2:15][O:16][C:17...</td>\n",
       "      <td>['ClC1=C2CC[C@H]3[C@@H]4CCC([C@@]4(C)C[C@@H](C...</td>\n",
       "      <td>Stage A: 4-chloro-11beta-[4-(phenylmethoxy) ph...</td>\n",
       "      <td>0.19</td>\n",
       "      <td>ethyl acetate</td>\n",
       "      <td>cyclohexane</td>\n",
       "      <td>30</td>\n",
       "      <td>70</td>\n",
       "      <td>None</td>\n",
       "      <td>None</td>\n",
       "    </tr>\n",
       "    <tr>\n",
       "      <th>993</th>\n",
       "      <td>6 ml of sulphuryl chloride at 10% in dichlorom...</td>\n",
       "      <td>S(Cl)([Cl:4])(=O)=O.[CH3:6][N:7]([CH3:37])[CH2...</td>\n",
       "      <td>['ClC1=C2CC[C@H]3[C@@H]4CCC([C@@]4(C)C[C@@H](C...</td>\n",
       "      <td>Stage A: 4-chloro-11beta-[4-[2-(dimethylamino)...</td>\n",
       "      <td>0.35</td>\n",
       "      <td>ethyl acetate</td>\n",
       "      <td>triethylamine</td>\n",
       "      <td>80</td>\n",
       "      <td>20</td>\n",
       "      <td>None</td>\n",
       "      <td>None</td>\n",
       "    </tr>\n",
       "  </tbody>\n",
       "</table>\n",
       "</div>"
      ],
      "text/plain": [
       "                                         paragraphText  \\\n",
       "524  A mixture of 7-trifluoromethylsulfonyloxy-1-(4...   \n",
       "525  A mixture of the above acid (0.25 g, 0.82 mmol...   \n",
       "538  A solution of 1,4-benzodioxan-6-amine (2.00 g,...   \n",
       "539  A solution of 6-aminochroman from part 2 of th...   \n",
       "540  A solution of 1-(1,4-benzodioxan-6-yl)piperazi...   \n",
       "543  To a stirred solution of 4e (355 mg, 0.891 mmo...   \n",
       "544  5.295 g of N-chlorosuccinimide is added at 60°...   \n",
       "545  6 ml of sulphuryl chloride at 10% in dichlorom...   \n",
       "580  5-fluoro-2-methyl-1-(p-methylsulfonylbenzylide...   \n",
       "774  Boc-Lys(Cbz)-OH (25 g) was dissolved in dichlo...   \n",
       "775  To 270 ml of methanol, cooled to −15° C., 18.2...   \n",
       "776  H-D-norLeu-OMe.HCl (12.9 g) was dissolved in 2...   \n",
       "779  To cold (−20° C.) and dry methanol (1 l) was a...   \n",
       "780  N-benzyloxycarbonyloxysuccinimide (5.75 g) was...   \n",
       "781  10% palladium on charcoal (1.2 g) was added to...   \n",
       "782  Cbz-Lys(Boc)-OH (28 g) was dissolved in dichlo...   \n",
       "789  Boc-proline (1.00 g, 4.65 mmol) was dissolved ...   \n",
       "790  Boc-L-proline phenacyl ester (0.29 g, 0.87 mmo...   \n",
       "992  5.295 g of N-chlorosuccinimide is added at 60°...   \n",
       "993  6 ml of sulphuryl chloride at 10% in dichlorom...   \n",
       "\n",
       "                                        reactionSmiles  \\\n",
       "524  FC(F)(F)S(O[C:7]1[CH:16]=[C:15]2[C:10]([CH:11]...   \n",
       "525  [CH3:1][N:2]1[CH2:7][CH2:6]O[CH2:4][CH2:3]1.O....   \n",
       "538  [O:1]1[C:6]2[CH:7]=[CH:8][C:9]([NH2:11])=[CH:1...   \n",
       "539  [NH2:1][C:2]1[CH:3]=[C:4]2[C:9](=[CH:10][CH:11...   \n",
       "540  O1C2C=CC(N3CCNCC3)=CC=2OCC1.C(O)(=O)C(O)=O.[O:...   \n",
       "543  [CH2:1]([O:4][C:5]([C:7]1[CH:12]=[CH:11][C:10]...   \n",
       "544  [Cl:1]N1C(=O)CCC1=O.[C:9]1([CH2:15][O:16][C:17...   \n",
       "545  S(Cl)([Cl:4])(=O)=O.[CH3:6][N:7]([CH3:37])[CH2...   \n",
       "580  C[O-].[Na+].[F:4][C:5]1[CH:6]=[C:7]2[C:11](=[C...   \n",
       "774  [NH:1]([C:21]([O:23][C:24]([CH3:27])([CH3:26])...   \n",
       "775  S(Cl)([Cl:3])=O.[NH2:5][C@@H:6]([C:11]([OH:13]...   \n",
       "776  [NH2:1][C@@H:2]([C:7]([O:9][CH3:10])=[O:8])[CH...   \n",
       "779  S(Cl)([Cl:3])=O.[NH2:5][C@@H:6]([C:14]([OH:16]...   \n",
       "780  [CH2:1]([O:8][C:9]([O:11]N1C(=O)CCC1=O)=O)[C:2...   \n",
       "781  [NH:1](C(OCC1C=CC=CC=1)=O)[C@@H:2]([C:15]([O:1...   \n",
       "782  [NH:1]([C:18]([O:20][CH2:21][C:22]1[CH:27]=[CH...   \n",
       "789  [C:1]([N:8]1[CH2:15][CH2:14][CH2:13][C@H:9]1[C...   \n",
       "790  [CH2:1]([O:10][C:11](=[O:24])[C@@H:12]1[CH2:16...   \n",
       "992  [Cl:1]N1C(=O)CCC1=O.[C:9]1([CH2:15][O:16][C:17...   \n",
       "993  S(Cl)([Cl:4])(=O)=O.[CH3:6][N:7]([CH3:37])[CH2...   \n",
       "\n",
       "                                         productSmiles  \\\n",
       "524    ['CN1CCN(CC1)C1=CC=CC2=CC=C(C=C12)C=1C=NC=NC1']   \n",
       "525  ['ClC1=CC=C(CNC(=O)C2=CC3=C(C=CC=C3C=C2)N2CCN(...   \n",
       "538                    ['O1CCOC2=C1C=CC(=C2)N2CCNCC2']   \n",
       "539                    ['O1CCCC2=CC(=CC=C12)N1CCNCC1']   \n",
       "540   ['O1CCOC2=C1C=CC(=C2)N2CCN(CC2)CC2=CC=C(C=C2)F']   \n",
       "543  ['O=C1N(C(CC1)=O)OC(C1=CC=C(C=C1)N1N=C(C2=CC=C...   \n",
       "544  ['ClC1=C2CC[C@H]3[C@@H]4CCC([C@@]4(C)C[C@@H](C...   \n",
       "545  ['ClC1=C2CC[C@H]3[C@@H]4CCC([C@@]4(C)C[C@@H](C...   \n",
       "580  ['FC=1C=C2C(=C(C(C2=CC1)=CC1=CC=C(C=C1)S(=O)(=...   \n",
       "774  ['N([C@@H](CCCCNC(=O)OCC1=CC=CC=C1)C(=O)OC)C(=...   \n",
       "775                         ['N[C@H](CCCC)C(=O)OC.Cl']   \n",
       "776            ['N([C@H](CCCC)C(=O)OC)C(=O)OC(C)(C)C']   \n",
       "779                 ['N[C@H](CC1=CC=CC=C1)C(=O)OC.Cl']   \n",
       "780  ['N([C@H](CC1=CC=C(C=C1)OC(C)(C)C)C(=O)O)C(=O)...   \n",
       "781      ['N[C@H](CC1=CC=C(C=C1)OC(C)(C)C)C(=O)OC.Cl']   \n",
       "782  ['N([C@@H](CCCCNC(=O)OC(C)(C)C)C(=O)OC)C(=O)OC...   \n",
       "789  ['C(C(=O)C1=CC=CC=C1)OC([C@H]1N(CCC1)C(=O)OC(C...   \n",
       "790           ['C(C(=O)C1=CC=CC=C1)OC([C@H]1NCCC1)=O']   \n",
       "992  ['ClC1=C2CC[C@H]3[C@@H]4CCC([C@@]4(C)C[C@@H](C...   \n",
       "993  ['ClC1=C2CC[C@H]3[C@@H]4CCC([C@@]4(C)C[C@@H](C...   \n",
       "\n",
       "                                                 title    Rf  \\\n",
       "524  1-(4-Methylpiperazin-1-yl)-7-(pyrimid-5-yl)nap...  0.15   \n",
       "525  8-(4-Methylpiperazin-1-yl)naphthalene-2-carbox...  0.28   \n",
       "538                                                NaN  0.37   \n",
       "539                         1-(Chroman-6-yl)piperazine  0.35   \n",
       "540                                                NaN  0.35   \n",
       "543                                                NaN  0.20   \n",
       "544  Stage A: 4-chloro-11beta-[4-(phenylmethoxy) ph...  0.19   \n",
       "545  Stage A: 4-chloro-11beta-[4-[2-(dimethylamino)...  0.35   \n",
       "580                                                NaN  0.21   \n",
       "774                                                NaN  0.79   \n",
       "775                                 H-D-norLeu-OMe.HCl  0.61   \n",
       "776                                   Boc-D-norLeu-OMe  0.55   \n",
       "779                                                NaN  0.54   \n",
       "780                                  Cbz-D-Tyr(tBu)-OH  0.31   \n",
       "781                               H-D-Tyr(tBu)-OMe.HCl  0.10   \n",
       "782                                   Cbz-Lys(Boc)-OMe  0.85   \n",
       "789                      Boc-L-Proline Phenacyl Ester.  None   \n",
       "790                          L-Proline phenacyl ester.  None   \n",
       "992  Stage A: 4-chloro-11beta-[4-(phenylmethoxy) ph...  0.19   \n",
       "993  Stage A: 4-chloro-11beta-[4-[2-(dimethylamino)...  0.35   \n",
       "\n",
       "              Solvent_A               Solvent_B Percent_A Percent_B  \\\n",
       "524       ethyl acetate                methanol        80        20   \n",
       "525  methylene chloride                methanol        92         7   \n",
       "538            methanol      methylene chloride        10        90   \n",
       "539            methanol      methylene chloride        10        90   \n",
       "540       ethyl acetate                  hexane        30        70   \n",
       "543         cyclohexane           ethyl acetate        66        33   \n",
       "544       ethyl acetate             cyclohexane        30        70   \n",
       "545       ethyl acetate           triethylamine        80        20   \n",
       "580          chloroform  methyl isobutyl ketone        80        20   \n",
       "774       ethyl acetate                 heptane        75        25   \n",
       "775           n-butanou             acetic acid        90        10   \n",
       "776             Heptane           Ethyl acetate        75        25   \n",
       "779           n-butanol             acetic acid        10         1   \n",
       "780             heptane           ethyl acetate        50        50   \n",
       "781             heptane           ethyl acetate        50        50   \n",
       "782       ethyl acetate                 heptane        75        25   \n",
       "789       ethyl acetate                    None      None      None   \n",
       "790               EtOAc         petroleum ether      None      None   \n",
       "992       ethyl acetate             cyclohexane        30        70   \n",
       "993       ethyl acetate           triethylamine        80        20   \n",
       "\n",
       "             Additive_C Percent_C  \n",
       "524                None      None  \n",
       "525  ammonium hydroxide      0.04  \n",
       "538                None      None  \n",
       "539                None      None  \n",
       "540                None      None  \n",
       "543                None      None  \n",
       "544                None      None  \n",
       "545                None      None  \n",
       "580                None      None  \n",
       "774                None      None  \n",
       "775                None        30  \n",
       "776                None      None  \n",
       "779               water         3  \n",
       "780                None      None  \n",
       "781                None      None  \n",
       "782                None      None  \n",
       "789                None      None  \n",
       "790                None      None  \n",
       "992                None      None  \n",
       "993                None      None  "
      ]
     },
     "execution_count": 25,
     "metadata": {},
     "output_type": "execute_result"
    }
   ],
   "source": [
    "df_processed.head(20)"
   ]
  },
  {
   "cell_type": "markdown",
   "metadata": {},
   "source": [
    "#### And now on the big dataset (alias on two split examples of the big dataframe)"
   ]
  },
  {
   "cell_type": "code",
   "execution_count": 6,
   "metadata": {},
   "outputs": [],
   "source": [
    "df_4 = pd.read_csv(r'C:\\Users\\milen\\git\\ppChem\\PPChem_TLC\\AfterRFfilter(4).csv')"
   ]
  },
  {
   "cell_type": "markdown",
   "metadata": {},
   "source": [
    "After 25h of computing..."
   ]
  },
  {
   "cell_type": "code",
   "execution_count": 15,
   "metadata": {},
   "outputs": [
    {
     "name": "stderr",
     "output_type": "stream",
     "text": [
      "  0%|          | 1/9147 [00:01<4:49:08,  1.90s/it]"
     ]
    },
    {
     "name": "stdout",
     "output_type": "stream",
     "text": [
      "Progress: 0.010932546190007653 %\n"
     ]
    },
    {
     "name": "stderr",
     "output_type": "stream",
     "text": [
      "  1%|          | 66/9147 [11:21<20:37:32,  8.18s/it]"
     ]
    },
    {
     "name": "stdout",
     "output_type": "stream",
     "text": [
      "upstream connect error or disconnect/reset before headers. reset reason: remote connection failure, transport failure reason: delayed connect error: 111\n",
      "Error at index: 65\n"
     ]
    },
    {
     "name": "stderr",
     "output_type": "stream",
     "text": [
      "  1%|          | 101/9147 [17:00<20:44:20,  8.25s/it]"
     ]
    },
    {
     "name": "stdout",
     "output_type": "stream",
     "text": [
      "Progress: 1.1041871651907729 %\n"
     ]
    },
    {
     "name": "stderr",
     "output_type": "stream",
     "text": [
      "  2%|▏         | 201/9147 [34:46<19:44:03,  7.94s/it]"
     ]
    },
    {
     "name": "stdout",
     "output_type": "stream",
     "text": [
      "Progress: 2.197441784191538 %\n"
     ]
    },
    {
     "name": "stderr",
     "output_type": "stream",
     "text": [
      "  3%|▎         | 301/9147 [54:08<21:18:06,  8.67s/it]"
     ]
    },
    {
     "name": "stdout",
     "output_type": "stream",
     "text": [
      "Progress: 3.2906964031923036 %\n"
     ]
    },
    {
     "name": "stderr",
     "output_type": "stream",
     "text": [
      "  4%|▍         | 401/9147 [1:12:20<26:18:45, 10.83s/it]"
     ]
    },
    {
     "name": "stdout",
     "output_type": "stream",
     "text": [
      "Progress: 4.383951022193068 %\n"
     ]
    },
    {
     "name": "stderr",
     "output_type": "stream",
     "text": [
      "  5%|▍         | 433/9147 [1:18:15<17:10:47,  7.10s/it]"
     ]
    },
    {
     "name": "stdout",
     "output_type": "stream",
     "text": [
      "upstream connect error or disconnect/reset before headers. reset reason: remote connection failure, transport failure reason: delayed connect error: 111\n",
      "Error at index: 432\n"
     ]
    },
    {
     "name": "stderr",
     "output_type": "stream",
     "text": [
      "  5%|▌         | 501/9147 [1:31:06<31:16:08, 13.02s/it]"
     ]
    },
    {
     "name": "stdout",
     "output_type": "stream",
     "text": [
      "Progress: 5.477205641193834 %\n"
     ]
    },
    {
     "name": "stderr",
     "output_type": "stream",
     "text": [
      "  7%|▋         | 601/9147 [1:43:45<5:25:36,  2.29s/it] "
     ]
    },
    {
     "name": "stdout",
     "output_type": "stream",
     "text": [
      "Progress: 6.570460260194599 %\n"
     ]
    },
    {
     "name": "stderr",
     "output_type": "stream",
     "text": [
      "  8%|▊         | 701/9147 [2:04:17<49:02:51, 20.91s/it]"
     ]
    },
    {
     "name": "stdout",
     "output_type": "stream",
     "text": [
      "Progress: 7.663714879195364 %\n"
     ]
    },
    {
     "name": "stderr",
     "output_type": "stream",
     "text": [
      "  9%|▉         | 801/9147 [2:22:00<14:25:13,  6.22s/it]"
     ]
    },
    {
     "name": "stdout",
     "output_type": "stream",
     "text": [
      "Progress: 8.75696949819613 %\n"
     ]
    },
    {
     "name": "stderr",
     "output_type": "stream",
     "text": [
      " 10%|▉         | 901/9147 [2:38:00<27:10:11, 11.86s/it]"
     ]
    },
    {
     "name": "stdout",
     "output_type": "stream",
     "text": [
      "Progress: 9.850224117196897 %\n"
     ]
    },
    {
     "name": "stderr",
     "output_type": "stream",
     "text": [
      " 11%|█         | 1001/9147 [2:49:06<15:49:41,  6.99s/it]"
     ]
    },
    {
     "name": "stdout",
     "output_type": "stream",
     "text": [
      "Progress: 10.94347873619766 %\n"
     ]
    },
    {
     "name": "stderr",
     "output_type": "stream",
     "text": [
      " 12%|█▏        | 1101/9147 [3:03:40<21:26:29,  9.59s/it]"
     ]
    },
    {
     "name": "stdout",
     "output_type": "stream",
     "text": [
      "Progress: 12.036733355198425 %\n"
     ]
    },
    {
     "name": "stderr",
     "output_type": "stream",
     "text": [
      " 13%|█▎        | 1201/9147 [3:18:45<16:02:24,  7.27s/it]"
     ]
    },
    {
     "name": "stdout",
     "output_type": "stream",
     "text": [
      "Progress: 13.129987974199192 %\n"
     ]
    },
    {
     "name": "stderr",
     "output_type": "stream",
     "text": [
      " 14%|█▍        | 1301/9147 [3:33:46<36:41:32, 16.84s/it]"
     ]
    },
    {
     "name": "stdout",
     "output_type": "stream",
     "text": [
      "Progress: 14.223242593199956 %\n"
     ]
    },
    {
     "name": "stderr",
     "output_type": "stream",
     "text": [
      " 15%|█▌        | 1401/9147 [3:50:35<26:26:01, 12.29s/it]"
     ]
    },
    {
     "name": "stdout",
     "output_type": "stream",
     "text": [
      "Progress: 15.316497212200723 %\n"
     ]
    },
    {
     "name": "stderr",
     "output_type": "stream",
     "text": [
      " 16%|█▋        | 1501/9147 [4:12:37<16:08:41,  7.60s/it]"
     ]
    },
    {
     "name": "stdout",
     "output_type": "stream",
     "text": [
      "Progress: 16.409751831201486 %\n"
     ]
    },
    {
     "name": "stderr",
     "output_type": "stream",
     "text": [
      " 18%|█▊        | 1601/9147 [4:30:52<22:53:58, 10.92s/it]"
     ]
    },
    {
     "name": "stdout",
     "output_type": "stream",
     "text": [
      "Progress: 17.503006450202253 %\n"
     ]
    },
    {
     "name": "stderr",
     "output_type": "stream",
     "text": [
      " 19%|█▊        | 1701/9147 [4:50:11<17:04:33,  8.26s/it]"
     ]
    },
    {
     "name": "stdout",
     "output_type": "stream",
     "text": [
      "Progress: 18.596261069203017 %\n"
     ]
    },
    {
     "name": "stderr",
     "output_type": "stream",
     "text": [
      " 20%|█▉        | 1801/9147 [5:04:17<15:05:52,  7.40s/it]"
     ]
    },
    {
     "name": "stdout",
     "output_type": "stream",
     "text": [
      "Progress: 19.68951568820378 %\n"
     ]
    },
    {
     "name": "stderr",
     "output_type": "stream",
     "text": [
      " 21%|██        | 1901/9147 [5:19:18<8:00:47,  3.98s/it] "
     ]
    },
    {
     "name": "stdout",
     "output_type": "stream",
     "text": [
      "Progress: 20.782770307204547 %\n"
     ]
    },
    {
     "name": "stderr",
     "output_type": "stream",
     "text": [
      " 22%|██▏       | 2001/9147 [5:38:31<22:58:15, 11.57s/it]"
     ]
    },
    {
     "name": "stdout",
     "output_type": "stream",
     "text": [
      "Progress: 21.87602492620531 %\n"
     ]
    },
    {
     "name": "stderr",
     "output_type": "stream",
     "text": [
      " 23%|██▎       | 2101/9147 [5:55:08<18:50:03,  9.62s/it]"
     ]
    },
    {
     "name": "stdout",
     "output_type": "stream",
     "text": [
      "Progress: 22.969279545206078 %\n"
     ]
    },
    {
     "name": "stderr",
     "output_type": "stream",
     "text": [
      " 24%|██▍       | 2201/9147 [6:13:39<24:33:09, 12.73s/it]"
     ]
    },
    {
     "name": "stdout",
     "output_type": "stream",
     "text": [
      "Progress: 24.062534164206845 %\n"
     ]
    },
    {
     "name": "stderr",
     "output_type": "stream",
     "text": [
      " 25%|██▌       | 2301/9147 [6:26:18<15:58:21,  8.40s/it]"
     ]
    },
    {
     "name": "stdout",
     "output_type": "stream",
     "text": [
      "Progress: 25.155788783207612 %\n"
     ]
    },
    {
     "name": "stderr",
     "output_type": "stream",
     "text": [
      " 26%|██▌       | 2401/9147 [6:41:54<19:16:04, 10.28s/it]"
     ]
    },
    {
     "name": "stdout",
     "output_type": "stream",
     "text": [
      "Progress: 26.249043402208372 %\n"
     ]
    },
    {
     "name": "stderr",
     "output_type": "stream",
     "text": [
      " 27%|██▋       | 2501/9147 [6:53:26<11:06:32,  6.02s/it]"
     ]
    },
    {
     "name": "stdout",
     "output_type": "stream",
     "text": [
      "Progress: 27.34229802120914 %\n"
     ]
    },
    {
     "name": "stderr",
     "output_type": "stream",
     "text": [
      " 28%|██▊       | 2601/9147 [7:04:43<12:30:55,  6.88s/it]"
     ]
    },
    {
     "name": "stdout",
     "output_type": "stream",
     "text": [
      "Progress: 28.435552640209906 %\n"
     ]
    },
    {
     "name": "stderr",
     "output_type": "stream",
     "text": [
      " 30%|██▉       | 2701/9147 [7:21:47<28:25:18, 15.87s/it]"
     ]
    },
    {
     "name": "stdout",
     "output_type": "stream",
     "text": [
      "Progress: 29.52880725921067 %\n"
     ]
    },
    {
     "name": "stderr",
     "output_type": "stream",
     "text": [
      " 31%|███       | 2801/9147 [7:36:24<7:02:25,  3.99s/it] "
     ]
    },
    {
     "name": "stdout",
     "output_type": "stream",
     "text": [
      "Progress: 30.622061878211436 %\n"
     ]
    },
    {
     "name": "stderr",
     "output_type": "stream",
     "text": [
      " 32%|███▏      | 2901/9147 [7:53:07<14:32:46,  8.38s/it]"
     ]
    },
    {
     "name": "stdout",
     "output_type": "stream",
     "text": [
      "Progress: 31.7153164972122 %\n"
     ]
    },
    {
     "name": "stderr",
     "output_type": "stream",
     "text": [
      " 33%|███▎      | 3001/9147 [8:03:36<18:48:12, 11.01s/it]"
     ]
    },
    {
     "name": "stdout",
     "output_type": "stream",
     "text": [
      "Progress: 32.80857111621297 %\n"
     ]
    },
    {
     "name": "stderr",
     "output_type": "stream",
     "text": [
      " 34%|███▍      | 3101/9147 [8:16:57<12:19:39,  7.34s/it]"
     ]
    },
    {
     "name": "stdout",
     "output_type": "stream",
     "text": [
      "Progress: 33.901825735213734 %\n"
     ]
    },
    {
     "name": "stderr",
     "output_type": "stream",
     "text": [
      " 35%|███▍      | 3201/9147 [8:33:56<20:56:35, 12.68s/it]"
     ]
    },
    {
     "name": "stdout",
     "output_type": "stream",
     "text": [
      "Progress: 34.995080354214494 %\n"
     ]
    },
    {
     "name": "stderr",
     "output_type": "stream",
     "text": [
      " 36%|███▌      | 3301/9147 [8:44:19<13:37:20,  8.39s/it]"
     ]
    },
    {
     "name": "stdout",
     "output_type": "stream",
     "text": [
      "Progress: 36.08833497321526 %\n"
     ]
    },
    {
     "name": "stderr",
     "output_type": "stream",
     "text": [
      " 37%|███▋      | 3401/9147 [8:59:37<2:31:13,  1.58s/it] "
     ]
    },
    {
     "name": "stdout",
     "output_type": "stream",
     "text": [
      "Progress: 37.18158959221603 %\n"
     ]
    },
    {
     "name": "stderr",
     "output_type": "stream",
     "text": [
      " 38%|███▊      | 3501/9147 [9:09:27<4:48:35,  3.07s/it] "
     ]
    },
    {
     "name": "stdout",
     "output_type": "stream",
     "text": [
      "Progress: 38.27484421121679 %\n"
     ]
    },
    {
     "name": "stderr",
     "output_type": "stream",
     "text": [
      " 39%|███▉      | 3601/9147 [9:23:49<16:49:24, 10.92s/it]"
     ]
    },
    {
     "name": "stdout",
     "output_type": "stream",
     "text": [
      "Progress: 39.368098830217555 %\n"
     ]
    },
    {
     "name": "stderr",
     "output_type": "stream",
     "text": [
      " 40%|████      | 3701/9147 [9:38:40<7:38:03,  5.05s/it] "
     ]
    },
    {
     "name": "stdout",
     "output_type": "stream",
     "text": [
      "Progress: 40.46135344921832 %\n"
     ]
    },
    {
     "name": "stderr",
     "output_type": "stream",
     "text": [
      " 42%|████▏     | 3801/9147 [9:48:31<11:20:13,  7.63s/it]"
     ]
    },
    {
     "name": "stdout",
     "output_type": "stream",
     "text": [
      "Progress: 41.55460806821909 %\n"
     ]
    },
    {
     "name": "stderr",
     "output_type": "stream",
     "text": [
      " 43%|████▎     | 3901/9147 [10:00:25<13:17:33,  9.12s/it]"
     ]
    },
    {
     "name": "stdout",
     "output_type": "stream",
     "text": [
      "Progress: 42.64786268721985 %\n"
     ]
    },
    {
     "name": "stderr",
     "output_type": "stream",
     "text": [
      " 44%|████▎     | 4001/9147 [10:11:46<15:34:12, 10.89s/it]"
     ]
    },
    {
     "name": "stdout",
     "output_type": "stream",
     "text": [
      "Progress: 43.741117306220616 %\n"
     ]
    },
    {
     "name": "stderr",
     "output_type": "stream",
     "text": [
      " 45%|████▍     | 4101/9147 [10:29:38<15:03:58, 10.75s/it]"
     ]
    },
    {
     "name": "stdout",
     "output_type": "stream",
     "text": [
      "Progress: 44.83437192522138 %\n"
     ]
    },
    {
     "name": "stderr",
     "output_type": "stream",
     "text": [
      " 46%|████▌     | 4201/9147 [10:43:24<13:56:20, 10.15s/it]"
     ]
    },
    {
     "name": "stdout",
     "output_type": "stream",
     "text": [
      "Progress: 45.92762654422215 %\n"
     ]
    },
    {
     "name": "stderr",
     "output_type": "stream",
     "text": [
      " 47%|████▋     | 4301/9147 [10:59:30<7:04:19,  5.25s/it] "
     ]
    },
    {
     "name": "stdout",
     "output_type": "stream",
     "text": [
      "Progress: 47.02088116322292 %\n"
     ]
    },
    {
     "name": "stderr",
     "output_type": "stream",
     "text": [
      " 48%|████▊     | 4401/9147 [11:11:46<22:21:28, 16.96s/it]"
     ]
    },
    {
     "name": "stdout",
     "output_type": "stream",
     "text": [
      "Progress: 48.114135782223684 %\n"
     ]
    },
    {
     "name": "stderr",
     "output_type": "stream",
     "text": [
      " 49%|████▉     | 4501/9147 [11:27:15<13:06:24, 10.16s/it]"
     ]
    },
    {
     "name": "stdout",
     "output_type": "stream",
     "text": [
      "Progress: 49.207390401224444 %\n"
     ]
    },
    {
     "name": "stderr",
     "output_type": "stream",
     "text": [
      " 50%|█████     | 4601/9147 [11:40:24<13:18:42, 10.54s/it]"
     ]
    },
    {
     "name": "stdout",
     "output_type": "stream",
     "text": [
      "Progress: 50.30064502022521 %\n"
     ]
    },
    {
     "name": "stderr",
     "output_type": "stream",
     "text": [
      " 51%|█████▏    | 4701/9147 [11:49:32<3:27:47,  2.80s/it] "
     ]
    },
    {
     "name": "stdout",
     "output_type": "stream",
     "text": [
      "Progress: 51.39389963922597 %\n"
     ]
    },
    {
     "name": "stderr",
     "output_type": "stream",
     "text": [
      " 52%|█████▏    | 4801/9147 [12:04:56<8:32:07,  7.07s/it] "
     ]
    },
    {
     "name": "stdout",
     "output_type": "stream",
     "text": [
      "Progress: 52.487154258226745 %\n"
     ]
    },
    {
     "name": "stderr",
     "output_type": "stream",
     "text": [
      " 54%|█████▎    | 4901/9147 [12:16:19<6:06:20,  5.18s/it] "
     ]
    },
    {
     "name": "stdout",
     "output_type": "stream",
     "text": [
      "Progress: 53.580408877227505 %\n"
     ]
    },
    {
     "name": "stderr",
     "output_type": "stream",
     "text": [
      " 55%|█████▍    | 5001/9147 [12:28:04<4:03:55,  3.53s/it] "
     ]
    },
    {
     "name": "stdout",
     "output_type": "stream",
     "text": [
      "Progress: 54.67366349622827 %\n"
     ]
    },
    {
     "name": "stderr",
     "output_type": "stream",
     "text": [
      " 56%|█████▌    | 5101/9147 [12:43:17<8:49:56,  7.86s/it] "
     ]
    },
    {
     "name": "stdout",
     "output_type": "stream",
     "text": [
      "Progress: 55.76691811522904 %\n"
     ]
    },
    {
     "name": "stderr",
     "output_type": "stream",
     "text": [
      " 57%|█████▋    | 5201/9147 [12:58:40<18:25:37, 16.81s/it]"
     ]
    },
    {
     "name": "stdout",
     "output_type": "stream",
     "text": [
      "Progress: 56.8601727342298 %\n"
     ]
    },
    {
     "name": "stderr",
     "output_type": "stream",
     "text": [
      " 58%|█████▊    | 5301/9147 [13:13:15<8:58:40,  8.40s/it] "
     ]
    },
    {
     "name": "stdout",
     "output_type": "stream",
     "text": [
      "Progress: 57.953427353230566 %\n"
     ]
    },
    {
     "name": "stderr",
     "output_type": "stream",
     "text": [
      " 59%|█████▉    | 5401/9147 [13:26:55<14:48:02, 14.22s/it]"
     ]
    },
    {
     "name": "stdout",
     "output_type": "stream",
     "text": [
      "Progress: 59.046681972231326 %\n"
     ]
    },
    {
     "name": "stderr",
     "output_type": "stream",
     "text": [
      " 60%|██████    | 5501/9147 [13:43:22<7:48:59,  7.72s/it] "
     ]
    },
    {
     "name": "stdout",
     "output_type": "stream",
     "text": [
      "Progress: 60.1399365912321 %\n"
     ]
    },
    {
     "name": "stderr",
     "output_type": "stream",
     "text": [
      " 61%|██████    | 5601/9147 [14:01:47<6:20:54,  6.45s/it] "
     ]
    },
    {
     "name": "stdout",
     "output_type": "stream",
     "text": [
      "Progress: 61.23319121023286 %\n"
     ]
    },
    {
     "name": "stderr",
     "output_type": "stream",
     "text": [
      " 62%|██████▏   | 5701/9147 [14:18:30<7:46:06,  8.12s/it] "
     ]
    },
    {
     "name": "stdout",
     "output_type": "stream",
     "text": [
      "Progress: 62.32644582923362 %\n"
     ]
    },
    {
     "name": "stderr",
     "output_type": "stream",
     "text": [
      " 63%|██████▎   | 5801/9147 [14:36:19<19:48:22, 21.31s/it]"
     ]
    },
    {
     "name": "stdout",
     "output_type": "stream",
     "text": [
      "Progress: 63.419700448234394 %\n"
     ]
    },
    {
     "name": "stderr",
     "output_type": "stream",
     "text": [
      " 65%|██████▍   | 5901/9147 [14:49:41<7:08:16,  7.92s/it] "
     ]
    },
    {
     "name": "stdout",
     "output_type": "stream",
     "text": [
      "Progress: 64.51295506723515 %\n"
     ]
    },
    {
     "name": "stderr",
     "output_type": "stream",
     "text": [
      " 66%|██████▌   | 6001/9147 [15:05:19<8:34:21,  9.81s/it] "
     ]
    },
    {
     "name": "stdout",
     "output_type": "stream",
     "text": [
      "Progress: 65.60620968623593 %\n"
     ]
    },
    {
     "name": "stderr",
     "output_type": "stream",
     "text": [
      " 67%|██████▋   | 6101/9147 [15:16:22<2:56:45,  3.48s/it] "
     ]
    },
    {
     "name": "stdout",
     "output_type": "stream",
     "text": [
      "Progress: 66.69946430523669 %\n"
     ]
    },
    {
     "name": "stderr",
     "output_type": "stream",
     "text": [
      " 68%|██████▊   | 6201/9147 [15:33:10<7:43:43,  9.44s/it] "
     ]
    },
    {
     "name": "stdout",
     "output_type": "stream",
     "text": [
      "Progress: 67.79271892423745 %\n"
     ]
    },
    {
     "name": "stderr",
     "output_type": "stream",
     "text": [
      " 69%|██████▉   | 6301/9147 [15:48:48<4:56:20,  6.25s/it] "
     ]
    },
    {
     "name": "stdout",
     "output_type": "stream",
     "text": [
      "Progress: 68.88597354323822 %\n"
     ]
    },
    {
     "name": "stderr",
     "output_type": "stream",
     "text": [
      " 70%|██████▉   | 6401/9147 [16:01:37<8:47:32, 11.53s/it] "
     ]
    },
    {
     "name": "stdout",
     "output_type": "stream",
     "text": [
      "Progress: 69.97922816223898 %\n"
     ]
    },
    {
     "name": "stderr",
     "output_type": "stream",
     "text": [
      " 71%|███████   | 6501/9147 [16:18:07<7:38:51, 10.40s/it] "
     ]
    },
    {
     "name": "stdout",
     "output_type": "stream",
     "text": [
      "Progress: 71.07248278123976 %\n"
     ]
    },
    {
     "name": "stderr",
     "output_type": "stream",
     "text": [
      " 72%|███████▏  | 6601/9147 [16:34:23<3:50:38,  5.44s/it] "
     ]
    },
    {
     "name": "stdout",
     "output_type": "stream",
     "text": [
      "Progress: 72.16573740024052 %\n"
     ]
    },
    {
     "name": "stderr",
     "output_type": "stream",
     "text": [
      " 73%|███████▎  | 6701/9147 [16:51:13<9:14:25, 13.60s/it] "
     ]
    },
    {
     "name": "stdout",
     "output_type": "stream",
     "text": [
      "Progress: 73.25899201924128 %\n"
     ]
    },
    {
     "name": "stderr",
     "output_type": "stream",
     "text": [
      " 74%|███████▍  | 6801/9147 [17:09:39<6:19:37,  9.71s/it] "
     ]
    },
    {
     "name": "stdout",
     "output_type": "stream",
     "text": [
      "Progress: 74.35224663824205 %\n"
     ]
    },
    {
     "name": "stderr",
     "output_type": "stream",
     "text": [
      " 75%|███████▌  | 6901/9147 [17:25:38<5:18:09,  8.50s/it]"
     ]
    },
    {
     "name": "stdout",
     "output_type": "stream",
     "text": [
      "Progress: 75.44550125724281 %\n"
     ]
    },
    {
     "name": "stderr",
     "output_type": "stream",
     "text": [
      " 77%|███████▋  | 7001/9147 [17:39:40<6:13:18, 10.44s/it]"
     ]
    },
    {
     "name": "stdout",
     "output_type": "stream",
     "text": [
      "Progress: 76.53875587624358 %\n"
     ]
    },
    {
     "name": "stderr",
     "output_type": "stream",
     "text": [
      " 78%|███████▊  | 7101/9147 [17:59:53<6:17:33, 11.07s/it] "
     ]
    },
    {
     "name": "stdout",
     "output_type": "stream",
     "text": [
      "Progress: 77.63201049524434 %\n"
     ]
    },
    {
     "name": "stderr",
     "output_type": "stream",
     "text": [
      " 79%|███████▊  | 7201/9147 [18:16:01<4:53:41,  9.06s/it]"
     ]
    },
    {
     "name": "stdout",
     "output_type": "stream",
     "text": [
      "Progress: 78.72526511424512 %\n"
     ]
    },
    {
     "name": "stderr",
     "output_type": "stream",
     "text": [
      " 80%|███████▉  | 7301/9147 [18:27:33<2:50:30,  5.54s/it]"
     ]
    },
    {
     "name": "stdout",
     "output_type": "stream",
     "text": [
      "Progress: 79.81851973324588 %\n"
     ]
    },
    {
     "name": "stderr",
     "output_type": "stream",
     "text": [
      " 81%|████████  | 7401/9147 [18:44:15<4:14:10,  8.73s/it]"
     ]
    },
    {
     "name": "stdout",
     "output_type": "stream",
     "text": [
      "Progress: 80.91177435224664 %\n"
     ]
    },
    {
     "name": "stderr",
     "output_type": "stream",
     "text": [
      " 82%|████████▏ | 7501/9147 [19:00:34<4:26:38,  9.72s/it]"
     ]
    },
    {
     "name": "stdout",
     "output_type": "stream",
     "text": [
      "Progress: 82.00502897124741 %\n"
     ]
    },
    {
     "name": "stderr",
     "output_type": "stream",
     "text": [
      " 83%|████████▎ | 7589/9147 [19:15:36<6:21:01, 14.67s/it]"
     ]
    },
    {
     "name": "stdout",
     "output_type": "stream",
     "text": [
      "Error code: 429 - {'error': {'message': 'Rate limit reached for model `llama3-70b-8192` in organization `org_01hwchy37kf5w8yf0msbakbjt2` on tokens per minute (TPM): Limit 3000, Used 2766, Requested ~459. Please try again in 4.482s. Visit https://console.groq.com/docs/rate-limits for more information.', 'type': 'tokens', 'code': 'rate_limit_exceeded'}}\n",
      "Error at index: 7588\n"
     ]
    },
    {
     "name": "stderr",
     "output_type": "stream",
     "text": [
      " 83%|████████▎ | 7601/9147 [19:18:03<3:38:55,  8.50s/it]"
     ]
    },
    {
     "name": "stdout",
     "output_type": "stream",
     "text": [
      "Progress: 83.09828359024817 %\n"
     ]
    },
    {
     "name": "stderr",
     "output_type": "stream",
     "text": [
      " 84%|████████▍ | 7701/9147 [19:34:38<3:23:09,  8.43s/it]"
     ]
    },
    {
     "name": "stdout",
     "output_type": "stream",
     "text": [
      "Progress: 84.19153820924893 %\n"
     ]
    },
    {
     "name": "stderr",
     "output_type": "stream",
     "text": [
      " 85%|████████▌ | 7801/9147 [19:51:11<3:37:21,  9.69s/it]"
     ]
    },
    {
     "name": "stdout",
     "output_type": "stream",
     "text": [
      "Progress: 85.2847928282497 %\n"
     ]
    },
    {
     "name": "stderr",
     "output_type": "stream",
     "text": [
      " 86%|████████▋ | 7901/9147 [20:07:18<1:43:48,  5.00s/it] "
     ]
    },
    {
     "name": "stdout",
     "output_type": "stream",
     "text": [
      "Progress: 86.37804744725047 %\n"
     ]
    },
    {
     "name": "stderr",
     "output_type": "stream",
     "text": [
      " 87%|████████▋ | 8001/9147 [20:23:46<3:29:36, 10.97s/it]"
     ]
    },
    {
     "name": "stdout",
     "output_type": "stream",
     "text": [
      "Progress: 87.47130206625123 %\n"
     ]
    },
    {
     "name": "stderr",
     "output_type": "stream",
     "text": [
      " 89%|████████▊ | 8101/9147 [20:40:33<2:43:10,  9.36s/it]"
     ]
    },
    {
     "name": "stdout",
     "output_type": "stream",
     "text": [
      "Progress: 88.564556685252 %\n"
     ]
    },
    {
     "name": "stderr",
     "output_type": "stream",
     "text": [
      " 90%|████████▉ | 8201/9147 [20:58:05<2:32:39,  9.68s/it]"
     ]
    },
    {
     "name": "stdout",
     "output_type": "stream",
     "text": [
      "Progress: 89.65781130425276 %\n"
     ]
    },
    {
     "name": "stderr",
     "output_type": "stream",
     "text": [
      " 91%|█████████ | 8301/9147 [21:15:01<1:08:13,  4.84s/it]"
     ]
    },
    {
     "name": "stdout",
     "output_type": "stream",
     "text": [
      "Progress: 90.75106592325352 %\n"
     ]
    },
    {
     "name": "stderr",
     "output_type": "stream",
     "text": [
      " 92%|█████████▏| 8401/9147 [21:32:39<2:17:01, 11.02s/it]"
     ]
    },
    {
     "name": "stdout",
     "output_type": "stream",
     "text": [
      "Progress: 91.84432054225428 %\n"
     ]
    },
    {
     "name": "stderr",
     "output_type": "stream",
     "text": [
      " 93%|█████████▎| 8500/9147 [21:50:02<1:41:25,  9.41s/it]"
     ]
    },
    {
     "name": "stdout",
     "output_type": "stream",
     "text": [
      "upstream connect error or disconnect/reset before headers. reset reason: remote connection failure, transport failure reason: delayed connect error: 111\n",
      "Error at index: 8499\n"
     ]
    },
    {
     "name": "stderr",
     "output_type": "stream",
     "text": [
      " 93%|█████████▎| 8501/9147 [21:50:10<1:36:09,  8.93s/it]"
     ]
    },
    {
     "name": "stdout",
     "output_type": "stream",
     "text": [
      "upstream connect error or disconnect/reset before headers. reset reason: connection timeout\n",
      "Error at index: 8500\n"
     ]
    },
    {
     "name": "stderr",
     "output_type": "stream",
     "text": [
      " 94%|█████████▍| 8601/9147 [22:03:13<1:54:34, 12.59s/it]"
     ]
    },
    {
     "name": "stdout",
     "output_type": "stream",
     "text": [
      "Progress: 94.03082978025581 %\n"
     ]
    },
    {
     "name": "stderr",
     "output_type": "stream",
     "text": [
      " 95%|█████████▌| 8701/9147 [22:20:27<1:10:46,  9.52s/it]"
     ]
    },
    {
     "name": "stdout",
     "output_type": "stream",
     "text": [
      "Progress: 95.12408439925659 %\n"
     ]
    },
    {
     "name": "stderr",
     "output_type": "stream",
     "text": [
      " 96%|█████████▌| 8801/9147 [22:36:38<1:13:39, 12.77s/it]"
     ]
    },
    {
     "name": "stdout",
     "output_type": "stream",
     "text": [
      "Progress: 96.21733901825735 %\n"
     ]
    },
    {
     "name": "stderr",
     "output_type": "stream",
     "text": [
      " 97%|█████████▋| 8901/9147 [22:52:40<40:28,  9.87s/it]  "
     ]
    },
    {
     "name": "stdout",
     "output_type": "stream",
     "text": [
      "Progress: 97.31059363725811 %\n"
     ]
    },
    {
     "name": "stderr",
     "output_type": "stream",
     "text": [
      " 98%|█████████▊| 9001/9147 [23:08:33<28:55, 11.89s/it]"
     ]
    },
    {
     "name": "stdout",
     "output_type": "stream",
     "text": [
      "Progress: 98.40384825625888 %\n"
     ]
    },
    {
     "name": "stderr",
     "output_type": "stream",
     "text": [
      " 99%|█████████▉| 9101/9147 [23:24:51<07:10,  9.37s/it]"
     ]
    },
    {
     "name": "stdout",
     "output_type": "stream",
     "text": [
      "Progress: 99.49710287525964 %\n"
     ]
    },
    {
     "name": "stderr",
     "output_type": "stream",
     "text": [
      "100%|██████████| 9147/9147 [23:31:52<00:00,  9.26s/it]\n"
     ]
    },
    {
     "data": {
      "text/html": [
       "<div>\n",
       "<style scoped>\n",
       "    .dataframe tbody tr th:only-of-type {\n",
       "        vertical-align: middle;\n",
       "    }\n",
       "\n",
       "    .dataframe tbody tr th {\n",
       "        vertical-align: top;\n",
       "    }\n",
       "\n",
       "    .dataframe thead th {\n",
       "        text-align: right;\n",
       "    }\n",
       "</style>\n",
       "<table border=\"1\" class=\"dataframe\">\n",
       "  <thead>\n",
       "    <tr style=\"text-align: right;\">\n",
       "      <th></th>\n",
       "      <th>paragraphText</th>\n",
       "      <th>reactionSmiles</th>\n",
       "      <th>productSmiles</th>\n",
       "      <th>title</th>\n",
       "      <th>Rf</th>\n",
       "      <th>Solvent_A</th>\n",
       "      <th>Solvent_B</th>\n",
       "      <th>Percent_A</th>\n",
       "      <th>Percent_B</th>\n",
       "      <th>Additive_C</th>\n",
       "      <th>Percent_C</th>\n",
       "    </tr>\n",
       "  </thead>\n",
       "  <tbody>\n",
       "    <tr>\n",
       "      <th>0</th>\n",
       "      <td>To a flame-dried round-bottomed flask was adde...</td>\n",
       "      <td>[CH2:1]([OH:11])[CH2:2][CH2:3][CH2:4][CH2:5][C...</td>\n",
       "      <td>['O1C(CCCC1)OCCCCCCCCC#C']</td>\n",
       "      <td>NaN</td>\n",
       "      <td>0.30</td>\n",
       "      <td>EtOAc</td>\n",
       "      <td>Hex</td>\n",
       "      <td>5</td>\n",
       "      <td>95</td>\n",
       "      <td>None</td>\n",
       "      <td>None</td>\n",
       "    </tr>\n",
       "    <tr>\n",
       "      <th>1</th>\n",
       "      <td>A flame-dried round-bottomed flask was charged...</td>\n",
       "      <td>[O:1]1[CH2:6][CH2:5][CH2:4][CH2:3][CH:2]1[O:7]...</td>\n",
       "      <td>['COC(C#CCCCCCCCCOC1OCCCC1)=O']</td>\n",
       "      <td>NaN</td>\n",
       "      <td>0.33</td>\n",
       "      <td>EtOAc</td>\n",
       "      <td>Hex</td>\n",
       "      <td>10</td>\n",
       "      <td>90</td>\n",
       "      <td>None</td>\n",
       "      <td>None</td>\n",
       "    </tr>\n",
       "    <tr>\n",
       "      <th>2</th>\n",
       "      <td>To a flame-dried round-bottomed flask equipped...</td>\n",
       "      <td>N(C(C)C)C(C)C.[Li]CCCC.[SnH:13]([CH2:22][CH2:2...</td>\n",
       "      <td>['O1C(CCCC1)OCCCCCCCC\\\\C(=C/C(=O)OC)\\\\[Sn](CCC...</td>\n",
       "      <td>NaN</td>\n",
       "      <td>0.30</td>\n",
       "      <td>EtOAc</td>\n",
       "      <td>Hex</td>\n",
       "      <td>5</td>\n",
       "      <td>95</td>\n",
       "      <td>None</td>\n",
       "      <td>None</td>\n",
       "    </tr>\n",
       "    <tr>\n",
       "      <th>3</th>\n",
       "      <td>To a flamed-dried round-bottomed flask was add...</td>\n",
       "      <td>[O:1]1[CH2:6][CH2:5][CH2:4][CH2:3][CH:2]1[O:7]...</td>\n",
       "      <td>['O1C(CCCC1)OCCCCCCCC\\\\C(=C/C(=O)OC)\\\\C(=C\\\\C(...</td>\n",
       "      <td>NaN</td>\n",
       "      <td>0.19</td>\n",
       "      <td>EtOAc</td>\n",
       "      <td>Hex</td>\n",
       "      <td>10</td>\n",
       "      <td>90</td>\n",
       "      <td>None</td>\n",
       "      <td>None</td>\n",
       "    </tr>\n",
       "    <tr>\n",
       "      <th>4</th>\n",
       "      <td>A flame-dried round-bottomed flask was charged...</td>\n",
       "      <td>[O:1]1[CH2:6][CH2:5][CH2:4][CH2:3][CH:2]1[O:7]...</td>\n",
       "      <td>['O1C(CCCC1)OCCCCCCCCC(CC(=O)OC)=C(CC(=O)OC)CC...</td>\n",
       "      <td>NaN</td>\n",
       "      <td>0.41</td>\n",
       "      <td>EtOAc</td>\n",
       "      <td>Hex</td>\n",
       "      <td>20</td>\n",
       "      <td>80</td>\n",
       "      <td>None</td>\n",
       "      <td>None</td>\n",
       "    </tr>\n",
       "  </tbody>\n",
       "</table>\n",
       "</div>"
      ],
      "text/plain": [
       "                                       paragraphText  \\\n",
       "0  To a flame-dried round-bottomed flask was adde...   \n",
       "1  A flame-dried round-bottomed flask was charged...   \n",
       "2  To a flame-dried round-bottomed flask equipped...   \n",
       "3  To a flamed-dried round-bottomed flask was add...   \n",
       "4  A flame-dried round-bottomed flask was charged...   \n",
       "\n",
       "                                      reactionSmiles  \\\n",
       "0  [CH2:1]([OH:11])[CH2:2][CH2:3][CH2:4][CH2:5][C...   \n",
       "1  [O:1]1[CH2:6][CH2:5][CH2:4][CH2:3][CH:2]1[O:7]...   \n",
       "2  N(C(C)C)C(C)C.[Li]CCCC.[SnH:13]([CH2:22][CH2:2...   \n",
       "3  [O:1]1[CH2:6][CH2:5][CH2:4][CH2:3][CH:2]1[O:7]...   \n",
       "4  [O:1]1[CH2:6][CH2:5][CH2:4][CH2:3][CH:2]1[O:7]...   \n",
       "\n",
       "                                       productSmiles title    Rf Solvent_A  \\\n",
       "0                         ['O1C(CCCC1)OCCCCCCCCC#C']   NaN  0.30     EtOAc   \n",
       "1                    ['COC(C#CCCCCCCCCOC1OCCCC1)=O']   NaN  0.33     EtOAc   \n",
       "2  ['O1C(CCCC1)OCCCCCCCC\\\\C(=C/C(=O)OC)\\\\[Sn](CCC...   NaN  0.30     EtOAc   \n",
       "3  ['O1C(CCCC1)OCCCCCCCC\\\\C(=C/C(=O)OC)\\\\C(=C\\\\C(...   NaN  0.19     EtOAc   \n",
       "4  ['O1C(CCCC1)OCCCCCCCCC(CC(=O)OC)=C(CC(=O)OC)CC...   NaN  0.41     EtOAc   \n",
       "\n",
       "  Solvent_B Percent_A Percent_B Additive_C Percent_C  \n",
       "0       Hex         5        95       None      None  \n",
       "1       Hex        10        90       None      None  \n",
       "2       Hex         5        95       None      None  \n",
       "3       Hex        10        90       None      None  \n",
       "4       Hex        20        80       None      None  "
      ]
     },
     "execution_count": 15,
     "metadata": {},
     "output_type": "execute_result"
    }
   ],
   "source": [
    "df_4_processed = get_values(df_4)\n",
    "df_4_processed.head()"
   ]
  },
  {
   "cell_type": "markdown",
   "metadata": {},
   "source": [
    "Finally got the resulting dataframe and quickly saved it!"
   ]
  },
  {
   "cell_type": "code",
   "execution_count": 16,
   "metadata": {},
   "outputs": [],
   "source": [
    "df_4_processed.to_csv(r'C:\\Users\\milen\\git\\ppChem\\PPChem_TLC\\AfterRFfilter(4)_processed.csv', index=False)"
   ]
  },
  {
   "cell_type": "code",
   "execution_count": 17,
   "metadata": {},
   "outputs": [
    {
     "data": {
      "text/plain": [
       "(9147, 11)"
      ]
     },
     "execution_count": 17,
     "metadata": {},
     "output_type": "execute_result"
    }
   ],
   "source": [
    "df_4_processed.shape"
   ]
  },
  {
   "cell_type": "markdown",
   "metadata": {},
   "source": [
    "And the third set into two sets each."
   ]
  },
  {
   "cell_type": "code",
   "execution_count": 8,
   "metadata": {},
   "outputs": [],
   "source": [
    "df_3_2 = pd.read_csv(r'C:\\Users\\milen\\git\\ppChem\\PPChem_TLC\\AfterRFfilter(3.2).csv')"
   ]
  },
  {
   "cell_type": "code",
   "execution_count": 29,
   "metadata": {},
   "outputs": [
    {
     "name": "stderr",
     "output_type": "stream",
     "text": [
      "  0%|          | 1/4572 [00:00<57:10,  1.33it/s]"
     ]
    },
    {
     "name": "stdout",
     "output_type": "stream",
     "text": [
      "Progress: 0.021872265966754158 %\n"
     ]
    },
    {
     "name": "stderr",
     "output_type": "stream",
     "text": [
      "  2%|▏         | 101/4572 [16:41<11:59:41,  9.66s/it]"
     ]
    },
    {
     "name": "stdout",
     "output_type": "stream",
     "text": [
      "Progress: 2.2090988626421697 %\n"
     ]
    },
    {
     "name": "stderr",
     "output_type": "stream",
     "text": [
      "  4%|▍         | 201/4572 [32:25<13:51:32, 11.41s/it]"
     ]
    },
    {
     "name": "stdout",
     "output_type": "stream",
     "text": [
      "Progress: 4.396325459317586 %\n"
     ]
    },
    {
     "name": "stderr",
     "output_type": "stream",
     "text": [
      "  7%|▋         | 301/4572 [49:56<15:36:47, 13.16s/it]"
     ]
    },
    {
     "name": "stdout",
     "output_type": "stream",
     "text": [
      "Progress: 6.583552055993001 %\n"
     ]
    },
    {
     "name": "stderr",
     "output_type": "stream",
     "text": [
      "  9%|▉         | 401/4572 [1:08:39<15:28:34, 13.36s/it]"
     ]
    },
    {
     "name": "stdout",
     "output_type": "stream",
     "text": [
      "Progress: 8.770778652668417 %\n"
     ]
    },
    {
     "name": "stderr",
     "output_type": "stream",
     "text": [
      " 11%|█         | 501/4572 [1:28:07<11:17:11,  9.98s/it]"
     ]
    },
    {
     "name": "stdout",
     "output_type": "stream",
     "text": [
      "Progress: 10.958005249343831 %\n"
     ]
    },
    {
     "name": "stderr",
     "output_type": "stream",
     "text": [
      " 13%|█▎        | 601/4572 [1:48:23<12:28:16, 11.31s/it]"
     ]
    },
    {
     "name": "stdout",
     "output_type": "stream",
     "text": [
      "Progress: 13.145231846019248 %\n"
     ]
    },
    {
     "name": "stderr",
     "output_type": "stream",
     "text": [
      " 15%|█▌        | 701/4572 [2:05:04<10:21:02,  9.63s/it]"
     ]
    },
    {
     "name": "stdout",
     "output_type": "stream",
     "text": [
      "Progress: 15.332458442694662 %\n"
     ]
    },
    {
     "name": "stderr",
     "output_type": "stream",
     "text": [
      " 18%|█▊        | 801/4572 [2:22:01<9:03:53,  8.65s/it] "
     ]
    },
    {
     "name": "stdout",
     "output_type": "stream",
     "text": [
      "Progress: 17.519685039370078 %\n"
     ]
    },
    {
     "name": "stderr",
     "output_type": "stream",
     "text": [
      " 20%|█▉        | 901/4572 [2:38:21<12:34:17, 12.33s/it]"
     ]
    },
    {
     "name": "stdout",
     "output_type": "stream",
     "text": [
      "Progress: 19.706911636045493 %\n"
     ]
    },
    {
     "name": "stderr",
     "output_type": "stream",
     "text": [
      " 22%|██▏       | 1001/4572 [2:56:39<10:36:10, 10.69s/it]"
     ]
    },
    {
     "name": "stdout",
     "output_type": "stream",
     "text": [
      "Progress: 21.894138232720913 %\n"
     ]
    },
    {
     "name": "stderr",
     "output_type": "stream",
     "text": [
      " 24%|██▍       | 1101/4572 [3:11:12<9:23:23,  9.74s/it] "
     ]
    },
    {
     "name": "stdout",
     "output_type": "stream",
     "text": [
      "Progress: 24.081364829396325 %\n"
     ]
    },
    {
     "name": "stderr",
     "output_type": "stream",
     "text": [
      " 26%|██▋       | 1201/4572 [3:27:58<8:09:27,  8.71s/it] "
     ]
    },
    {
     "name": "stdout",
     "output_type": "stream",
     "text": [
      "Progress: 26.26859142607174 %\n"
     ]
    },
    {
     "name": "stderr",
     "output_type": "stream",
     "text": [
      " 28%|██▊       | 1301/4572 [3:49:54<6:43:56,  7.41s/it] "
     ]
    },
    {
     "name": "stdout",
     "output_type": "stream",
     "text": [
      "Progress: 28.45581802274716 %\n"
     ]
    },
    {
     "name": "stderr",
     "output_type": "stream",
     "text": [
      " 31%|███       | 1401/4572 [4:06:58<5:45:08,  6.53s/it] "
     ]
    },
    {
     "name": "stdout",
     "output_type": "stream",
     "text": [
      "Progress: 30.64304461942257 %\n"
     ]
    },
    {
     "name": "stderr",
     "output_type": "stream",
     "text": [
      " 33%|███▎      | 1501/4572 [4:25:21<9:40:57, 11.35s/it] "
     ]
    },
    {
     "name": "stdout",
     "output_type": "stream",
     "text": [
      "Progress: 32.83027121609799 %\n"
     ]
    },
    {
     "name": "stderr",
     "output_type": "stream",
     "text": [
      " 35%|███▌      | 1601/4572 [4:41:25<9:45:12, 11.82s/it] "
     ]
    },
    {
     "name": "stdout",
     "output_type": "stream",
     "text": [
      "Progress: 35.0174978127734 %\n"
     ]
    },
    {
     "name": "stderr",
     "output_type": "stream",
     "text": [
      " 37%|███▋      | 1701/4572 [4:59:58<14:23:01, 18.04s/it]"
     ]
    },
    {
     "name": "stdout",
     "output_type": "stream",
     "text": [
      "Progress: 37.20472440944882 %\n"
     ]
    },
    {
     "name": "stderr",
     "output_type": "stream",
     "text": [
      " 39%|███▉      | 1801/4572 [5:20:45<4:53:15,  6.35s/it] "
     ]
    },
    {
     "name": "stdout",
     "output_type": "stream",
     "text": [
      "Progress: 39.39195100612423 %\n"
     ]
    },
    {
     "name": "stderr",
     "output_type": "stream",
     "text": [
      " 42%|████▏     | 1901/4572 [5:39:51<5:40:06,  7.64s/it] "
     ]
    },
    {
     "name": "stdout",
     "output_type": "stream",
     "text": [
      "Progress: 41.579177602799646 %\n"
     ]
    },
    {
     "name": "stderr",
     "output_type": "stream",
     "text": [
      " 43%|████▎     | 1986/4572 [5:56:23<5:26:16,  7.57s/it] "
     ]
    },
    {
     "name": "stdout",
     "output_type": "stream",
     "text": [
      "Error code: 429 - {'error': {'message': 'Rate limit reached for model `llama3-70b-8192` in organization `org_01hwchy37kf5w8yf0msbakbjt2` on tokens per minute (TPM): Limit 3000, Used 2966, Requested ~3951. Please try again in 1m18.329s. Visit https://console.groq.com/docs/rate-limits for more information.', 'type': 'tokens', 'code': 'rate_limit_exceeded'}}\n",
      "Error at index: 1985\n"
     ]
    },
    {
     "name": "stderr",
     "output_type": "stream",
     "text": [
      " 44%|████▍     | 2001/4572 [5:58:38<5:11:11,  7.26s/it]"
     ]
    },
    {
     "name": "stdout",
     "output_type": "stream",
     "text": [
      "Progress: 43.76640419947507 %\n"
     ]
    },
    {
     "name": "stderr",
     "output_type": "stream",
     "text": [
      " 46%|████▌     | 2101/4572 [6:14:04<6:08:52,  8.96s/it] "
     ]
    },
    {
     "name": "stdout",
     "output_type": "stream",
     "text": [
      "Progress: 45.95363079615048 %\n"
     ]
    },
    {
     "name": "stderr",
     "output_type": "stream",
     "text": [
      " 48%|████▊     | 2201/4572 [6:28:58<4:30:52,  6.85s/it] "
     ]
    },
    {
     "name": "stdout",
     "output_type": "stream",
     "text": [
      "Progress: 48.1408573928259 %\n"
     ]
    },
    {
     "name": "stderr",
     "output_type": "stream",
     "text": [
      " 50%|█████     | 2301/4572 [6:42:44<6:27:25, 10.24s/it]"
     ]
    },
    {
     "name": "stdout",
     "output_type": "stream",
     "text": [
      "Progress: 50.328083989501316 %\n"
     ]
    },
    {
     "name": "stderr",
     "output_type": "stream",
     "text": [
      " 53%|█████▎    | 2401/4572 [7:01:07<6:54:20, 11.45s/it] "
     ]
    },
    {
     "name": "stdout",
     "output_type": "stream",
     "text": [
      "Progress: 52.51531058617673 %\n"
     ]
    },
    {
     "name": "stderr",
     "output_type": "stream",
     "text": [
      " 55%|█████▍    | 2501/4572 [7:20:24<7:54:24, 13.74s/it] "
     ]
    },
    {
     "name": "stdout",
     "output_type": "stream",
     "text": [
      "Progress: 54.70253718285214 %\n"
     ]
    },
    {
     "name": "stderr",
     "output_type": "stream",
     "text": [
      " 57%|█████▋    | 2601/4572 [7:34:24<4:04:02,  7.43s/it]"
     ]
    },
    {
     "name": "stdout",
     "output_type": "stream",
     "text": [
      "Progress: 56.889763779527556 %\n"
     ]
    },
    {
     "name": "stderr",
     "output_type": "stream",
     "text": [
      " 59%|█████▉    | 2701/4572 [7:50:19<5:24:13, 10.40s/it] "
     ]
    },
    {
     "name": "stdout",
     "output_type": "stream",
     "text": [
      "Progress: 59.07699037620298 %\n"
     ]
    },
    {
     "name": "stderr",
     "output_type": "stream",
     "text": [
      " 61%|██████▏   | 2801/4572 [8:07:40<4:46:37,  9.71s/it] "
     ]
    },
    {
     "name": "stdout",
     "output_type": "stream",
     "text": [
      "Progress: 61.264216972878394 %\n"
     ]
    },
    {
     "name": "stderr",
     "output_type": "stream",
     "text": [
      " 63%|██████▎   | 2901/4572 [8:25:15<4:17:48,  9.26s/it]"
     ]
    },
    {
     "name": "stdout",
     "output_type": "stream",
     "text": [
      "Progress: 63.4514435695538 %\n"
     ]
    },
    {
     "name": "stderr",
     "output_type": "stream",
     "text": [
      " 66%|██████▌   | 3001/4572 [8:40:43<3:39:41,  8.39s/it]"
     ]
    },
    {
     "name": "stdout",
     "output_type": "stream",
     "text": [
      "Progress: 65.63867016622922 %\n"
     ]
    },
    {
     "name": "stderr",
     "output_type": "stream",
     "text": [
      " 68%|██████▊   | 3101/4572 [8:57:44<4:51:38, 11.90s/it]"
     ]
    },
    {
     "name": "stdout",
     "output_type": "stream",
     "text": [
      "Progress: 67.82589676290463 %\n"
     ]
    },
    {
     "name": "stderr",
     "output_type": "stream",
     "text": [
      " 70%|███████   | 3201/4572 [9:14:32<3:31:31,  9.26s/it]"
     ]
    },
    {
     "name": "stdout",
     "output_type": "stream",
     "text": [
      "Progress: 70.01312335958005 %\n"
     ]
    },
    {
     "name": "stderr",
     "output_type": "stream",
     "text": [
      " 72%|███████▏  | 3301/4572 [9:33:19<3:20:28,  9.46s/it]"
     ]
    },
    {
     "name": "stdout",
     "output_type": "stream",
     "text": [
      "Progress: 72.20034995625547 %\n"
     ]
    },
    {
     "name": "stderr",
     "output_type": "stream",
     "text": [
      " 73%|███████▎  | 3349/4572 [9:42:23<3:42:45, 10.93s/it]"
     ]
    },
    {
     "name": "stdout",
     "output_type": "stream",
     "text": [
      "upstream connect error or disconnect/reset before headers. reset reason: connection timeout\n",
      "Error at index: 3348\n"
     ]
    },
    {
     "name": "stderr",
     "output_type": "stream",
     "text": [
      " 74%|███████▍  | 3401/4572 [9:54:33<3:49:03, 11.74s/it] "
     ]
    },
    {
     "name": "stdout",
     "output_type": "stream",
     "text": [
      "Progress: 74.38757655293088 %\n"
     ]
    },
    {
     "name": "stderr",
     "output_type": "stream",
     "text": [
      " 77%|███████▋  | 3501/4572 [10:16:01<4:35:16, 15.42s/it] "
     ]
    },
    {
     "name": "stdout",
     "output_type": "stream",
     "text": [
      "Progress: 76.5748031496063 %\n"
     ]
    },
    {
     "name": "stderr",
     "output_type": "stream",
     "text": [
      " 79%|███████▉  | 3601/4572 [10:33:20<2:32:48,  9.44s/it]"
     ]
    },
    {
     "name": "stdout",
     "output_type": "stream",
     "text": [
      "Progress: 78.76202974628171 %\n"
     ]
    },
    {
     "name": "stderr",
     "output_type": "stream",
     "text": [
      " 81%|████████  | 3701/4572 [10:51:08<2:34:22, 10.63s/it]"
     ]
    },
    {
     "name": "stdout",
     "output_type": "stream",
     "text": [
      "Progress: 80.94925634295713 %\n"
     ]
    },
    {
     "name": "stderr",
     "output_type": "stream",
     "text": [
      " 83%|████████▎ | 3801/4572 [11:07:56<2:07:46,  9.94s/it]"
     ]
    },
    {
     "name": "stdout",
     "output_type": "stream",
     "text": [
      "Progress: 83.13648293963254 %\n"
     ]
    },
    {
     "name": "stderr",
     "output_type": "stream",
     "text": [
      " 85%|████████▌ | 3901/4572 [11:25:47<2:04:52, 11.17s/it]"
     ]
    },
    {
     "name": "stdout",
     "output_type": "stream",
     "text": [
      "Progress: 85.32370953630796 %\n"
     ]
    },
    {
     "name": "stderr",
     "output_type": "stream",
     "text": [
      " 88%|████████▊ | 4001/4572 [11:43:59<2:07:18, 13.38s/it]"
     ]
    },
    {
     "name": "stdout",
     "output_type": "stream",
     "text": [
      "Progress: 87.51093613298337 %\n"
     ]
    },
    {
     "name": "stderr",
     "output_type": "stream",
     "text": [
      " 90%|████████▉ | 4101/4572 [12:04:59<1:19:15, 10.10s/it]"
     ]
    },
    {
     "name": "stdout",
     "output_type": "stream",
     "text": [
      "Progress: 89.69816272965879 %\n"
     ]
    },
    {
     "name": "stderr",
     "output_type": "stream",
     "text": [
      " 92%|█████████▏| 4201/4572 [12:21:45<51:14,  8.29s/it]  "
     ]
    },
    {
     "name": "stdout",
     "output_type": "stream",
     "text": [
      "Progress: 91.8853893263342 %\n"
     ]
    },
    {
     "name": "stderr",
     "output_type": "stream",
     "text": [
      " 94%|█████████▍| 4301/4572 [12:38:19<45:24, 10.05s/it]  "
     ]
    },
    {
     "name": "stdout",
     "output_type": "stream",
     "text": [
      "Progress: 94.07261592300962 %\n"
     ]
    },
    {
     "name": "stderr",
     "output_type": "stream",
     "text": [
      " 96%|█████████▋| 4401/4572 [12:56:36<30:00, 10.53s/it]"
     ]
    },
    {
     "name": "stdout",
     "output_type": "stream",
     "text": [
      "Progress: 96.25984251968504 %\n"
     ]
    },
    {
     "name": "stderr",
     "output_type": "stream",
     "text": [
      " 98%|█████████▊| 4501/4572 [13:15:31<13:43, 11.60s/it]"
     ]
    },
    {
     "name": "stdout",
     "output_type": "stream",
     "text": [
      "Progress: 98.44706911636045 %\n"
     ]
    },
    {
     "name": "stderr",
     "output_type": "stream",
     "text": [
      "100%|██████████| 4572/4572 [13:30:24<00:00, 10.64s/it]\n"
     ]
    }
   ],
   "source": [
    "df_3_2_processed = get_values(df_3_2)"
   ]
  },
  {
   "cell_type": "code",
   "execution_count": 30,
   "metadata": {},
   "outputs": [
    {
     "data": {
      "text/html": [
       "<div>\n",
       "<style scoped>\n",
       "    .dataframe tbody tr th:only-of-type {\n",
       "        vertical-align: middle;\n",
       "    }\n",
       "\n",
       "    .dataframe tbody tr th {\n",
       "        vertical-align: top;\n",
       "    }\n",
       "\n",
       "    .dataframe thead th {\n",
       "        text-align: right;\n",
       "    }\n",
       "</style>\n",
       "<table border=\"1\" class=\"dataframe\">\n",
       "  <thead>\n",
       "    <tr style=\"text-align: right;\">\n",
       "      <th></th>\n",
       "      <th>Unnamed: 0</th>\n",
       "      <th>paragraphText</th>\n",
       "      <th>reactionSmiles</th>\n",
       "      <th>productSmiles</th>\n",
       "      <th>title</th>\n",
       "      <th>Rf</th>\n",
       "      <th>Solvent_A</th>\n",
       "      <th>Solvent_B</th>\n",
       "      <th>Percent_A</th>\n",
       "      <th>Percent_B</th>\n",
       "      <th>Additive_C</th>\n",
       "      <th>Percent_C</th>\n",
       "    </tr>\n",
       "  </thead>\n",
       "  <tbody>\n",
       "    <tr>\n",
       "      <th>0</th>\n",
       "      <td>4572</td>\n",
       "      <td>As described for the synthesis of 6-(morpholin...</td>\n",
       "      <td>N1(O[C:11]2[C:12]3[N:13]=[CH:14][N:15]([C:24]=...</td>\n",
       "      <td>['[C@@H]1(C[C@H](O)[C@H](O1)CO)N1C2=NC=NC(=C2N...</td>\n",
       "      <td>Synthesis of 9-(2-Deoxy-β-D-erythro-pentofuran...</td>\n",
       "      <td>0.34</td>\n",
       "      <td>MeOH</td>\n",
       "      <td>CH2Cl2</td>\n",
       "      <td>10</td>\n",
       "      <td>90</td>\n",
       "      <td>None</td>\n",
       "      <td>None</td>\n",
       "    </tr>\n",
       "    <tr>\n",
       "      <th>1</th>\n",
       "      <td>4573</td>\n",
       "      <td>In a clean, dry reaction vial equipped with a ...</td>\n",
       "      <td>N1(O[C:11]2[C:12]3[N:13]=[CH:14][N:15]([C:38]=...</td>\n",
       "      <td>['N1(C=NC=C1)C1=C2N=CN(C2=NC=N1)[C@H]1C[C@H](O...</td>\n",
       "      <td>Synthesis of 6-(Imidazol-1-yl)-9-[2-deoxy-3,5-...</td>\n",
       "      <td>0.07</td>\n",
       "      <td>EtOAc</td>\n",
       "      <td>hexanes</td>\n",
       "      <td>20</td>\n",
       "      <td>80</td>\n",
       "      <td>None</td>\n",
       "      <td>None</td>\n",
       "    </tr>\n",
       "    <tr>\n",
       "      <th>2</th>\n",
       "      <td>4574</td>\n",
       "      <td>As described for the synthesis of 6-(morpholin...</td>\n",
       "      <td>N1(O[C:11]2[C:12]3[N:13]=[CH:14][N:15]([C:38]=...</td>\n",
       "      <td>['[Si](C)(C)(C(C)(C)C)O[C@H]1C[C@@H](O[C@@H]1C...</td>\n",
       "      <td>Synthesis of 3′,5′-Bis-O-(tert-butyldimethylsi...</td>\n",
       "      <td>0.07</td>\n",
       "      <td>CH2Cl2</td>\n",
       "      <td>MeOH</td>\n",
       "      <td>97</td>\n",
       "      <td>3</td>\n",
       "      <td>None</td>\n",
       "      <td>None</td>\n",
       "    </tr>\n",
       "    <tr>\n",
       "      <th>3</th>\n",
       "      <td>4575</td>\n",
       "      <td>As described for the synthesis of 6-(morpholin...</td>\n",
       "      <td>N1(C2N=CN=C3C=2N=CN3[C@@H]2O[C@H](CO[Si](C(C)(...</td>\n",
       "      <td>['[Si](C)(C)(C(C)(C)C)O[C@H]1[C@@H](O[C@@H]([C...</td>\n",
       "      <td>Synthesis of 2′,3′,5′Tris-O-(tert-butyldimethy...</td>\n",
       "      <td>0.39</td>\n",
       "      <td>EtOAc</td>\n",
       "      <td>hexanes</td>\n",
       "      <td>20</td>\n",
       "      <td>80</td>\n",
       "      <td>None</td>\n",
       "      <td>None</td>\n",
       "    </tr>\n",
       "    <tr>\n",
       "      <th>4</th>\n",
       "      <td>4576</td>\n",
       "      <td>Water (10.0 L) and (Boc)2O (3.33 kgg, 15.3 mol...</td>\n",
       "      <td>[CH3:13][C:12]([O:11][C:9](O[C:9]([O:11][C:12]...</td>\n",
       "      <td>['C(C)(C)(C)OC(=O)NC[C@@H]1CC[C@H](CC1)C(=O)O']</td>\n",
       "      <td>NaN</td>\n",
       "      <td>0.58</td>\n",
       "      <td>EtoAc</td>\n",
       "      <td>None</td>\n",
       "      <td>100</td>\n",
       "      <td>None</td>\n",
       "      <td>None</td>\n",
       "      <td>None</td>\n",
       "    </tr>\n",
       "  </tbody>\n",
       "</table>\n",
       "</div>"
      ],
      "text/plain": [
       "   Unnamed: 0                                      paragraphText  \\\n",
       "0        4572  As described for the synthesis of 6-(morpholin...   \n",
       "1        4573  In a clean, dry reaction vial equipped with a ...   \n",
       "2        4574  As described for the synthesis of 6-(morpholin...   \n",
       "3        4575  As described for the synthesis of 6-(morpholin...   \n",
       "4        4576  Water (10.0 L) and (Boc)2O (3.33 kgg, 15.3 mol...   \n",
       "\n",
       "                                      reactionSmiles  \\\n",
       "0  N1(O[C:11]2[C:12]3[N:13]=[CH:14][N:15]([C:24]=...   \n",
       "1  N1(O[C:11]2[C:12]3[N:13]=[CH:14][N:15]([C:38]=...   \n",
       "2  N1(O[C:11]2[C:12]3[N:13]=[CH:14][N:15]([C:38]=...   \n",
       "3  N1(C2N=CN=C3C=2N=CN3[C@@H]2O[C@H](CO[Si](C(C)(...   \n",
       "4  [CH3:13][C:12]([O:11][C:9](O[C:9]([O:11][C:12]...   \n",
       "\n",
       "                                       productSmiles  \\\n",
       "0  ['[C@@H]1(C[C@H](O)[C@H](O1)CO)N1C2=NC=NC(=C2N...   \n",
       "1  ['N1(C=NC=C1)C1=C2N=CN(C2=NC=N1)[C@H]1C[C@H](O...   \n",
       "2  ['[Si](C)(C)(C(C)(C)C)O[C@H]1C[C@@H](O[C@@H]1C...   \n",
       "3  ['[Si](C)(C)(C(C)(C)C)O[C@H]1[C@@H](O[C@@H]([C...   \n",
       "4    ['C(C)(C)(C)OC(=O)NC[C@@H]1CC[C@H](CC1)C(=O)O']   \n",
       "\n",
       "                                               title    Rf Solvent_A  \\\n",
       "0  Synthesis of 9-(2-Deoxy-β-D-erythro-pentofuran...  0.34      MeOH   \n",
       "1  Synthesis of 6-(Imidazol-1-yl)-9-[2-deoxy-3,5-...  0.07     EtOAc   \n",
       "2  Synthesis of 3′,5′-Bis-O-(tert-butyldimethylsi...  0.07    CH2Cl2   \n",
       "3  Synthesis of 2′,3′,5′Tris-O-(tert-butyldimethy...  0.39     EtOAc   \n",
       "4                                                NaN  0.58     EtoAc   \n",
       "\n",
       "  Solvent_B Percent_A Percent_B Additive_C Percent_C  \n",
       "0    CH2Cl2        10        90       None      None  \n",
       "1   hexanes        20        80       None      None  \n",
       "2      MeOH        97         3       None      None  \n",
       "3   hexanes        20        80       None      None  \n",
       "4      None       100      None       None      None  "
      ]
     },
     "execution_count": 30,
     "metadata": {},
     "output_type": "execute_result"
    }
   ],
   "source": [
    "df_3_2_processed.to_csv(r'C:\\Users\\milen\\git\\ppChem\\PPChem_TLC\\AfterRFfilter(3.2)_processed.csv', index=False)\n",
    "df_3_2_processed.head()"
   ]
  },
  {
   "cell_type": "markdown",
   "metadata": {},
   "source": [
    "# 4. Further Processing\n",
    "Now we created new rows for the extracted values. In the following, we need to process the data further, to first drop the rows that don't include an Rf and were not filtered out in the first function, to convert the types from `str` to `int` for the Rf values and check, if the percent add up to 100 %, to see which solvents are used to create their corresponding SMILES and later molecular descriptors using `RDkit`. Furthermore, in some procedures, a third additive is added to the solvent mixture, which distorts the data and we found out, that the calculation of the solvent ratio in percent often is not matching. To simplify the dataset, we thus decided to filter out those entries with a third additive. Lastly, the LLM partly took retention times from column chromatography as Rf values, so to filter out those, we exclude Rf values >1."
   ]
  },
  {
   "cell_type": "markdown",
   "metadata": {},
   "source": [
    "## 4.1 Functions for the clean up\n",
    "This first function `clean_up` does exactly what described in the previous paragraph. Over a bit of time and after some testing, we finalized this function to its current form to exclude all eventualities. Ater this we still had the problem of converting the solvents to some form, that can be fed into a ML model for training. As we knew from some cases of the previous tests we did with smaller dataframes, the LLM sometimes creates weird responses which don't meet the column standards we wanted. That's when we decided to create the `get_solvents` function, to get an overview of potential errors that could occur. Based on this list that we got, we modified the `convert_solvents` function until it was bulletproof from our point of view. "
   ]
  },
  {
   "cell_type": "code",
   "execution_count": 2,
   "metadata": {},
   "outputs": [],
   "source": [
    "def clean_up(Dataframe: pd.DataFrame, tolerance: float = 1):\n",
    "    \"\"\"1. Delets all row whitout Rf value or Rf value over 1.0 and without solvent information.\n",
    "       2. Converts percentage of solvents in a Dataframe from str to float and check if they add up to 100, else drop them.\n",
    "       3. Strips productSMILES str to a usable SMILES str.\n",
    "\n",
    "    Args: \n",
    "        Dataframe (_type_): Dataframe containing the processed data from the get_value function.\n",
    "        Dataframe needs to have following columns: 'productSmiles,' 'Rf', 'Percent_A', 'Percent_B'\n",
    "        tolerance (_type_): float, default = 1, tolerance for the sum of the percentages of the solvents (default is 100% +- 1%)\n",
    "\n",
    "    \"\"\"\n",
    "    size_pre_cleaning = Dataframe.shape[0]  # get the size of the dataframe\n",
    "    # Drop rows without Rf values\n",
    "    Dataframe.dropna(subset=['Rf'], inplace = True) \n",
    "    \n",
    "    # Convert Rf value to float\n",
    "    Dataframe['Rf'] = Dataframe['Rf'].astype(float)\n",
    "    \n",
    "    #finds indicies with Rf values over 1.0\n",
    "    indices_false_Rf = Dataframe[Dataframe[\"Rf\"] > 1].index \n",
    "    Dataframe.drop(indices_false_Rf,inplace = True) #drops rows with false Rf values\n",
    "    \n",
    "    #check if at least one solvent (either solvent A or solvent B) is given (so check that solvent A and solvent B are not None)\n",
    "    Dataframe = Dataframe[Dataframe['Solvent_A'].notnull() & Dataframe['Solvent_B'].notnull()].copy()\n",
    "    \n",
    "    #convert 'None' entry to 0\n",
    "    Dataframe.loc[:, 'Percent_A'] = Dataframe['Percent_A'].apply(lambda x: 0 if x is None else x)\n",
    "    \n",
    "    #convert 'None' entry to 0\n",
    "    Dataframe.loc[:, 'Percent_B'] = Dataframe['Percent_B'].apply(lambda x: 0 if x is None else x)\n",
    "    \n",
    "    # convert Percentage to float\n",
    "    Dataframe.loc[:, 'Percent_A'] = Dataframe['Percent_A'].apply(lambda x: float(x)) \n",
    "    \n",
    "    #convert Percantage to float\n",
    "    Dataframe.loc[:, 'Percent_B'] = Dataframe['Percent_B'].apply(lambda x: float(x)) \n",
    "    \n",
    "    # Drop rows where 'additive_C' is not None\n",
    "    Dataframe = Dataframe[Dataframe['Additive_C'].isnull()].copy()\n",
    "    \n",
    "    # remove [' and '] from the productSimles\n",
    "    Dataframe.loc[:, 'productSmiles'] = Dataframe['productSmiles'].apply(lambda x: x[1:-1]) \n",
    "    \n",
    "    # check if the sum of the percentages is 100, this at the same time kicks out entries with additives C (+ consider limitations of floating-point arithmetic)\n",
    "    Dataframe.loc[:, 'sum'] = Dataframe['Percent_A'] + Dataframe['Percent_B']\n",
    "    Dataframe = Dataframe[(Dataframe['sum'] >= 100 - tolerance) & (Dataframe['sum'] <= 100 + tolerance)].copy()\n",
    "    \n",
    "    Dataframe.reset_index(drop=True, inplace=True) # sets the index new from 1 to end\n",
    "\n",
    "    size_post_cleaning = Dataframe.shape[0]  # get the size of the dataframe after cleaning\n",
    "    print(f\"Size of the dataframe before cleaning: {size_pre_cleaning}\")\n",
    "    print(f\"Size of the dataframe after cleaning: {size_post_cleaning}\")\n",
    "    print(f\"Number of rows dropped: {size_pre_cleaning - size_post_cleaning}\")\n",
    "    print(f\"Percentage of rows dropped: {(size_pre_cleaning - size_post_cleaning) / size_pre_cleaning * 100}%\")\n",
    "    return Dataframe\n"
   ]
  },
  {
   "cell_type": "code",
   "execution_count": 3,
   "metadata": {},
   "outputs": [],
   "source": [
    "def get_solvents(Dataframe: pd.DataFrame):\n",
    "    \"\"\"Function that iterates over all solvent entries in the dataframe and checks, if the solvent mentioned is already in the list. If not, it adds the solvent to the list.\n",
    "\n",
    "    Args:\n",
    "        Dataframe (_type_): dataframe with the extracted data from the US patents, preprocessed with the get_values function.\n",
    "    \"\"\"\n",
    "    solvents = []\n",
    "    \n",
    "    for index, row in Dataframe.iterrows():\n",
    "        solvent_a = row['Solvent_A']\n",
    "        solvent_b = row['Solvent_B']\n",
    "        \n",
    "        if solvent_a not in solvents and solvent_a is not None:\n",
    "            solvents.append(solvent_a)\n",
    "        if solvent_b not in solvents and solvent_b is not None:\n",
    "            solvents.append(solvent_b)\n",
    "        else:\n",
    "            continue\n",
    "        \n",
    "    return solvents"
   ]
  },
  {
   "cell_type": "code",
   "execution_count": 4,
   "metadata": {},
   "outputs": [],
   "source": [
    "def convert_solvents(Dataframe: pd.DataFrame):\n",
    "    \"\"\"Converts the solvent names in the dataframe to a standardized form.\n",
    "\n",
    "    Args:\n",
    "        Dataframe (pd.DataFrame): Dataframe containing the extracted data from the US patents, \n",
    "                                preprocessed with the get_values and clean_up function.\n",
    "                                \n",
    "    Returns:\n",
    "        Dataframe (pd.DataFrame): Dataframe with standardized solvent names and SMILES.\n",
    "        df_sorted_out (pd.DataFrame): Dataframe containing rows with solvents that could not be converted.\n",
    "    \"\"\"\n",
    "    Dataframe = Dataframe.copy()\n",
    "    df_sorted_out = pd.DataFrame()\n",
    "    indices_to_drop = []\n",
    "    size_pre_conversion = Dataframe.shape[0]  # get the size of the dataframe\n",
    "    \n",
    "    for index, row in Dataframe.iterrows():\n",
    "        for solvent_column in ['Solvent_A', 'Solvent_B']: # iterate through the solvent columns\n",
    "            solvent_name = row[solvent_column].lower()\n",
    "            \n",
    "            if '/' in solvent_name or '%' in solvent_name or '(' in solvent_name or ')' in solvent_name: # if there is a mixture of solvents, take out the entire row\n",
    "                df_sorted_out = pd.concat([df_sorted_out, pd.DataFrame(row).transpose()], ignore_index=True)\n",
    "                indices_to_drop.append(index) # add the index to the list of indices to drop not to change size of Dataframe with every iteration\n",
    "                \n",
    "            elif 'dcm' in solvent_name or 'dichlorometh' in solvent_name or 'methylene chloride' in solvent_name or 'ch2cl2' in solvent_name and 'chloroform' not in solvent_name and 'trichloromethane' not in solvent_name: # exclude chloroform and trichloromethane for substring search\n",
    "                Dataframe.at[index, solvent_column] = 'DCM'     \n",
    "                Dataframe.at[index, solvent_column + '_Smiles'] = 'ClCCl' # add SMILES of the solvent A \n",
    "                \n",
    "            elif 'meoh' in solvent_name or 'methanol' in solvent_name or 'ch3oh' in solvent_name:\n",
    "                Dataframe.at[index, solvent_column] = 'MeOH'\n",
    "                Dataframe.at[index, solvent_column + '_Smiles'] = 'CO'\n",
    "                \n",
    "            elif 'acetonitrile' in solvent_name or 'acetonitril' in solvent_name or 'mecn' in solvent_name or 'ch3cn' in solvent_name or 'acn' in solvent_name:\n",
    "                Dataframe.at[index, solvent_column] = 'MeCN'\n",
    "                Dataframe.at[index, solvent_column + '_Smiles'] = 'CC#N'\n",
    "                \n",
    "            elif 'toluene' in solvent_name:\n",
    "                Dataframe.at[index, solvent_column] = 'Toluene'\n",
    "                Dataframe.at[index, solvent_column + '_Smiles'] = 'Cc1ccccc1'\n",
    "                \n",
    "            elif 'hexane' in solvent_name or 'hex' in solvent_name or 'n-hex' in solvent_name or 'hexanes' in solvent_name and 'cycl' not in solvent_name: # exclude cyclohexane\n",
    "                Dataframe.at[index, solvent_column] = 'Hexane'\n",
    "                Dataframe.at[index, solvent_column + '_Smiles'] = 'CCCCCC'\n",
    "                \n",
    "            elif 'chloroform' in solvent_name or 'trichloromethane' in solvent_name or 'chcl3' in solvent_name:\n",
    "                Dataframe.at[index, solvent_column] = 'Chloroform'\n",
    "                Dataframe.at[index, solvent_column + '_Smiles'] = 'ClC(Cl)Cl'\n",
    "                \n",
    "            elif 'acetone' in solvent_name or 'me2co' in solvent_name or 'ch3coch3' in solvent_name or '2-propanone' in solvent_name or 'dimethyl ketone' in solvent_name:\n",
    "                Dataframe.at[index, solvent_column] = 'Acetone'\n",
    "                Dataframe.at[index, solvent_column + '_Smiles'] = 'CC(=O)C'\n",
    "                \n",
    "            elif 'etoh' in solvent_name or 'ethanol' in solvent_name or 'ch3ch2oh' in solvent_name or 'alcohol' in solvent_name:\n",
    "                Dataframe.at[index, solvent_column] = 'EtOH'\n",
    "                Dataframe.at[index, solvent_column + '_Smiles'] = 'CCO'\n",
    "                \n",
    "            elif 'ether' in solvent_name or 'diethylether' in solvent_name or 'et2o' in solvent_name or 'diethyl ether' in solvent_name:\n",
    "                Dataframe.at[index, solvent_column] = 'diethyl ether'\n",
    "                Dataframe.at[index, solvent_column + '_Smiles'] = 'CCOCC'\n",
    "                \n",
    "            elif 'hep' in solvent_name or 'heptane' in solvent_name or 'n-heptane' in solvent_name or 'heptanes' in solvent_name:\n",
    "                Dataframe.at[index, solvent_column] = 'heptane'\n",
    "                Dataframe.at[index, solvent_column + '_Smiles'] = 'CCCCCCC'\n",
    "                \n",
    "            elif 'petroleum ether' in solvent_name or 'light petroleum' in solvent_name or 'pe' in solvent_name or 'pet ether' in solvent_name or 'pet. ether' in solvent_name or 'pet.ether' in solvent_name or 'petroleum ether (bp 40-60)' in solvent_name or 'petroleum ether (bp 60-80)' in solvent_name or 'petroleum ether (bp 80-100)' in solvent_name or 'petroleum ether (bp 100-140)' in solvent_name or 'petroleum ether (bp 140-180)' in solvent_name or 'petroleum ether (bp 180-210)' in solvent_name or 'petroleum ether (bp 210-240)' in solvent_name or 'petroleum ether (bp 240-270)' in solvent_name or 'petroleum ether (bp 270-300)' in solvent_name or 'petroleum ether (bp 300-400)' in solvent_name or 'petroleum ether (bp 400-600)' in solvent_name or 'petroleum ether (bp 600-800)' in solvent_name or 'petroleum ether (bp 800-1000)' in solvent_name or 'petroleum ether (bp 1000-1200)' in solvent_name or 'petroleum ether (bp 1200-1400)' in solvent_name or 'petroleum ether (bp 1400-1600)' in solvent_name or 'petroleum ether (bp 1600-1800)' in solvent_name or 'petroleum ether (bp 1800-2000)' in solvent_name or 'petroleum ether (bp 2000-2200)' in solvent_name or 'petroleum ether (bp 2200-2400)' in solvent_name or 'petroleum ether (bp 2400-2600)' in solvent_name or 'petroleum ether (bp 2600-2800)' in solvent_name or 'petroleum ether (bp 2800-3000)' in solvent_name or 'petroleum ether (bp 3000-3200)' in solvent_name or 'petroleum ether (bp 3200-3400)' in solvent_name or 'petroleum ether (bp 3400-3600)' in solvent_name or 'petroleum ether (bp 3600-3800)' in solvent_name or 'petroleum ether (bp 3800-4000)' in solvent_name or 'petroleum ether (bp 4000-4200)' in solvent_name:\n",
    "                Dataframe.at[index, solvent_column] = 'petroleum ether (2-methylpentane)'\n",
    "                Dataframe.at[index, solvent_column + '_Smiles'] = 'CCCC(C)C'\n",
    "                \n",
    "            elif 'triethylamine' in solvent_name or 'et3n' in solvent_name or 'tea' in solvent_name:\n",
    "                Dataframe.at[index, solvent_column] = 'triethylamine'\n",
    "                Dataframe.at[index, solvent_column + '_Smiles'] = 'CCN(CC)CC'\n",
    "                \n",
    "            elif 'etoac' in solvent_name or 'ethyl acetate' in solvent_name or 'ethylacetate' in solvent_name or 'ethylacetat' in solvent_name or 'ea' in solvent_name or 'ethanol acetate' in solvent_name:\n",
    "                Dataframe.at[index, solvent_column] = 'EtOAc'\n",
    "                Dataframe.at[index, solvent_column + '_Smiles'] = 'O=C(OCC)C' \n",
    "                \n",
    "            elif 'thf' in solvent_name or 'tetrahydrofuran' in solvent_name:\n",
    "                Dataframe.at[index, solvent_column] = 'THF'\n",
    "                Dataframe.at[index, solvent_column + '_Smiles'] = 'C1CCOC1'\n",
    "                \n",
    "            elif 'none' in solvent_name:\n",
    "                Dataframe.at[index, solvent_column + '_Smiles'] = None\n",
    "                \n",
    "            else: # if the solvent is not in the list, add it to the another dataframe but still sort it out. We don't want things to get too complex.\n",
    "                df_sorted_out = pd.concat([df_sorted_out, pd.DataFrame(row).transpose()], ignore_index=True)\n",
    "                indices_to_drop.append(index) # add the index to the list of indices to drop not to change size of Dataframe with every iteration\n",
    "\n",
    "    Dataframe = Dataframe.drop(indices_to_drop)\n",
    "    Dataframe.reset_index(drop=True, inplace=True)\n",
    "    df_sorted_out.reset_index(drop=True, inplace=True)\n",
    "    \n",
    "    size_post_conversion = Dataframe.shape[0]  # get the size of the dataframe after conversion to see how many rows were dropped\n",
    "    print(f\"Size of the dataframe before conversion: {size_pre_conversion}\")\n",
    "    print(f\"Size of the dataframe after conversion: {size_post_conversion}\")\n",
    "    print(f\"Number of rows dropped: {size_pre_conversion - size_post_conversion}\")\n",
    "    print(f\"Percentage of rows dropped: {(size_pre_conversion - size_post_conversion) / size_pre_conversion * 100}%\")\n",
    "        \n",
    "    return Dataframe, df_sorted_out"
   ]
  },
  {
   "cell_type": "code",
   "execution_count": 5,
   "metadata": {},
   "outputs": [],
   "source": [
    "def normalize_data(Dataframe: pd.DataFrame):\n",
    "    \"\"\"Normalizes the percentage of solvents in the dataframe for machine learning to get values between 0 and 1 as for the Rf values.\n",
    "\n",
    "    Args:\n",
    "        Dataframe (pd.DataFrame): Dataframe containing the extracted data from the US patents, \n",
    "                                preprocessed with the get_values and clean_up function.\n",
    "    \"\"\"\n",
    "    \n",
    "    for index, row in Dataframe.iterrows():\n",
    "        Dataframe.at[index, 'Percent_A'] = row['Percent_A'] / 100\n",
    "        Dataframe.at[index, 'Percent_B'] = row['Percent_B'] / 100\n",
    "        \n",
    "    return Dataframe"
   ]
  },
  {
   "cell_type": "markdown",
   "metadata": {},
   "source": [
    "## 4.2 Example for the Dataframe 3_2"
   ]
  },
  {
   "cell_type": "code",
   "execution_count": 5,
   "metadata": {},
   "outputs": [
    {
     "name": "stdout",
     "output_type": "stream",
     "text": [
      "Size of the dataframe before cleaning: 4116\n",
      "Size of the dataframe after cleaning: 3639\n",
      "Number of rows dropped: 477\n",
      "Percentage of rows dropped: 11.588921282798834%\n",
      "shape: (3639, 12)\n"
     ]
    },
    {
     "data": {
      "text/html": [
       "<div>\n",
       "<style scoped>\n",
       "    .dataframe tbody tr th:only-of-type {\n",
       "        vertical-align: middle;\n",
       "    }\n",
       "\n",
       "    .dataframe tbody tr th {\n",
       "        vertical-align: top;\n",
       "    }\n",
       "\n",
       "    .dataframe thead th {\n",
       "        text-align: right;\n",
       "    }\n",
       "</style>\n",
       "<table border=\"1\" class=\"dataframe\">\n",
       "  <thead>\n",
       "    <tr style=\"text-align: right;\">\n",
       "      <th></th>\n",
       "      <th>paragraphText</th>\n",
       "      <th>reactionSmiles</th>\n",
       "      <th>productSmiles</th>\n",
       "      <th>title</th>\n",
       "      <th>Rf</th>\n",
       "      <th>Solvent_A</th>\n",
       "      <th>Solvent_B</th>\n",
       "      <th>Percent_A</th>\n",
       "      <th>Percent_B</th>\n",
       "      <th>Additive_C</th>\n",
       "      <th>Percent_C</th>\n",
       "      <th>sum</th>\n",
       "    </tr>\n",
       "  </thead>\n",
       "  <tbody>\n",
       "    <tr>\n",
       "      <th>0</th>\n",
       "      <td>As described for the synthesis of 6-(morpholin...</td>\n",
       "      <td>N1(O[C:11]2[C:12]3[N:13]=[CH:14][N:15]([C:24]=...</td>\n",
       "      <td>'[C@@H]1(C[C@H](O)[C@H](O1)CO)N1C2=NC=NC(=C2N=...</td>\n",
       "      <td>Synthesis of 9-(2-Deoxy-β-D-erythro-pentofuran...</td>\n",
       "      <td>0.34</td>\n",
       "      <td>MeOH</td>\n",
       "      <td>CH2Cl2</td>\n",
       "      <td>10.0</td>\n",
       "      <td>90.0</td>\n",
       "      <td>NaN</td>\n",
       "      <td>NaN</td>\n",
       "      <td>100.0</td>\n",
       "    </tr>\n",
       "    <tr>\n",
       "      <th>1</th>\n",
       "      <td>In a clean, dry reaction vial equipped with a ...</td>\n",
       "      <td>N1(O[C:11]2[C:12]3[N:13]=[CH:14][N:15]([C:38]=...</td>\n",
       "      <td>'N1(C=NC=C1)C1=C2N=CN(C2=NC=N1)[C@H]1C[C@H](O[...</td>\n",
       "      <td>Synthesis of 6-(Imidazol-1-yl)-9-[2-deoxy-3,5-...</td>\n",
       "      <td>0.07</td>\n",
       "      <td>EtOAc</td>\n",
       "      <td>hexanes</td>\n",
       "      <td>20.0</td>\n",
       "      <td>80.0</td>\n",
       "      <td>NaN</td>\n",
       "      <td>NaN</td>\n",
       "      <td>100.0</td>\n",
       "    </tr>\n",
       "    <tr>\n",
       "      <th>2</th>\n",
       "      <td>As described for the synthesis of 6-(morpholin...</td>\n",
       "      <td>N1(O[C:11]2[C:12]3[N:13]=[CH:14][N:15]([C:38]=...</td>\n",
       "      <td>'[Si](C)(C)(C(C)(C)C)O[C@H]1C[C@@H](O[C@@H]1CO...</td>\n",
       "      <td>Synthesis of 3′,5′-Bis-O-(tert-butyldimethylsi...</td>\n",
       "      <td>0.07</td>\n",
       "      <td>CH2Cl2</td>\n",
       "      <td>MeOH</td>\n",
       "      <td>97.0</td>\n",
       "      <td>3.0</td>\n",
       "      <td>NaN</td>\n",
       "      <td>NaN</td>\n",
       "      <td>100.0</td>\n",
       "    </tr>\n",
       "    <tr>\n",
       "      <th>3</th>\n",
       "      <td>As described for the synthesis of 6-(morpholin...</td>\n",
       "      <td>N1(C2N=CN=C3C=2N=CN3[C@@H]2O[C@H](CO[Si](C(C)(...</td>\n",
       "      <td>'[Si](C)(C)(C(C)(C)C)O[C@H]1[C@@H](O[C@@H]([C@...</td>\n",
       "      <td>Synthesis of 2′,3′,5′Tris-O-(tert-butyldimethy...</td>\n",
       "      <td>0.39</td>\n",
       "      <td>EtOAc</td>\n",
       "      <td>hexanes</td>\n",
       "      <td>20.0</td>\n",
       "      <td>80.0</td>\n",
       "      <td>NaN</td>\n",
       "      <td>NaN</td>\n",
       "      <td>100.0</td>\n",
       "    </tr>\n",
       "    <tr>\n",
       "      <th>4</th>\n",
       "      <td>A 100 mL round bottom flask was charged with 2...</td>\n",
       "      <td>[Cl:1][C:2]1[N:11]=[C:10](Cl)[C:9]2[C:4](=[CH:...</td>\n",
       "      <td>'ClC1=NC2=CC=C(C=C2C(=N1)NN)Cl'</td>\n",
       "      <td>2,6-Dichloro-4-hydrazinylquinazoline</td>\n",
       "      <td>0.30</td>\n",
       "      <td>EtOAc</td>\n",
       "      <td>Petroleum ether</td>\n",
       "      <td>20.0</td>\n",
       "      <td>80.0</td>\n",
       "      <td>NaN</td>\n",
       "      <td>NaN</td>\n",
       "      <td>100.0</td>\n",
       "    </tr>\n",
       "  </tbody>\n",
       "</table>\n",
       "</div>"
      ],
      "text/plain": [
       "                                       paragraphText  \\\n",
       "0  As described for the synthesis of 6-(morpholin...   \n",
       "1  In a clean, dry reaction vial equipped with a ...   \n",
       "2  As described for the synthesis of 6-(morpholin...   \n",
       "3  As described for the synthesis of 6-(morpholin...   \n",
       "4  A 100 mL round bottom flask was charged with 2...   \n",
       "\n",
       "                                      reactionSmiles  \\\n",
       "0  N1(O[C:11]2[C:12]3[N:13]=[CH:14][N:15]([C:24]=...   \n",
       "1  N1(O[C:11]2[C:12]3[N:13]=[CH:14][N:15]([C:38]=...   \n",
       "2  N1(O[C:11]2[C:12]3[N:13]=[CH:14][N:15]([C:38]=...   \n",
       "3  N1(C2N=CN=C3C=2N=CN3[C@@H]2O[C@H](CO[Si](C(C)(...   \n",
       "4  [Cl:1][C:2]1[N:11]=[C:10](Cl)[C:9]2[C:4](=[CH:...   \n",
       "\n",
       "                                       productSmiles  \\\n",
       "0  '[C@@H]1(C[C@H](O)[C@H](O1)CO)N1C2=NC=NC(=C2N=...   \n",
       "1  'N1(C=NC=C1)C1=C2N=CN(C2=NC=N1)[C@H]1C[C@H](O[...   \n",
       "2  '[Si](C)(C)(C(C)(C)C)O[C@H]1C[C@@H](O[C@@H]1CO...   \n",
       "3  '[Si](C)(C)(C(C)(C)C)O[C@H]1[C@@H](O[C@@H]([C@...   \n",
       "4                    'ClC1=NC2=CC=C(C=C2C(=N1)NN)Cl'   \n",
       "\n",
       "                                               title    Rf Solvent_A  \\\n",
       "0  Synthesis of 9-(2-Deoxy-β-D-erythro-pentofuran...  0.34      MeOH   \n",
       "1  Synthesis of 6-(Imidazol-1-yl)-9-[2-deoxy-3,5-...  0.07     EtOAc   \n",
       "2  Synthesis of 3′,5′-Bis-O-(tert-butyldimethylsi...  0.07    CH2Cl2   \n",
       "3  Synthesis of 2′,3′,5′Tris-O-(tert-butyldimethy...  0.39     EtOAc   \n",
       "4               2,6-Dichloro-4-hydrazinylquinazoline  0.30     EtOAc   \n",
       "\n",
       "         Solvent_B  Percent_A  Percent_B Additive_C  Percent_C    sum  \n",
       "0           CH2Cl2       10.0       90.0        NaN        NaN  100.0  \n",
       "1          hexanes       20.0       80.0        NaN        NaN  100.0  \n",
       "2             MeOH       97.0        3.0        NaN        NaN  100.0  \n",
       "3          hexanes       20.0       80.0        NaN        NaN  100.0  \n",
       "4  Petroleum ether       20.0       80.0        NaN        NaN  100.0  "
      ]
     },
     "execution_count": 5,
     "metadata": {},
     "output_type": "execute_result"
    }
   ],
   "source": [
    "# Load the processed dataframe\n",
    "df_3_2_processed_clean = pd.read_csv(r'C:\\Users\\milen\\git\\ppChem\\PPChem_TLC\\AfterRFfilter(3.2)_processed.csv') \n",
    "\n",
    "# Clean up the dataframe\n",
    "df_3_2_processed_clean = clean_up(df_3_2_processed_clean)\n",
    "print(f\"shape:\", df_3_2_processed_clean.shape)\n",
    "# Show the first 5 rows of the cleaned dataframe as outcome\n",
    "df_3_2_processed_clean.head()"
   ]
  },
  {
   "cell_type": "markdown",
   "metadata": {},
   "source": [
    "Now get an overview of the solvents used for this dataframe. Already, those 3773 reactions should offer quite a good distribution and impression for potential errors."
   ]
  },
  {
   "cell_type": "code",
   "execution_count": 56,
   "metadata": {},
   "outputs": [
    {
     "name": "stdout",
     "output_type": "stream",
     "text": [
      "['MeOH', 'CH2Cl2', 'EtOAc', 'hexanes', 'Petroleum ether', 'ethyl acetate', 'chloroform', 'DCM', 'hexane', 'Hexane', 'methanol', 'DCM\\nsolvent B= MeOH\\npercent A= 90\\npercent B= 10', 'MeOH\\npercent A= 90\\npercent B= 10', 'petroleum ether', 'toluene', 'AcOEt', 'diethyl ether', 'CH3OH', 'Et3N', 'CHCl3', 'Hex', 'hex', 'acetone', 'Hexanes', 'THF', 'dichloromethane', 'heptane', 'Pentane', 'Et2O', '2-propanol', 'Ethyl acetate', 'Methanol', 'methylene chloride', 'EtOH', 'pentane', 'cyclohexane', 'PE', 'EtOAc with 1.25% AcOH', 'EA', 'triethylamine', 'benzene', 'Toluene', 'EtOAC', 'n-hexane', 'Heptane', 'n-heptane', 'IH', 'EtoAc', 'ether', 'heptanes', 'Pet. ether', 'Chloroform', 'Acetone', 'petroleum spirits', '(50/70) petroleum ether', 'pertroleum ether', 'petrolium ether', 'peteroleum ether', 'iso-hexane', 'petrol ether', 'EA\\nsolvent B= Hept\\npercent A= 50\\npercent B= 50', 'Hept\\npercent A= 50\\npercent B= 50', 'Hept', 'ammonia (2M in EtOH)', 'H', 'Tol', '5% MeOH/CH2Cl2', '95% CH2Cl2/5% MeOH', 'CH3CN', 'H2O', 'Methylene chloride', '0.1% formic acid/5% acetonitrile/94.9% water', '0.1% formic acid/5% water/94.9% acetonitrile', 'Heptanes', 'TBME', 'MeOH\\nsolvent B= DCM\\npercent A= 10\\npercent B= 90', 'DCM\\npercent A= 10\\npercent B= 90', 'CyH', 'ethylacetate', 'Pet ether', 'petrol', 'ethanol', 'methyl tert-butyl ether', 'Ethyl Acetate', 'E', 'iPrNH2', 'petrolium ether (PE)', 'methanolic ammonia', 'Cyclohexane', 'IPA', 'Dichloromethane', 'Water', 'light petrol', 'aq NaCl-solution', 'Petrol ether', 'Pet. Ether', 'cHex', 'Cy', 'CH3COOH', 'triethyl orthoformate', 'polymer ether', 'MTBE', '0.5 M NaCl', '0.1% TFA in MeCN', '0.1% TFA in Water', 'MeCN', 'water', 'dichloromethane\\nsolvent B= methanol\\npercent A= 90\\npercent B= 10', 'methanol\\npercent A= 90\\npercent B= 10', 'pet. ether', 'DICHLOROMETHANE', 'METHANOL', 'acetic acid', 'Methanol\\nsolvent B = Chloroform\\npercent A = 10\\npercent B = 90', 'Chloroform\\npercent A = 10\\npercent B = 90', 'i-hex', 'n-Hexane', 'formic acid', 'ACN', 'NH4+OH−', 'NH4OH', 'pet ether', 'isohexane', 'pet-ether', 'EtOAc\\nsolvent B= petroleum ether\\npercent A= 30\\npercent B= 70', 'petroleum ether\\npercent A= 30\\npercent B= 70', 'Petroleum Ether (PE)', 'Ethyl Acetate (EtOAc)', 'CH2C12', 'pentanes', 'c-hexane', 'acetonitrile', 'MeOH/NH3', 'EtotAc', 'hex.', 'methanol\\nsolvent B= dichloromethane\\npercent A= 3\\npercent B= 97', 'dichloromethane\\npercent A= 3\\npercent B= 97', 'petrolether', 'ethyl acetate\\nsolvent B= hexane\\npercent A= 50\\npercent B= 50', 'hexane\\npercent A= 50\\npercent B= 50', 'Cyclohex', 'EtOAc\\nsolvent B= hexanes\\npercent A= 25\\npercent B= 75', 'hexanes\\npercent A= 25\\npercent B= 75', 'iso-hexanes', 'Acetonitrile', 'none', 'CH2OH', 'hexas'] 148\n"
     ]
    }
   ],
   "source": [
    "solvents_Rf3_2 = get_solvents(df_3_2_processed_clean)\n",
    "print(solvents_Rf3_2, len(solvents_Rf3_2))"
   ]
  },
  {
   "cell_type": "markdown",
   "metadata": {},
   "source": [
    "Lastly, convert the solvents into a standardized form and add the SMILES."
   ]
  },
  {
   "cell_type": "code",
   "execution_count": 6,
   "metadata": {},
   "outputs": [
    {
     "name": "stdout",
     "output_type": "stream",
     "text": [
      "Size of the dataframe before conversion: 3639\n",
      "Size of the dataframe after conversion: 3542\n",
      "Number of rows dropped: 97\n",
      "Percentage of rows dropped: 2.665567463588898%\n"
     ]
    },
    {
     "data": {
      "text/html": [
       "<div>\n",
       "<style scoped>\n",
       "    .dataframe tbody tr th:only-of-type {\n",
       "        vertical-align: middle;\n",
       "    }\n",
       "\n",
       "    .dataframe tbody tr th {\n",
       "        vertical-align: top;\n",
       "    }\n",
       "\n",
       "    .dataframe thead th {\n",
       "        text-align: right;\n",
       "    }\n",
       "</style>\n",
       "<table border=\"1\" class=\"dataframe\">\n",
       "  <thead>\n",
       "    <tr style=\"text-align: right;\">\n",
       "      <th></th>\n",
       "      <th>paragraphText</th>\n",
       "      <th>reactionSmiles</th>\n",
       "      <th>productSmiles</th>\n",
       "      <th>title</th>\n",
       "      <th>Rf</th>\n",
       "      <th>Solvent_A</th>\n",
       "      <th>Solvent_B</th>\n",
       "      <th>Percent_A</th>\n",
       "      <th>Percent_B</th>\n",
       "      <th>Additive_C</th>\n",
       "      <th>Percent_C</th>\n",
       "      <th>sum</th>\n",
       "      <th>Solvent_A_Smiles</th>\n",
       "      <th>Solvent_B_Smiles</th>\n",
       "    </tr>\n",
       "  </thead>\n",
       "  <tbody>\n",
       "    <tr>\n",
       "      <th>0</th>\n",
       "      <td>As described for the synthesis of 6-(morpholin...</td>\n",
       "      <td>N1(O[C:11]2[C:12]3[N:13]=[CH:14][N:15]([C:24]=...</td>\n",
       "      <td>'[C@@H]1(C[C@H](O)[C@H](O1)CO)N1C2=NC=NC(=C2N=...</td>\n",
       "      <td>Synthesis of 9-(2-Deoxy-β-D-erythro-pentofuran...</td>\n",
       "      <td>0.34</td>\n",
       "      <td>MeOH</td>\n",
       "      <td>DCM</td>\n",
       "      <td>10.0</td>\n",
       "      <td>90.0</td>\n",
       "      <td>NaN</td>\n",
       "      <td>NaN</td>\n",
       "      <td>100.0</td>\n",
       "      <td>CO</td>\n",
       "      <td>ClCCl</td>\n",
       "    </tr>\n",
       "    <tr>\n",
       "      <th>1</th>\n",
       "      <td>In a clean, dry reaction vial equipped with a ...</td>\n",
       "      <td>N1(O[C:11]2[C:12]3[N:13]=[CH:14][N:15]([C:38]=...</td>\n",
       "      <td>'N1(C=NC=C1)C1=C2N=CN(C2=NC=N1)[C@H]1C[C@H](O[...</td>\n",
       "      <td>Synthesis of 6-(Imidazol-1-yl)-9-[2-deoxy-3,5-...</td>\n",
       "      <td>0.07</td>\n",
       "      <td>EtOAc</td>\n",
       "      <td>Hexane</td>\n",
       "      <td>20.0</td>\n",
       "      <td>80.0</td>\n",
       "      <td>NaN</td>\n",
       "      <td>NaN</td>\n",
       "      <td>100.0</td>\n",
       "      <td>O=C(OCC)C</td>\n",
       "      <td>CCCCCC</td>\n",
       "    </tr>\n",
       "    <tr>\n",
       "      <th>2</th>\n",
       "      <td>As described for the synthesis of 6-(morpholin...</td>\n",
       "      <td>N1(O[C:11]2[C:12]3[N:13]=[CH:14][N:15]([C:38]=...</td>\n",
       "      <td>'[Si](C)(C)(C(C)(C)C)O[C@H]1C[C@@H](O[C@@H]1CO...</td>\n",
       "      <td>Synthesis of 3′,5′-Bis-O-(tert-butyldimethylsi...</td>\n",
       "      <td>0.07</td>\n",
       "      <td>DCM</td>\n",
       "      <td>MeOH</td>\n",
       "      <td>97.0</td>\n",
       "      <td>3.0</td>\n",
       "      <td>NaN</td>\n",
       "      <td>NaN</td>\n",
       "      <td>100.0</td>\n",
       "      <td>ClCCl</td>\n",
       "      <td>CO</td>\n",
       "    </tr>\n",
       "    <tr>\n",
       "      <th>3</th>\n",
       "      <td>As described for the synthesis of 6-(morpholin...</td>\n",
       "      <td>N1(C2N=CN=C3C=2N=CN3[C@@H]2O[C@H](CO[Si](C(C)(...</td>\n",
       "      <td>'[Si](C)(C)(C(C)(C)C)O[C@H]1[C@@H](O[C@@H]([C@...</td>\n",
       "      <td>Synthesis of 2′,3′,5′Tris-O-(tert-butyldimethy...</td>\n",
       "      <td>0.39</td>\n",
       "      <td>EtOAc</td>\n",
       "      <td>Hexane</td>\n",
       "      <td>20.0</td>\n",
       "      <td>80.0</td>\n",
       "      <td>NaN</td>\n",
       "      <td>NaN</td>\n",
       "      <td>100.0</td>\n",
       "      <td>O=C(OCC)C</td>\n",
       "      <td>CCCCCC</td>\n",
       "    </tr>\n",
       "    <tr>\n",
       "      <th>4</th>\n",
       "      <td>A 100 mL round bottom flask was charged with 2...</td>\n",
       "      <td>[Cl:1][C:2]1[N:11]=[C:10](Cl)[C:9]2[C:4](=[CH:...</td>\n",
       "      <td>'ClC1=NC2=CC=C(C=C2C(=N1)NN)Cl'</td>\n",
       "      <td>2,6-Dichloro-4-hydrazinylquinazoline</td>\n",
       "      <td>0.30</td>\n",
       "      <td>EtOAc</td>\n",
       "      <td>diethyl ether</td>\n",
       "      <td>20.0</td>\n",
       "      <td>80.0</td>\n",
       "      <td>NaN</td>\n",
       "      <td>NaN</td>\n",
       "      <td>100.0</td>\n",
       "      <td>O=C(OCC)C</td>\n",
       "      <td>CCOCC</td>\n",
       "    </tr>\n",
       "    <tr>\n",
       "      <th>5</th>\n",
       "      <td>A 250 mL round bottom flask was charged with 4...</td>\n",
       "      <td>[F:1][C:2]1[C:10]([F:11])=[CH:9][C:5]([C:6]([N...</td>\n",
       "      <td>'FC1=CC(=C(C#N)C=C1F)[N+](=O)[O-]'</td>\n",
       "      <td>4,5-Difluoro-2-nitrobenzonitrile</td>\n",
       "      <td>0.70</td>\n",
       "      <td>EtOAc</td>\n",
       "      <td>diethyl ether</td>\n",
       "      <td>20.0</td>\n",
       "      <td>80.0</td>\n",
       "      <td>NaN</td>\n",
       "      <td>NaN</td>\n",
       "      <td>100.0</td>\n",
       "      <td>O=C(OCC)C</td>\n",
       "      <td>CCOCC</td>\n",
       "    </tr>\n",
       "    <tr>\n",
       "      <th>6</th>\n",
       "      <td>A 250 mL round bottom flask was charged with 5...</td>\n",
       "      <td>[Cl:1][C:2]1[C:3]([C:10]([F:13])([F:12])[F:11]...</td>\n",
       "      <td>'NC1=C(C=C(C(=C1)Cl)C(F)(F)F)C#N'</td>\n",
       "      <td>2-Amino-4-chloro-5-(trifluoromethyl)benzenecar...</td>\n",
       "      <td>0.50</td>\n",
       "      <td>EtOAc</td>\n",
       "      <td>diethyl ether</td>\n",
       "      <td>20.0</td>\n",
       "      <td>80.0</td>\n",
       "      <td>NaN</td>\n",
       "      <td>NaN</td>\n",
       "      <td>100.0</td>\n",
       "      <td>O=C(OCC)C</td>\n",
       "      <td>CCOCC</td>\n",
       "    </tr>\n",
       "    <tr>\n",
       "      <th>7</th>\n",
       "      <td>A 100 mL round bottom flask was charged with 8...</td>\n",
       "      <td>[Cl:1][C:2]1[CH:11]=[CH:10][C:9]2[NH:8][C:7](=...</td>\n",
       "      <td>'ClC1=NC=2C=CC(=CC2C=2C1=NN(C2)C)Cl'</td>\n",
       "      <td>4,8-Dichloro-2-methyl-2H-pyrazolo[3,4-c]quinoline</td>\n",
       "      <td>0.30</td>\n",
       "      <td>EtOAc</td>\n",
       "      <td>diethyl ether</td>\n",
       "      <td>10.0</td>\n",
       "      <td>90.0</td>\n",
       "      <td>NaN</td>\n",
       "      <td>NaN</td>\n",
       "      <td>100.0</td>\n",
       "      <td>O=C(OCC)C</td>\n",
       "      <td>CCOCC</td>\n",
       "    </tr>\n",
       "    <tr>\n",
       "      <th>8</th>\n",
       "      <td>A 500 mL 3-necked round bottom flask was charg...</td>\n",
       "      <td>[I:1][C:2]1[CH:8]=[C:7]([C:9]([F:12])([F:11])[...</td>\n",
       "      <td>'C(C)OC(=O)NC1=C(C=C(C=C1)C(F)(F)F)I'</td>\n",
       "      <td>Ethoxy-N-[2-iodo-4-(trifluoromethyl)phenyl]car...</td>\n",
       "      <td>0.50</td>\n",
       "      <td>EtOAc</td>\n",
       "      <td>diethyl ether</td>\n",
       "      <td>5.0</td>\n",
       "      <td>95.0</td>\n",
       "      <td>NaN</td>\n",
       "      <td>NaN</td>\n",
       "      <td>100.0</td>\n",
       "      <td>O=C(OCC)C</td>\n",
       "      <td>CCOCC</td>\n",
       "    </tr>\n",
       "    <tr>\n",
       "      <th>9</th>\n",
       "      <td>A 100 mL round bottom flask was charged with 8...</td>\n",
       "      <td>[Cl:1][C:2]1[CH:11]=[CH:10][C:9]2[N:8]=[CH:7][...</td>\n",
       "      <td>'ClC1=CC=2C3=C(C(NC2C=C1)=O)N=CN3CC3=C(C=C(C=C...</td>\n",
       "      <td>8-Chloro-1-(2,4-dimethoxybenzyl)-1H-imidazo[4,...</td>\n",
       "      <td>0.40</td>\n",
       "      <td>MeOH</td>\n",
       "      <td>DCM</td>\n",
       "      <td>5.0</td>\n",
       "      <td>95.0</td>\n",
       "      <td>NaN</td>\n",
       "      <td>NaN</td>\n",
       "      <td>100.0</td>\n",
       "      <td>CO</td>\n",
       "      <td>ClCCl</td>\n",
       "    </tr>\n",
       "  </tbody>\n",
       "</table>\n",
       "</div>"
      ],
      "text/plain": [
       "                                       paragraphText  \\\n",
       "0  As described for the synthesis of 6-(morpholin...   \n",
       "1  In a clean, dry reaction vial equipped with a ...   \n",
       "2  As described for the synthesis of 6-(morpholin...   \n",
       "3  As described for the synthesis of 6-(morpholin...   \n",
       "4  A 100 mL round bottom flask was charged with 2...   \n",
       "5  A 250 mL round bottom flask was charged with 4...   \n",
       "6  A 250 mL round bottom flask was charged with 5...   \n",
       "7  A 100 mL round bottom flask was charged with 8...   \n",
       "8  A 500 mL 3-necked round bottom flask was charg...   \n",
       "9  A 100 mL round bottom flask was charged with 8...   \n",
       "\n",
       "                                      reactionSmiles  \\\n",
       "0  N1(O[C:11]2[C:12]3[N:13]=[CH:14][N:15]([C:24]=...   \n",
       "1  N1(O[C:11]2[C:12]3[N:13]=[CH:14][N:15]([C:38]=...   \n",
       "2  N1(O[C:11]2[C:12]3[N:13]=[CH:14][N:15]([C:38]=...   \n",
       "3  N1(C2N=CN=C3C=2N=CN3[C@@H]2O[C@H](CO[Si](C(C)(...   \n",
       "4  [Cl:1][C:2]1[N:11]=[C:10](Cl)[C:9]2[C:4](=[CH:...   \n",
       "5  [F:1][C:2]1[C:10]([F:11])=[CH:9][C:5]([C:6]([N...   \n",
       "6  [Cl:1][C:2]1[C:3]([C:10]([F:13])([F:12])[F:11]...   \n",
       "7  [Cl:1][C:2]1[CH:11]=[CH:10][C:9]2[NH:8][C:7](=...   \n",
       "8  [I:1][C:2]1[CH:8]=[C:7]([C:9]([F:12])([F:11])[...   \n",
       "9  [Cl:1][C:2]1[CH:11]=[CH:10][C:9]2[N:8]=[CH:7][...   \n",
       "\n",
       "                                       productSmiles  \\\n",
       "0  '[C@@H]1(C[C@H](O)[C@H](O1)CO)N1C2=NC=NC(=C2N=...   \n",
       "1  'N1(C=NC=C1)C1=C2N=CN(C2=NC=N1)[C@H]1C[C@H](O[...   \n",
       "2  '[Si](C)(C)(C(C)(C)C)O[C@H]1C[C@@H](O[C@@H]1CO...   \n",
       "3  '[Si](C)(C)(C(C)(C)C)O[C@H]1[C@@H](O[C@@H]([C@...   \n",
       "4                    'ClC1=NC2=CC=C(C=C2C(=N1)NN)Cl'   \n",
       "5                 'FC1=CC(=C(C#N)C=C1F)[N+](=O)[O-]'   \n",
       "6                  'NC1=C(C=C(C(=C1)Cl)C(F)(F)F)C#N'   \n",
       "7               'ClC1=NC=2C=CC(=CC2C=2C1=NN(C2)C)Cl'   \n",
       "8              'C(C)OC(=O)NC1=C(C=C(C=C1)C(F)(F)F)I'   \n",
       "9  'ClC1=CC=2C3=C(C(NC2C=C1)=O)N=CN3CC3=C(C=C(C=C...   \n",
       "\n",
       "                                               title    Rf Solvent_A  \\\n",
       "0  Synthesis of 9-(2-Deoxy-β-D-erythro-pentofuran...  0.34      MeOH   \n",
       "1  Synthesis of 6-(Imidazol-1-yl)-9-[2-deoxy-3,5-...  0.07     EtOAc   \n",
       "2  Synthesis of 3′,5′-Bis-O-(tert-butyldimethylsi...  0.07       DCM   \n",
       "3  Synthesis of 2′,3′,5′Tris-O-(tert-butyldimethy...  0.39     EtOAc   \n",
       "4               2,6-Dichloro-4-hydrazinylquinazoline  0.30     EtOAc   \n",
       "5                   4,5-Difluoro-2-nitrobenzonitrile  0.70     EtOAc   \n",
       "6  2-Amino-4-chloro-5-(trifluoromethyl)benzenecar...  0.50     EtOAc   \n",
       "7  4,8-Dichloro-2-methyl-2H-pyrazolo[3,4-c]quinoline  0.30     EtOAc   \n",
       "8  Ethoxy-N-[2-iodo-4-(trifluoromethyl)phenyl]car...  0.50     EtOAc   \n",
       "9  8-Chloro-1-(2,4-dimethoxybenzyl)-1H-imidazo[4,...  0.40      MeOH   \n",
       "\n",
       "       Solvent_B  Percent_A  Percent_B Additive_C  Percent_C    sum  \\\n",
       "0            DCM       10.0       90.0        NaN        NaN  100.0   \n",
       "1         Hexane       20.0       80.0        NaN        NaN  100.0   \n",
       "2           MeOH       97.0        3.0        NaN        NaN  100.0   \n",
       "3         Hexane       20.0       80.0        NaN        NaN  100.0   \n",
       "4  diethyl ether       20.0       80.0        NaN        NaN  100.0   \n",
       "5  diethyl ether       20.0       80.0        NaN        NaN  100.0   \n",
       "6  diethyl ether       20.0       80.0        NaN        NaN  100.0   \n",
       "7  diethyl ether       10.0       90.0        NaN        NaN  100.0   \n",
       "8  diethyl ether        5.0       95.0        NaN        NaN  100.0   \n",
       "9            DCM        5.0       95.0        NaN        NaN  100.0   \n",
       "\n",
       "  Solvent_A_Smiles Solvent_B_Smiles  \n",
       "0               CO            ClCCl  \n",
       "1        O=C(OCC)C           CCCCCC  \n",
       "2            ClCCl               CO  \n",
       "3        O=C(OCC)C           CCCCCC  \n",
       "4        O=C(OCC)C            CCOCC  \n",
       "5        O=C(OCC)C            CCOCC  \n",
       "6        O=C(OCC)C            CCOCC  \n",
       "7        O=C(OCC)C            CCOCC  \n",
       "8        O=C(OCC)C            CCOCC  \n",
       "9               CO            ClCCl  "
      ]
     },
     "execution_count": 6,
     "metadata": {},
     "output_type": "execute_result"
    }
   ],
   "source": [
    "df_3_2_processed_clean, df_3_2_sorted_out = convert_solvents(df_3_2_processed_clean)\n",
    "df_3_2_processed_clean.head(10)\n"
   ]
  },
  {
   "cell_type": "markdown",
   "metadata": {},
   "source": [
    "# 5. Preparing of the Data for Training\n",
    "Finally we got more or less everything we need to go on. For the machine learning model we need some features that can be fed into the model. "
   ]
  },
  {
   "cell_type": "markdown",
   "metadata": {},
   "source": [
    "## 5.1 Feature Selection\n",
    "Canonicalize the SMILES that we got and convert salts to the corresponding uncharges species, as nobody would perform a TLC with a salt so it somehow must have been converted into the uncharged form."
   ]
  },
  {
   "cell_type": "markdown",
   "metadata": {},
   "source": [
    "And of course, it turns out that the processing is still not done! When trying to canonicalize the data, we noticed, that for some cases there was a string given for the product SMILES that contained two SMILES instead of just one..."
   ]
  },
  {
   "cell_type": "code",
   "execution_count": 7,
   "metadata": {},
   "outputs": [],
   "source": [
    "from rdkit import Chem\n",
    "from rdkit.Chem import Draw\n",
    "from rdkit.Chem import rdChemReactions, rdmolops\n",
    "from rdkit.Chem.Draw import IPythonConsole"
   ]
  },
  {
   "cell_type": "code",
   "execution_count": 13,
   "metadata": {},
   "outputs": [
    {
     "name": "stdout",
     "output_type": "stream",
     "text": [
      "['CCOC(=O)CNC(=O)c1nc(C[C@H]2OC[C@H](c3ccc(F)cc3)CO2)nc(C)c1OCc1ccccc1', 'CCOC(=O)CNC(=O)c1nc(C[C@H]2OC[C@@H](c3ccc(F)cc3)CO2)nc(C)c1OCc1ccccc1'] <class 'list'>\n"
     ]
    }
   ],
   "source": [
    "prdod_smiles = clean_smiles(df_3_2_processed_clean, 'productSmiles')\n",
    "print(prdod_smiles['productSmiles'][1223], type(prdod_smiles['productSmiles'][1223]))"
   ]
  },
  {
   "cell_type": "code",
   "execution_count": 14,
   "metadata": {},
   "outputs": [
    {
     "name": "stdout",
     "output_type": "stream",
     "text": [
      "['[CH3][CH2]OC(=O)[CH2][NH]C(=O)C1=NC([CH2][CH]2O[CH2][CH](C3=[CH][CH]=C(F)[CH]=[CH]3)[CH2]O2)=NC([CH3])=C1O[CH2]C1=[CH][CH]=[CH][CH]=[CH]1', '[CH3][CH2]OC(=O)[CH2][NH]C(=O)C1=NC([CH2][CH]2O[CH2][CH](C3=[CH][CH]=C(F)[CH]=[CH]3)[CH2]O2)=NC([CH3])=C1O[CH2]C1=[CH][CH]=[CH][CH]=[CH]1'] <class 'list'>\n",
      "[CH2:1]([O:8][C:9]1[C:10]([C:22]([NH:24][CH2:25][C:26]([O:28][CH2:29][CH3:30])=[O:27])=[O:23])=[N:11][C:12]([CH2:16][CH:17]([O:20][CH3:21])[O:18][CH3:19])=[N:13][C:14]=1[CH3:15])[C:2]1[CH:7]=[CH:6][CH:5]=[CH:4][CH:3]=1.[F:31][C:32]1[CH:37]=[CH:36][C:35]([CH:38]([CH2:41][OH:42])[CH2:39][OH:40])=[CH:34][CH:33]=1.O.C1(C)C=CC(S(O)(=O)=O)=CC=1.C(=O)([O-])O.[Na+]>C1(C)C=CC=CC=1>[CH2:1]([O:8][C:9]1[C:10]([C:22]([NH:24][CH2:25][C:26]([O:28][CH2:29][CH3:30])=[O:27])=[O:23])=[N:11][C:12]([CH2:16][C@H:17]2[O:18][CH2:19][C@H:38]([C:35]3[CH:36]=[CH:37][C:32]([F:31])=[CH:33][CH:34]=3)[CH2:21][O:20]2)=[N:13][C:14]=1[CH3:15])[C:2]1[CH:7]=[CH:6][CH:5]=[CH:4][CH:3]=1.[CH2:1]([O:8][C:9]1[C:10]([C:22]([NH:24][CH2:25][C:26]([O:28][CH2:29][CH3:30])=[O:27])=[O:23])=[N:11][C:12]([CH2:16][C@H:17]2[O:42][CH2:41][C@@H:38]([C:35]3[CH:34]=[CH:33][C:32]([F:31])=[CH:37][CH:36]=3)[CH2:39][O:40]2)=[N:13][C:14]=1[CH3:15])[C:2]1[CH:7]=[CH:6][CH:5]=[CH:4][CH:3]=1 |f:2.3,4.5|\n"
     ]
    },
    {
     "data": {
      "text/html": [
       "<div>\n",
       "<style scoped>\n",
       "    .dataframe tbody tr th:only-of-type {\n",
       "        vertical-align: middle;\n",
       "    }\n",
       "\n",
       "    .dataframe tbody tr th {\n",
       "        vertical-align: top;\n",
       "    }\n",
       "\n",
       "    .dataframe thead th {\n",
       "        text-align: right;\n",
       "    }\n",
       "</style>\n",
       "<table border=\"1\" class=\"dataframe\">\n",
       "  <thead>\n",
       "    <tr style=\"text-align: right;\">\n",
       "      <th></th>\n",
       "      <th>paragraphText</th>\n",
       "      <th>reactionSmiles</th>\n",
       "      <th>productSmiles</th>\n",
       "      <th>title</th>\n",
       "      <th>Rf</th>\n",
       "      <th>Solvent_A</th>\n",
       "      <th>Solvent_B</th>\n",
       "      <th>Percent_A</th>\n",
       "      <th>Percent_B</th>\n",
       "      <th>Additive_C</th>\n",
       "      <th>Percent_C</th>\n",
       "      <th>sum</th>\n",
       "      <th>Solvent_A_Smiles</th>\n",
       "      <th>Solvent_B_Smiles</th>\n",
       "      <th>extracted_pr_Smiles</th>\n",
       "    </tr>\n",
       "  </thead>\n",
       "  <tbody>\n",
       "    <tr>\n",
       "      <th>0</th>\n",
       "      <td>As described for the synthesis of 6-(morpholin...</td>\n",
       "      <td>N1(O[C:11]2[C:12]3[N:13]=[CH:14][N:15]([C:24]=...</td>\n",
       "      <td>[OC[C@H]1O[C@@H](n2cnc3c(N4CCOCC4)ncnc32)C[C@@...</td>\n",
       "      <td>Synthesis of 9-(2-Deoxy-β-D-erythro-pentofuran...</td>\n",
       "      <td>0.34</td>\n",
       "      <td>MeOH</td>\n",
       "      <td>DCM</td>\n",
       "      <td>10.0</td>\n",
       "      <td>90.0</td>\n",
       "      <td>NaN</td>\n",
       "      <td>NaN</td>\n",
       "      <td>100.0</td>\n",
       "      <td>CO</td>\n",
       "      <td>ClCCl</td>\n",
       "      <td>[[OH][CH2][CH]1O[CH](N2[CH]=NC3=C(N4[CH2][CH2]...</td>\n",
       "    </tr>\n",
       "    <tr>\n",
       "      <th>1</th>\n",
       "      <td>In a clean, dry reaction vial equipped with a ...</td>\n",
       "      <td>N1(O[C:11]2[C:12]3[N:13]=[CH:14][N:15]([C:38]=...</td>\n",
       "      <td>[CC(C)(C)[Si](C)(C)OC[C@H]1O[C@@H](n2cnc3c(-n4...</td>\n",
       "      <td>Synthesis of 6-(Imidazol-1-yl)-9-[2-deoxy-3,5-...</td>\n",
       "      <td>0.07</td>\n",
       "      <td>EtOAc</td>\n",
       "      <td>Hexane</td>\n",
       "      <td>20.0</td>\n",
       "      <td>80.0</td>\n",
       "      <td>NaN</td>\n",
       "      <td>NaN</td>\n",
       "      <td>100.0</td>\n",
       "      <td>O=C(OCC)C</td>\n",
       "      <td>CCCCCC</td>\n",
       "      <td>[[CH3]C([CH3])([CH3])[Si]([CH3])([CH3])O[CH2][...</td>\n",
       "    </tr>\n",
       "    <tr>\n",
       "      <th>2</th>\n",
       "      <td>As described for the synthesis of 6-(morpholin...</td>\n",
       "      <td>N1(O[C:11]2[C:12]3[N:13]=[CH:14][N:15]([C:38]=...</td>\n",
       "      <td>[CC(C)(C)[Si](C)(C)OC[C@H]1O[C@@H](n2cnc3c(NCc...</td>\n",
       "      <td>Synthesis of 3′,5′-Bis-O-(tert-butyldimethylsi...</td>\n",
       "      <td>0.07</td>\n",
       "      <td>DCM</td>\n",
       "      <td>MeOH</td>\n",
       "      <td>97.0</td>\n",
       "      <td>3.0</td>\n",
       "      <td>NaN</td>\n",
       "      <td>NaN</td>\n",
       "      <td>100.0</td>\n",
       "      <td>ClCCl</td>\n",
       "      <td>CO</td>\n",
       "      <td>[[CH3]C([CH3])([CH3])[Si]([CH3])([CH3])O[CH2][...</td>\n",
       "    </tr>\n",
       "    <tr>\n",
       "      <th>3</th>\n",
       "      <td>As described for the synthesis of 6-(morpholin...</td>\n",
       "      <td>N1(C2N=CN=C3C=2N=CN3[C@@H]2O[C@H](CO[Si](C(C)(...</td>\n",
       "      <td>[CC(C)(C)[Si](C)(C)OC[C@H]1O[C@@H](n2cnc3c(NCc...</td>\n",
       "      <td>Synthesis of 2′,3′,5′Tris-O-(tert-butyldimethy...</td>\n",
       "      <td>0.39</td>\n",
       "      <td>EtOAc</td>\n",
       "      <td>Hexane</td>\n",
       "      <td>20.0</td>\n",
       "      <td>80.0</td>\n",
       "      <td>NaN</td>\n",
       "      <td>NaN</td>\n",
       "      <td>100.0</td>\n",
       "      <td>O=C(OCC)C</td>\n",
       "      <td>CCCCCC</td>\n",
       "      <td>[[CH3]C([CH3])([CH3])[Si]([CH3])([CH3])O[CH2][...</td>\n",
       "    </tr>\n",
       "    <tr>\n",
       "      <th>4</th>\n",
       "      <td>A 100 mL round bottom flask was charged with 2...</td>\n",
       "      <td>[Cl:1][C:2]1[N:11]=[C:10](Cl)[C:9]2[C:4](=[CH:...</td>\n",
       "      <td>[NNc1nc(Cl)nc2ccc(Cl)cc12]</td>\n",
       "      <td>2,6-Dichloro-4-hydrazinylquinazoline</td>\n",
       "      <td>0.30</td>\n",
       "      <td>EtOAc</td>\n",
       "      <td>diethyl ether</td>\n",
       "      <td>20.0</td>\n",
       "      <td>80.0</td>\n",
       "      <td>NaN</td>\n",
       "      <td>NaN</td>\n",
       "      <td>100.0</td>\n",
       "      <td>O=C(OCC)C</td>\n",
       "      <td>CCOCC</td>\n",
       "      <td>[[NH2][NH]C1=NC(Cl)=NC2=[CH][CH]=C(Cl)[CH]=C21]</td>\n",
       "    </tr>\n",
       "    <tr>\n",
       "      <th>5</th>\n",
       "      <td>A 250 mL round bottom flask was charged with 4...</td>\n",
       "      <td>[F:1][C:2]1[C:10]([F:11])=[CH:9][C:5]([C:6]([N...</td>\n",
       "      <td>[N#Cc1cc(F)c(F)cc1[N+](=O)[O-]]</td>\n",
       "      <td>4,5-Difluoro-2-nitrobenzonitrile</td>\n",
       "      <td>0.70</td>\n",
       "      <td>EtOAc</td>\n",
       "      <td>diethyl ether</td>\n",
       "      <td>20.0</td>\n",
       "      <td>80.0</td>\n",
       "      <td>NaN</td>\n",
       "      <td>NaN</td>\n",
       "      <td>100.0</td>\n",
       "      <td>O=C(OCC)C</td>\n",
       "      <td>CCOCC</td>\n",
       "      <td>[N#CC1=C([N+](=O)[O-])[CH]=C(F)C(F)=[CH]1]</td>\n",
       "    </tr>\n",
       "    <tr>\n",
       "      <th>6</th>\n",
       "      <td>A 250 mL round bottom flask was charged with 5...</td>\n",
       "      <td>[Cl:1][C:2]1[C:3]([C:10]([F:13])([F:12])[F:11]...</td>\n",
       "      <td>[N#Cc1cc(C(F)(F)F)c(Cl)cc1N]</td>\n",
       "      <td>2-Amino-4-chloro-5-(trifluoromethyl)benzenecar...</td>\n",
       "      <td>0.50</td>\n",
       "      <td>EtOAc</td>\n",
       "      <td>diethyl ether</td>\n",
       "      <td>20.0</td>\n",
       "      <td>80.0</td>\n",
       "      <td>NaN</td>\n",
       "      <td>NaN</td>\n",
       "      <td>100.0</td>\n",
       "      <td>O=C(OCC)C</td>\n",
       "      <td>CCOCC</td>\n",
       "      <td>[N#CC1=C([NH2])[CH]=C(Cl)C(C(F)(F)F)=[CH]1]</td>\n",
       "    </tr>\n",
       "    <tr>\n",
       "      <th>7</th>\n",
       "      <td>A 100 mL round bottom flask was charged with 8...</td>\n",
       "      <td>[Cl:1][C:2]1[CH:11]=[CH:10][C:9]2[NH:8][C:7](=...</td>\n",
       "      <td>[Cn1cc2c(n1)c(Cl)nc1ccc(Cl)cc12]</td>\n",
       "      <td>4,8-Dichloro-2-methyl-2H-pyrazolo[3,4-c]quinoline</td>\n",
       "      <td>0.30</td>\n",
       "      <td>EtOAc</td>\n",
       "      <td>diethyl ether</td>\n",
       "      <td>10.0</td>\n",
       "      <td>90.0</td>\n",
       "      <td>NaN</td>\n",
       "      <td>NaN</td>\n",
       "      <td>100.0</td>\n",
       "      <td>O=C(OCC)C</td>\n",
       "      <td>CCOCC</td>\n",
       "      <td>[[CH3]N1[CH]=C2C(=N1)C(Cl)=NC1=C2[CH]=C(Cl)[CH...</td>\n",
       "    </tr>\n",
       "    <tr>\n",
       "      <th>8</th>\n",
       "      <td>A 500 mL 3-necked round bottom flask was charg...</td>\n",
       "      <td>[I:1][C:2]1[CH:8]=[C:7]([C:9]([F:12])([F:11])[...</td>\n",
       "      <td>[CCOC(=O)Nc1ccc(C(F)(F)F)cc1I]</td>\n",
       "      <td>Ethoxy-N-[2-iodo-4-(trifluoromethyl)phenyl]car...</td>\n",
       "      <td>0.50</td>\n",
       "      <td>EtOAc</td>\n",
       "      <td>diethyl ether</td>\n",
       "      <td>5.0</td>\n",
       "      <td>95.0</td>\n",
       "      <td>NaN</td>\n",
       "      <td>NaN</td>\n",
       "      <td>100.0</td>\n",
       "      <td>O=C(OCC)C</td>\n",
       "      <td>CCOCC</td>\n",
       "      <td>[[CH3][CH2]OC(=O)[NH]C1=C(I)[CH]=C(C(F)(F)F)[C...</td>\n",
       "    </tr>\n",
       "    <tr>\n",
       "      <th>9</th>\n",
       "      <td>A 100 mL round bottom flask was charged with 8...</td>\n",
       "      <td>[Cl:1][C:2]1[CH:11]=[CH:10][C:9]2[N:8]=[CH:7][...</td>\n",
       "      <td>[COc1ccc(Cn2cnc3c(=O)[nH]c4ccc(Cl)cc4c32)c(OC)c1]</td>\n",
       "      <td>8-Chloro-1-(2,4-dimethoxybenzyl)-1H-imidazo[4,...</td>\n",
       "      <td>0.40</td>\n",
       "      <td>MeOH</td>\n",
       "      <td>DCM</td>\n",
       "      <td>5.0</td>\n",
       "      <td>95.0</td>\n",
       "      <td>NaN</td>\n",
       "      <td>NaN</td>\n",
       "      <td>100.0</td>\n",
       "      <td>CO</td>\n",
       "      <td>ClCCl</td>\n",
       "      <td>[[CH3]OC1=[CH]C(O[CH3])=C([CH2]N2[CH]=NC3=C2C2...</td>\n",
       "    </tr>\n",
       "  </tbody>\n",
       "</table>\n",
       "</div>"
      ],
      "text/plain": [
       "                                       paragraphText  \\\n",
       "0  As described for the synthesis of 6-(morpholin...   \n",
       "1  In a clean, dry reaction vial equipped with a ...   \n",
       "2  As described for the synthesis of 6-(morpholin...   \n",
       "3  As described for the synthesis of 6-(morpholin...   \n",
       "4  A 100 mL round bottom flask was charged with 2...   \n",
       "5  A 250 mL round bottom flask was charged with 4...   \n",
       "6  A 250 mL round bottom flask was charged with 5...   \n",
       "7  A 100 mL round bottom flask was charged with 8...   \n",
       "8  A 500 mL 3-necked round bottom flask was charg...   \n",
       "9  A 100 mL round bottom flask was charged with 8...   \n",
       "\n",
       "                                      reactionSmiles  \\\n",
       "0  N1(O[C:11]2[C:12]3[N:13]=[CH:14][N:15]([C:24]=...   \n",
       "1  N1(O[C:11]2[C:12]3[N:13]=[CH:14][N:15]([C:38]=...   \n",
       "2  N1(O[C:11]2[C:12]3[N:13]=[CH:14][N:15]([C:38]=...   \n",
       "3  N1(C2N=CN=C3C=2N=CN3[C@@H]2O[C@H](CO[Si](C(C)(...   \n",
       "4  [Cl:1][C:2]1[N:11]=[C:10](Cl)[C:9]2[C:4](=[CH:...   \n",
       "5  [F:1][C:2]1[C:10]([F:11])=[CH:9][C:5]([C:6]([N...   \n",
       "6  [Cl:1][C:2]1[C:3]([C:10]([F:13])([F:12])[F:11]...   \n",
       "7  [Cl:1][C:2]1[CH:11]=[CH:10][C:9]2[NH:8][C:7](=...   \n",
       "8  [I:1][C:2]1[CH:8]=[C:7]([C:9]([F:12])([F:11])[...   \n",
       "9  [Cl:1][C:2]1[CH:11]=[CH:10][C:9]2[N:8]=[CH:7][...   \n",
       "\n",
       "                                       productSmiles  \\\n",
       "0  [OC[C@H]1O[C@@H](n2cnc3c(N4CCOCC4)ncnc32)C[C@@...   \n",
       "1  [CC(C)(C)[Si](C)(C)OC[C@H]1O[C@@H](n2cnc3c(-n4...   \n",
       "2  [CC(C)(C)[Si](C)(C)OC[C@H]1O[C@@H](n2cnc3c(NCc...   \n",
       "3  [CC(C)(C)[Si](C)(C)OC[C@H]1O[C@@H](n2cnc3c(NCc...   \n",
       "4                         [NNc1nc(Cl)nc2ccc(Cl)cc12]   \n",
       "5                    [N#Cc1cc(F)c(F)cc1[N+](=O)[O-]]   \n",
       "6                       [N#Cc1cc(C(F)(F)F)c(Cl)cc1N]   \n",
       "7                   [Cn1cc2c(n1)c(Cl)nc1ccc(Cl)cc12]   \n",
       "8                     [CCOC(=O)Nc1ccc(C(F)(F)F)cc1I]   \n",
       "9  [COc1ccc(Cn2cnc3c(=O)[nH]c4ccc(Cl)cc4c32)c(OC)c1]   \n",
       "\n",
       "                                               title    Rf Solvent_A  \\\n",
       "0  Synthesis of 9-(2-Deoxy-β-D-erythro-pentofuran...  0.34      MeOH   \n",
       "1  Synthesis of 6-(Imidazol-1-yl)-9-[2-deoxy-3,5-...  0.07     EtOAc   \n",
       "2  Synthesis of 3′,5′-Bis-O-(tert-butyldimethylsi...  0.07       DCM   \n",
       "3  Synthesis of 2′,3′,5′Tris-O-(tert-butyldimethy...  0.39     EtOAc   \n",
       "4               2,6-Dichloro-4-hydrazinylquinazoline  0.30     EtOAc   \n",
       "5                   4,5-Difluoro-2-nitrobenzonitrile  0.70     EtOAc   \n",
       "6  2-Amino-4-chloro-5-(trifluoromethyl)benzenecar...  0.50     EtOAc   \n",
       "7  4,8-Dichloro-2-methyl-2H-pyrazolo[3,4-c]quinoline  0.30     EtOAc   \n",
       "8  Ethoxy-N-[2-iodo-4-(trifluoromethyl)phenyl]car...  0.50     EtOAc   \n",
       "9  8-Chloro-1-(2,4-dimethoxybenzyl)-1H-imidazo[4,...  0.40      MeOH   \n",
       "\n",
       "       Solvent_B  Percent_A  Percent_B Additive_C  Percent_C    sum  \\\n",
       "0            DCM       10.0       90.0        NaN        NaN  100.0   \n",
       "1         Hexane       20.0       80.0        NaN        NaN  100.0   \n",
       "2           MeOH       97.0        3.0        NaN        NaN  100.0   \n",
       "3         Hexane       20.0       80.0        NaN        NaN  100.0   \n",
       "4  diethyl ether       20.0       80.0        NaN        NaN  100.0   \n",
       "5  diethyl ether       20.0       80.0        NaN        NaN  100.0   \n",
       "6  diethyl ether       20.0       80.0        NaN        NaN  100.0   \n",
       "7  diethyl ether       10.0       90.0        NaN        NaN  100.0   \n",
       "8  diethyl ether        5.0       95.0        NaN        NaN  100.0   \n",
       "9            DCM        5.0       95.0        NaN        NaN  100.0   \n",
       "\n",
       "  Solvent_A_Smiles Solvent_B_Smiles  \\\n",
       "0               CO            ClCCl   \n",
       "1        O=C(OCC)C           CCCCCC   \n",
       "2            ClCCl               CO   \n",
       "3        O=C(OCC)C           CCCCCC   \n",
       "4        O=C(OCC)C            CCOCC   \n",
       "5        O=C(OCC)C            CCOCC   \n",
       "6        O=C(OCC)C            CCOCC   \n",
       "7        O=C(OCC)C            CCOCC   \n",
       "8        O=C(OCC)C            CCOCC   \n",
       "9               CO            ClCCl   \n",
       "\n",
       "                                 extracted_pr_Smiles  \n",
       "0  [[OH][CH2][CH]1O[CH](N2[CH]=NC3=C(N4[CH2][CH2]...  \n",
       "1  [[CH3]C([CH3])([CH3])[Si]([CH3])([CH3])O[CH2][...  \n",
       "2  [[CH3]C([CH3])([CH3])[Si]([CH3])([CH3])O[CH2][...  \n",
       "3  [[CH3]C([CH3])([CH3])[Si]([CH3])([CH3])O[CH2][...  \n",
       "4    [[NH2][NH]C1=NC(Cl)=NC2=[CH][CH]=C(Cl)[CH]=C21]  \n",
       "5         [N#CC1=C([N+](=O)[O-])[CH]=C(F)C(F)=[CH]1]  \n",
       "6        [N#CC1=C([NH2])[CH]=C(Cl)C(C(F)(F)F)=[CH]1]  \n",
       "7  [[CH3]N1[CH]=C2C(=N1)C(Cl)=NC1=C2[CH]=C(Cl)[CH...  \n",
       "8  [[CH3][CH2]OC(=O)[NH]C1=C(I)[CH]=C(C(F)(F)F)[C...  \n",
       "9  [[CH3]OC1=[CH]C(O[CH3])=C([CH2]N2[CH]=NC3=C2C2...  "
      ]
     },
     "execution_count": 14,
     "metadata": {},
     "output_type": "execute_result"
    }
   ],
   "source": [
    "rxn_smiles = extract_product_smiles(prdod_smiles)\n",
    "print(rxn_smiles['extracted_pr_Smiles'][1223], type(rxn_smiles['extracted_pr_Smiles'][1223]))\n",
    "print(rxn_smiles['reactionSmiles'][1223])\n",
    "rxn_smiles.head(10)"
   ]
  },
  {
   "cell_type": "code",
   "execution_count": 126,
   "metadata": {},
   "outputs": [
    {
     "name": "stdout",
     "output_type": "stream",
     "text": [
      "Ethyl ({[5-(benzyloxy)-2-(2,2-dimethoxyethyl)-6-methylpyrimidin-4-yl]carbonyl}amino)acetate (1.2 g, 2.8 mmol) was dissolved in toluene (10 mL), and 2-(4-fluorophenyl)propane-1,3-diol (0.57 g, 3.4 mmol) and p-toluenesulfonic acid monohydrate (0.016 g, 0.080 mmol) were added, followed by heating to reflux for 1 hour under a nitrogen atmosphere. Saturated aqueous sodium hydrogencarbonate solution was poured into the reaction solution, followed by extraction with ethyl acetate, and subsequently the extract was washed with saturated aqueous sodium chloride solution, and the organic layer was dried over sodium sulfate. After the solvent was distilled off under reduced pressure, the resulting residue was purified by silica gel column chromatography (Moritex Corporation, elution solvent:hexane/ethyl acetate), and fractions corresponding to the Rf value=0.44 and 0.34 (hexane/ethyl acetate=1/2) by thin layer chromatography were respectively concentrated under reduced pressure to afford ethyl {[(5-(benzyloxy)-2-{[trans-5-(4-fluorophenyl)-1,3-dioxan-2-yl]methyl}-6-methylpyrimidin-4-yl)carbonyl]amino}acetate (0.95 g, 1.8 mmol, yield 64%) and ethyl {[(5-(benzyloxy)-2-{[cis-5-(4-fluorophenyl)-1,3-dioxan-2-yl]methyl}-6-methylpyrimidin-4-yl)carbonyl]amino}acetate (0.44 g, 0.84 mmol, yield 30%) respectively as colorless oils.\n"
     ]
    },
    {
     "data": {
      "image/png": "[encoded data removed]",
      "text/plain": [
       "<rdkit.Chem.rdChemReactions.ChemicalReaction at 0x1ae32e5fdf0>"
      ]
     },
     "execution_count": 126,
     "metadata": {},
     "output_type": "execute_result"
    }
   ],
   "source": [
    "# Convert the reaction SMILES string to a reaction object: no mol object can be created from a reaction SMILES\n",
    "rxn = rdChemReactions.ReactionFromSmarts(cleaned_rxn_smiles['reactionSmiles'][1223])\n",
    "\n",
    "# Remove atom mapping numbers from reactants, products and agents as else one cannot see anything\n",
    "for mol in rxn.GetReactants():\n",
    "    for atom in mol.GetAtoms():\n",
    "        atom.SetAtomMapNum(0)\n",
    "for mol in rxn.GetProducts():\n",
    "    for atom in mol.GetAtoms():\n",
    "        atom.SetAtomMapNum(0)\n",
    "for mol in rxn.GetAgents():\n",
    "    for atom in mol.GetAtoms():\n",
    "        atom.SetAtomMapNum(0)\n",
    "\n",
    "# Display the reaction\n",
    "print(cleaned_rxn_smiles['paragraphText'][1223])\n",
    "rxn\n"
   ]
  },
  {
   "cell_type": "code",
   "execution_count": 124,
   "metadata": {},
   "outputs": [
    {
     "data": {
      "image/png": "[encoded data removed]",
      "text/plain": [
       "<IPython.core.display.Image object>"
      ]
     },
     "execution_count": 124,
     "metadata": {},
     "output_type": "execute_result"
    }
   ],
   "source": [
    "mol_list2 = [Chem.MolFromSmiles(smiles) for smiles in cleaned_rxn_smiles['extracted_pr_Smiles'][0]]\n",
    "img = Draw.MolsToGridImage(mol_list2, molsPerRow=4, subImgSize=(200, 200), legends=[f\"Product {i+1}\" for i in range(len(mol_list2))])\n",
    "img"
   ]
  },
  {
   "cell_type": "code",
   "execution_count": 125,
   "metadata": {},
   "outputs": [
    {
     "data": {
      "image/png": "[encoded data removed]",
      "text/plain": [
       "<IPython.core.display.Image object>"
      ]
     },
     "execution_count": 125,
     "metadata": {},
     "output_type": "execute_result"
    }
   ],
   "source": [
    "mol_list2 = [Chem.MolFromSmiles(smiles) for smiles in rxn_smiles['extracted_pr_Smiles'][0]]\n",
    "img = Draw.MolsToGridImage(mol_list2, molsPerRow=4, subImgSize=(200, 200), legends=[f\"Product {i+1}\" for i in range(len(mol_list2))])\n",
    "img"
   ]
  },
  {
   "cell_type": "code",
   "execution_count": 22,
   "metadata": {},
   "outputs": [
    {
     "data": {
      "image/jpeg": "[encoded data removed]",
      "image/png": "[encoded data removed]",
      "text/plain": [
       "<PIL.PngImagePlugin.PngImageFile image mode=RGB size=200x200>"
      ]
     },
     "execution_count": 22,
     "metadata": {},
     "output_type": "execute_result"
    }
   ],
   "source": [
    "mol = Chem.MolFromSmiles('[C@@H:16]1([N:15]2[CH:14]=[N:13][C:12]3[C:24]2=[N:25][CH:26]=[N:27][C:11]=3[N:28]2[CH2:33][CH2:32][O:31][CH2:30][CH2:29]2)[O:23][C@H:20]([CH2:21][OH:22])[C@@H:18]([OH:19])[CH2:17]1 |f:2.3.4|')\n",
    "for atom in mol.GetAtoms():\n",
    "    atom.SetAtomMapNum(0)\n",
    "img = Draw.MolToImage(mol, size=(200, 200))\n",
    "img"
   ]
  },
  {
   "cell_type": "code",
   "execution_count": 50,
   "metadata": {},
   "outputs": [
    {
     "data": {
      "image/png": "[encoded data removed]",
      "text/plain": [
       "<IPython.core.display.Image object>"
      ]
     },
     "execution_count": 50,
     "metadata": {},
     "output_type": "execute_result"
    }
   ],
   "source": [
    "# create a mol grid with the molecules from the smiles list to visualize them\n",
    "mol_list = [Chem.MolFromSmiles(smiles) for smiles in smiles_list]\n",
    "img = Draw.MolsToGridImage(mol_list, molsPerRow=4, subImgSize=(400, 400))\n",
    "img"
   ]
  },
  {
   "cell_type": "markdown",
   "metadata": {},
   "source": [
    "Those are nice diastereoisomers! So, what now?\n"
   ]
  },
  {
   "cell_type": "code",
   "execution_count": 57,
   "metadata": {},
   "outputs": [
    {
     "data": {
      "image/png": "[encoded data removed]",
      "text/plain": [
       "<IPython.core.display.Image object>"
      ]
     },
     "execution_count": 57,
     "metadata": {},
     "output_type": "execute_result"
    }
   ],
   "source": [
    "# This were two SMILES from the same entry\n",
    "mol = Chem.MolFromSmiles('C(C)(C)OC=1C=C(C(=O)N(C)OC)C=C(C1)OC(C)C') \n",
    "mol2 = Chem.MolFromSmiles(\"OC=1C=C(C(=O)O)C=C(C1)O\")\n",
    "img = Draw.MolsToGridImage([mol, mol2], molsPerRow=2, subImgSize=(300, 300))\n",
    "img"
   ]
  },
  {
   "cell_type": "markdown",
   "metadata": {},
   "source": [
    "But apparently also completely different molecules. So what we need to do is either compare the product SMILES to the reaction SMILES and see if - as in the above case - there's also the reactant SMILES in the product column or if it is a by-product, drop the row as we only have one Rf value."
   ]
  },
  {
   "cell_type": "markdown",
   "metadata": {},
   "source": [
    "### 5.1.2 Processing of the SMILES\n",
    "While trying to parse the product SMILES, we noted there was a problem in this column, as the format, with which it was extracted from the XML files included a double quotation. Furthermore, sometimes more product SMILES are given, if the reaction yields stereoisomers. For TLC, we don't need to distinguish between enantiomers. However, diastereoisomers of small molecules can have different Rf values, depending on their interaction with the staionary phase. So we would need to find them and drop the rows, as the LLM for sure only extracted one Rf value. \n",
    "\n",
    "First we need to clean the product SMILES so that it can be parsed by rdKit. That's where we use the `clean_smiles` function. Next, we need to know if we only got one product SMILES, and if so, if it is a salt. As TLCs using salts wouldn't make much sense and needs a special workup before, those entries would impact our training data and distort it. That's why we decided to also drop the salts, instead of converting them. If it turns out that there are multiple product SMILES, we check, if they are part of the product side in the reaction SMILES. Therefore, we extract the product side from the reaction SMILES. As it turned out, that the reaction SMILES are mapped by atom mapping, we need another processing step to remove the mapping and then to compare the canonicalized form of the SMILES. If this is not the case, we also drop the entire entry as we cannot be sure, to which compound the extracted Rf value belongs. Lastly, for the remaining product SMILES that are coherent with the product side of the reaction SMILES, we check if they are stereoisomers and convert them into one product SMILES without chiral information. "
   ]
  },
  {
   "cell_type": "code",
   "execution_count": 9,
   "metadata": {},
   "outputs": [],
   "source": [
    "def remove_salts(df: pd.DataFrame, column_name: str):\n",
    "    \"\"\"Checks if SMILES is a salt and removes it in this case.\n",
    "\n",
    "    Args:\n",
    "        df (pd.DataFrame): pre-cleaned dataframe\n",
    "        column_name (str): productSmiles column\n",
    "\n",
    "    Returns:\n",
    "        df (pd.DataFrame): dataframe without rows that include salts\n",
    "    \"\"\"\n",
    "    # Find the indices of rows where the SMILES list contains a salt\n",
    "    indices_false_Rf = df[df[column_name].apply(lambda smiles_list: any('.' in smiles for smiles in smiles_list))].index \n",
    "\n",
    "    # Drop these rows from the DataFrame\n",
    "    df.drop(indices_false_Rf, inplace=True)\n",
    "\n",
    "    return df"
   ]
  },
  {
   "cell_type": "code",
   "execution_count": 10,
   "metadata": {},
   "outputs": [],
   "source": [
    "def clean_smiles(df: pd.DataFrame, column_name: str):\n",
    "    \"\"\"Cleanes SMILES as apparently there are quotes around the SMILES which makes it impossible for rDKit to parse. Canonicalizes smiles\n",
    "\n",
    "    Args:\n",
    "        df (pd.DataFrame): dataframe cleaned with all previous functions\n",
    "        column_name (str): productSmiles column\n",
    "\n",
    "    Returns:\n",
    "        df: pd.DataFrame: cleaned dataframe with SMILES that can be parsed in the form of a list in the column_name column\n",
    "    \"\"\"\n",
    "    # Remove any leading or trailing whitespace\n",
    "    df[column_name] = df[column_name].str.strip()\n",
    "    \n",
    "    # Remove any single or double quotes\n",
    "    df[column_name] = df[column_name].str.replace(\"'\", \"\").replace('\"', '')\n",
    "    \n",
    "    # Split the string into a list of SMILES if there are multiple SMILES separated by a comma\n",
    "    df[column_name] = df[column_name].str.split(',')\n",
    "    \n",
    "    # Canonicalize the SMILES\n",
    "    df[column_name] = df[column_name].apply(lambda smiles_list: [Chem.MolToSmiles(Chem.MolFromSmiles(smiles)) for smiles in smiles_list])\n",
    "    \n",
    "    # Remove rows that contain salts\n",
    "    df = remove_salts(df, column_name)\n",
    "    \n",
    "    return df"
   ]
  },
  {
   "cell_type": "code",
   "execution_count": 11,
   "metadata": {},
   "outputs": [],
   "source": [
    "def remove_atom_mapping(mol: Chem.Mol):\n",
    "    \"\"\"Function that removes atom mapping from SMILES strings.\n",
    "\n",
    "    Args:\n",
    "        mol (rdkit.Chem.rdchem.Mol): Molecule with atom mapping\n",
    "        \n",
    "    Returns:\n",
    "        smiles (str): SMILES string without atom mapping\n",
    "    \"\"\"\n",
    "    for atom in mol.GetAtoms():\n",
    "        atom.SetAtomMapNum(0)\n",
    "    return Chem.MolToSmiles(mol, isomericSmiles=False)\n",
    "    "
   ]
  },
  {
   "cell_type": "code",
   "execution_count": 12,
   "metadata": {},
   "outputs": [],
   "source": [
    "def extract_product_smiles(df: pd.DataFrame):\n",
    "    \"\"\"function that extracts the product side from the reaction SMILES in the dataframe and puts it into a new column, which then is cleaned by the clean_smiles function\n",
    "\n",
    "    Args:\n",
    "        df (pd.DataFrame): dataframe cleaned with all previous functions\n",
    "    \"\"\"\n",
    "    df['extracted_pr_Smiles'] = None\n",
    "    \n",
    "    for index, row in df.iterrows():\n",
    "        reaction_smiles = row['reactionSmiles']\n",
    "        rxn = rdChemReactions.ReactionFromSmarts(reaction_smiles)\n",
    "        \n",
    "        #Extract, clean and canonicalize products\n",
    "        products = [remove_atom_mapping(mol) for mol in rxn.GetProducts()]\n",
    "       \n",
    "        df.at[index, 'extracted_pr_Smiles'] = products\n",
    "        \n",
    "            \n",
    "    return df\n",
    "\n",
    "\n"
   ]
  },
  {
   "cell_type": "code",
   "execution_count": 17,
   "metadata": {},
   "outputs": [],
   "source": [
    "def validate_products(pr_mol_list: list, extr_pr_list: list):\n",
    "    \"\"\"checks if product smiles is also included in the extracted reaction smiles as a validation for correct processing\n",
    "\n",
    "    Args:\n",
    "        pr_mol_list (list): list of mol objects of the product SMILES\n",
    "        extr_pr_list (list): list of mol objects of the extracted product SMILES\n",
    "        \n",
    "    Return True or False if the product SMILES are in the extracted product SMILES\n",
    "    \"\"\"\n",
    "    # check if the product SMILES are in the extracted product SMILES by comparing the mol objects without chemical information\n",
    "    \n",
    "    for pr_mol in pr_mol_list:\n",
    "        for atom in pr_mol.GetAtoms():\n",
    "            atom.SetChiralTag(Chem.rdchem.ChiralType.CHI_UNSPECIFIED)        \n",
    "                    \n",
    "    for extr_prd_mol in extr_pr_list:\n",
    "        for atom in extr_prd_mol.GetAtoms():\n",
    "            atom.SetChiralTag(Chem.rdchem.ChiralType.CHI_UNSPECIFIED)         \n",
    "    \n",
    "    # Convert the molecule objects back to canonical SMILES strings\n",
    "    pr_smiles_set = {Chem.MolToSmiles(mol) for mol in pr_mol_list}\n",
    "    extr_prd_smiles_set = {Chem.MolToSmiles(mol) for mol in extr_pr_list}\n",
    "\n",
    "    # Check if all product SMILES are in the extracted product SMILES\n",
    "    return pr_smiles_set.issubset(extr_prd_smiles_set)\n",
    "        \n",
    "    "
   ]
  },
  {
   "cell_type": "code",
   "execution_count": 18,
   "metadata": {},
   "outputs": [],
   "source": [
    "def are_enantiomers(smi1, smi2):\n",
    "    \"\"\"\n",
    "    Function that checks if two molecules are stereoisomers. Credits to: https://github.com/rdkit/rdkit/discussions/7169 for the inspiration with the swapping of the \"@\" and \"@@\" in the SMILES strings.\n",
    "\n",
    "    Args:\n",
    "        smi1 (str): SMILES string of molecule 1\n",
    "        smi2 (str): SMILES string of molecule 2\n",
    "\n",
    "    Returns:\n",
    "        tuple (Bool, int): (True, index) if the molecules are enantiomers, (False, None) otherwise\n",
    "    \"\"\"\n",
    "    # Convert the SMILES strings to RDKit molecule objects\n",
    "    mol1 = Chem.MolFromSmiles(smi1)\n",
    "    mol2 = Chem.MolFromSmiles(smi2)\n",
    "\n",
    "    # If either SMILES string is invalid, return False\n",
    "    if mol1 is None or mol2 is None:\n",
    "        return False, None\n",
    "\n",
    "    # Convert the molecule objects back to canonical SMILES strings\n",
    "    can_smi1 = Chem.MolToSmiles(mol1)\n",
    "    can_smi2 = Chem.MolToSmiles(mol2)\n",
    "\n",
    "    # If either SMILES string does not contain \"@\", return False\n",
    "    if \"@\" not in can_smi1 or \"@\" not in can_smi2:\n",
    "        return False, None\n",
    "\n",
    "    # Swap \"@\" and \"@@\" in can_smi1\n",
    "    swapped_can_smi1 = can_smi1.replace(\"@@\", \"__DOUBLE_AT__\").replace(\"@\", \"@@\").replace(\"__DOUBLE_AT__\", \"@\")\n",
    "\n",
    "    # If the swapped can_smi1 is equal to can_smi2, return True\n",
    "    if swapped_can_smi1 == can_smi2:\n",
    "        # Find the index of the chiral atom\n",
    "        for atom in mol1.GetAtoms():\n",
    "            if atom.GetChiralTag() != Chem.rdchem.ChiralType.CHI_UNSPECIFIED:\n",
    "                return True, atom.GetIdx()\n",
    "    \n",
    "    # If none of the above conditions were met, return False\n",
    "    return False, None"
   ]
  },
  {
   "cell_type": "code",
   "execution_count": 19,
   "metadata": {},
   "outputs": [],
   "source": [
    "def check_smiles(df: pd.DataFrame):\n",
    "    \"\"\"Checks if the SMILES in the dataframe are unique by: comparing product SMILES and SMILES on product side of reaction SMILES, converting stereoisomers\n",
    "\n",
    "    Args:\n",
    "        df (pd.DataFrame): cleaned dataframe with SMILES that can be parsed (clean_smiles function as well as all pre-processing functions applied)\n",
    "    \"\"\"\n",
    "    \n",
    "    rows_to_drop = []\n",
    "    \n",
    "    for index, row in df.iterrows():\n",
    "        extr_prd_smiles_list = row['extracted_pr_Smiles']\n",
    "        pr_smiles_list = row['productSmiles']\n",
    "        \n",
    "        #Convert to mol objects\n",
    "        pr_mol_list = [Chem.MolFromSmiles(smiles) for smiles in pr_smiles_list]\n",
    "        extr_prd_mol_list = [Chem.MolFromSmiles(smiles) for smiles in extr_prd_smiles_list]\n",
    "        \n",
    "        if validate_products(pr_mol_list, extr_prd_mol_list):\n",
    "            if len(pr_mol_list) > 1:\n",
    "                if are_enantiomers(pr_mol_list, extr_prd_mol_list):\n",
    "                    row['extracted_pr_Smiles'] = convert_enantiomers(pr_mol_list, extr_prd_mol_list)\n",
    "                else:\n",
    "                    rows_to_drop.append(index)\n",
    "        \n",
    "        \n",
    "        \n",
    "    return Dataframe\n",
    "    \n",
    "    # continue with this function and write convert_enantiomer function"
   ]
  },
  {
   "cell_type": "code",
   "execution_count": 130,
   "metadata": {},
   "outputs": [],
   "source": [
    "# def convert_enantiomers(Dataframe: pd.DataFrame):\n",
    "#     \"\"\"\n",
    "#     Function that checks if the product smiles contains a list of strings, splits them and checks, \n",
    "#     if they are enantiomers using the are_enantiomers function. If that is the case, it returns the form \n",
    "#     without stereochemistry specification.\n",
    "\n",
    "#     Args:\n",
    "#         Dataframe (pd.DataFrame): Dataframe containing the extracted data from the US patents, \n",
    "#                                 preprocessed with the get_values, clean_up and convert_solvents function.\n",
    "                                \n",
    "#     Returns:\n",
    "#         Dataframe (pd.DataFrame): Dataframe with standardized product SMILES of only one product.\n",
    "#     \"\"\"\n",
    "#     # as we saw, there are some rows where we got multiple product SMILES that are not enantiomers but completely different but we only got one Rf value. Time to drop again.\n",
    "#     rows_to_drop = []\n",
    "    \n",
    "#     # Iterate over each row in the DataFrame\n",
    "#     for index, row in Dataframe.iterrows():\n",
    "#         # Get the product SMILES string for the current row\n",
    "#         product_smiles = row['productSmiles']\n",
    "        \n",
    "#         # Check if the product SMILES string contains a comma, indicating multiple products\n",
    "#         if ',' in product_smiles:\n",
    "            \n",
    "#             # Check if the first two SMILES strings in the list are enantiomers\n",
    "#             are_enantiomers_result, chiral_atom_index = are_enantiomers(smiles_list[0], smiles_list[1])\n",
    "#             if are_enantiomers_result:\n",
    "#                 mol = Chem.MolFromSmiles(smiles_list[0])\n",
    "#                 chiral_atom = mol.GetAtomWithIdx(chiral_atom_index)\n",
    "#                 chiral_atom.SetChiralTag(Chem.rdchem.ChiralType.CHI_UNSPECIFIED)\n",
    "#                 Dataframe.at[index, 'productSmiles'] = Chem.MolToSmiles(mol)\n",
    "                \n",
    "#                 # Convert the modified molecule back to a SMILES string and update the DataFrame\n",
    "#                 Dataframe.at[index, 'productSmiles'] = Chem.MolToSmiles(mol)\n",
    "#              else: \n",
    "                   #rows_to_drop.append(index)\n",
    "\n",
    "#         else:\n",
    "#             try:\n",
    "#                 # Remove leading and trailing apostrophes and spaces\n",
    "#                 product_smiles = '\"' + product_smiles + '\"'\n",
    "#                 product_smiles = product_smiles.replace(\"'\", \"\")\n",
    "#                 Dataframe.at[index, 'productSmiles'] = clean_smiles(product_smiles)\n",
    "#             except product_smiles is None:\n",
    "#                 rows_to_drop.append(index)\n",
    "#                 continue\n",
    "    \n",
    "#     Dataframe = Dataframe.drop(rows_to_drop)          \n",
    "                \n",
    "#     # Return the modified DataFrame\n",
    "#     return Dataframe"
   ]
  },
  {
   "cell_type": "markdown",
   "metadata": {},
   "source": [
    "### 5.1.1 Tests after realizing that there was a problem in the product Smiles column \n",
    "Here we can clearly see, that we get two SMILES in the product column, which are separated by a comma."
   ]
  }
 ],
 "metadata": {
  "kernelspec": {
   "display_name": "ppchem",
   "language": "python",
   "name": "python3"
  },
  "language_info": {
   "codemirror_mode": {
    "name": "ipython",
    "version": 3
   },
   "file_extension": ".py",
   "mimetype": "text/x-python",
   "name": "python",
   "nbconvert_exporter": "python",
   "pygments_lexer": "ipython3",
   "version": "3.10.13"
  }
 },
 "nbformat": 4,
 "nbformat_minor": 2
}
